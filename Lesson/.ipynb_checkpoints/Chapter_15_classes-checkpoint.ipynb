{
 "cells": [
  {
   "cell_type": "code",
   "execution_count": null,
   "metadata": {},
   "outputs": [],
   "source": [
    "class Dog():\n",
    "    \"\"\"การจำลองสุนัขทั่วไปด้วยคลาส\"\"\"\n",
    "    def __init__(self, name, age):\n",
    "        self.name = name\n",
    "        self.age = age\n",
    "    \n",
    "    def sit(self):\n",
    "        \"\"\"การจำลองพฤติกรรมการนั่ง\"\"\"\n",
    "        print(\"{} is now sitting.\".format(self.name.title()))\n",
    "        \n",
    "    def roll_over(self):\n",
    "        \"\"\"การจำลองพฤติกรรมการวิ่ง\"\"\"\n",
    "        print(\"{} is rolled over!\".format(self.name.title()))"
   ]
  },
  {
   "cell_type": "code",
   "execution_count": null,
   "metadata": {},
   "outputs": [],
   "source": [
    "dog = Dog(\"Kanoon\", 3)\n",
    "\n",
    "print(\"My dog's name is {}.\".format(dog.name.title()))\n",
    "\n",
    "print(\"My dog is {} year old.\".format(dog.age))"
   ]
  },
  {
   "cell_type": "code",
   "execution_count": null,
   "metadata": {},
   "outputs": [],
   "source": [
    "dog.sit()\n",
    "\n",
    "dog.roll_over()"
   ]
  },
  {
   "cell_type": "code",
   "execution_count": null,
   "metadata": {},
   "outputs": [],
   "source": [
    "thungtong = Dog(\"Thungtong\", 8)\n",
    "thunggnern = Dog(\"Thunggnern\", 9)\n",
    "\n",
    "print(\"My dog's name is {}.\".format(thungtong.name.title()))\n",
    "print(\"My dog's name is {}.\".format(thunggnern.name.title()))"
   ]
  },
  {
   "cell_type": "code",
   "execution_count": null,
   "metadata": {},
   "outputs": [],
   "source": [
    "class Car():\n",
    "    \"\"\"คลาสสำหรับจำลองรถยนต์\"\"\"\n",
    "    def __init__(self, make, model, year):\n",
    "        \"\"\"กำหนดค่าเริ่มต้นให้กับแอตทริบิวต์ของคลาสรถยนต์\"\"\"\n",
    "        self.make = make\n",
    "        self.model = model\n",
    "        self.year = year\n",
    "        self.odometer = 0\n",
    "    \n",
    "    def get_descriptive_name(self):\n",
    "        \"\"\"ส่งคืนค่ารายระเอียดต่าง ๆ ของรถยนต์\"\"\"\n",
    "        long_name = str(self.year)+\" \"+self.make+\" \"+self.model\n",
    "        return long_name.title()\n",
    "    \n",
    "    def read_odometer(self):\n",
    "        \"\"\"แสดงรายละเอียดระยะสะสมของรถยนต์\"\"\"\n",
    "        print(\"This car has \" + str(self.odometer) + \" miles\")\n",
    "        \n",
    "    def update_odometor(self, mileage):\n",
    "        \"\"\"กำหนดค่าระยะทางสะสมใหม่จากพารามิเตอร์\"\"\"\n",
    "        if mileage > self.odometer:\n",
    "            self.odometer = mileage\n",
    "        else:\n",
    "            print(\"คุณไม่สามารถลดค่าระยะสะสมได้\")\n",
    "    \n",
    "my_new_car = Car('Toyota', 'Altis', 2016) \n",
    "\n",
    "print(my_new_car.get_descriptive_name())\n",
    "my_new_car.read_odometer()\n",
    "\n",
    "my_new_car.update_odometor(50)\n",
    "my_new_car.read_odometer()\n",
    "\n",
    "my_new_car.update_odometor(30)\n",
    "my_new_car.read_odometer()"
   ]
  },
  {
   "cell_type": "code",
   "execution_count": null,
   "metadata": {},
   "outputs": [],
   "source": [
    "my_new_car.update_odometor(50)\n",
    "my_new_car.read_odometer()"
   ]
  },
  {
   "cell_type": "code",
   "execution_count": null,
   "metadata": {},
   "outputs": [],
   "source": [
    "# ทบทวนความเข้าใจในเรื่องของการแก้ไขค่า Attribute ภายใน Instance\n",
    "# ทำการสร้าง Persons เพื่อจำลองแบบของบุคคล\n",
    "# Attrubute : id, name, lastname, age, gender, address\n",
    "# ข้อกำหนด id, gender เพื่อตั้งค่าแล้วเปลี่ยนไม่ได้\n",
    "# ข้อกำหนด age จะต้องเพิ่มขึนเท่านั้น ห้ามลดลง"
   ]
  },
  {
   "cell_type": "code",
   "execution_count": null,
   "metadata": {},
   "outputs": [],
   "source": [
    "class Person():\n",
    "    def __init__(self, cid, name, lastname, age, gender, address):\n",
    "        # private attribute \n",
    "        self.__id = cid\n",
    "        self.__name = name\n",
    "        self.__lastname = lastname\n",
    "        self.__age = age\n",
    "        self.__gender = gender\n",
    "        self.__address = address\n",
    "        \n",
    "    def updateAge(self, new_age):\n",
    "        if new_age > self.__age:\n",
    "            self.__age = new_age\n",
    "        else:\n",
    "            print(\"ไม่สามารถลดอายุได้\")"
   ]
  },
  {
   "cell_type": "code",
   "execution_count": null,
   "metadata": {},
   "outputs": [],
   "source": [
    "phisan = Person(3700200191298, \"Phisan\", \"Sookkhee\", 19, \"Male\", \"40/6\")"
   ]
  },
  {
   "cell_type": "code",
   "execution_count": null,
   "metadata": {},
   "outputs": [],
   "source": [
    "'''\n",
    "Encapsulation : การห่อหุ้ม Attribute ด้วย Method\n",
    "'''\n",
    "phisan.__age = 10\n",
    "phisan.__age"
   ]
  },
  {
   "cell_type": "raw",
   "metadata": {},
   "source": [
    "class BaseClass:\n",
    "  Body of base class\n",
    "\n",
    "class DerivedClass(BaseClass):\n",
    "  Body of derived class"
   ]
  },
  {
   "cell_type": "code",
   "execution_count": null,
   "metadata": {},
   "outputs": [],
   "source": [
    "class Battery():\n",
    "    def __init__(self, battery_size=60): \n",
    "        self.battery_size = battery_size\n",
    "        \n",
    "    def describe_battery(self):\n",
    "        print(\"This car has a \" + str(self.battery_size) + \"-kWh\")\n",
    "    \n",
    "    def get_range(self):\n",
    "        range = 0\n",
    "        if self.battery_size <= 70:\n",
    "            range = 240\n",
    "        elif self.battery_size > 70:\n",
    "            range = 270\n",
    "            \n",
    "        message = \"This car can go approximately \" + str(range) \n",
    "        message += \" miles on a full charge.\"\n",
    "        print(message)\n",
    "\n",
    "\n",
    "class ElectricCar(Car):\n",
    "    \"\"\"คลาสรถยนต์ไฟฟ้าสืบทดทคุณสมบัติจากคลาสรถยนต์\"\"\"\n",
    "    def __init__(self, make, model, year):\n",
    "        \"\"\"กำหนดค่าเริ่มต้นจากพารามิเตอร์ให้กับคลาสแม่\"\"\"\n",
    "        super().__init__(make, model, year)\n",
    "        self.battery = Battery()\n",
    "        \n",
    "        \n",
    "my_ecar = ElectricCar('Tesla', 'model s', 2020)\n",
    "print(my_ecar.get_descriptive_name())\n",
    "my_ecar.battery.describe_battery()\n",
    "my_ecar.battery.get_range()"
   ]
  },
  {
   "cell_type": "raw",
   "metadata": {},
   "source": [
    "Class Base1:\n",
    "       Body of the class\n",
    "\n",
    "Class Base2:\n",
    "     Body of the class\n",
    "\n",
    "Class Derived(Base1, Base2):\n",
    "     Body of the class"
   ]
  },
  {
   "cell_type": "code",
   "execution_count": null,
   "metadata": {},
   "outputs": [],
   "source": [
    "class Person:  \n",
    "    #defining constructor  \n",
    "    def __init__(self, personName, personAge):  \n",
    "        self.name = personName  \n",
    "        self.age = personAge  \n",
    "  \n",
    "    #defining class methods  \n",
    "    def showName(self):  \n",
    "        print(self.name)  \n",
    "  \n",
    "    def showAge(self):  \n",
    "        print(self.age)  \n",
    "  \n",
    "    #end of class definition  \n",
    "  \n",
    "class Student: # Person is the  \n",
    "    def __init__(self, studentId):  \n",
    "        self.studentId = studentId  \n",
    "  \n",
    "    def getId(self):  \n",
    "        return self.studentId  \n",
    "  \n",
    "  \n",
    "class Resident(Person, Student): # extends both Person and Student class  \n",
    "    def __init__(self, name, age, id):  \n",
    "        Person.__init__(self, name, age)  \n",
    "        Student.__init__(self, id)  \n",
    "  \n",
    "  \n",
    "# Create an object of the subclass  \n",
    "resident1 = Resident('John', 30, '102')  \n",
    "resident1.showName()  \n",
    "print(resident1.getId())  "
   ]
  },
  {
   "cell_type": "code",
   "execution_count": null,
   "metadata": {},
   "outputs": [],
   "source": [
    "class Battery():\n",
    "    def __init__(self, battery_size=60): \n",
    "        self.battery_size = battery_size\n",
    "        \n",
    "    def describe_battery(self):\n",
    "        print(\"This car has a \" + str(self.battery_size) + \"-kWh\")\n",
    "    \n",
    "    def get_range(self):\n",
    "        if self.battery_size == 70:\n",
    "            range = 240\n",
    "        elif self.battery_size == 85:\n",
    "            range = 270\n",
    "            \n",
    "        message = \"This car can go approximately \" + str(range) \n",
    "        message += \" miles on a full charge.\"\n",
    "        print(message)"
   ]
  },
  {
   "cell_type": "code",
   "execution_count": null,
   "metadata": {},
   "outputs": [],
   "source": []
  }
 ],
 "metadata": {
  "kernelspec": {
   "display_name": "Python 3 (ipykernel)",
   "language": "python",
   "name": "python3"
  },
  "language_info": {
   "codemirror_mode": {
    "name": "ipython",
    "version": 3
   },
   "file_extension": ".py",
   "mimetype": "text/x-python",
   "name": "python",
   "nbconvert_exporter": "python",
   "pygments_lexer": "ipython3",
   "version": "3.11.10"
  }
 },
 "nbformat": 4,
 "nbformat_minor": 4
}

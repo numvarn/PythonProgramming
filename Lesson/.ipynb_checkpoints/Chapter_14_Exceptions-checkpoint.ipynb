{
 "cells": [
  {
   "cell_type": "code",
   "execution_count": null,
   "metadata": {},
   "outputs": [],
   "source": [
    "try:\n",
    "    try_suite # watch for exceptions here \n",
    "except Exception[, reason]:\n",
    "    except_suite # exception-handling code"
   ]
  },
  {
   "cell_type": "code",
   "execution_count": null,
   "metadata": {},
   "outputs": [],
   "source": [
    "try:\n",
    "    f = open('blah', 'r')\n",
    "except IOError as e:\n",
    "    print('Cound not open file: ', e)"
   ]
  },
  {
   "cell_type": "code",
   "execution_count": null,
   "metadata": {},
   "outputs": [],
   "source": [
    "inp = input(\"Enter your score: \")\n",
    "try:\n",
    "    inp = int(inp)\n",
    "    if inp > 80:\n",
    "        print(\"Your score is pass\")\n",
    "    else:\n",
    "        print(\"Your score is fail\")\n",
    "except ValueError as e:\n",
    "    print(\"Your score must be integer, \", e)"
   ]
  },
  {
   "cell_type": "code",
   "execution_count": null,
   "metadata": {},
   "outputs": [],
   "source": [
    "while True:\n",
    "    inp = input(\"Enter your score: \")\n",
    "    \n",
    "    if inp == 'q':\n",
    "        print(\"Exit program\")\n",
    "        break\n",
    "        \n",
    "    try: \n",
    "        inp = int(inp)\n",
    "    except ValueError as e:\n",
    "        print(\"Your score must be integer, \", e)\n",
    "        continue\n",
    "    \n",
    "    if inp > 90:\n",
    "        print(\"Your score is pass\")\n",
    "    else:\n",
    "        print(\"Your score is fail\")"
   ]
  },
  {
   "cell_type": "code",
   "execution_count": null,
   "metadata": {},
   "outputs": [],
   "source": [
    "except Exception1[, reason1]: \n",
    "    suite_for_exception_Exception1\n",
    "except Exception2[, reason2]: \n",
    "    suite_for_exception_Exception2"
   ]
  },
  {
   "cell_type": "code",
   "execution_count": null,
   "metadata": {},
   "outputs": [],
   "source": [
    "import math\n",
    " \n",
    "number_list = [10,-5,1.2,'apple']\n",
    " \n",
    "for number in number_list:\n",
    "    try:\n",
    "        number_factorial = math.factorial(number)\n",
    "    \n",
    "    except TypeError:\n",
    "        print(\"Factorial is not supported for given input type.\\n\")\n",
    "        continue\n",
    "    \n",
    "    except ValueError:\n",
    "        print(\"Factorial only accepts positive integer values.\\n\")\n",
    "        continue\n",
    "    \n",
    "    print(\"The factorial of\",number,\"is\", number_factorial, \"\\n\")"
   ]
  },
  {
   "cell_type": "code",
   "execution_count": null,
   "metadata": {},
   "outputs": [],
   "source": [
    "import math\n",
    " \n",
    "number_list = [10,-5,1.2,'apple']\n",
    " \n",
    "for number in number_list:\n",
    "    try:\n",
    "        number_factorial = math.factorial(number)\n",
    "    except Exception as e:\n",
    "        print(e, \"\\n\")\n",
    "        continue\n",
    "        \n",
    "    print(\"The factorial of\",number,\"is\", number_factorial, \"\\n\")"
   ]
  },
  {
   "cell_type": "code",
   "execution_count": null,
   "metadata": {},
   "outputs": [],
   "source": [
    "try:\n",
    "    f = open('./data/blah.txt', 'r')\n",
    "except IOError as e:\n",
    "    print('Cound not open file: ', e)\n",
    "else:\n",
    "    print(\"File is already opened !\")"
   ]
  },
  {
   "cell_type": "code",
   "execution_count": null,
   "metadata": {},
   "outputs": [],
   "source": [
    "try:\n",
    "    block-1 ...\n",
    "except Exception1:\n",
    "    handler-1 ...\n",
    "except Exception2:\n",
    "    handler-2 ...\n",
    "else:\n",
    "    else-block\n",
    "finally:\n",
    "    final-block"
   ]
  },
  {
   "cell_type": "code",
   "execution_count": null,
   "metadata": {},
   "outputs": [],
   "source": [
    "while True:\n",
    "    try:\n",
    "        x = int(input(\"Enter X value: \"))\n",
    "        y = int(input(\"Enter Y value: \"))\n",
    "        print(\"Result of {} / {} = {}\\n\".format(x, y, (x/y)))\n",
    "    except Exception as e:\n",
    "        print(e)\n",
    "    finally:\n",
    "        check = input(\"Do you want to exit [y/n]: \")\n",
    "        if check == 'y':\n",
    "            print(\"Program is already exited.\")\n",
    "            break"
   ]
  },
  {
   "cell_type": "code",
   "execution_count": null,
   "metadata": {},
   "outputs": [],
   "source": [
    "while True:\n",
    "    try:\n",
    "        x = int(input(\"Enter X value: \"))\n",
    "        y = int(input(\"Enter Y value: \"))\n",
    "        print(\"Result of {} / {} = {}\\n\".format(x, y, (x/y)))\n",
    "    except Exception as e:\n",
    "        print(e)\n",
    "    else:\n",
    "        break"
   ]
  },
  {
   "cell_type": "code",
   "execution_count": null,
   "metadata": {},
   "outputs": [],
   "source": []
  }
 ],
 "metadata": {
  "kernelspec": {
   "display_name": "Python 3 (ipykernel)",
   "language": "python",
   "name": "python3"
  },
  "language_info": {
   "codemirror_mode": {
    "name": "ipython",
    "version": 3
   },
   "file_extension": ".py",
   "mimetype": "text/x-python",
   "name": "python",
   "nbconvert_exporter": "python",
   "pygments_lexer": "ipython3",
   "version": "3.11.10"
  }
 },
 "nbformat": 4,
 "nbformat_minor": 4
}

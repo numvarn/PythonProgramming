{
 "cells": [
  {
   "cell_type": "markdown",
   "metadata": {},
   "source": [
    "# บทที่ 5 ตัวแปรและประเภทข้อมูล"
   ]
  },
  {
   "cell_type": "markdown",
   "metadata": {},
   "source": [
    "หน่วยการเรียนนี้ ผู้เรียนจะได้เรียนรู้เกี่ยวกับตัวแปรและประข้อมูลในภาษา Python\n",
    "\n",
    "\n",
    "เนื้อหาประกอบไปด้วย<br/>\n",
    "1. ตัวแปรและการประกาศค่า\n",
    "1. การตั้งชื่อตัวแปรในภาษาไพธอน\n",
    "1. การกำหนดค่าให้กับตัวแปร\n",
    "1. ชนิดข้อมูลพื้นฐาน\n",
    "    1. ตัวแลข\n",
    "    1. สตริง\n",
    "1. ชนิดข้อมูลเชิงประกอบ\n",
    "    1. ลิสต์\n",
    "    1. ทัพเพิล\n",
    "    1. ดิกชันนารี\n",
    "    1. เซต\n",
    "<hr/>"
   ]
  },
  {
   "cell_type": "markdown",
   "metadata": {},
   "source": [
    "## ตัวแปร และการประกาศค่า"
   ]
  },
  {
   "cell_type": "markdown",
   "metadata": {},
   "source": [
    "### ตัวแปร\n",
    "\n",
    "**ตัวแปร (Variable)** คือ ชื่อ หรือเครื่องหมายที่ถูกกำหนดขึ้นสำหรับใช้อ้างอิงถึงข้อมูลที่ถูกจัดเก็บเอาไว้ในหน่วยความจำ\n",
    "\n",
    "ตัวแปรจะมีชื่อ (Identifier) สำหรับใช้ในการอ้างถึงข้อมูล ในการเขียนโปรแกรม ค่าของตัวแปรสามารถที่จะกำหนดได้ใน Run-Time หรือเปลี่ยนแปลงอยู่ตลอดเวลาในขณะที่โปรแกรมทำงาน (Executing) \n",
    "\n",
    "และเพื่อความสะดวกในการนำเอาค่าข้อมูลที่จัดเก็บไว้ในหน่วยความจำเพื่อการประมวลผลภายในโปรแกรม โดยการอ้างอิงผ่านตัวแปรนั้น ป้ายชื่อที่เราใช้เรียกตัวแปรภายในโปรแกรมนั้น   ควรเป็นชื่อที่สื่อความหมายซึ่จะทำให้ทั้งโปรแกรมและผู้ผ่าน รวมทั้งตัวผู้พัฒนาโปรแกรมเองสามารถเข้าใจได้ง่าย\n",
    "\n",
    "ในการเขียนโปรแกรมคอมพิวเตอร์ ตัวแปรจะแตกต่างจากตัวแปรในทางคณิตศาสตร์ ค่าของตัวแปรนั้นไม่จำเป็นต้องประกอบไปด้วยสูตรหรือสมการที่สมบูรณ์เหมือนกับในคณิตศาสตร์ \n",
    "\n",
    "\n",
    "และในคอมพิวเตอร์นั้น ตัวแปรอาจจะมีการทำงานซ้ำ ๆ เช่น การกำหนดค่าในที่หนึ่ง และนำไปใช้อีกที่หนึ่งในโปรแกรม และนอกจากนี้ยังสามารถกำหนดค่าใหม่ให้กับตัวแปรได้ตลอดเวลา"
   ]
  },
  {
   "cell_type": "markdown",
   "metadata": {},
   "source": [
    "### การประกาศค่าตัวแปร\n",
    "\n",
    "การประกาศค่าตัวแปรในภาษาไพธอนสามารถทำได้โดยการใช้นิพจน์เพื่อกำหนดค่าให้แก่ตัวแปรโดยใช้เครื่องหมายเท่ากับ (=) ซึ่งไม่จำเป็นต้องมีการระบุ หรือประกาศว่าที่แปรที่เราสร้างขึ้นมีชนิดข้อมูลเป็นชนิดใด ซึ่งตัวแปรจะมีชนิดข้อมูลแปรผันตามค่าของข้อมูลที่เรากำหนดให้ ดังตัวอย่าง"
   ]
  },
  {
   "cell_type": "code",
   "execution_count": null,
   "metadata": {},
   "outputs": [],
   "source": [
    "a = 3\n",
    "b = 4.92\n",
    "c = \"marcuscode.com\"\n",
    "c = 10.5"
   ]
  },
  {
   "cell_type": "markdown",
   "metadata": {},
   "source": [
    "การประกาศตัวแปรในภาษา Python นั้นไม่จำเป็นต้องระบุประเภทของตัวแปรในตอนที่ประกาศเหมือนในภาษา C หรือ Java \n",
    "\n",
    "* ในตัวแปร a มีค่าเป็น 3 และเป็นประเภทเป็น Integer \n",
    "* ตัวแปร b มีค่าเป็น 4.92 และเป็นประเภทเป็น Float \n",
    "* และตัวแปร c มีค่าเป็น \"marcuscode.com\" และเป็นประเภท String \n",
    "\n",
    "และในภายหลังเราได้เปลี่ยนค่าของตัวแปร c เป็น 10.5 ทำให้ตัวแปร c มีชนิดข้อมูลกลายเป็นประเภท Float"
   ]
  },
  {
   "cell_type": "markdown",
   "metadata": {},
   "source": [
    "### กำหนดค่าให้กับหลายตัวแปร (Multiple Assignment)\n",
    "\n",
    "ในภาษา Python สนับสนุนการกำหนดค่าให้กับหลายตัวแปร (Multiple Assignment) ในคำสั่งเดียวในตัวอย่างด้านล่าง เป็นการกำหนดค่า 1 และ 2 กับตัวแปร a และ b ตามลำดับ \n",
    "\n",
    "และในคำสั่งต่อมาเป็นการกำหนดค่า 10 ให้กับตัวแปร x y และ z ซึ่งทำให้การเขียนโปรแกรมสะดวกและรวดเร็วมากขึ้น\n",
    "\n",
    "โดยผลของการกำหนดค่าของตัวแปรด้านบน เป็นดังนี้"
   ]
  },
  {
   "cell_type": "code",
   "execution_count": null,
   "metadata": {},
   "outputs": [],
   "source": [
    "a, b, c = 1, 2, 3\n",
    "x = y = z = 10"
   ]
  },
  {
   "cell_type": "code",
   "execution_count": null,
   "metadata": {},
   "outputs": [],
   "source": [
    "print(\"a = \" , a)\n",
    "print(\"b = \" , b)\n",
    "print(\"c = \" , c)\n",
    "print(\"x = \" , x)\n",
    "print(\"y = \" , y)\n",
    "print(\"z = \" , z)"
   ]
  },
  {
   "cell_type": "code",
   "execution_count": null,
   "metadata": {},
   "outputs": [],
   "source": [
    "# การกำหนดค่าเริ่มต้นให้ ตัวแปร\n",
    "\n",
    "x1 = x2 = x3 = x4 = x5 = x6 = x7 = x8 = x9 = x10 = 20\n",
    "\n",
    "print(x3)"
   ]
  },
  {
   "cell_type": "markdown",
   "metadata": {},
   "source": [
    "**การประยุกต์การกำหนดค่าให้หลายตัวแปร**<br/>\n",
    "ตัวอย่างของการกำหนดค่าให้หลายตัวแปรที่มีในภาษาไพธอน นั้นสามารถนำมาประยุกต์ใช้ในการเรื่องของการสลับค่าระหว่างตัวแปร<br/>\n",
    "ซึ่งจะทำให้การดำเนินการรวดเร็วขึ้น โปรแกรมมีความกระชับขึ้น"
   ]
  },
  {
   "cell_type": "code",
   "execution_count": null,
   "metadata": {},
   "outputs": [],
   "source": [
    "a = 10\n",
    "b = 20\n",
    "tmp = a\n",
    "a = b\n",
    "b = tmp\n",
    "\n",
    "print(a)\n",
    "print(b)"
   ]
  },
  {
   "cell_type": "code",
   "execution_count": null,
   "metadata": {},
   "outputs": [],
   "source": [
    "a = 10\n",
    "b = 20\n",
    "\n",
    "a, b = b, a\n",
    "\n",
    "print(a)\n",
    "print(b)"
   ]
  },
  {
   "cell_type": "code",
   "execution_count": null,
   "metadata": {},
   "outputs": [],
   "source": [
    "lt = [1, 2, 3, 4, 5, 6]\n",
    "\n",
    "# a, b = b, a\n",
    "lt[0], lt[-1] = lt[-1], lt[0]\n",
    "\n",
    "print(lt)"
   ]
  },
  {
   "cell_type": "markdown",
   "metadata": {},
   "source": [
    "## การตั้งชื่อตัวแปรในภาษาไพธอน"
   ]
  },
  {
   "cell_type": "markdown",
   "metadata": {},
   "source": [
    "ไพทอนไม่จำเป็นต้องประกาศตัวแปรก่อนใช้งาน สามารถกำหนดค่าขึ้นมา และเรียกใช้ได้เลย แต่การตัวชื่อตัวแปรของ ไพทอนต้องเป็นไปตามกฏดังนี้\n",
    "\n",
    "\n",
    "1. ต้องขึ้นต้นด้วยตัวอักษร ห้ามใช้ตัวเลขหรือสัญลักษณ์ใดๆ\n",
    "1. ห้ามมีช่องว่างหรือเว้นวรรค\n",
    "1. ห้ามใช้เครื่องหมายต่อไปนี้ในการประกาศตัวแปร !...@...#...$...%...^...&...*...(...)...-...=...+...~\n",
    "1. ควรตั้งชื่อตัวแปรที่สื่อความหมายให้ชัดเจน เพื่อผู้อื่นตีความหมายได้เข้าใจ แต่ถ้ามีความหมายยาวมาก ให้ย่อ เช่น student_name ควรใช้ st_name เป็นต้น\n",
    "1. ตัวแปรที่มีตัวพิมพ์ใหญ่และตัวพิมพ์เล็กผสมกันจะมีความหมายต่างกับตัวพิมพ์เล็กเพียงอย่างเดียว เช่น St_Id แตกต่างจากตัวแปร st_id เป็นต้น"
   ]
  },
  {
   "cell_type": "markdown",
   "metadata": {},
   "source": [
    "###  คำสงวน ในภาษาไพทอน\n",
    "\n",
    "คำสงวน คือชื่อหรือคำที่ภาษา Python (ไพทอน) ไว้ใช้เฉพาะเพื่อเป็นคำสั่ง หรือมีไว้เพื่อเขียนเป็นโครงสร้างของตัวภาษาเอง โดยคำสงวนของ Python จะมีทั้งหมด 31 คำ ดังนี้"
   ]
  },
  {
   "cell_type": "markdown",
   "metadata": {},
   "source": [
    "and, as, assert, break, class, continue, def, del, elif, else, except, exec, finally, for, from, global, if, import, in, is, lambda, not, or, pass, print, raise, return, try, while, with, yield"
   ]
  },
  {
   "cell_type": "markdown",
   "metadata": {},
   "source": [
    "<hr/>"
   ]
  },
  {
   "cell_type": "markdown",
   "metadata": {},
   "source": [
    "## ชนิดข้อมูลในภาษาไพธอน "
   ]
  },
  {
   "cell_type": "markdown",
   "metadata": {},
   "source": [
    "มีชนิดข้อมูลพื้นฐานอยู่ 5 ชนิดดังนี้\n",
    "1. **ชนิดข้อมูลพื้นฐาน**\n",
    "    1. **[Numbers](#numbers)** มูลตัวเลข\n",
    "    1. **[String](#string)** ข้อมูลอักขระ\n",
    "1. **ชนิดข้อมูลเชิงประกอบ**\n",
    "    1. **[List](#list)** เก็บข้อมูลได้มากว่า 1 ค่าใน 1 ตัวแปร หรือที่เรียกว่า compound type\n",
    "    1. **[Tuple](#tuple)** อ่านว่า \"ทูเพิล\" เก็บข้อมูลได้มากว่า 1 ค่าใน 1 ตัวแปร ใช้สำหรับเก็บลำดับ หรือที่เรียกว่า sequence type\n",
    "    1. **[Dictionary](#dict)** เก็บข้อมูลได้มากว่า 1 ค่าใน 1 ตัวแปรเช่นกัน หรือที่เรียกว่า table type"
   ]
  },
  {
   "cell_type": "markdown",
   "metadata": {},
   "source": [
    "<hr/>"
   ]
  },
  {
   "cell_type": "markdown",
   "metadata": {},
   "source": [
    "<a name=\"numbers\"></a>\n",
    "## Python - Numbers\n",
    "\n",
    "ไพทอนรองรับข้อมูลชนิดตัวเลขทั้ง 4 ชนิดดังนี้\n",
    "\n",
    "**int** (signed integers) − เรามักเรียกข้อมูลประเภทนี้ว่า จำนวนเต็ม (Integer), ซึ่งเป็นได้ทั้งตัวเลขจำนวนเต็มบวก หรือเต็มลบก็ได้ ในระบบเลขฐาน 10.\n",
    "\n",
    "\n",
    "**long** (long integers) − เป็นข้อมูลจำนวนเต็มที่ไม่ได้จำกัดขนาด แต่จะเขียนตามด้วยตัว L ตัวเล็กหรือตัวใหญ่ก็ได้.\n",
    "\n",
    "\n",
    "**float** (floating point real values) − เป็นข้อมูลตัวเลขประเภทจำนวนจริง ซึ่งจะเรียนในรูปแบบตัวเลขทศนิยม และ Floats อาจใช้เขียนในรูปแบบสัญลักษณ์ทางวิทยาศาสตร์ ซึ่งใช้ E หรือ e ในการแทนเลขยกกำลัง 10 (2.5e2 = 2.5 x 102 = 250).\n",
    "\n",
    "**complex** (complex numbers) − คือข้อมูลที่ถูกเขียนในรูปของ a + bJ, โดย a และ b คือจำนวนจริง และ J คือค่ารากที่สองของ -1 โดย Complex numbers ไม่ค่อยได้ถูกใช้ในการเขียนโปรแกรมในภาษาไพทอน\n",
    "\n",
    "\n",
    "**หมายเหตุ** ใน Python 3 ข้อมูลชนิด long ถูกตัดออกไป"
   ]
  },
  {
   "cell_type": "code",
   "execution_count": null,
   "metadata": {},
   "outputs": [],
   "source": [
    "## Integer\n",
    "print(type(10))\n",
    "\n",
    "# Float\n",
    "print(type(15.20))\n",
    "\n",
    "# Complex\n",
    "print(type(9.322e-36j))"
   ]
  },
  {
   "cell_type": "code",
   "execution_count": null,
   "metadata": {},
   "outputs": [],
   "source": [
    "a = 10 * 1.0\n",
    "type(a)"
   ]
  },
  {
   "cell_type": "markdown",
   "metadata": {},
   "source": [
    "### การแปลงข้อมูลตัวเลข\n",
    "\n",
    "1. Type **int(x)** เป็นการแปลง x ให้อยู่ในรูปแบบจำนวนเต็ม.\n",
    "\n",
    "1. Type **float(x)** เป็นการแปลง x ให้อยู่ในรูปแบบจำนวนจริง (เลขทศนิยม).\n",
    "\n",
    "1. Type **complex(x)** เป็นการแปลง x เป็นจำนวนเชิงซ้อนกับส่วนจริง x และศูนย์ส่วนจินตภาพ.\n",
    "\n",
    "1. Type **complex(x, y)** เป็นการแปลง x และ y เป็นจำนวนเชิงซ้อนกับส่วนจริง x และ y ส่วนจินตภาพ x และ y เป็นนิพจน์ตัวเลข."
   ]
  },
  {
   "cell_type": "code",
   "execution_count": null,
   "metadata": {},
   "outputs": [],
   "source": [
    "x = 10.8\n",
    "int(x)"
   ]
  },
  {
   "cell_type": "code",
   "execution_count": null,
   "metadata": {},
   "outputs": [],
   "source": [
    "x = 2.58\n",
    "int(x)"
   ]
  },
  {
   "cell_type": "code",
   "execution_count": null,
   "metadata": {},
   "outputs": [],
   "source": [
    "x = 10\n",
    "complex(x)"
   ]
  },
  {
   "cell_type": "code",
   "execution_count": null,
   "metadata": {},
   "outputs": [],
   "source": [
    "x = 10\n",
    "complex(x, 2)"
   ]
  },
  {
   "cell_type": "markdown",
   "metadata": {},
   "source": [
    "### ฟังก์ชันทางคณิตศาสตร์"
   ]
  },
  {
   "cell_type": "markdown",
   "metadata": {},
   "source": [
    "**abs(x)**<br/>\n",
    "ค่าสัมบูรณ์ของ x: ระยะทาง (บวก) ระหว่าง x และศูนย์"
   ]
  },
  {
   "cell_type": "code",
   "execution_count": null,
   "metadata": {},
   "outputs": [],
   "source": [
    "abs(-10)"
   ]
  },
  {
   "cell_type": "code",
   "execution_count": null,
   "metadata": {},
   "outputs": [],
   "source": [
    "import math"
   ]
  },
  {
   "cell_type": "markdown",
   "metadata": {},
   "source": [
    "**math.log(x)**<br/>\n",
    "The natural logarithm of x, for x > 0."
   ]
  },
  {
   "cell_type": "code",
   "execution_count": null,
   "metadata": {},
   "outputs": [],
   "source": [
    "math.log(10)"
   ]
  },
  {
   "cell_type": "markdown",
   "metadata": {},
   "source": [
    "**math.log10(x)**<br/>\n",
    "The base-10 logarithm of x for x > 0."
   ]
  },
  {
   "cell_type": "code",
   "execution_count": null,
   "metadata": {},
   "outputs": [],
   "source": [
    "math.log10(10)"
   ]
  },
  {
   "cell_type": "markdown",
   "metadata": {},
   "source": [
    "**math.sqrt(x)**<br/>\n",
    "The square root of x for x > 0."
   ]
  },
  {
   "cell_type": "code",
   "execution_count": null,
   "metadata": {},
   "outputs": [],
   "source": [
    "math.sqrt(2)"
   ]
  },
  {
   "cell_type": "markdown",
   "metadata": {},
   "source": [
    "Power of number"
   ]
  },
  {
   "cell_type": "code",
   "execution_count": null,
   "metadata": {},
   "outputs": [],
   "source": [
    "3**2"
   ]
  },
  {
   "cell_type": "markdown",
   "metadata": {},
   "source": [
    "<hr/>"
   ]
  },
  {
   "cell_type": "markdown",
   "metadata": {},
   "source": [
    "<a name=\"string\"></a>\n",
    "## Python - Strings\n",
    "\n",
    "สตริง หรือข้อมูลประเภทลำดับของอักขระ เป็นข้อมูลอีกประเภทที่นิยมใช้มากในภาษาไพธอน โดยที่เราสามารถสร้างได้ง่าย ๆ โดยการใส่ตัวอักษร หรือข้อความไว้ภายในในเครื่องหมายคำพูด (' ' หรือ \" \")  การสร้างข้อมูลประเภทสตริงสามารถทำได้โดยการกำหนดค่าให้กับตัวแปร ตัวอย่างเช่น -"
   ]
  },
  {
   "cell_type": "markdown",
   "metadata": {},
   "source": [
    "### การสร้างสตริงในภาษาไพธอน\n",
    "สตริงที่สามารถสร้างขึ้นได้โดยใส่ตัวอักษรไว้ภายในเครื่องหมายคำพูดเดี่ยว ('..') หรือเครื่องหมายคำพูดคู่ (\"..\") และคำพูดสาม (\"\"\"..\"\"\") สามารถใช้ในไพธอน แต่โดยทั่วไปใช้เพื่อแสดงสายอักขระแบบหลายบรรทัด"
   ]
  },
  {
   "cell_type": "code",
   "execution_count": null,
   "metadata": {},
   "outputs": [],
   "source": [
    "# การกำหนดค่าให้กับตัวแปรที่มีชนิดข้อมูลเป็นสตริง\n",
    "my_string = 'Hello'\n",
    "print(my_string)\n",
    "\n",
    "my_string = \"Hello\"\n",
    "print(my_string)\n",
    "\n",
    "my_string = '''Hello'''\n",
    "print(my_string)\n",
    "\n",
    "# triple quotes string สามารถใช้สำหรับการแสดงสตริงในหลายบรรทัด\n",
    "my_string = \"\"\"Hello, welcome to\n",
    "           the world of Python\"\"\"\n",
    "print(my_string)"
   ]
  },
  {
   "cell_type": "markdown",
   "metadata": {},
   "source": [
    "### การเข้าถึงอักขระในสตริง\n",
    "ภาษาไพธอนนั้นไม่สนับสนุนข้อมูลประเภทอักขระ (Character) โดยจะถือว่าข้อมูลอักขระแต่ละตัวนั้นถือว่าเป็นสตริงที่มีขนาดความยาวเท่ากับ 1 โดยในการเข้าถึงอักขระแต่ละตัวภายในสติงนั้นให้ใช้วงเล็บเหลี่ยม ( [ ] ) สำหรับการหั่น (Slide) ตามดัชนีหรือดัชนีการเข้าถึงอักขระภายในสตริง ตัวอย่างเช่น -"
   ]
  },
  {
   "cell_type": "code",
   "execution_count": null,
   "metadata": {},
   "outputs": [],
   "source": [
    "str = 'Hello World!'\n",
    "\n",
    "print (str)          # พิมพ์สตริงตั้งหมด\n",
    "print (str[0])       # พิมพ์อักขระลำดับแรกของสตริง\n",
    "print (str[2:5])     # พิมพ์อักขระลำดับที่ 3 ถึงลำดับที่ 5 ภายในสตริง\n",
    "print (str[2:])      # พิมพ์อักขระลำดับที่ 3 จนถึงลำดับสุดท้ายภายในสตริง\n",
    "print (str * 2)      # พิมพ์สตริง จำนวน 2 ครั้ง\n",
    "print (str + \"TEST\") # พิมพ์สตริงโดยรวมสายอักขระเข้าด้วยกัน"
   ]
  },
  {
   "cell_type": "markdown",
   "metadata": {},
   "source": [
    "### การปรับปรุงสตริง\n",
    "\n",
    "เราสามารถ \"ปรับปรุง\" สตริงที่มีอยู่โดย (อีกครั้ง) การกำหนดตัวแปรให้กับสตริงอื่น ค่าใหม่อาจเกี่ยวข้องกับค่าก่อนหน้านี้หรือเป็นสตริงที่แตกต่างกันโดยสิ้นเชิง ตัวอย่างเช่น -"
   ]
  },
  {
   "cell_type": "code",
   "execution_count": null,
   "metadata": {},
   "outputs": [],
   "source": [
    "var = 'Hello World!'\n",
    "print(\"Updated String :- \", var[:6] + 'Python')"
   ]
  },
  {
   "cell_type": "code",
   "execution_count": null,
   "metadata": {},
   "outputs": [],
   "source": [
    "str = \"Computer Science\"\n",
    "\n",
    "print(str[:8] + ' Today')"
   ]
  },
  {
   "cell_type": "code",
   "execution_count": null,
   "metadata": {},
   "outputs": [],
   "source": [
    "print(str[9:] + ' Today')"
   ]
  },
  {
   "cell_type": "code",
   "execution_count": null,
   "metadata": {},
   "outputs": [],
   "source": [
    "str = \"Computer Science\"\n",
    "\n",
    "print(str[:8]+\" Today \"+str[9:])"
   ]
  },
  {
   "cell_type": "markdown",
   "metadata": {},
   "source": [
    "### การดำเนินการสตริง\n",
    "ข้อมูลประเภทสตริงนั้นสามารถมีการดำเนินการที่หลากหลาย ดังนี้"
   ]
  },
  {
   "cell_type": "markdown",
   "metadata": {},
   "source": [
    "#### การรวมสองหรือมากกว่าสตริง\n",
    "การรวมสตริงตั้งแต่สอง หรือมากกว่านั้นเข้าเป็นหนึ่งเดียวเรียกว่าการ concatenation\n",
    "\n",
    "โดยใช้ตัวดำเนินการบวก ( + ) เพียงแค่เขียนนำสตริงสองตัวดำเนิการเข้าด้วยกันก็จะถูกเชื่อมต่อกัน\n",
    "\n",
    "และโอเปอเรเตอร์คูณ ( * ) สามารถใช้เพื่อทำซ้ำสตริงได้หลายครั้ง"
   ]
  },
  {
   "cell_type": "code",
   "execution_count": null,
   "metadata": {},
   "outputs": [],
   "source": [
    "str1 = 'Hello'\n",
    "str2 ='World!'\n",
    "\n",
    "# using +\n",
    "print('str1 + str2 = ', str1 + str2)\n",
    "\n",
    "# using *\n",
    "print('str1 * 3 =', str1 * 3)"
   ]
  },
  {
   "cell_type": "markdown",
   "metadata": {},
   "source": [
    "หรือถ้าเราต้องการต่อสตริงต่าง ๆ ที่มีหลายบรรทัด เราสามารถใช้วงเล็บในการดำเนินการได้"
   ]
  },
  {
   "cell_type": "code",
   "execution_count": null,
   "metadata": {},
   "outputs": [],
   "source": [
    "# using parentheses\n",
    "s = ('Hello '\n",
    "     'World')\n",
    "print(s)"
   ]
  },
  {
   "cell_type": "markdown",
   "metadata": {},
   "source": [
    "### การวนซ้ำบนสตริง\n",
    "เราสามารถใช้การทำซ้ำผ่านสตริง จากตัวอย่างด้านล่างเป็นการวนซ้ำเพื่อนับจำนวน 'l' ที่อยู่ในสตริง"
   ]
  },
  {
   "cell_type": "code",
   "execution_count": null,
   "metadata": {},
   "outputs": [],
   "source": [
    "count = 0\n",
    "\n",
    "for letter in 'Hello World':\n",
    "    # count += 1\n",
    "    if(letter == 'l'):\n",
    "        count += 1\n",
    "        \n",
    "print(count,'letters found')"
   ]
  },
  {
   "cell_type": "markdown",
   "metadata": {},
   "source": [
    "### การทดสอบสมาชิกในสตริง\n",
    "เราสามารถทดสอบว่ามีอักขระ หรือสตริงย่อยอยู่ภายในสตริงหรือไม่โดยใช้ keyword คือ in"
   ]
  },
  {
   "cell_type": "code",
   "execution_count": null,
   "metadata": {},
   "outputs": [],
   "source": [
    "'a' in 'program'"
   ]
  },
  {
   "cell_type": "code",
   "execution_count": null,
   "metadata": {},
   "outputs": [],
   "source": [
    "'at' not in 'battle'"
   ]
  },
  {
   "cell_type": "markdown",
   "metadata": {},
   "source": [
    "### Escape Characters"
   ]
  },
  {
   "cell_type": "markdown",
   "metadata": {},
   "source": [
    "**กรณีตัวอย่าง :** ถ้าหากเราต้องการพิมพ์ข้อความเช่น - He said, \"What's there?\" - เราไม่สามารถใช้เครื่องหมายคำพูดหรือคำพูดแบบคู่ได้ ซึ่งจะส่งผลให้เกิด SyntaxError เนื่องจากข้อความนั้นมีทั้งเครื่องหมายคำพูดแบบเดียว และแบบคู่"
   ]
  },
  {
   "cell_type": "code",
   "execution_count": null,
   "metadata": {},
   "outputs": [],
   "source": [
    "print(\"\"\"He said, \"What's there?\"\"\")"
   ]
  },
  {
   "cell_type": "code",
   "execution_count": null,
   "metadata": {},
   "outputs": [],
   "source": [
    "print('He said, \"What\\'s there?\"')"
   ]
  },
  {
   "cell_type": "code",
   "execution_count": null,
   "metadata": {},
   "outputs": [],
   "source": [
    "print(\"He said, \\\"What's there?\\\"\")"
   ]
  },
  {
   "cell_type": "code",
   "execution_count": null,
   "metadata": {},
   "outputs": [],
   "source": [
    "#ตัวอย่างที่เกิดข้อผิดพลาด\n",
    "# ต้องการพิมพ์\n",
    "# He said, \"What's there?\"\n",
    "\n",
    "print(\"He said, \"What's there?\"\")"
   ]
  },
  {
   "cell_type": "markdown",
   "metadata": {},
   "source": [
    "วิธีหนึ่งในการแก้ปัญหานี้คือการใช้เครื่องหมายคำพูดแบบสามตัว หรือเราสามารถใช้ escape characters\n",
    "\n",
    "Escape characters เป็นอักขระพิเศษในไพธอน ซึ่งเป็นอักขระที่จะไม่แสดงผล หรือไม่ปรากฏให้เห็นตอนแสดงผลผ่านหน้าจอ ยกตัวอย่างเช่น \"\\n\" เป็นอักขระที่หมายถึงการขึ้นบรรทัดใหม่\n",
    "\n",
    "escape sequence เริ่มต้นด้วยเครื่องหมายแบ็กสแลช (\" \\ \") และถูกตีความแตกต่างกัน ถ้าเราใช้เครื่องคำพูดเดี่ยวเพื่อแทนสตริงจะต้องยกเว้นเครื่องหมายเดียวทั้งหมดภายในสตริง คล้ายกันคือกรณีที่มีเครื่องหมายคำพูดคู่ นี่คือวิธีที่สามารถทำได้เพื่อแสดงข้อความข้างต้น"
   ]
  },
  {
   "cell_type": "code",
   "execution_count": null,
   "metadata": {},
   "outputs": [],
   "source": [
    "# using triple quotes\n",
    "print('''He said, \"What's there?\"''')\n",
    "\n",
    "# escaping single quotes\n",
    "print('He said, \"What\\'s there?\"')\n",
    "\n",
    "# escaping double quotes\n",
    "print(\"He said, \\\"What's there?\\\"\")"
   ]
  },
  {
   "cell_type": "markdown",
   "metadata": {},
   "source": [
    "**เมธอด format() สำหรับการจัดรูปแบบแสดงผลของสตริง**\n",
    "\n",
    "เมธอด format() สามารถใช้งานกับสตริงอ็อบเจ็กต์ที่มีความหลากหลายและมีประสิทธิภาพในการจัดรูปแบบการแสดงผลของสตริง สตริงการจัดรูปแบบมีวงเล็บปีกกา {} เป็นตัวยึดตำแหน่ง หรือฟิลด์แทนที่ซึ่งจะถูกแทนที่\n",
    "\n",
    "ภายในเครื่องหมาย {} เราสามารถใช้อาร์กิวเมนต์ตัวเลขตำแหน่ง หรืออาร์กิวเมนต์คำหลักเพื่อระบุลำดับในการแสดงผลได้"
   ]
  },
  {
   "cell_type": "code",
   "execution_count": null,
   "metadata": {},
   "outputs": [],
   "source": [
    "# default(implicit) order\n",
    "default_order = \"{}, {} and {}\".format('John','Bill','Sean')\n",
    "print('\\n--- Default Order ---')\n",
    "print(default_order)\n",
    "\n",
    "# order using positional argument\n",
    "positional_order = \"{1}, {0} and {2}\".format('John','Bill','Sean')\n",
    "print('\\n--- Positional Order ---')\n",
    "print(positional_order)\n",
    "\n",
    "# order using keyword argument\n",
    "keyword_order = \"{s}, {b} and {j}\".format(j='John',b='Bill',s='Sean')\n",
    "print('\\n--- Keyword Order ---')\n",
    "print(keyword_order)"
   ]
  },
  {
   "cell_type": "markdown",
   "metadata": {},
   "source": [
    "format() ผู้ใช้งานสามารถกำหนดทางเลือกในการแสดงผลสตริงได้อย่างหลากหลาย และจำเพาะเจาะจง\n",
    "\n",
    "ตัวอย่างเช่น สามารถใช้สัญลักพิเศษในการกำหนดรูปแบบการแสดงสตริงใช้ ชิดซ้าย <, ชิดขวา > หรือตรงกลาง ^ ได้\n",
    "\n",
    "นอกจากนี้เรายังสามารถจัดรูปแบบ integers เป็น binary, hexadecimal ฯลฯ \n",
    "\n",
    "และ floats สามารถปัดเศษหรือแสดงในรูปแบบเลขชี้กำลัง มีการจัดรูปแบบมากมายที่คุณสามารถใช้ได้"
   ]
  },
  {
   "cell_type": "code",
   "execution_count": null,
   "metadata": {},
   "outputs": [],
   "source": [
    "# formatting integers\n",
    "\"Binary representation of {0} is {0:b}\".format(12)"
   ]
  },
  {
   "cell_type": "code",
   "execution_count": null,
   "metadata": {},
   "outputs": [],
   "source": [
    "# formatting floats\n",
    "\"Exponent representation: {0:e}\".format(1566.345)"
   ]
  },
  {
   "cell_type": "code",
   "execution_count": null,
   "metadata": {},
   "outputs": [],
   "source": [
    "# round off\n",
    "\"One third is: {0:.3f}\".format(1/3)"
   ]
  },
  {
   "cell_type": "code",
   "execution_count": null,
   "metadata": {},
   "outputs": [],
   "source": [
    "# string alignment\n",
    "\"|{:<10}|{:^10}|{:>10}|\".format('butter','bread','ham')"
   ]
  },
  {
   "cell_type": "markdown",
   "metadata": {},
   "source": [
    "### String Method ที่มักใช้งานบ่อย\n",
    "\n",
    "String Method ที่มักใช้งานบ่อย เช่น  lower(), upper(), join(), split(), find(), replace() เป็นต้น"
   ]
  },
  {
   "cell_type": "code",
   "execution_count": null,
   "metadata": {},
   "outputs": [],
   "source": [
    "\"PrOgRaMiZ\".lower()\n",
    "\n",
    "# Funciton\n",
    "# lower(\"PrOgRaMiZ\")\n",
    "\n",
    "# Method \n",
    "# \"PrOgRaMiZ\".lower()"
   ]
  },
  {
   "cell_type": "code",
   "execution_count": null,
   "metadata": {},
   "outputs": [],
   "source": [
    "cont = \"computer science\"\n",
    "input_str = input(\"Enter your major : \")\n",
    "if cont == input_str.lower():\n",
    "    print(\"Hello !!!!\")\n",
    "else:\n",
    "    print(\"So Sad\")"
   ]
  },
  {
   "cell_type": "code",
   "execution_count": null,
   "metadata": {},
   "outputs": [],
   "source": [
    "\"PrOgRaMiZ\".upper()"
   ]
  },
  {
   "cell_type": "code",
   "execution_count": null,
   "metadata": {},
   "outputs": [],
   "source": [
    "\"This will split all words into a list\".split()"
   ]
  },
  {
   "cell_type": "code",
   "execution_count": null,
   "metadata": {},
   "outputs": [],
   "source": [
    "expr = input(\"Etner your expression : \")\n",
    "print(expr.split())"
   ]
  },
  {
   "cell_type": "code",
   "execution_count": null,
   "metadata": {},
   "outputs": [],
   "source": [
    "' '.join(['This', 'will', 'join', 'all', 'words', 'into', 'a', 'string'])"
   ]
  },
  {
   "cell_type": "code",
   "execution_count": null,
   "metadata": {},
   "outputs": [],
   "source": [
    "'Happy New Year'.find('p')"
   ]
  },
  {
   "cell_type": "code",
   "execution_count": null,
   "metadata": {},
   "outputs": [],
   "source": [
    "'Happy New Year, Happy'.replace('Happy','Brilliant')"
   ]
  },
  {
   "cell_type": "markdown",
   "metadata": {},
   "source": [
    "### ตัวอย่างการคำนวณค่า BMI"
   ]
  },
  {
   "cell_type": "code",
   "execution_count": null,
   "metadata": {},
   "outputs": [],
   "source": [
    "weight, height = input(\"Enter your data (weight, height) : \").split()\n",
    "\n",
    "height_meter = int(height) / 100\n",
    "\n",
    "bmi = int(weight) / height_meter ** 2\n",
    "\n",
    "print(\"{0:.2f}\".format(bmi))"
   ]
  },
  {
   "cell_type": "code",
   "execution_count": null,
   "metadata": {},
   "outputs": [],
   "source": [
    "data = [int(i) for i in input(\"Enter your data: \").split()]\n",
    "print(\"{0:.2f}\".format(data[0] / (data[1]/100)**2))"
   ]
  },
  {
   "cell_type": "markdown",
   "metadata": {},
   "source": [
    "<hr/>"
   ]
  },
  {
   "cell_type": "markdown",
   "metadata": {},
   "source": [
    "<a name=\"list\"></a>\n",
    "## Python - List"
   ]
  },
  {
   "cell_type": "markdown",
   "metadata": {},
   "source": [
    "### วิธีการสร้าง List ในภาษาไพธอน\n",
    "\n",
    "ในการเขียนโปรแกรมภาษาไพธอน List จะถูกสร้างขึ้นโดยการวางไอเท็มทั้งหมด (element) ภายในวงเล็บเหลี่ยม [ ] โดยคั่นด้วยเครื่องหมายจุลภาค (,) และภายใน List นั้นสามารถมีสมาชิกจำนวนมาก และอาจมีหลากหลายประเภทข้อมูล (จำนวนเต็ม, จำนวนจริง, สตริง ฯลฯ )"
   ]
  },
  {
   "cell_type": "code",
   "execution_count": null,
   "metadata": {},
   "outputs": [],
   "source": [
    "# empty list\n",
    "my_list = []\n",
    "\n",
    "# list of integers\n",
    "my_list = [1, 2, 3]\n",
    "\n",
    "# list with mixed datatypes\n",
    "my_list = [1, \"Hello\", 3.4]"
   ]
  },
  {
   "cell_type": "markdown",
   "metadata": {},
   "source": [
    "นอกจากนี้ภายใน List ยังสามารถมี List อื่นเป็นเป็นสมาชิกได้อีกด้วยซึ่งเรียกว่า Nested List"
   ]
  },
  {
   "cell_type": "code",
   "execution_count": null,
   "metadata": {},
   "outputs": [],
   "source": [
    "# nested list\n",
    "my_list = [\"mouse\", [8, 4, 6], ['a']]"
   ]
  },
  {
   "cell_type": "markdown",
   "metadata": {},
   "source": [
    "### วิธีการเข้าถึงสมาชิก (Element) ภายใน List\n",
    "มีหลายวิธีที่เราสามารถเข้าถึงสมาชิกของ List ได้\n",
    "\n",
    "ดัชนีรายการ (Index)\n",
    "เราสามารถใช้ตัวดำเนินการดัชนี [ ] เพื่อเข้าถึงสมาชิกภายใน List ได้ โดยดัชนีเริ่มจาก 0 ดังนั้น List ที่มีสมาชิก 5 ตัว จะมีดัชนีตั้งแต่ 0 ถึง 4"
   ]
  },
  {
   "cell_type": "code",
   "execution_count": null,
   "metadata": {},
   "outputs": [],
   "source": [
    "n_list = [\n",
    "    [1, 2, 3], \n",
    "    [4, 5, 6, \n",
    "     [7, 8, 9, 10, \n",
    "      [11, 12]\n",
    "     ]\n",
    "    ]\n",
    "]\n",
    "\n",
    "n_list[1][3][4][0]"
   ]
  },
  {
   "cell_type": "code",
   "execution_count": null,
   "metadata": {},
   "outputs": [],
   "source": [
    "my_list = ['p','r','o','b','e']\n",
    "# Output: p\n",
    "print(my_list[0])\n",
    "\n",
    "# Output: o\n",
    "print(my_list[2])\n",
    "\n",
    "# Output: e\n",
    "print(my_list[4])\n",
    "\n",
    "# Error! Only integer can be used for indexing\n",
    "# my_list[4.0]\n",
    "\n",
    "# Nested List\n",
    "n_list = [\"Happy\", [2,0,1,5]]\n",
    "\n",
    "# Nested indexing\n",
    "\n",
    "# Output: a\n",
    "print(n_list[0][1])    \n",
    "\n",
    "# Output: 5\n",
    "print(n_list[1][3])"
   ]
  },
  {
   "cell_type": "code",
   "execution_count": null,
   "metadata": {},
   "outputs": [],
   "source": [
    "# Nested List\n",
    "# n_list = [\"Happy\", [2,0,1,5]]\n",
    "\n",
    "n_list = [[1, 2, 3], [4, 5, 6, [7, 8, 9, 10, [11, 12]]]]\n",
    "\n",
    "n_list[1][3][4][1]"
   ]
  },
  {
   "cell_type": "code",
   "execution_count": null,
   "metadata": {},
   "outputs": [],
   "source": [
    "matrx = [\n",
    "    [1, 2, 3, 4],\n",
    "    [5, 6, 7, 8],\n",
    "    [9, 10, 11, 12]\n",
    "]\n",
    "\n",
    "matrx[2][3]"
   ]
  },
  {
   "cell_type": "code",
   "execution_count": null,
   "metadata": {},
   "outputs": [],
   "source": [
    "str_lt = [\n",
    "        [\"Phisan\"],\n",
    "        [\"Sookkhee\", \"Hello\"],\n",
    "      ]\n",
    "\n",
    "str_lt[1][1][4]"
   ]
  },
  {
   "cell_type": "markdown",
   "metadata": {},
   "source": [
    "### การจัดทำดัชนีเชิงลบ (Negative indexing)\n",
    "\n",
    "โปรแกรมภาษาไพธอนช่วยช่วยอำนวนความสะดวกในการเข้าถึงสมาชิกที่อยู่ใน List ให้สามารถทำได้ง่ายขึ้น โดยอนุญาติให้มีการจัดทำดัชนีเชิงลบ โดย ดัชนี -1 หมายถึงรายการสุดท้ายภายใน List และ -2 ไปยังรายการสุดท้ายที่สองและอื่น ๆ"
   ]
  },
  {
   "cell_type": "code",
   "execution_count": null,
   "metadata": {},
   "outputs": [],
   "source": [
    "my_list = ['p','r','o','b','e']\n",
    "\n",
    "# Output: e\n",
    "print(my_list[-1])\n",
    "\n",
    "# Output: p\n",
    "print(my_list[-5])"
   ]
  },
  {
   "cell_type": "code",
   "execution_count": null,
   "metadata": {},
   "outputs": [],
   "source": [
    "my_list = ['p','r','o','b','e']\n",
    "\n",
    "# my_list[len(my_list) - 1]\n",
    "\n",
    "my_list[-1]"
   ]
  },
  {
   "cell_type": "code",
   "execution_count": null,
   "metadata": {},
   "outputs": [],
   "source": [
    "my_list = ['p','r','o','b','e']\n",
    "\n",
    "my_list[-1]"
   ]
  },
  {
   "cell_type": "code",
   "execution_count": null,
   "metadata": {},
   "outputs": [],
   "source": [
    "del my_list[2]\n",
    "# ['p','r','b','e']\n",
    "\n",
    "my_list[-1]"
   ]
  },
  {
   "cell_type": "code",
   "execution_count": null,
   "metadata": {},
   "outputs": [],
   "source": [
    "# ให้นักศึกษาเขียนโปรแกรมเพื่อดึงสมาชิกตัวสุดท้ายของ Array \n",
    "# หลังจากที่ Array มีการเปลี่ยนแปลง โดยไม่ใช้ Negative Indexing\n",
    "\n",
    "# my_list = ['p','r','o','b','e']\n",
    "# del my_list[0]\n",
    "# del my_list[1]"
   ]
  },
  {
   "cell_type": "code",
   "execution_count": null,
   "metadata": {},
   "outputs": [],
   "source": [
    "# บอกใบ้\n",
    "my_list = ['p','r','o','b','e']\n",
    "\n",
    "len(my_list)"
   ]
  },
  {
   "cell_type": "code",
   "execution_count": null,
   "metadata": {},
   "outputs": [],
   "source": [
    "my_list = ['p','r','o','b','e']\n",
    "\n",
    "\n",
    "del my_list[0]\n",
    "# ['r','o','b','e']\n",
    "\n",
    "del my_list[1]\n",
    "# ['r','b','e']\n",
    "\n",
    "print(my_list[len(my_list) - 1])\n",
    "# e\n",
    "\n",
    "del my_list[0]\n",
    "# ['b','e']\n",
    "print(my_list[len(my_list) - 1])\n",
    "# e\n",
    "\n",
    "del my_list[len(my_list) - 1]\n",
    "# ['b']\n",
    "print(my_list[len(my_list) - 1])\n",
    "# b\n",
    "\n",
    "print(my_list[0])"
   ]
  },
  {
   "cell_type": "code",
   "execution_count": null,
   "metadata": {},
   "outputs": [],
   "source": [
    "my_list = ['p','r','o','b','e']\n",
    "del my_list[0]\n",
    "del my_list[1]\n",
    "\n",
    "# print(my_list[len(my_list) - 1])\n",
    "print(my_list[-1])\n",
    "\n",
    "del my_list[-1]\n",
    "print(my_list[-1])"
   ]
  },
  {
   "cell_type": "code",
   "execution_count": null,
   "metadata": {},
   "outputs": [],
   "source": [
    "n = list(range(0, 100))\n",
    "print(n[-10])"
   ]
  },
  {
   "cell_type": "markdown",
   "metadata": {},
   "source": [
    "### Slice Lists\n",
    "\n",
    "เราสามารถเข้าถึงสมาชิกต่าง ๆ ภายใน List โดยใช้ตัวดำเนินการ slice ( : )"
   ]
  },
  {
   "cell_type": "code",
   "execution_count": null,
   "metadata": {},
   "outputs": [],
   "source": [
    "my_list = ['p','r','o','g','r','a','m','i','z']\n",
    "\n",
    "# สมาชิกลำดับที่ 3 ถึง 5\n",
    "print(my_list[2:5])\n",
    "\n",
    "# สมาชิกเริ่มจากลำดับที่ 1 ถึง 4\n",
    "print(my_list[:-5])\n",
    "\n",
    "# สมาชิกลำดับที่ 6 ถึง ลำดับสุดท้าย\n",
    "print(my_list[5:])\n",
    "\n",
    "# สมาชิกลำดับแรก ถึง ลำดับสุดท้าย\n",
    "print(my_list[:])"
   ]
  },
  {
   "cell_type": "code",
   "execution_count": null,
   "metadata": {},
   "outputs": [],
   "source": [
    "n = [1, 2, 3, 4, 5, 6]\n",
    "\n",
    "n[3:]"
   ]
  },
  {
   "cell_type": "code",
   "execution_count": null,
   "metadata": {},
   "outputs": [],
   "source": [
    "# var[start:stop:step]\n",
    "\n",
    "n = [1, 2, 3, 4, 5, 6, 7, 8, 9]\n",
    "\n",
    "n[::-1]"
   ]
  },
  {
   "cell_type": "code",
   "execution_count": null,
   "metadata": {},
   "outputs": [],
   "source": [
    "n = [1, 2, 3, 4, 5, 6, 7, 8, 9]\n",
    "n[::-2]"
   ]
  },
  {
   "cell_type": "code",
   "execution_count": null,
   "metadata": {},
   "outputs": [],
   "source": [
    "\"8008\"[::-1]"
   ]
  },
  {
   "cell_type": "code",
   "execution_count": null,
   "metadata": {},
   "outputs": [],
   "source": [
    "number = input(\"Enter number : \")\n",
    "\n",
    "if number == number[::-1]:\n",
    "    print(\"Yes\")\n",
    "else:\n",
    "    print(\"No\")"
   ]
  },
  {
   "cell_type": "code",
   "execution_count": null,
   "metadata": {},
   "outputs": [],
   "source": [
    "#การบ้าน\n",
    "'''\n",
    "เลขพาลินโดรม\n",
    "เลขที่เมื่อกลับหลังแล้วยังได้ตัวเดิม\n",
    "เช่น 8008, 0880\n",
    "'''\n",
    "\n",
    "# โจทย์ จงหาว่าในช่วง 1 - 1000 มีเลยพาลินโดรมอยู่เท่าไร่\n",
    "# การแปลงชนิดข้อมูล\n",
    "# int -> string\n",
    "\n"
   ]
  },
  {
   "cell_type": "code",
   "execution_count": null,
   "metadata": {},
   "outputs": [],
   "source": [
    "import math\n",
    "\n",
    "x = 9.0\n",
    "\n",
    "print(int(x))\n",
    "\n",
    "print(math.ceil(x))"
   ]
  },
  {
   "cell_type": "markdown",
   "metadata": {},
   "source": [
    "การ Slice นั้นจำเป็นต้องมีดัชนีสองตัวที่จะตัดส่วนที่เราต้องการออก List"
   ]
  },
  {
   "cell_type": "markdown",
   "metadata": {},
   "source": [
    "### วิธีการเปลี่ยน หรือเพิ่มข้อมูลสมาชิกลงใน List\n",
    "\n",
    "เราสามารถใช้ตัวดำเนินการกำหนดค่า (=) เพื่อเปลี่ยนแปลงข้อมูลสมาชิกภายใน List ได้ ซึ่งในการเปลี่ยนแปลงข้อมูลนั้นสามารถทำได้ทีละตัว หรือกระทำเป็นช่วงข้อมูลได้"
   ]
  },
  {
   "cell_type": "code",
   "execution_count": null,
   "metadata": {},
   "outputs": [],
   "source": [
    "lt = []\n",
    "# วิธีที่ 1 : append\n",
    "lt.append(1)\n",
    "lt.append(3)\n",
    "lt.append(5)"
   ]
  },
  {
   "cell_type": "code",
   "execution_count": null,
   "metadata": {},
   "outputs": [],
   "source": [
    "lt"
   ]
  },
  {
   "cell_type": "code",
   "execution_count": null,
   "metadata": {},
   "outputs": [],
   "source": [
    "# วิธีที่ 2 : insert\n",
    "lt = [1, 3, 5]\n",
    "\n",
    "lt.insert(0, 0)\n",
    "# [0, 1, 3, 5]\n",
    "\n",
    "lt.insert(2, 2)\n",
    "# [0, 1, 2, 3, 5]\n",
    "\n",
    "lt.insert(4, 4)\n",
    "# [0, 1, 2, 3, 4, 5]"
   ]
  },
  {
   "cell_type": "code",
   "execution_count": null,
   "metadata": {},
   "outputs": [],
   "source": [
    "lt"
   ]
  },
  {
   "cell_type": "code",
   "execution_count": null,
   "metadata": {},
   "outputs": [],
   "source": [
    "# mistake values\n",
    "odd = [2, 4, 6, 8]\n",
    "\n",
    "# change the 1st item    \n",
    "odd[0] = 1            \n",
    "\n",
    "# Output: [1, 4, 6, 8]\n",
    "print(odd)\n",
    "\n",
    "# change 2nd to 4th items\n",
    "odd[1:4] = [3, 5, 7]  \n",
    "\n",
    "# Output: [1, 3, 5, 7]\n",
    "print(odd)         "
   ]
  },
  {
   "cell_type": "code",
   "execution_count": null,
   "metadata": {},
   "outputs": [],
   "source": [
    "lt = [1, 'dog', 2]\n",
    "lt[1] = 'cat'"
   ]
  },
  {
   "cell_type": "code",
   "execution_count": null,
   "metadata": {},
   "outputs": [],
   "source": [
    "lt"
   ]
  },
  {
   "cell_type": "code",
   "execution_count": null,
   "metadata": {},
   "outputs": [],
   "source": [
    "lt = [1, 2, 3]\n",
    "\n",
    "lt[0], lt[2] = lt[2], lt[0]\n",
    "lt[1], lt[2] = lt[2], lt[1]\n",
    "\n",
    "print(lt)"
   ]
  },
  {
   "cell_type": "code",
   "execution_count": null,
   "metadata": {},
   "outputs": [],
   "source": [
    "lt"
   ]
  },
  {
   "cell_type": "markdown",
   "metadata": {},
   "source": [
    "เราสามารถเพิ่มข้อมูลเข้าไปใน List ทีละตัวได้โดยใช้ **append()** หรือเพิ่มข้อมูลครั้งละหลายรายการเข้าไปใน List ได้โดยใช้ **extend()**"
   ]
  },
  {
   "cell_type": "code",
   "execution_count": null,
   "metadata": {},
   "outputs": [],
   "source": [
    "odd = [1, 3, 5]\n",
    "\n",
    "odd.append(7)\n",
    "\n",
    "# Output: [1, 3, 5, 7]\n",
    "print(odd)\n",
    "\n",
    "odd.extend([9, 11, 13])\n",
    "\n",
    "# Output: [1, 3, 5, 7, 9, 11, 13]\n",
    "print(odd)"
   ]
  },
  {
   "cell_type": "code",
   "execution_count": null,
   "metadata": {},
   "outputs": [],
   "source": [
    "a = [1, 2, 3]\n",
    "b = [4, 5, 6]\n",
    "\n",
    "a.extend(b)\n",
    "a"
   ]
  },
  {
   "cell_type": "code",
   "execution_count": null,
   "metadata": {},
   "outputs": [],
   "source": [
    "a = [1, 2, 3]\n",
    "b = [4, 5, 6]\n",
    "\n",
    "a.append(b)\n",
    "a"
   ]
  },
  {
   "cell_type": "markdown",
   "metadata": {},
   "source": [
    "นอกจากนี้ยังสามารถใช้ตัวดำเนินการบวก ( + ) เพื่อทำการรวม 2 List เข้าด้วยกัน วิธีนี้เรียกว่า Concatenation\n",
    "\n",
    "และสามารถใช้ตัวดำเนินการคูณ ( * ) เพื่อการสร้างสมาชิกซ้ำภายใน List ตามจำนวนครั้งที่กำหนด"
   ]
  },
  {
   "cell_type": "code",
   "execution_count": null,
   "metadata": {},
   "outputs": [],
   "source": [
    "odd = [1, 3, 5]\n",
    "\n",
    "# Output: [1, 3, 5, 9, 7, 5]\n",
    "print(odd + [9, 7, 5])\n",
    "\n",
    "#Output: [\"re\", \"re\", \"re\"]\n",
    "print([\"re\"] * 3)"
   ]
  },
  {
   "cell_type": "code",
   "execution_count": null,
   "metadata": {},
   "outputs": [],
   "source": [
    "a = [1, 2, 3]\n",
    "b = [4, 5, 6]\n",
    "\n",
    "a + b #เท่ากับการ extend"
   ]
  },
  {
   "cell_type": "markdown",
   "metadata": {},
   "source": [
    "### วิธีการลบมูลสมาชิกออกจาก List\n",
    "\n",
    "เราสามารถลบข้อมูลสมาชิกออกจาก List ครั้งละหนึ่งรายการ หรือมากกว่านั้นออกจาก List โดยใช้คำสำคัญ delรายการได้ทั้งหมด"
   ]
  },
  {
   "cell_type": "code",
   "execution_count": null,
   "metadata": {},
   "outputs": [],
   "source": [
    "my_list = ['p','r','o','b','l','e','m']\n",
    "\n",
    "# delete one item\n",
    "del my_list[2]\n",
    "\n",
    "# Output: ['p', 'r', 'b', 'l', 'e', 'm']     \n",
    "print(my_list)\n",
    "\n",
    "# delete multiple items\n",
    "del my_list[1:5]  \n",
    "\n",
    "# Output: ['p', 'm']\n",
    "print(my_list)\n",
    "\n",
    "# delete entire list\n",
    "del my_list       \n",
    "\n",
    "# Error: List not defined\n",
    "print(my_list)"
   ]
  },
  {
   "cell_type": "code",
   "execution_count": null,
   "metadata": {},
   "outputs": [],
   "source": [
    "a = [0, 1, 3, 5, 7]\n",
    "del a[0]\n",
    "\n",
    "print(a)"
   ]
  },
  {
   "cell_type": "code",
   "execution_count": null,
   "metadata": {},
   "outputs": [],
   "source": [
    "a = [1, 3, 5, 7]\n",
    "result = a.pop()\n",
    "print(a)\n",
    "print(result)"
   ]
  },
  {
   "cell_type": "code",
   "execution_count": null,
   "metadata": {},
   "outputs": [],
   "source": [
    "'a' + 'b'"
   ]
  },
  {
   "cell_type": "code",
   "execution_count": null,
   "metadata": {},
   "outputs": [],
   "source": [
    "'a' * 3"
   ]
  },
  {
   "cell_type": "code",
   "execution_count": null,
   "metadata": {},
   "outputs": [],
   "source": [
    "my_list = ['p','r','o','b','l','e','m']\n",
    "\n",
    "# del my_list[4]\n",
    "# print(my_list)\n",
    "\n",
    "# my_list.remove('l')\n",
    "my_list.clear()\n",
    "print(my_list)"
   ]
  },
  {
   "cell_type": "markdown",
   "metadata": {},
   "source": [
    "ในอีกทางหนึ่งนั้น เราสามารถใช้เมธอด **remove()** เพื่อทำการลบข้อมูลสมาชิกที่กำหนดได้ทันที หรือใช้เมทอด **pop()** เพื่อทำการลบข้อมูลภายสมาชิกในรายการที่กำหนดได้\n",
    "\n",
    "เมธอด **pop()** จะลบและส่งกลับรายการสุดท้ายหากไม่มีดัชนี ซึ่งช่วยให้เราสามารถใช้ List เพื่อเป็นสแต็ก\n",
    "\n",
    "นอกจากนี้เรายังสามารถใช้เมธอด **clear()** เพื่อลบข้อมูลสมาชิกทั้งหมดออกจาก List"
   ]
  },
  {
   "cell_type": "code",
   "execution_count": null,
   "metadata": {},
   "outputs": [],
   "source": [
    "my_list = ['p','r','o','b','l','e','m']\n",
    "my_list.remove('p')\n",
    "\n",
    "# Output: ['r', 'o', 'b', 'l', 'e', 'm']\n",
    "print(my_list)\n",
    "\n",
    "# Output: 'o'\n",
    "print(my_list.pop(1))\n",
    "\n",
    "# Output: ['r', 'b', 'l', 'e', 'm']\n",
    "print(my_list)\n",
    "\n",
    "# Output: 'm'\n",
    "print(my_list.pop())\n",
    "\n",
    "# Output: ['r', 'b', 'l', 'e']\n",
    "print(my_list)\n",
    "\n",
    "my_list.clear()\n",
    "\n",
    "# Output: []\n",
    "print(my_list)"
   ]
  },
  {
   "cell_type": "markdown",
   "metadata": {
    "tags": []
   },
   "source": [
    "### การทดสอบการเป็นสมาชิกใน List หรือไม่\n",
    "\n",
    "เราสามารถใช้ keyword **in** สำหรับการทดสองว่ามีข้อมูลที่ต้องการทดสอบเป็นสมาชิกอยู่ List หรือไม่"
   ]
  },
  {
   "cell_type": "code",
   "execution_count": null,
   "metadata": {},
   "outputs": [],
   "source": [
    "my_list = ['p','r','o','b','l','e','m']\n",
    "\n",
    "# Output: True\n",
    "print('p' in my_list)\n",
    "\n",
    "# Output: False\n",
    "print('a' in my_list)\n",
    "\n",
    "# Output: True\n",
    "print('c' not in my_list)"
   ]
  },
  {
   "cell_type": "markdown",
   "metadata": {},
   "source": [
    "<hr/>"
   ]
  },
  {
   "cell_type": "markdown",
   "metadata": {},
   "source": [
    "<a name=\"tuple\"></a>\n",
    "## Python - Tuple"
   ]
  },
  {
   "cell_type": "markdown",
   "metadata": {},
   "source": [
    "ในการเขียนโปรแกรมภาษาไพธอนนั้น Tuple จะมีความคล้ายกับ List แต่ความแตกต่างระหว่างของทั้งสอง คือการที่เราไม่สามารถเปลี่ยนแปลงข้อมูลสมาชิกของ Tuple ได้ ซึ่งแตกต่างกับ List ที่สามารถเปลี่ยนแปลงค่าข้อมูลสมาชิกภายใน List ได้ตลอดเวลา"
   ]
  },
  {
   "cell_type": "markdown",
   "metadata": {},
   "source": [
    "#### ข้อดีของ Tuple\n",
    "\n",
    "โดย Tuples นั้นค่อนข้างคล้ายกับ List ซึ่งทั้งสองจะสามารถใช้งานได้คล้ายกัน\n",
    "\n",
    "อย่างไรก็ตามมีข้อดีบางอย่างในการใช้งาน Tuple ที่เหนือกว่าการใช้งาน List ดังนี้ :\n",
    "\n",
    "1. โดยทั่วไปเราใช้ Tuple สำหรับประเภทข้อมูลที่แตกต่างกัน และ List สำหรับประเภทข้อมูลที่เหมือนกัน (หรือคล้ายกัน)\n",
    "1. เนื่องจาก Tuple จะไม่มีการเปลี่ยนแปลงข้อมูล การทำงานวนซ้ำ (Itering) บน Tuple จะเร็วกว่า List ซึ่งเป็นการเพิ่มประสิทธิภาพการทำงานขึ้นเล็กน้อย\n",
    "1. Tuples มีข้อมูลสมาชิกที่คงที่ ไม่มีการเปลี่ยนแปลง ทำให้สามารถใช้เป็นคีย์สำหรับพจนานุกรมได้ ซึ่งต่างจาก List ที่ไม่สามารถทำได้\n",
    "1. หากมีข้อมูลที่ไม่ต้องการให้ทำการเปลี่ยนแปลง การนำ Tuple มาใช้งานจะรับประกันได้ว่าจะสามารถป้องกันการเขียน หรือแก้ไขข้อมูลสมาชิกได้"
   ]
  },
  {
   "cell_type": "markdown",
   "metadata": {},
   "source": [
    "### การสร้าง Tuple\n",
    "\n",
    "Tuple จะถูกสร้างขึ้นโดยวางข้อมูลสมาชิกทั้งหมดไว้ในวงเล็บ () โดยคั่นด้วยเครื่องหมายจุลภาค\n",
    "\n",
    "ภายใน Tuple สามารถมีข้อมูลสมาชิกที่เป็น List ได้หลาย List และอาจมีข้อมูลได้หลายประเภทข้อมูล (integer, float, list, string เป็นต้น)"
   ]
  },
  {
   "cell_type": "code",
   "execution_count": null,
   "metadata": {},
   "outputs": [],
   "source": [
    "# empty tuple\n",
    "# Output: ()\n",
    "my_tuple = () # []\n",
    "print(my_tuple)\n",
    "\n",
    "# tuple having integers\n",
    "# Output: (1, 2, 3)\n",
    "my_tuple = (1, 2, 3)\n",
    "print(my_tuple)\n",
    "\n",
    "# tuple with mixed datatypes\n",
    "# Output: (1, \"Hello\", 3.4)\n",
    "my_tuple = (1, \"Hello\", 3.4)\n",
    "print(my_tuple)\n",
    "\n",
    "# nested tuple\n",
    "# Output: (\"mouse\", [8, 4, 6], (1, 2, 3))\n",
    "my_tuple = (\"mouse\", [8, 4, 6], (1, 2, 3))\n",
    "print(my_tuple)\n",
    "\n",
    "# tuple can be created without parentheses\n",
    "# also called tuple packing\n",
    "# Output: 3, 4.6, \"dog\"\n",
    "\n",
    "my_tuple = 3, 4.6, \"dog\"\n",
    "print(my_tuple)\n",
    "\n",
    "# tuple unpacking is also possible\n",
    "# Output:\n",
    "# 3\n",
    "# 4.6\n",
    "# dog\n",
    "a, b, c = my_tuple\n",
    "print(a)\n",
    "print(b)\n",
    "print(c)"
   ]
  },
  {
   "cell_type": "code",
   "execution_count": null,
   "metadata": {},
   "outputs": [],
   "source": [
    "tp = (1, 2, 3)"
   ]
  },
  {
   "cell_type": "code",
   "execution_count": null,
   "metadata": {},
   "outputs": [],
   "source": [
    "tp[0] = 0"
   ]
  },
  {
   "cell_type": "markdown",
   "metadata": {},
   "source": [
    "### ข้อสังเกตุในการสร้าง Tuple\n",
    "\n",
    "การสร้าง Tuple ที่มีข้อมูลสมาชิกเพียง 1 ตัวนั้น มีข้อน่าสังเกตุ คือ หากใส่ข้อมูลเข้าไปเครื่องหมาย ( ) เลยจะทำให้ตัวแปรภาษาทำการตีความหมายผิดไป จึงจำเป็นจะต้องมีเครื่องหมายจุลภาคต่อท้ายข้อมูลสมาชิกนั้นด้วย เพื่อบ่งบอกว่าสิ่งที่เราสร้างขึ้นนั้นเป็น Tuple"
   ]
  },
  {
   "cell_type": "code",
   "execution_count": null,
   "metadata": {},
   "outputs": [],
   "source": [
    "# only parentheses is not enough\n",
    "# Output: <class 'str'>\n",
    "my_tuple = (\"hello\")\n",
    "print(type(my_tuple))\n",
    "\n",
    "# need a comma at the end\n",
    "# Output: <class 'tuple'>\n",
    "my_tuple = (\"hello\",)  \n",
    "print(type(my_tuple))\n",
    "\n",
    "# parentheses is optional\n",
    "# Output: <class 'tuple'>\n",
    "my_tuple = \"hello\",\n",
    "print(type(my_tuple))"
   ]
  },
  {
   "cell_type": "code",
   "execution_count": null,
   "metadata": {},
   "outputs": [],
   "source": [
    "name = (\"Phsian\")\n",
    "name"
   ]
  },
  {
   "cell_type": "code",
   "execution_count": null,
   "metadata": {},
   "outputs": [],
   "source": [
    "tp = (0, )"
   ]
  },
  {
   "cell_type": "markdown",
   "metadata": {},
   "source": [
    "### การเข้าถึงข้อมูลสมาชิกใน Tuple\n",
    "\n",
    "มีหลายวิธีที่เราสามารถเข้าถึงข้อมูลสมาชิกของ Tuple ได้ดังนี้\n",
    "\n",
    "#### 1. การจัดทำดัชนี (Indexing)\n",
    "\n",
    "เราสามารถใช้ตัวดำเนินการดัชนี [ ] เพื่อเข้าถึงสมาชิกใน Tuple โดยดัชนีเริ่มต้นจาก 0\n",
    "\n",
    "ดังนั้น tuple ที่มีสมาชิก 6 ตัว จะมี index จาก 0 ถึง 5 การพยายามเข้าถึงสมาชิกอื่น ๆ ที่มีดัชนีนอกเหนือจากนี้ (6, 7, ... ) จะทำให้เกิด IndexError ขึ้น\n",
    "\n",
    "ดัชนีต้องเป็นจำนวนเต็มดังนั้นเราจึงไม่สามารถใช้ float หรือข้อมูลประเภทอื่น ๆ เป็นดัชนีได้ ซึ่งจะส่งผลให้เกิด TypeError\n",
    "\n",
    "ในทำนองเดียวกันมีการเข้าถึง Tuple ที่ซ้อนกันโดยใช้ดัชนีที่ซ้อนกันดังที่แสดงไว้ในตัวอย่างด้านล่าง"
   ]
  },
  {
   "cell_type": "code",
   "execution_count": null,
   "metadata": {},
   "outputs": [],
   "source": [
    "my_tuple = ('p', 'e', 'r', 'm', 'i', 't')\n",
    "\n",
    "# ผลลัพธ์: 'p'\n",
    "print(my_tuple [0])\n",
    "\n",
    "# ผลลัพธ์: 't'\n",
    "print(my_tuple [5])\n",
    "\n",
    "# index ต้องอยู่ในช่วง\n",
    "# index ต้องเป็นจำนวนเต็ม\n",
    "\n",
    "# nested tuple\n",
    "n_tuple = (\"mouse\", [8, 4, 6], (1, 2, 3))\n",
    "\n",
    "# ดัชนีที่ซ้อนกัน\n",
    "# Output: 's'\n",
    "print(n_tuple [0] [3])\n",
    "\n",
    "# ดัชนีที่ซ้อนกัน\n",
    "#ผลลัพธ์ #: 4\n",
    "print(n_tuple [1] [1])"
   ]
  },
  {
   "cell_type": "markdown",
   "metadata": {},
   "source": [
    "### 2. การจัดทำดัชนีเชิงลบ (Negative Indexing)\n",
    "\n",
    "ภาษาไพธอนนั้นช่วยให้สามารถมีการจัดทำดัชนีเชิงลบ\n",
    "\n",
    "ดัชนี -1 หมายถึงรายการสุดท้าย -2 ไปยังรายการสุดท้ายที่สองและอื่น ๆ"
   ]
  },
  {
   "cell_type": "code",
   "execution_count": null,
   "metadata": {},
   "outputs": [],
   "source": [
    "my_tuple = ('p','e','r','m','i','t')\n",
    "\n",
    "# ผลลัพธ์:: 't'\n",
    "print(my_tuple[-1])\n",
    "\n",
    "# ผลลัพธ์:: 'p'\n",
    "print(my_tuple[-6])"
   ]
  },
  {
   "cell_type": "markdown",
   "metadata": {},
   "source": [
    "### 3. การตัวแบ่ง (Slicing)\n",
    "\n",
    "เราสามารถเข้าถึงรายการต่าง ๆ ใน Tuple โดยใช้ตัวดำเนินการ slicing - colon \":\""
   ]
  },
  {
   "cell_type": "code",
   "execution_count": null,
   "metadata": {},
   "outputs": [],
   "source": [
    "my_tuple = ('p', 'r', 'o', 'g', 'r', 'a', 'm', 'i', 'z')\n",
    "\n",
    "# สมาชิกตัวที่ 2 ถึง 4\n",
    "# ผลลัพธ์: ('r', 'o', 'g')\n",
    "print(my_tuple [1: 4])\n",
    "\n",
    "# สมาชิกตัวที่ 2 เป็นต้นไป\n",
    "# ผลลัพธ์: ('p', 'r')\n",
    "print(my_tuple [: - 7])\n",
    "\n",
    "# สมาชิกตัวที่ 8 ถึงจุดสิ้นสุด\n",
    "# ผลลัพธ์: ('i', 'z')\n",
    "print(my_tuple [7:])\n",
    "\n",
    "# สมาชิกตัวแรกจนถึงตัวสุดท้าย\n",
    "# ผลลัพธ์: ('p', 'r', 'o', 'g', 'r', 'a', 'm', 'i', 'z')\n",
    "print(my_tuple [:])"
   ]
  },
  {
   "cell_type": "markdown",
   "metadata": {},
   "source": [
    "### การเปลี่ยนแปลง Tuple\n",
    "\n",
    "Tuple นั้นจะมีลักษณะคงที่ไม่สามารถทำการเปลี่ยนแปลงค่าของสมาชิกหลังจากถูกสร้างขึ้น\n",
    "\n",
    "ซึ่งหมายความว่าข้อมูลสมาชิกของ Tuple ไม่สามารถเปลี่ยนแปลงได้เมื่อมีการกำหนดค่าแล้ว แต่ถ้าข้อมูลสมาชิกภายใน Tuple นั้นเป็นข้อมูลประเภทที่แก้ไขค่าได้เช่น List จะสามารถเปลี่ยนแปลงได้ค่าที่อยู่ภายใน List นั้นได้"
   ]
  },
  {
   "cell_type": "code",
   "execution_count": null,
   "metadata": {},
   "outputs": [],
   "source": [
    "my_tuple = (4, 2, 3, [6, 5])\n",
    "\n",
    "# เราไม่สามารถเปลี่ยนองค์ประกอบได้\n",
    "\n",
    "# หากคุณยกเลิกการ comment คำสั่งด้านล่าง\n",
    "# คุณจะได้รับข้อความแจ้งข้อผิดพลาด:\n",
    "# TypeError: 'tuple' object does not support item assignment\n",
    "\n",
    "#my_tuple [1] = 9\n",
    "\n",
    "# แต่รายการขององค์ประกอบที่เปลี่ยนแปลงได้สามารถเปลี่ยนแปลงได้\n",
    "# ผลลัพธ์: (4, 2, 3, [9, 5])\n",
    "my_tuple [3] [0] = 9\n",
    "print(my_tuple)\n",
    "\n",
    "# tuples สามารถกำหนดใหม่ได้\n",
    "# ผลลัพธ์: ('p', 'r', 'o', 'g', 'r', 'a', 'm', 'i', 'z')\n",
    "my_tuple = ('p', 'r', 'o', 'g', 'r', 'a', 'm', 'i', 'z')\n",
    "print(my_tuple)"
   ]
  },
  {
   "cell_type": "code",
   "execution_count": null,
   "metadata": {},
   "outputs": [],
   "source": [
    "my_tuple[0] = 10\n",
    "\n",
    "my_tuple"
   ]
  },
  {
   "cell_type": "markdown",
   "metadata": {},
   "source": [
    "เราสามารถใช้ตัวดำเนินการบวก ( + ) เพื่อรวม Tuple ซึ่งการดำเนินการนี้เรียกว่า Concatenation\n",
    "\n",
    "นอกจากนี้เราสามารถทำซ้ำข้อมูลสมาชิกภายใน Tuple ตามจำนวนครั้งที่ต้องการ โดยใช้ตัวดำเนินการคูณ ( * )\n",
    "\n",
    "โดยผลการดำเนินงานทั้ง + และ * เป็น Tuple ชุดใหม่"
   ]
  },
  {
   "cell_type": "code",
   "execution_count": null,
   "metadata": {},
   "outputs": [],
   "source": [
    "# Concatenation\n",
    "\n",
    "# ผลลัพธ์: (1, 2, 3, 4, 5, 6)\n",
    "print((1, 2, 3) + (4, 5, 6))\n",
    "\n",
    "# Repeat\n",
    "# ผลลัพธ์: ('Repeat', 'Repeat', 'Repeat')\n",
    "print((\"Repeat\",) * 3)"
   ]
  },
  {
   "cell_type": "markdown",
   "metadata": {},
   "source": [
    "### การลบ Tuple\n",
    "\n",
    "ตามที่กล่าวไว้ข้างต้นเราไม่สามารถเปลี่ยนแปลงข้อมูลสมาชิกภายใน Tuple ได้ นั่นหมายความว่าเราไม่สามารถลบหรือนำข้อมูลออกจาก Tuple ได้\n",
    "\n",
    "แต่ลบสามารถลบ Tuple ทั้งหมดเป็นไปได้โดยใช้คำหลัก del"
   ]
  },
  {
   "cell_type": "code",
   "execution_count": null,
   "metadata": {},
   "outputs": [],
   "source": [
    "my_tuple = ('p', 'r', 'o', 'g', 'r', 'a', 'm', 'i', 'z')\n",
    "\n",
    "# ไม่สามารถลบรายการได้\n",
    "# ถ้ายกเลิกการ comment คำสั่งด้านล่าง,\n",
    "# คุณจะได้รับข้อความแจ้งข้อผิดพลาด:\n",
    "# TypeError: 'tuple' object doesn't support item deletion\n",
    "\n",
    "#del my_tuple [3]\n",
    "\n",
    "# สามารถลบ Tuple ทั้งหมดได้\n",
    "# NameError: name 'my_tuple' is not defined\n",
    "del my_tuple\n",
    "\n",
    "my_tuple"
   ]
  },
  {
   "cell_type": "markdown",
   "metadata": {},
   "source": [
    "### เมธอดสำหรับ Tuple\n",
    "\n",
    "ไม่สามารถใช้เมธอดสำหรับการเพิ่มข้อมูลสมาชิก หรือเมธอดสำหรับนำข้อมูลสมาชิกออกจาก Tuple ได้ จึงมีเพียง 2 เมธอดต่อไปนี้เท่านั้น"
   ]
  },
  {
   "cell_type": "code",
   "execution_count": null,
   "metadata": {},
   "outputs": [],
   "source": [
    "my_tuple = ('a','p','p','l','e',)\n",
    "\n",
    "# Count\n",
    "# ผลลัพธ์: 2\n",
    "print(my_tuple.count('p'))\n",
    "\n",
    "# Index\n",
    "# ผลลัพธ์: 3\n",
    "print(my_tuple.index('l'))"
   ]
  },
  {
   "cell_type": "markdown",
   "metadata": {},
   "source": [
    "<hr />"
   ]
  },
  {
   "cell_type": "markdown",
   "metadata": {},
   "source": [
    "<a name=\"dict\"></a>\n",
    "## Python - Dictionary"
   ]
  },
  {
   "cell_type": "markdown",
   "metadata": {},
   "source": [
    "### Dictionary ในภาษา Python คืออะไร\n",
    "\n",
    "Dictionary หรือ พจนานุกรมในภาษา Python คือชุดของข้อมูลที่ไม่มีลำดับ โดยพจนานุกรมจะแตกต่างจากชนิดข้มูลอื่น ๆ ซึ่งจะมีเพียงแค่ข้อมูลเป็นสมาชิกภายในเท่านั้น แต่ว่าพจนานุกรมนั้นข้อมูลสมาชิกแต่ละตัวจะประกอบไปด้วยคู่ของ คีย์ : ค่าข้อมูล\n",
    "\n",
    "เราสามารถเข้าถึงค่าข้อมูลสมาชิกภายในพจนานุกรมได้ก็ต่อเมื่อเราทราบคีย์ที่ในอ้างอิงถึงข้อมูลนั้น"
   ]
  },
  {
   "cell_type": "markdown",
   "metadata": {},
   "source": [
    "### วิธีการสร้างพจนานุกรม?\n",
    "\n",
    "การสร้างพจนานุกรมทำได้ง่าย เพียงแค่วางข้อมูลสมาชิกภายในวงเล็บปีกกา {} โดยคั่นด้วยเครื่องหมายจุลภาค\n",
    "\n",
    "รายการมีคีย์และค่าข้อมูลสมาชิก ที่สอดคล้องกันแสดงเป็นคู่ คือ คีย์ : ค่า\n",
    "\n",
    "แม้ว่าค่าจะเป็นชนิดข้อมูลใดก็ตามและสามารถทำซ้ำได้ คีย์ต้องเป็นประเภทที่ไม่เปลี่ยนรูป (สตริง, จำนวน, หรือ tuple ที่มีองค์ประกอบไม่เปลี่ยนรูป) และต้องไม่ซ้ำกัน"
   ]
  },
  {
   "cell_type": "code",
   "execution_count": null,
   "metadata": {},
   "outputs": [],
   "source": [
    "# empty dictionary\n",
    "my_dict = {}\n",
    "\n",
    "my_dict = {\"key\": \"value\"}\n",
    "\n",
    "my_dic = {\"name\": \"Phisan\", 'last_name': 'Sookkhee'}\n",
    "\n",
    "# dictionary with integer keys\n",
    "my_dict = {1: 'apple', 2: 'ball'}\n",
    "\n",
    "# dictionary with mixed keys\n",
    "my_dict = {'name': 'John', 1: [2, 4, 3]}\n",
    "\n",
    "# using dict()\n",
    "my_dict = dict({1:'apple', 2:'ball'})\n",
    "\n",
    "# from sequence having each item as a pair\n",
    "my_dict = dict([(1,'apple'), (2,'ball')])"
   ]
  },
  {
   "cell_type": "code",
   "execution_count": null,
   "metadata": {},
   "outputs": [],
   "source": [
    "''' \n",
    "non-structure data\n",
    "นักศึกษาคนที่ 1 นายพิศาล สุขขี รหัส 123456\n",
    "นักศึกษาคนที่ 2 นายสายฟ้า ธานี รหัส 098764222\n",
    "นักศึกษาคนที่ 3 เจษฎา ตอนศรี รหัส 9999282727\n",
    "'''\n",
    "\n",
    "# structure data\n",
    "my_students = {\n",
    "    '123456' : {\n",
    "        'name': 'นายพิศาล',\n",
    "        'lname': 'สุขขี',\n",
    "    },\n",
    "    '098764222': {\n",
    "        'name': 'สายฟ้า',\n",
    "        'lname': 'ธานี',\n",
    "    },\n",
    "    '9999282727': {\n",
    "        'name': 'เจษฎา',\n",
    "        'lname': 'ตอนศรี',\n",
    "    }\n",
    "}"
   ]
  },
  {
   "cell_type": "code",
   "execution_count": null,
   "metadata": {},
   "outputs": [],
   "source": [
    "my_students.get('123456').get('name')"
   ]
  },
  {
   "cell_type": "markdown",
   "metadata": {},
   "source": [
    "### วิธีการเข้าถึงข้อมูลสมาชิกภายในพจนานุกรม\n",
    "\n",
    "แม้ว่าการจัดทำดัชนีจะมีลักษณะคล้ายกับข้อมูลประเภทอื่น ๆ ในการเข้าถึงค่าข้อมูลสมาชิกในพจนานุกรมจะใช้คีย์ คีย์สามารถใช้ได้ทั้งภายในวงเล็บเหลี่ยม หรือด้วยเมธอด get( )\n",
    "\n",
    "ความแตกต่างในขณะที่ใช้ get( ) คือจะทำการส่งกลับค่า None แทนที่จะเป็น KeyError ถ้าหากไม่พบคีย์"
   ]
  },
  {
   "cell_type": "code",
   "execution_count": null,
   "metadata": {},
   "outputs": [],
   "source": [
    "my_dict = {'name':'Jack', 'age': 26}\n",
    "\n",
    "# Output: Jack\n",
    "print(my_dict['name'])\n",
    "\n",
    "# Output: 26\n",
    "print(my_dict.get('age'))\n",
    "\n",
    "# Trying to access keys which doesn't exist throws error\n",
    "# my_dict.get('address')\n",
    "# my_dict['address']"
   ]
  },
  {
   "cell_type": "code",
   "execution_count": null,
   "metadata": {},
   "outputs": [],
   "source": [
    "my_dict = {'name':'Jack', 'age': 26}\n",
    "\n",
    "my_dict.get(\"address\")"
   ]
  },
  {
   "cell_type": "code",
   "execution_count": null,
   "metadata": {},
   "outputs": [],
   "source": [
    "profile = {\n",
    "    \"name\": \"Phisan\",\n",
    "    \"lname\": \"Sookkhee\",\n",
    "    \"age\": 18,\n",
    "}\n",
    "\n",
    "profile.get(\"age\")"
   ]
  },
  {
   "cell_type": "markdown",
   "metadata": {},
   "source": [
    "### วิธีเปลี่ยนหรือเพิ่มข้อมูลสมาชิกในพจนานุกรม\n",
    "\n",
    "พจนานุกรมสามารถเปลี่ยนแปลงค่าข้อมูลสมาชิกได้ \n",
    "\n",
    "เราสามารถเพิ่มข้อมูลใหม่ หรือเปลี่ยนค่าของข้อมูลที่มีอยู่โดยใช้โอเปอเรเตอร์กำหนดค่า ( = )\n",
    "\n",
    "หากว่ามีคีย์อยู่แล้วในพจนานุกรม ค่าของข้อมูลใหม่จะได้รับการอัพเดตในคีย์ที่มีอยู่เดิม แต่หากไม่มีคีย์นั้นอยู่จะมีการเพิ่มคีย์ใหม่ : ค่าลงในพจนานุกรม"
   ]
  },
  {
   "cell_type": "code",
   "execution_count": null,
   "metadata": {},
   "outputs": [],
   "source": [
    "my_dict = {'name': 'Jack', 'age': 26}\n",
    "\n",
    "# update value\n",
    "my_dict ['age'] = 27\n",
    "\n",
    "#Output: {'age': 27, 'name': 'Jack'}\n",
    "print(my_dict)\n",
    "\n",
    "# เพิ่มรายการ\n",
    "my_dict ['address'] = 'Downtown'\n",
    "\n",
    "# ผลลัพธ์: {'address': 'Downtown', 'age': 27, 'name': 'Jack'}\n",
    "print(my_dict)"
   ]
  },
  {
   "cell_type": "code",
   "execution_count": null,
   "metadata": {},
   "outputs": [],
   "source": [
    "my_dict = {'name': 'Jack', 'age': 26}\n",
    "my_dict[\"address\"] = \"40/6\"\n",
    "my_dict['age'] = 18"
   ]
  },
  {
   "cell_type": "code",
   "execution_count": null,
   "metadata": {},
   "outputs": [],
   "source": [
    "my_dict"
   ]
  },
  {
   "cell_type": "markdown",
   "metadata": {},
   "source": [
    "### การลบพจนานุกรม หรือลบข้อมูลสมาชิกออกจากพจนานุกรม\n",
    "\n",
    "เราสามารถลบข้อมูลสมาชิกในพจนานุกรมโดยใช้เมธอด pop( ) โดยวิธีนี้จะทำการลบข้อมูลสมาชิกผ่านคีย์ที่ระบุและส่งคืนค่าออกมาจากพจนานุกรม\n",
    "\n",
    "และเราสามารถใช้เมทธอด popitem( ) เพื่อลบและส่งคืนค่าข้อมูลสมาชิกที่กำหนดเอง (อ้างอิงจากคีย์) จากพจนานุกรม \n",
    "\n",
    "และสามารถลบข้อมูลทั้งหมดออกได้ในครั้งเดียวโดยใช้เมธอด clear( )\n",
    "\n",
    "นอกจากนี้เรายังสามารถใช้คำสำคัญ del เพื่อลบทั้งพจนานุกรมด้วย"
   ]
  },
  {
   "cell_type": "code",
   "execution_count": null,
   "metadata": {},
   "outputs": [],
   "source": [
    "# create a dictionary\n",
    "squares = {1:1, 2:4, 3:9, 4:16, 5:25}  \n",
    "\n",
    "# remove a particular item\n",
    "# Output: 16\n",
    "print(squares.pop(4))  \n",
    "\n",
    "# Output: {1: 1, 2: 4, 3: 9, 5: 25}\n",
    "print(squares)\n",
    "\n",
    "# remove an arbitrary item\n",
    "# Output: (1, 1)\n",
    "print(squares.popitem())\n",
    "\n",
    "# Output: {2: 4, 3: 9, 5: 25}\n",
    "print(squares)\n",
    "\n",
    "# Output: {2: 4, 3: 9}\n",
    "print(squares)\n",
    "\n",
    "# remove all items\n",
    "squares.clear()\n",
    "\n",
    "# Output: {}\n",
    "print(squares)\n",
    "\n",
    "# delete the dictionary itself\n",
    "del squares"
   ]
  },
  {
   "cell_type": "code",
   "execution_count": null,
   "metadata": {},
   "outputs": [],
   "source": [
    "my_dict = {'name': 'Jack', 'age': 18, 'address': '40/6'}\n",
    "del my_dict[\"address\"]"
   ]
  },
  {
   "cell_type": "code",
   "execution_count": null,
   "metadata": {},
   "outputs": [],
   "source": [
    "my_dict"
   ]
  },
  {
   "cell_type": "markdown",
   "metadata": {},
   "source": [
    "## เซต"
   ]
  },
  {
   "cell_type": "markdown",
   "metadata": {},
   "source": [
    "เซต (Set) คือ \n",
    "\n",
    "เซตในภาษาไพธอนเป็นโครงสร้างข้อมูลที่เหมือนกันกับเซตทางคณิตศาสตร์ อาจประกอบด้วยข้อมูลสมาชิกต่าง ๆ โดยไม่คำนึงถึงลำดับในการจัดเก็บ และข้อมูลสมาชิกทุกตัวภายในเซตมีเอกลักษณ์ (ไม่มีรายการที่ซ้ำกัน)\n",
    "\n",
    "เราสามารถเพิ่มและลบข้อมูลสมาชิกของเซต เราสามารถใช้ข้อมูลสมาชิกของเชตในการทำซ้ำเช่นเดียวกับลิสต์ ตลอดจนสามารถใช้การดำเนินการมาตรฐานที่เกี่ยวกับเซต เช่น union, intersection, difference, symmetric difference นอกจากนั้นยังสามารถตรวจสอบว่าข้อมูลใด ๆ เป็นสมาชิกภายในเซตหรือไม่\n",
    "\n",
    "ลำดับของข้อมูลสมาชิกภายในเซตจะไม่ได้ถูกกำหนดไว้ และชนิดข้อมูลที่เปลี่ยนแปลงไม่ได้ใด ๆ สามารถเป็นเป็นองค์ประกอบของเซตได้ เช่น จำนวน, จำนวนจริง, ข้อความ, ทัพเพิล เป็นต้น ประเภทข้อมูลที่เปลี่ยนแปลงได้ ไม่สามารถเป็นองค์ประกอบของเซตได้ โดยเฉพาะอย่างยิ่ง ลิสต์ นั้นไม่สามารถเป็นข้อมูลสมาชิกของเซตได้ และเซตใด ๆ ไม่สามารถใช้เป็นข้อมูลสมาชิกภายในเซตอื่น ๆ ได้ นั่นคือ จะไม่มีเซตภายในเซตได้\n",
    "\n",
    "เซตสมารถสร้างขึ้นโดยการวางข้อมูลทั้งหมด (element) ภายในเครื่องหมายวงเล็บปีกกา {} คั่นด้วยเครื่องหมายจุลภาคหรือใช้ฟังก์ชั่น set()\n",
    "\n",
    "โดยเซตนั้นสามารถมีข้อมูลสมาชิกจำนวนมาก และอาจมีหลากหลายประเภท (จำนวน, จำนวนจริง, ข้อความ เป็นต้น) แต่สมาชิกภายในเซตต้องไม่เป็นข้อมูลประเภทที่มีขนาดไม่คงตัว เช่น ลิสต์ หรือ ดิกชันนารี"
   ]
  },
  {
   "cell_type": "code",
   "execution_count": null,
   "metadata": {},
   "outputs": [],
   "source": [
    "# เซตของจำนวนเต็ม\n",
    "my_set = {1, 2, 3}\n",
    "print(my_set)\n",
    "\n",
    "# เซตที่มีข้อมูลสมาชิกหลากหลายประเภทข้อมูล\n",
    "my_set = {1.0, \"Hello\", (1, 2, 3)}\n",
    "print(my_set)"
   ]
  },
  {
   "cell_type": "code",
   "execution_count": null,
   "metadata": {},
   "outputs": [],
   "source": [
    "# ข้อมูลสมาชิกภายในเซตจะไม่สามารถซ้ำกันได้\n",
    "my_set = {1,2,3,4,3,2}\n",
    "print(my_set)\n",
    "\n",
    "# สมาชิกภายในเซตต้องไม่เป็นข้อมูลประเภทที่แก้ไขได้\n",
    "# เช่น [3, 4] เป็นลิสต์ที่แก้ไขได้\n",
    "\n",
    "# บรรทัดที่ 11 จะทำให้เกิดข้อผิดพลาด\n",
    "#เพราะไม่สามารถใช้ลิสต์ในการเป็นข้อมูลสมาชิกภายในเซต\n",
    "# TypeError: unhashable type: 'list'\n",
    "my_set = {1, 2, [3, 4]}\n",
    "\n",
    "# เราสามารถสร้างเซตจากลิสต์ได้เลย\n",
    "# Output: {1, 2, 3}\n",
    "my_set = set([1,2,3,2])\n",
    "print(my_set)"
   ]
  },
  {
   "cell_type": "markdown",
   "metadata": {},
   "source": [
    "การสร้างเซตที่ว่างเปล่าจะมีความยุ่งยากเล็กน้อย\n",
    "\n",
    "การใช้วงเล็บปีกกาที่ว่างเปล่า {} เพื่อประกาศตัวแปร จะทำให้เกิดพจนานุกรมว่างเปล่าในภาษาไพธอน (ไม่ใช่เซต)\n",
    "\n",
    "ดังนั้นเมื่อต้องการสร้างเซตเปล่า ๆ ที่ไม่มีข้อมูลสมาชิกใด ๆ ภายในเซต เราจะใช้ฟังก์ชัน set () โดยไม่มีอาร์กิวเมนต์ใด ๆ แทน {}"
   ]
  },
  {
   "cell_type": "code",
   "execution_count": null,
   "metadata": {},
   "outputs": [],
   "source": [
    "# initialize a with {}\n",
    "a = {}\n",
    "\n",
    "# check data type of a\n",
    "# Output: <class 'dict'>\n",
    "print(type(a))\n",
    "\n",
    "# initialize a with set()\n",
    "a = set()\n",
    "\n",
    "# check data type of a\n",
    "# Output: <class 'set'>\n",
    "print(type(a))"
   ]
  },
  {
   "cell_type": "markdown",
   "metadata": {},
   "source": [
    "## วิธีการแก้ไขเซตในภาษาไพธอน\n",
    "\n",
    "สำหรับเซตนั้น ข้อมูลสมาชิกภายในเซตถูกจัดเก็บอย่างไม่เป็นลำดับ ดังนั้นจัดทำดัชนีเพื่ออ้างอิงถึงข้อมูลสมาชิกแต่ละตัวจึงไม่มีความหมาย\n",
    "\n",
    "เราไม่สามารถเข้าถึงหรือเปลี่ยนข้อมูลสมาชิกของเซตโดยใช้การจัดทำดัชนีหรือการหั่นส่วน ซึ่งเป็นการดำเนินการที่เซตไม่ให้การรองรับ\n",
    "\n",
    "เราสามารถเพิ่มข้อมูลสมาชิกเพียงหนึ่งตัวโดยใช้เมธอด add() และ ข้อมูลสมาชิกหลายตัวโดยใช้เมธอด update() ในการ update() สามารถใช้ tuples, list, strings หรือ other sets เป็นอาร์กิวเมนต์ได้ ซึ่งจะต้องหลีกเลี่ยงความซ้ำซ้อนของข้อมูล"
   ]
  },
  {
   "cell_type": "code",
   "execution_count": null,
   "metadata": {},
   "outputs": [],
   "source": [
    "# ตั้งต่าเริ่มต้นให้ตัวแปร\n",
    "my_set = {1,3}\n",
    "print(my_set)\n",
    "\n",
    "# หากเปิด comment ในบรรทัดที่ 8 จะพบ Error\n",
    "# TypeError: 'set' object does not support indexing\n",
    "\n",
    "# my_set[0]\n",
    "\n",
    "# เพ่ิมข้อมูล 1 ตัวเข้าสู่เซต\n",
    "# ผลลัพธ์: {1, 2, 3}\n",
    "my_set.add(2)\n",
    "print(my_set)\n",
    "\n",
    "# เพ่ิมข้อมูลหลายตัวเข้าสู่เซต\n",
    "# ผลลัพธ์: {1, 2, 3, 4}\n",
    "my_set.update([2,3,4])\n",
    "print(my_set)\n",
    "\n",
    "# เพิ่มข้อมูลหลายตัวจากลิสต์ และเซต\n",
    "# Output: {1, 2, 3, 4, 5, 6, 8}\n",
    "my_set.update([4,5], {1,6,8})\n",
    "print(my_set)"
   ]
  },
  {
   "cell_type": "markdown",
   "metadata": {},
   "source": [
    "## การลบข้อมูลสมาชิกภายในเซต\n",
    "\n",
    "ข้อมูลสมาชิกของเซตสามารถที่จะถูกลบออกจากเซตได้โดยใช้เมธอด discard() และ remove()\n",
    "\n",
    "ข้อแตกต่างระหว่างสองคือในขณะที่ใช้ discard() หากไม่มีรายการอยู่ในเซ็ตก็จะไม่มีการเปลี่ยนแปลง remove() จะทำให้เกิดข้อผิดพลาดในสภาพดังกล่าว\n",
    "\n",
    "ดังแสดงได้ในตัวอย่างด้านล่าง"
   ]
  },
  {
   "cell_type": "code",
   "execution_count": null,
   "metadata": {},
   "outputs": [],
   "source": [
    "# กำหนดค่าเริ่มต้นให้กับตัวแปร my_set\n",
    "my_set = {1, 3, 4, 5, 6}\n",
    "print(my_set)\n",
    "\n",
    "# การลบข้อมูลสมาชิกโดยใช้เมธอด discard()\n",
    "# Output: {1, 3, 5, 6}\n",
    "my_set.discard(4)\n",
    "print(my_set)\n",
    "\n",
    "# การลบข้อมูลสมาชิกโดยใช้เมธอด remove()\n",
    "# Output: {1, 3, 5}\n",
    "my_set.remove(6)\n",
    "print(my_set)\n",
    "\n",
    "# การลบข้อมูลสมาชิกที่ไม่ปรากฏอยู่ในเซต\n",
    "# โดยใช้เมธอด discard()\n",
    "# Output: {1, 3, 5}\n",
    "my_set.discard(2)\n",
    "print(my_set)\n",
    "\n",
    "# การลบข้อมูลสมาชิกที่ไม่ปรากฏอยู่ในเซต\n",
    "# โดยใช้เมธอด remove()\n",
    "# จะมทำให้ปรากฏ Error\n",
    "# Output: KeyError: 2\n",
    "\n",
    "my_set.remove(2)"
   ]
  },
  {
   "cell_type": "markdown",
   "metadata": {},
   "source": [
    "ในทำนองเดียวกันเราสามารถลบและส่งคืนค่าข้อมูลสมาชิกได้โดยใช้เมธอด pop ()\n",
    "\n",
    "แต่เนื่องด้วยข้อมูลภายในเซตถูกจัดเก็บอย่างไม่เป็นลำดับ ทำให้ไม่สามารถคาดคะเนล่วงหน้าได้ว่าผลของการใช้เมธอด pop() นั้นจะทำให้ได้ข้อมูลอะไรออกมาในขณะนั้น\n",
    "\n",
    "และนอกจากนี้เรายังสามารถลบรายการทั้งหมดออกจากเซตโดยใช้เมธอด clear ()"
   ]
  },
  {
   "cell_type": "code",
   "execution_count": null,
   "metadata": {},
   "outputs": [],
   "source": [
    "# ผลลัพธ์: เซตที่มีข้อมูลสมาชิกที่ไม่ซ้ำกัน\n",
    "my_set = set(\"HelloWorld\")\n",
    "print(my_set)\n",
    "\n",
    "# ทำการ pop() ข้อมูลภายในเซต\n",
    "# ผลลัพธ์: ข้อมูลถูก pop() แบบสุ่ม\n",
    "print(my_set.pop())\n",
    "\n",
    "# pop() ข้อมูล\n",
    "my_set.pop()\n",
    "print(my_set)\n",
    "\n",
    "# ล้างข้อมูลภายในเซตทั้งหมด\n",
    "# ผลลัพธ์: set() - เซตว่าง\n",
    "my_set.clear()\n",
    "print(my_set)"
   ]
  },
  {
   "cell_type": "markdown",
   "metadata": {},
   "source": [
    "## การดำเนินการกับเซต\n",
    "\n",
    "เซตสามารถนำไปใช้ในการดำเนินการทางคณิตศาสตร์ได้ เช่น union, intersection, difference and symmetric difference\n",
    "\n",
    "ลองพิจารณาการดำเนินการระหว่างเซต 2 เซตต่อไปนี้"
   ]
  },
  {
   "cell_type": "code",
   "execution_count": null,
   "metadata": {},
   "outputs": [],
   "source": [
    "A = {1, 2, 3, 4, 5}\n",
    "B = {4, 5, 6, 7, 8}"
   ]
  },
  {
   "cell_type": "markdown",
   "metadata": {},
   "source": [
    "### Set Union\n",
    "\n",
    "union ของเซต A และเซต B คือ เซตที่ประกอบไปด้วยข้อมูลสมาชิกจากเชต A และเซต B\n",
    "\n",
    "union สมารถดำเนินการโดยใช้เครื่องหมาย | หรือสามารถดำเนินการได้โดยใช้เมธอด union()"
   ]
  },
  {
   "cell_type": "code",
   "execution_count": null,
   "metadata": {},
   "outputs": [],
   "source": [
    "A = {1, 2, 3, 4, 5}\n",
    "B = {4, 5, 6, 7, 8}\n",
    "\n",
    "# ใช้ | operator\n",
    "print(A | B)"
   ]
  },
  {
   "cell_type": "code",
   "execution_count": null,
   "metadata": {},
   "outputs": [],
   "source": [
    "A.union(B)"
   ]
  },
  {
   "cell_type": "code",
   "execution_count": null,
   "metadata": {},
   "outputs": [],
   "source": [
    "B.union(A)"
   ]
  },
  {
   "cell_type": "markdown",
   "metadata": {},
   "source": [
    "## Set Intersection"
   ]
  },
  {
   "cell_type": "markdown",
   "metadata": {},
   "source": [
    "Intersection ของเซต A และเซต B คือ เซตของข้อมูลสมาชิกที่มีอยู่ในเซต A และเซต B\n",
    "\n",
    "การ Intersection สามารถดำเนินการโดยใช้เครื่องหมาย & หรือสามารถทำได้โดยใช้เมธอด intersection()"
   ]
  },
  {
   "cell_type": "code",
   "execution_count": null,
   "metadata": {},
   "outputs": [],
   "source": [
    "A = {1, 2, 3, 4, 5}\n",
    "B = {4, 5, 6, 7, 8}\n",
    "\n",
    "# ใช้ & operator\n",
    "print(A & B)"
   ]
  },
  {
   "cell_type": "code",
   "execution_count": null,
   "metadata": {},
   "outputs": [],
   "source": [
    "A.intersection(B)"
   ]
  },
  {
   "cell_type": "markdown",
   "metadata": {},
   "source": [
    "B.intersection(A)"
   ]
  },
  {
   "cell_type": "markdown",
   "metadata": {},
   "source": [
    "## ความต่างระหว่างเซต\n",
    "\n",
    "ความต่างของเซต A และเซต B (A - B) คือเซตที่ประกอบไปด้วยข้อมูลสมาชิกที่อยู่ใน A แต่ไม่อยู่ใน B เช่นเดียวกัน B - A คือเซตที่ประกอบไปด้วยข้อมูลสมาชิกที่อยู่ใน B แต่ไม่อยู่ใน A\n",
    "\n",
    "การหาความต่างระหว่างเซตสามารถดำเนินการโดยใช้ตัวดำเนินการ - เช่นเดียวกันสามารถดำเนินการโดยใช้เมธอด difference()"
   ]
  },
  {
   "cell_type": "code",
   "execution_count": null,
   "metadata": {},
   "outputs": [],
   "source": [
    "A = {1, 2, 3, 4, 5}\n",
    "B = {4, 5, 6, 7, 8}\n",
    "\n",
    "# ใช้ - operator on A\n",
    "print(A - B)"
   ]
  },
  {
   "cell_type": "code",
   "execution_count": null,
   "metadata": {},
   "outputs": [],
   "source": [
    "A.difference(B)"
   ]
  },
  {
   "cell_type": "code",
   "execution_count": null,
   "metadata": {},
   "outputs": [],
   "source": [
    "B - A"
   ]
  },
  {
   "cell_type": "code",
   "execution_count": null,
   "metadata": {},
   "outputs": [],
   "source": [
    "B.difference(A)"
   ]
  },
  {
   "cell_type": "markdown",
   "metadata": {},
   "source": [
    "## ความต่างแบบสมมาตรระหว่างเซต\n",
    "\n",
    "ความแตกต่างแบบสมมาตรระหว่างเซต A และเซต B คือเซตของข้อมูลสมาชิกจากทั้งเซต A และเซต B ยกเว้นข้อมูลสมาชิกที่มีอยู่ทั่วไปในทั้งสองเซต\n",
    "\n",
    "ความแตกต่างแบบสมมาตรจะดำเนินการโดยใช้ตัวดำเนินการ ^ และสามารถทำได้โดยใช้เมธอด symmetric_difference()"
   ]
  },
  {
   "cell_type": "code",
   "execution_count": null,
   "metadata": {},
   "outputs": [],
   "source": [
    "A = {1, 2, 3, 4, 5}\n",
    "B = {4, 5, 6, 7, 8}\n",
    "\n",
    "# ใช้ ^ operator\n",
    "print(A ^ B)"
   ]
  },
  {
   "cell_type": "code",
   "execution_count": null,
   "metadata": {},
   "outputs": [],
   "source": [
    "A.symmetric_difference(B)"
   ]
  },
  {
   "cell_type": "code",
   "execution_count": null,
   "metadata": {},
   "outputs": [],
   "source": [
    "B.symmetric_difference(A)"
   ]
  },
  {
   "cell_type": "code",
   "execution_count": null,
   "metadata": {},
   "outputs": [],
   "source": [
    "list1 = ['physics', 'chemistry', 1997, 2000]"
   ]
  },
  {
   "cell_type": "code",
   "execution_count": null,
   "metadata": {},
   "outputs": [],
   "source": [
    "list1[1][3]"
   ]
  },
  {
   "cell_type": "code",
   "execution_count": null,
   "metadata": {},
   "outputs": [],
   "source": [
    "arr = ['a', 'b', 'c', 'd', 'e']\n",
    "#arr[start : stop : step]\n",
    "\n",
    "arr[::-1]"
   ]
  },
  {
   "cell_type": "code",
   "execution_count": null,
   "metadata": {},
   "outputs": [],
   "source": [
    "arr = [\n",
    "    [1, 2, 3, 4, 5],\n",
    "    [6, 7, 8, 9, 10],\n",
    "    [11, 12, 13, 14]\n",
    "]\n",
    "\n",
    "arr"
   ]
  },
  {
   "cell_type": "code",
   "execution_count": null,
   "metadata": {},
   "outputs": [],
   "source": [
    "name = [\"phisan\", \"Sookkhee\"]\n",
    "name[0][4]"
   ]
  },
  {
   "cell_type": "code",
   "execution_count": null,
   "metadata": {},
   "outputs": [],
   "source": [
    "num = [1, 2, 3, 4, 5]\n",
    "num[3]"
   ]
  },
  {
   "cell_type": "code",
   "execution_count": null,
   "metadata": {},
   "outputs": [],
   "source": [
    "arr = [\n",
    "    [['a', 'b'], ['c', 'd']],\n",
    "    [['e', 'f'], ['g', 'h']],\n",
    "]\n",
    "\n",
    "arr[0][0][1]"
   ]
  },
  {
   "cell_type": "code",
   "execution_count": null,
   "metadata": {},
   "outputs": [],
   "source": [
    "arr = [1, 2, 3, 4, 5]\n",
    "arr"
   ]
  },
  {
   "cell_type": "code",
   "execution_count": null,
   "metadata": {},
   "outputs": [],
   "source": [
    "del arr[2]\n",
    "arr"
   ]
  },
  {
   "cell_type": "code",
   "execution_count": null,
   "metadata": {},
   "outputs": [],
   "source": [
    "arr[2]"
   ]
  },
  {
   "cell_type": "markdown",
   "metadata": {},
   "source": [
    "<hr/>\n",
    "\n",
    "**Mr.Phisan Sookkhee**\n",
    "\n",
    "Sisaket Rajabhat University<br/>\n",
    "Department of Computer Science<br/> \n",
    "Faculty of Liberal Arts and Science<br/>\n",
    "\n",
    "E-mail : phisan.s@sskru.ac.th, phisan.shukkhi@gmail.com<br/>\n",
    "Website : http://phisan.sskru.ac.th<br/>\n",
    "Facebook : www.facebook/numvarn<br/>\n",
    "Skype : phisan.shukkhi<br/>\n",
    "Mobile Phone: 084-915-2456<br/>"
   ]
  }
 ],
 "metadata": {
  "interpreter": {
   "hash": "4321b87bf5e730b7fa858e6c201373820b713e5ba44a5dff236097f3b6cccd9f"
  },
  "kernelspec": {
   "display_name": "Python 3 (ipykernel)",
   "language": "python",
   "name": "python3"
  },
  "language_info": {
   "codemirror_mode": {
    "name": "ipython",
    "version": 3
   },
   "file_extension": ".py",
   "mimetype": "text/x-python",
   "name": "python",
   "nbconvert_exporter": "python",
   "pygments_lexer": "ipython3",
   "version": "3.11.10"
  }
 },
 "nbformat": 4,
 "nbformat_minor": 4
}

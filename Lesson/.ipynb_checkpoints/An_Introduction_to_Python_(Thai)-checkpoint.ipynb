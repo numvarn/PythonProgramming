{
 "cells": [
  {
   "cell_type": "markdown",
   "metadata": {
    "id": "VBCKlrw7AWuU"
   },
   "source": [
    "# การโปรแกรมภาษา Python (ไพธอน) เบื้องต้น - https://bit.ly/2EtvHi5\n",
    "\n",
    "ธนารักษ์ ธีระมั่นคง  (Email: `thanaruk@siit.tu.ac.th`)\n",
    "\n",
    "ปรัชญา บุญขวัญ (Email: `prachya.boonkwan@nectec.or.th`)\n",
    "\n",
    "พิกุล เวชชานุเคราะห์ (Email: `pikulvej@gmail.com`)\n",
    "\n",
    "ราชศักดิ์ สมยานนทนากุล (Email: `rachasak.rsu@gmail.com`)\n",
    "\n",
    "อุไรวรรณ บัวตูม (Email: `uraiwanu@buu.ac.th`)\n",
    "\n",
    "สิริวรรณ แต้วิจิตร (Email: `siriwont@gmail.com`)\n",
    "\n",
    "ธรรมนุวัฒน์ วาลีประโคน  (Email: `tamnuwat@eng.src.ku.ac.th`)\n",
    "\n",
    "พลากร นิลเขต  (Email: `phalakron2000@gmail.com`)"
   ]
  },
  {
   "cell_type": "markdown",
   "metadata": {
    "id": "xsYxzbNfAmW_"
   },
   "source": [
    "## บทนำ  การโปรแกรมภาษา Python (ไพธอน) เบื้องต้น 1 \n",
    "(1-2, 7-8 ธันวาคม 2561)\n",
    "\n",
    "- สำหรับวันนี้ เราจะมาหัดเขียนโปรแกรมภาษา Python กันครับ\n",
    "- ภาษา Python\n",
    "  - ภาษาโปรแกรมยอดนิยมสำหรับงานด้านวิทยาการข้อมูล (data science) และปัญญาประดิษฐ์ (artificial intelligence)\n",
    "  - เหมาะสำหรับผู้ที่เริ่มต้นเขียนโปรแกรม เพราะมีกฎเกณฑ์ของภาษาที่ไม่ซับซ้อน\n",
    "  - ตามปกติแล้ว นิสิตปี 4 ของภาควิชาวิทยาการคอมพิวเตอร์ สามารถเรียนรู้ได้ด้วยตัวเอง และเขียนโปรแกรมด้วยภาษา Python ได้ภายใน 3 ชั่วโมง\n",
    "\n",
    "- เนื้อหา\n",
    "  1. print\n",
    "  2. mathematical operations\n",
    "  3. variables\n",
    "  4. list\n",
    "  5. string\n",
    "  6. for loop\n",
    "  7. branching\n",
    "  8. โจทย์เพิ่มทักษะ\n",
    "\n",
    "- ในคอร์สนี้ เราจะใช้ *การเรียนรู้แบบสะท้อนกลับ* (reflective learning)\n",
    "  - ท่านสามารถเลือกวิธีการเรียนรู้ได้หลากหลาย ทั้งจากคำบรรยายในแบบเรียนนี้ จากหนังสือแบบเรียน จากการเรียนรู้ด้วยตัวเองผ่านแบบฝึกหัดตามแบบเรียนนี้ โดยเราได้เตรียมผู้ช่วยสอนไว้คอยตอบคำถามของท่านไว้แล้วครับ\n",
    "  - ในแต่ละกิจกรรม จะมีแบบทดสอบให้ท่านลองทำเป็นระยะๆ ด้วย เพื่อตรวจสอบความเข้าใจของท่าน\n",
    "  - หากท่านยังไม่เข้าใจ อย่าเพิ่งไปเครียดครับ ท่านสามารถเปลี่ยนวิธีการเรียนรู้ให้ตรงกับจริตของท่านได้ตลอดเวลาครับ\n",
    "  - และสำหรับท่านที่เคยมีประสบการณ์กับภาษา Python มาก่อน ท่านสามารถทดลองทำแบบฝึกหัดเสริมทักษะที่ท้าย workshop ได้เลยนะครับ ;) \n",
    "\n",
    "- วิธีการใช้ Google Colab อย่างง่าย\n",
    "  - กล่องคำสั่งจะเป็นสีเทา เราสามารถเขียนโปรแกรมภาษา Python ลงในกล่องคำสั่งนี้ได้\n",
    "  - **วิธีรัน (run):** เมื่อเขียนโปรแกรมลงไปแล้ว เราสามารถสั่งรันได้โดยการกดปุ่มเพลย์ ▶️ ที่อยู่หน้ากล่องคำสั่ง หรือกดปุ่ม Shift+Enter ก็ได้ครับ\n",
    "  - หากยังไม่เห็นปุ่มเพลย์ ให้เอาเม้าส์ไปคลิกที่กล่องคำสั่งก่อน ปุ่มเพลย์ก็จะปรากฏขึ้นมาครับ\n",
    "\n",
    "-  เราจะทำให้ทุกท่านเขียนโปรแกรมภาษา Python ได้ภายใน 3 ชั่วโมงกัน ถ้าพร้อมแล้ว เรามาเริ่มกันเลยครับ"
   ]
  },
  {
   "cell_type": "markdown",
   "metadata": {
    "id": "Wz7yrsiMEpWJ"
   },
   "source": [
    "\n",
    "\n",
    "---\n",
    "\n"
   ]
  },
  {
   "cell_type": "markdown",
   "metadata": {
    "id": "QqwrmGOdD2g-"
   },
   "source": [
    "## กิจกรรม 1: พิมพ์ข้อความออกหน้าจอ"
   ]
  },
  {
   "cell_type": "markdown",
   "metadata": {
    "id": "gcC4FCgHJvlK"
   },
   "source": [
    "### คำสั่ง `print`\n",
    "\n",
    "- คำสั่งพิมพ์ข้อความในภาษา Python คือ `print`\n",
    "- เช่น `print('Hello')` ก็จะแสดงข้อความว่า `Hello` ออกที่หน้าจอ\n",
    "- ลองคลิกที่กล่องคำสั่งสีเทาที่อยู่ด้านล่าง แล้วกดปุ่มเพลย์ในเครื่องหมายก้ามปู `[ ]` หรือกดปุ่ม Shift+Enter ดูสิครับ เห็นข้อความ `Hello` ที่อยู่ในบรรทัดต่อมาไหมครับ"
   ]
  },
  {
   "cell_type": "code",
   "execution_count": null,
   "metadata": {
    "colab": {
     "base_uri": "https://localhost:8080/",
     "height": 34
    },
    "id": "p-_KH5ZOAVXC",
    "outputId": "c44314f1-9c68-485a-bd7d-82967804d29a"
   },
   "outputs": [],
   "source": [
    "print('Hello')"
   ]
  },
  {
   "cell_type": "code",
   "execution_count": null,
   "metadata": {
    "colab": {
     "base_uri": "https://localhost:8080/",
     "height": 87
    },
    "id": "D4ptQc3kmblX",
    "outputId": "b9bf82f9-7b2b-4a96-cead-1d9e59e3e79c"
   },
   "outputs": [],
   "source": [
    "print('test\\n123\\ntest-test\\t789\\n')"
   ]
  },
  {
   "cell_type": "code",
   "execution_count": null,
   "metadata": {
    "id": "HnVCAzf3mW_e"
   },
   "outputs": [],
   "source": []
  },
  {
   "cell_type": "markdown",
   "metadata": {
    "id": "AiI2gIqVMYw1"
   },
   "source": [
    "  - จะสังเกตได้ว่า ข้อความ `Hello` ที่เราต้องการจะให้พิมพ์ออกหน้าจอ จะอยู่ในเครื่องหมายคำพูดเดี่ยว (single quote) ในตัวโค้ดเสมอ\n",
    "  - สิ่งที่อยู่ในเครื่องหมายคำพูดเดี่ยวนี้ เราเรียกว่า *สตริง* (string) ซึ่งแปลเป็นไทยว่า \"ข้อความ\" นั่นเองครับ"
   ]
  },
  {
   "cell_type": "markdown",
   "metadata": {
    "id": "PR_x3YS4IfHh"
   },
   "source": [
    "### แบบฝึกหัด 1.1\n",
    "\n",
    "คราวนี้เรามาลองพิมพ์สตริง `'สวัสดีจ้ะ'` ออกที่หน้าจอกันบ้าง ลองเติมข้อความดังกล่าวลงในเครื่องหมายคำพูดเดี่ยวดูนะครับ"
   ]
  },
  {
   "cell_type": "code",
   "execution_count": null,
   "metadata": {
    "colab": {
     "base_uri": "https://localhost:8080/"
    },
    "id": "4vIgljNYIZtp",
    "outputId": "d613bc9d-a127-41cd-ee45-04d981b9edac"
   },
   "outputs": [],
   "source": [
    "print('สวัสดีครับ')"
   ]
  },
  {
   "cell_type": "markdown",
   "metadata": {
    "id": "wvKZk4mHMsO5"
   },
   "source": [
    "ลองเปลี่ยนสตริงดูตามใจชอบ แล้วลองรันดูนะครับ"
   ]
  },
  {
   "cell_type": "markdown",
   "metadata": {
    "id": "vQ1UefODUONV"
   },
   "source": [
    "### หมายเหตุ (comment)"
   ]
  },
  {
   "cell_type": "markdown",
   "metadata": {
    "id": "y6LhZB1oUQ8A"
   },
   "source": [
    "- บางครั้งเราอยากใส่หมายเหตุลงไปในโค้ดเพื่อเป็นบันทึกช่วยจำ เราจะใช้สัญลักษณ์ `#` (แฮช หรือ hash) นำหน้าหมายเหตุ โดยเมื่อไรก็ตามที่ใช้เครื่องหมาย `#` สิ่งที่ตามหลังเครื่องหมายนี้จะเป็นหมายเหตุทั้งหมด เช่น"
   ]
  },
  {
   "cell_type": "code",
   "execution_count": null,
   "metadata": {
    "colab": {
     "base_uri": "https://localhost:8080/",
     "height": 34
    },
    "id": "DCKkNqvmUg40",
    "outputId": "f0449b7d-91ac-4bae-f767-7ecc2c2df712"
   },
   "outputs": [],
   "source": [
    "print('Hello')      # แสดงข้อความ Hello ออกที่หน้าจอ"
   ]
  },
  {
   "cell_type": "markdown",
   "metadata": {
    "id": "IZzQ52RTUpF7"
   },
   "source": [
    "- หากเราต้องการหมายเหตุทั้งบรรทัด ให้เราใส่เครื่องหมาย `#` ที่ด้านหน้าสุด เช่น"
   ]
  },
  {
   "cell_type": "code",
   "execution_count": null,
   "metadata": {
    "colab": {
     "base_uri": "https://localhost:8080/",
     "height": 34
    },
    "id": "ngPkggLBU9-y",
    "outputId": "ea2fd402-542e-4daf-ee96-4e37ad31ee7c"
   },
   "outputs": [],
   "source": [
    "# แสดงข้อความ Hello ออกที่หน้าจอ\n",
    "print('Hello')"
   ]
  },
  {
   "cell_type": "markdown",
   "metadata": {
    "id": "U5PMqooKWBGW"
   },
   "source": [
    "- เวลาคอมพิวเตอร์ทำงาน มันจะกระโดดข้ามส่วนที่เป็นหมายเหตุไป\n",
    "- เช่น ในโค้ดด้านล่างนี้ คอมพิวเตอร์จะกระโดดข้ามบรรทัดที่ 3 ไป เพราะถูกมองเป็นหมายเหตุ"
   ]
  },
  {
   "cell_type": "code",
   "execution_count": null,
   "metadata": {
    "colab": {
     "base_uri": "https://localhost:8080/",
     "height": 34
    },
    "id": "8uzxsKteWJge",
    "outputId": "2eb26723-b558-4cc6-90f6-842690b64ea5"
   },
   "outputs": [],
   "source": [
    "print('Please', end = '.  % ')\n",
    "print('Mr.', end = ' ')\n",
    "# print('and Ms.')\n",
    "print('Postman', end = ' ')\n",
    "print('Look and See')"
   ]
  },
  {
   "cell_type": "markdown",
   "metadata": {
    "id": "aJpoRN7VVMsV"
   },
   "source": [
    "### แบบฝึกหัด 1.2"
   ]
  },
  {
   "cell_type": "markdown",
   "metadata": {
    "id": "nWpO2MwNVRaJ"
   },
   "source": [
    "ลองใส่เครื่องหมาย `#` หน้าบรรทัดต่างๆ ในโค้ด แล้วสังเกตความเปลี่ยนแปลงของผลลัพธ์"
   ]
  },
  {
   "cell_type": "code",
   "execution_count": null,
   "metadata": {
    "colab": {
     "base_uri": "https://localhost:8080/",
     "height": 122
    },
    "id": "Gqx3Fm_fVlVG",
    "outputId": "4875231b-3fff-4f10-8362-cf596452c74e"
   },
   "outputs": [],
   "source": [
    "print('Hello')\n",
    "print('World')\n",
    "print('My')\n",
    "print('name')\n",
    "print('is')\n",
    "print('Peter')"
   ]
  },
  {
   "cell_type": "markdown",
   "metadata": {
    "id": "LIFQVwKOODyM"
   },
   "source": [
    "\n",
    "\n",
    "---\n",
    "\n"
   ]
  },
  {
   "cell_type": "markdown",
   "metadata": {
    "id": "1FZJHUYeOErP"
   },
   "source": [
    "## กิจกรรม 2: การคำนวณทางคณิตศาสตร์"
   ]
  },
  {
   "cell_type": "markdown",
   "metadata": {
    "id": "PtKzA2UuPB65"
   },
   "source": [
    "### คำสั่งเลขคณิต (arithmetic operations) และนิพจน์ทางคณิตศาสตร์ (mathematical expression)\n",
    "\n",
    "- เราสามารถทำการคำนวณทางคณิตศาสตร์ได้ โดยใช้เครื่องหมายบวก `+`, ลบ `-`, คูณ `*`, และหาร `/` กับตัวเลขได้\n",
    "  - **ข้อสังเกต:** เราจะใช้เครื่องหมายดอกจัน `*` แทนการคูณนะครับ\n",
    "- เช่น ถ้าเราสั่งให้คอมพิวเตอร์คำนวณค่าของนิพจน์ทางคณิตศาสตร์ $ 5 \\times 2 + 10 $ คอมพิวเตอร์ก็จะคำนวณผลลัพธ์ให้ทันที"
   ]
  },
  {
   "cell_type": "code",
   "execution_count": null,
   "metadata": {
    "colab": {
     "base_uri": "https://localhost:8080/",
     "height": 34
    },
    "id": "E68FlmlxQATn",
    "outputId": "e5315a49-fc8f-4cff-a2de-8e293b0a848c"
   },
   "outputs": [],
   "source": [
    "5 * 2 + 10"
   ]
  },
  {
   "cell_type": "markdown",
   "metadata": {
    "id": "dXQHNqoXQE3u"
   },
   "source": [
    "- ถ้าเราสั่งให้คอมพิวเตอร์คำนวณค่าของนิพจน์ $ 10 + \\frac{5}{2} $ เราจะได้ผลลัพธ์ดังนี้ครับ"
   ]
  },
  {
   "cell_type": "code",
   "execution_count": null,
   "metadata": {
    "colab": {
     "base_uri": "https://localhost:8080/",
     "height": 34
    },
    "id": "q50RlTKxQDjL",
    "outputId": "333f0521-1d22-4e5b-c005-78fe4f3b265d"
   },
   "outputs": [],
   "source": [
    "10 + 5 / 2"
   ]
  },
  {
   "cell_type": "markdown",
   "metadata": {
    "id": "aYB4oAFGQhlw"
   },
   "source": [
    "- จะสังเกตได้ว่า คอมพิวเตอร์คำนวณการหาร 5 / 2 และใส่ค่าทศนิยมให้โดยอัตโนมัติครับ"
   ]
  },
  {
   "cell_type": "markdown",
   "metadata": {
    "id": "Ov-8WQYpQ7wm"
   },
   "source": [
    "### แบบฝึกหัด 2.1\n",
    "\n",
    "เรามาลองคำนวณค่าของนิพจน์ทางคณิตศาสตร์ต่อไปนี้กันดูบ้างครับ\n",
    "\n",
    "1. $ \\frac{3}{4} + \\frac{1}{4} $"
   ]
  },
  {
   "cell_type": "code",
   "execution_count": null,
   "metadata": {
    "colab": {
     "base_uri": "https://localhost:8080/",
     "height": 34
    },
    "id": "HSnJfmZKWNx3",
    "outputId": "36273046-36fb-4509-fb05-014f74dc4e7f"
   },
   "outputs": [],
   "source": [
    "3/4 + 1/4"
   ]
  },
  {
   "cell_type": "markdown",
   "metadata": {
    "id": "5sHOZcqHWOwk"
   },
   "source": [
    "2. $ 1 + 6 \\times 8 - 7 $"
   ]
  },
  {
   "cell_type": "code",
   "execution_count": null,
   "metadata": {
    "colab": {
     "base_uri": "https://localhost:8080/",
     "height": 34
    },
    "id": "gRXHZqBYWY23",
    "outputId": "ebc0db78-fa87-4158-bf21-f4322af6bf14"
   },
   "outputs": [],
   "source": [
    "1+6*8-7"
   ]
  },
  {
   "cell_type": "markdown",
   "metadata": {
    "id": "gT_oRnRZWbNg"
   },
   "source": [
    "3. $ 5 \\times 6 + 7 \\times 8 - \\frac{2}{5} $"
   ]
  },
  {
   "cell_type": "code",
   "execution_count": null,
   "metadata": {
    "id": "eRCr2rvsY90z"
   },
   "outputs": [],
   "source": [
    "5*6+7*8-2/5"
   ]
  },
  {
   "cell_type": "markdown",
   "metadata": {
    "id": "-zjqKUHUT91v"
   },
   "source": [
    "### วงเล็บในนิพจน์ทางคณิตศาสตร์\n",
    "\n",
    "- ทั้งนี้ เราสามารถใช้เครื่องหมายวงเล็บ `( )` ได้เหมือนกับนิพจน์ทางคณิตศาสตร์ปกติเลยครับ\n",
    "- เช่น เราสามารถคำนวณค่าของนิพจน์ $ 4 \\times 3 + (1 + 2) / 4 $ ได้ด้วยคำสั่งนี้"
   ]
  },
  {
   "cell_type": "code",
   "execution_count": null,
   "metadata": {
    "colab": {
     "base_uri": "https://localhost:8080/"
    },
    "id": "1UkTDB_FTOpI",
    "outputId": "8f3b288e-71c5-41df-ff65-2312720fa936"
   },
   "outputs": [],
   "source": [
    "4 * 3 + (1 + 2) / 4"
   ]
  },
  {
   "cell_type": "markdown",
   "metadata": {
    "id": "9ZSGfebtUD4K"
   },
   "source": [
    "- ข้อแตกต่างคือ ในกรณีที่มีวงเล็บซ้อนวงเล็บ เราจะใช้เครื่องหมายวงเล็บ `( )` เสมอ <u>**ห้ามใช้**</u>เครื่องหมายก้ามปู `[ ]` และเครื่องหมายปีกกา `{ }` โดยเด็ดขาด\n",
    "- เช่น ถ้าเราจะคำนวณค่าของนิพจน์ $ \\left( \\left[ 1 / \\left\\{ 2 + 3 \\right\\} \\right] \\times 4 + 5 \\right) / 6 $ เราจะต้องเปลี่ยนก้ามปูและปีกกากลับมาเป็นวงเล็บก่อนเสมอ"
   ]
  },
  {
   "cell_type": "code",
   "execution_count": null,
   "metadata": {
    "colab": {
     "base_uri": "https://localhost:8080/"
    },
    "id": "oC4EZPTyVsP2",
    "outputId": "ec90ddb5-eb51-4a3f-b5b6-ee75c6784985"
   },
   "outputs": [],
   "source": [
    "((1 / (2 + 3)) * 4 + 5) / 6"
   ]
  },
  {
   "cell_type": "markdown",
   "metadata": {
    "id": "KYKGVrDuUurd"
   },
   "source": [
    "- **หัวใจ:** เครื่องหมายวงเล็บมีหน้าที่เปลี่ยนลำดับการทำงาน โดยจะเริ่มทำในวงเล็บก่อนเสมอ โดยลำดับการทำงานจะเริ่มจาก (1) ทำในวงเล็บ (2) คูณและหาร (3) บวกและลบ\n",
    "- เช่น ลองสังเกตผลลัพธ์ของนิพจน์ทั้งสองนี้ครับ: $ (1 + 2) \\times 3 $ กับ $ 1 + (2 \\times 3) $"
   ]
  },
  {
   "cell_type": "code",
   "execution_count": null,
   "metadata": {
    "colab": {
     "base_uri": "https://localhost:8080/"
    },
    "id": "T35RIFwJnGHC",
    "outputId": "29af94d2-e1cb-4e04-937e-c8e0634de849"
   },
   "outputs": [],
   "source": [
    "(1 + 2) * 3"
   ]
  },
  {
   "cell_type": "code",
   "execution_count": null,
   "metadata": {
    "colab": {
     "base_uri": "https://localhost:8080/"
    },
    "id": "RdL86Thpowg9",
    "outputId": "0071acdf-88a8-41d4-d2cd-76bd3c2e50f7"
   },
   "outputs": [],
   "source": [
    "1 + (2 * 3)"
   ]
  },
  {
   "cell_type": "markdown",
   "metadata": {
    "id": "C4Tp21Ffo0JE"
   },
   "source": [
    "- ทั้งนี้ขอให้ท่านระมัดระวังการใช้เครื่องหมายคูณ `*` และหาร `/` ด้วยนะครับ เพราะถ้าหากไม่ระบุวงเล็บให้ชัดเจน ลำดับการคำนวณก็อาจจะไม่เป็นไปตามที่ท่านต้องการได้ "
   ]
  },
  {
   "cell_type": "markdown",
   "metadata": {
    "id": "0NjKBhCQpXWT"
   },
   "source": [
    "### แบบฝึกหัด 2.2"
   ]
  },
  {
   "cell_type": "markdown",
   "metadata": {
    "id": "fhryp_sKphqR"
   },
   "source": [
    "เรามาลองคำนวณค่าของนิพจน์ทางคณิตศาสตร์ต่อไปนี้กันครับ\n",
    "\n",
    "1. $ 3 \\times (4 + 1 - 2 \\times 5) $"
   ]
  },
  {
   "cell_type": "code",
   "execution_count": null,
   "metadata": {
    "id": "_9qKZsZYqUAp"
   },
   "outputs": [],
   "source": []
  },
  {
   "cell_type": "markdown",
   "metadata": {
    "id": "ruqQb5J7pttZ"
   },
   "source": [
    "2. $ \\frac{1 + 2 + 3}{4 + 5 + 6} $   [**หมายเหตุ:** โปรดเลือกการใช้เครื่องหมายวงเล็บด้วยความระมัดระวัง]"
   ]
  },
  {
   "cell_type": "code",
   "execution_count": null,
   "metadata": {
    "colab": {
     "base_uri": "https://localhost:8080/",
     "height": 34
    },
    "id": "kJlpspwCqUkG",
    "outputId": "c0d8953a-37c4-4ca4-91a7-d5bbca424413"
   },
   "outputs": [],
   "source": [
    "(1+2+3)/(4+5+6)"
   ]
  },
  {
   "cell_type": "markdown",
   "metadata": {
    "id": "fwT9mp6gp7kt"
   },
   "source": [
    "3. $ 7 \\times \\frac{5 + 6}{7 + \\frac{7}{8}} $"
   ]
  },
  {
   "cell_type": "code",
   "execution_count": null,
   "metadata": {
    "id": "82-wYN_LqVME"
   },
   "outputs": [],
   "source": []
  },
  {
   "cell_type": "markdown",
   "metadata": {
    "id": "T9oJjXEdrEGX"
   },
   "source": [
    "### เครื่องหมายยกกำลัง (power) และการถอดราก (root)\n",
    "\n",
    "- เครื่องหมายยกกำลังในภาษา Python จะใช้เครื่องหมาย `**` (ดอกจันเขียนติดกัน 2 ดวง) ครับ\n",
    "- เช่น ถ้าเราจะคำนวณค่าของนิพจน์ $ 2^5 $ เราจะใช้คำสั่งว่า"
   ]
  },
  {
   "cell_type": "code",
   "execution_count": null,
   "metadata": {
    "colab": {
     "base_uri": "https://localhost:8080/",
     "height": 34
    },
    "id": "0vzA567gq-Xm",
    "outputId": "652b619e-ec14-4be1-ae85-123cf4a76767"
   },
   "outputs": [],
   "source": [
    "2 ** 5"
   ]
  },
  {
   "cell_type": "markdown",
   "metadata": {
    "id": "gpSaLvJlrijb"
   },
   "source": [
    "- เมื่อเรานำเครื่องหมายยกกำลังมาใส่ในนิพจน์ทางคณิตศาสตร์ ลำดับการทำงานจะเปลี่ยนไปตามนี้ครับ\n",
    "  1. ทำในวงเล็บก่อน\n",
    "  2. ทำเครื่องหมายยกกำลัง\n",
    "  3. ทำเครื่องหมายคูณและหาร\n",
    "  4. ทำเครื่องหมายบวกและลบ\n",
    "- เช่น ลองสังเกตการคำนวณค่าของนิพจน์ 3 ตัวนี้กันครับ: `(2 * 5) ** 3`, `2 * (5 ** 3)`, และ `2 * 5 ** 3`"
   ]
  },
  {
   "cell_type": "code",
   "execution_count": null,
   "metadata": {
    "colab": {
     "base_uri": "https://localhost:8080/"
    },
    "id": "fw2XEdXpsMji",
    "outputId": "c801f355-5bcf-44bf-a031-602c408098ed"
   },
   "outputs": [],
   "source": [
    "(2 * 5) ** 3"
   ]
  },
  {
   "cell_type": "code",
   "execution_count": null,
   "metadata": {
    "colab": {
     "base_uri": "https://localhost:8080/"
    },
    "id": "1NPd9WbHsMoI",
    "outputId": "6740b2cf-8e8a-497f-aec9-2908abdf6997"
   },
   "outputs": [],
   "source": [
    "2 * (5 ** 3)"
   ]
  },
  {
   "cell_type": "code",
   "execution_count": null,
   "metadata": {
    "colab": {
     "base_uri": "https://localhost:8080/"
    },
    "id": "V8MkaOkDsMr_",
    "outputId": "cc0b5899-337a-44ad-efbb-bccc6efe0e42"
   },
   "outputs": [],
   "source": [
    "2 * 5 ** 3"
   ]
  },
  {
   "cell_type": "markdown",
   "metadata": {
    "id": "9mWzIPbzsabt"
   },
   "source": [
    "- ดังนั้นเพื่อความปลอดภัย เราจึงนิยมเขียนเครื่องหมายยกกำลัง `**` ติดกับตัวเลข เพื่อให้เป็นที่รู้กันว่า ถ้าหากไม่มีวงเล็บ เราจะเริ่มทำจากเครื่องหมายยกกำลังก่อนเสมอ เช่น เราจะเขียนนิพจน์ $ 2 \\times 5^3 $ ด้วยคำสั่ง `2 * 5**3` เป็นต้น"
   ]
  },
  {
   "cell_type": "markdown",
   "metadata": {
    "id": "WeFRROotuXf7"
   },
   "source": [
    "- นอกจากนี้เรายังสามารถคำนวณค่าราก (root) ได้โดยการใช้สูตร:\n",
    "\n",
    "$$ \\sqrt[r]{a} = a^{1/r} $$\n",
    "\n",
    "- เช่น เราสามารถคำนวณค่า $ \\sqrt[3]{8} $ (รากที่ 3 ของ 8) ได้โดยคำสั่ง `8**(1/3)`"
   ]
  },
  {
   "cell_type": "code",
   "execution_count": null,
   "metadata": {
    "colab": {
     "base_uri": "https://localhost:8080/"
    },
    "id": "J7dLeElisSJA",
    "outputId": "255910fb-1101-453a-8de1-65fd93f4a651"
   },
   "outputs": [],
   "source": [
    "8**(1/3)"
   ]
  },
  {
   "cell_type": "markdown",
   "metadata": {
    "id": "6dCZgDrRu2tQ"
   },
   "source": [
    "### แบบฝึกหัด 2.3"
   ]
  },
  {
   "cell_type": "markdown",
   "metadata": {
    "id": "bYqXzulivD1u"
   },
   "source": [
    "เรามาคำนวณค่าของนิพจน์ดังต่อไปนี้กันครับ\n",
    "\n",
    "1. $ 3^{5 + 3/4} $"
   ]
  },
  {
   "cell_type": "code",
   "execution_count": null,
   "metadata": {
    "colab": {
     "base_uri": "https://localhost:8080/",
     "height": 34
    },
    "id": "_glTD-i5vKGB",
    "outputId": "4a3a3ddd-d70e-403d-ae97-199682f26f6f"
   },
   "outputs": [],
   "source": [
    "3 ** (5+3/4)"
   ]
  },
  {
   "cell_type": "markdown",
   "metadata": {
    "id": "91ZyBqUQvKaS"
   },
   "source": [
    "2. $ \\sqrt[2]{\\left( 7 + 3 \\times 4 \\right)} $"
   ]
  },
  {
   "cell_type": "code",
   "execution_count": null,
   "metadata": {
    "id": "gzCgYY57vgtd"
   },
   "outputs": [],
   "source": []
  },
  {
   "cell_type": "markdown",
   "metadata": {
    "id": "GDDPl844vhI1"
   },
   "source": [
    "3. $ \\frac{5 + 6^{2.5}}{\\sqrt[2]{3.5}} + 3^2 $"
   ]
  },
  {
   "cell_type": "code",
   "execution_count": null,
   "metadata": {
    "id": "PBNVx0QNuv35"
   },
   "outputs": [],
   "source": []
  },
  {
   "cell_type": "code",
   "execution_count": null,
   "metadata": {
    "colab": {
     "base_uri": "https://localhost:8080/",
     "height": 70
    },
    "id": "2ukLc4P6p8_K",
    "outputId": "87cc883e-ec98-415e-a4b6-d51db07373b7"
   },
   "outputs": [],
   "source": [
    "print(1+2)\n",
    "print(4+5)\n",
    "print(7+10)"
   ]
  },
  {
   "cell_type": "markdown",
   "metadata": {
    "id": "ooPvIVBGwZ2n"
   },
   "source": [
    "\n",
    "\n",
    "---\n",
    "\n"
   ]
  },
  {
   "cell_type": "markdown",
   "metadata": {
    "id": "pgbWhdW2wbAt"
   },
   "source": [
    "## กิจกรรม 3: ตัวแปร"
   ]
  },
  {
   "cell_type": "markdown",
   "metadata": {
    "id": "l0AuTrpJw-Zj"
   },
   "source": [
    "### ตัวแปร (variable)\n",
    "\n",
    "- ตัวแปรเปรียบเสมือนที่ทดเลข เพื่อที่จะได้นำผลลัพธ์จากการคำนวณค่าของนิพจน์ที่ทดไว้ ไปใช้ต่อได้ในอนาคต\n",
    "- เนื่องจากกระดาษในคอมพิวเตอร์มีขนาดใหญ่มาก เราจึงต้องจองพื้นที่สำหรับทดเลขและตั้งชื่อเอาไว้ เวลาจะหยิบสิ่งที่ทดไว้กลับมาใช้ใหม่จะได้ไม่หลงที่นั่นเองครับ\n",
    "- เช่น เราสามารถทดค่าของ $ 2^5 $ เก็บไว้ในตัวแปร `a` และทดค่าของ $\\sqrt[2]{5}$ เก็บไว้ในตัวแปร `b` เพื่อใช้ต่อในการคำนวณต่อๆ ไปได้ ซึ่งในตัวอย่างนี้เราจะคำนวณค่าของ $ a^3 + b^3 $ กัน"
   ]
  },
  {
   "cell_type": "code",
   "execution_count": null,
   "metadata": {
    "colab": {
     "base_uri": "https://localhost:8080/",
     "height": 70
    },
    "id": "ThnIsY2BwN-W",
    "outputId": "37640610-d95c-4d39-bc0b-9b34c43b0cd6"
   },
   "outputs": [],
   "source": [
    "a = 2**5               # ทดค่าไว้ในตัวแปร a\n",
    "b = 5**(1/2)           # ทดค่าไว้ในตัวแปร b\n",
    "print(\"a = \", a)\n",
    "print(\"b = \", b)\n",
    "a**3 + b**3"
   ]
  },
  {
   "cell_type": "markdown",
   "metadata": {
    "id": "Kndx5Vp4NvIS"
   },
   "source": [
    "- เราสามารถพิมพ์ค่าตัวแปรออกหน้าจอได้ด้วยคำสั่ง `print` เช่นเดียวกับการแสดงข้อความ เช่น"
   ]
  },
  {
   "cell_type": "code",
   "execution_count": null,
   "metadata": {
    "colab": {
     "base_uri": "https://localhost:8080/",
     "height": 52
    },
    "id": "vSt21fjLN21x",
    "outputId": "21c832db-b8bf-4093-bf4a-55f6dddb735d"
   },
   "outputs": [],
   "source": [
    "print(a)\n",
    "print(b)"
   ]
  },
  {
   "cell_type": "markdown",
   "metadata": {
    "id": "9j--LmL3NK6R"
   },
   "source": [
    "- แต่บางครั้งการตั้งชื่อตัวแปรด้วยตัวอักษรเดี่ยวๆ ก็จำยาก เดี๋ยวมาอ่านทีหลังก็อาจจะลืมอีก เราเลยนิยมตั้งชื่อตัวแปรให้เป็นคำที่อ่านแล้วจำได้ง่ายแทนครับ เช่น `width` (ความกว้าง), `height` (ความสูง), และ `area` (พื้นที่) ดังตัวอย่างด้านล่างนี้"
   ]
  },
  {
   "cell_type": "code",
   "execution_count": null,
   "metadata": {
    "colab": {
     "base_uri": "https://localhost:8080/",
     "height": 34
    },
    "id": "meSEOCkcyhLh",
    "outputId": "1584d3a1-fffb-4d43-98e8-48494527f087"
   },
   "outputs": [],
   "source": [
    "width = 40\n",
    "height = 30\n",
    "area = width * height\n",
    "print(area)"
   ]
  },
  {
   "cell_type": "markdown",
   "metadata": {
    "id": "vkgRu82eTgjP"
   },
   "source": [
    "- หากชื่อตัวแปรประกอบด้วยหลายคำ ให้ใช้เครื่องหมาย _ (ขีดเส้นใต้ หรือ underscore) คั่นระหว่างคำ เพื่อให้อ่านง่ายขึ้น เช่น `area_of_triangle` พื้นที่สามเหลี่ยม เป็นต้น"
   ]
  },
  {
   "cell_type": "code",
   "execution_count": null,
   "metadata": {
    "colab": {
     "base_uri": "https://localhost:8080/",
     "height": 34
    },
    "id": "RaQM-05XTx5c",
    "outputId": "a367c810-00b9-487f-a962-6459d0469bbe"
   },
   "outputs": [],
   "source": [
    "width = 40\n",
    "height = 30\n",
    "area_of_triangle = 1/2 * width * height\n",
    "print(area_of_triangle)"
   ]
  },
  {
   "cell_type": "markdown",
   "metadata": {
    "id": "BiK0DdrVQ9MU"
   },
   "source": [
    "- นอกจากนี้คำสั่ง `print` ยังสามารถพิมพ์ค่าออกหน้าจอได้หลายๆ อันพร้อมกัน เช่น"
   ]
  },
  {
   "cell_type": "code",
   "execution_count": null,
   "metadata": {
    "colab": {
     "base_uri": "https://localhost:8080/",
     "height": 52
    },
    "id": "RHR2gYTdQ9MV",
    "outputId": "1b9f3cfb-ba21-4bbc-adab-b5e1097ba716"
   },
   "outputs": [],
   "source": [
    "width = 40\n",
    "height = 30\n",
    "area_of_triangle = 1/2 * width * height\n",
    "print('width =', width, 'and height =', height)\n",
    "print('area = width * height =',area_of_triangle)"
   ]
  },
  {
   "cell_type": "markdown",
   "metadata": {
    "id": "Tb5gK29HOr2l"
   },
   "source": [
    "### แบบฝึกหัด 3.1"
   ]
  },
  {
   "cell_type": "markdown",
   "metadata": {
    "id": "DJqgYt_fOuC7"
   },
   "source": [
    "1. ทดลองกำหนดค่าในตัวแปร `a`, `b`, และ `c` ในโค้ดด้านล่าง แล้วสังเกตความเปลี่ยนแปลงของผลลัพธ์"
   ]
  },
  {
   "cell_type": "code",
   "execution_count": null,
   "metadata": {
    "colab": {
     "base_uri": "https://localhost:8080/",
     "height": 34
    },
    "id": "A_G1EELUO8A3",
    "outputId": "3a2d04a6-b4b5-4d10-e31e-986117ab1c39"
   },
   "outputs": [],
   "source": [
    "a = 10\n",
    "b = 20\n",
    "c = 30\n",
    "mean = (a + b + c) / 3\n",
    "print(mean)"
   ]
  },
  {
   "cell_type": "markdown",
   "metadata": {
    "id": "ls5Uhzv2PJ3S"
   },
   "source": [
    "2. ตัวแปร `mean` ในโค้ดด้านบนคือค่าอะไร? ทำไมจึงต้องตั้งชื่อตัวแปรแบบนี้?"
   ]
  },
  {
   "cell_type": "markdown",
   "metadata": {
    "id": "nE1IZ7HmPVFe"
   },
   "source": [
    "3. จงเขียนโค้ดลงในช่องว่างให้สมบูรณ์ เพื่อคำนวณค่าเฉลี่ยฮาร์โมนิก (harmonic mean) ของตัวแปร `a`, `b`, และ `c` โดยค่าเฉลี่ยฮาร์โมนิกมีสูตรดังนี้\n",
    "\n",
    "$$ \\mathrm{hmean}(a, b, c) = \\frac{3}{\\frac{1}{a} + \\frac{1}{b} + \\frac{1}{c}} $$"
   ]
  },
  {
   "cell_type": "code",
   "execution_count": null,
   "metadata": {
    "colab": {
     "base_uri": "https://localhost:8080/",
     "height": 34
    },
    "id": "wESm-_7UQgto",
    "outputId": "daa744e3-7cf7-437a-9d83-bda73f7261e1"
   },
   "outputs": [],
   "source": [
    "a = 10\n",
    "b = 20\n",
    "c = 30\n",
    "hmean = 3 / ( (1/a) + (1/b) + (1/c) )   # เติมโค้ดที่นี่\n",
    "print(hmean)"
   ]
  },
  {
   "cell_type": "markdown",
   "metadata": {
    "id": "_kSIyZjOQrC5"
   },
   "source": [
    "4. ทดลองเปลี่ยนค่าตัวแปร `a`, `b`, และ `c` และสังเกตความเปลี่ยนแปลงของผลลัพธ์"
   ]
  },
  {
   "cell_type": "markdown",
   "metadata": {
    "id": "3jdzSIenRLHh"
   },
   "source": [
    "5. เขียนโค้ดเพื่อคำนวณปริมาตรของทรงรี (ellipsoid) จากตัวแปรต่อไปนี้\n",
    "  - ความกว้างเก็บอยู่ในตัวแปร `width`\n",
    "  - ความยาวเก็บอยู่ในตัวแปร `length`\n",
    "  - ความลึกเก็บอยู่ในตัวแปร `depth`\n",
    "\n",
    "  สูตรของปริมาตรทรงรีมีดังนี้\n",
    "\n",
    "$$ \\mathtt{volume} = \\frac{4}{3} \\times \\pi \\times \\mathtt{width} \\times \\mathtt{length} \\times \\mathtt{depth} $$"
   ]
  },
  {
   "cell_type": "code",
   "execution_count": null,
   "metadata": {
    "colab": {
     "base_uri": "https://localhost:8080/",
     "height": 35
    },
    "id": "qaNjNBLiShDO",
    "outputId": "aad30ada-d74d-4f51-8f15-e70643d9467a"
   },
   "outputs": [],
   "source": [
    "import math as m\n",
    "\n",
    "# pi = 3.1415926   # ค่า 𝜋 (ไพ)\n",
    "\n",
    "# กำหนดความกว้างในตัวแปร width ให้เท่ากับ 20\n",
    "width = 20\n",
    "\n",
    "# กำหนดความยาวในตัวแปร length ให้เท่ากับ 30\n",
    "length = 30\n",
    "\n",
    "# กำหนดความลึกในตัวแปร depth ให้เท่ากับ 40\n",
    "depth = 40\n",
    "\n",
    "# คำนวณปริมาตรของทรงรีแล้วเก็บในตัวแปร volume\n",
    "volume=(4/3)*float(m.pi)*width*length*depth\n",
    "\n",
    "# พิมพ์ค่าในตัวแปร volume\n",
    "print(\"volume = \", volume)"
   ]
  },
  {
   "cell_type": "markdown",
   "metadata": {
    "id": "mJEc0b6eX2J7"
   },
   "source": [
    "\n",
    "\n",
    "---\n",
    "\n"
   ]
  },
  {
   "cell_type": "markdown",
   "metadata": {
    "id": "8K7bjR4gX40b"
   },
   "source": [
    "## กิจกรรม 4: การเก็บรายการข้อมูล"
   ]
  },
  {
   "cell_type": "markdown",
   "metadata": {
    "id": "Bluf-lrzQ9Mn"
   },
   "source": [
    "### ลิสต์ (list)"
   ]
  },
  {
   "cell_type": "markdown",
   "metadata": {
    "id": "0US1X4bCYZui"
   },
   "source": [
    "- ลิสต์ (list) คือรายการสิ่งของที่เราสามารถปรับเปลี่ยนรายการได้ตลอดเวลาครับ\n",
    "- ลิสต์ใช้สัญลักษณ์ `[ ]` คั่นด้วยเครื่องหมายคอมมา `,`\n",
    "- เช่น ลิสต์ของความสูงนักเรียนในกลุ่ม 5 คน มีดังนี้"
   ]
  },
  {
   "cell_type": "code",
   "execution_count": null,
   "metadata": {
    "colab": {
     "base_uri": "https://localhost:8080/",
     "height": 34
    },
    "id": "udz9Nb3aY9ay",
    "outputId": "84eb639b-0b5f-45c8-aae8-88c3de25e72e"
   },
   "outputs": [],
   "source": [
    "[163.5, 150.0, 167.0, 161.25, 170.0]"
   ]
  },
  {
   "cell_type": "markdown",
   "metadata": {
    "id": "pnppmrRDZIoW"
   },
   "source": [
    "- เราสามารถนำลิสต์มาเก็บในตัวแปรได้ ทำให้ตัวแปรเดียวสามารถเก็บค่าไว้ได้หลายค่าครับ เช่น"
   ]
  },
  {
   "cell_type": "code",
   "execution_count": null,
   "metadata": {
    "colab": {
     "base_uri": "https://localhost:8080/",
     "height": 34
    },
    "id": "ofA5ppq6ZFRb",
    "outputId": "aa16f328-686b-477c-8afa-e77d65001982"
   },
   "outputs": [],
   "source": [
    "# ลิสต์ความสูงของนักเรียนในกลุ่ม\n",
    "student_heights = [163.5, 150.0, 167.0, 161.25, 170.0]\n",
    "print('student heights =', student_heights)"
   ]
  },
  {
   "cell_type": "markdown",
   "metadata": {
    "id": "niyzhLfrQ9Ms"
   },
   "source": [
    "### แบบฝึกหัด 4.1"
   ]
  },
  {
   "cell_type": "markdown",
   "metadata": {
    "id": "zRpSX830Q9Mt"
   },
   "source": [
    "ลองสร้างลิสต์จากรายการสมาชิกดังต่อไปนี้ `[10, 20, 30, 40, 50]` แล้วเก็บลงในตัวแปร `my_list`"
   ]
  },
  {
   "cell_type": "code",
   "execution_count": null,
   "metadata": {
    "colab": {
     "base_uri": "https://localhost:8080/",
     "height": 34
    },
    "id": "LsYqCYdAQ9Mu",
    "outputId": "28816705-87ba-4211-ba80-9604323adaff"
   },
   "outputs": [],
   "source": [
    "my_list = [10, 20, 30, 40, 50]   # เติมโค้ดที่นี่\n",
    "print(my_list)"
   ]
  },
  {
   "cell_type": "markdown",
   "metadata": {
    "id": "ZtODrxMfQ9Mv"
   },
   "source": [
    "### ขนาดของลิสต์"
   ]
  },
  {
   "cell_type": "markdown",
   "metadata": {
    "id": "jaw8Nx9SQ9Mw"
   },
   "source": [
    "- เราสามารถหาขนาดของลิสต์ได้ด้วยคำสั่ง `len` ซึ่งย่อมาจากคำว่า length เช่น"
   ]
  },
  {
   "cell_type": "code",
   "execution_count": null,
   "metadata": {
    "colab": {
     "base_uri": "https://localhost:8080/",
     "height": 34
    },
    "id": "yL0pem8QQ9Mx",
    "outputId": "a603479b-0576-40a9-9d78-44a583984bcb"
   },
   "outputs": [],
   "source": [
    "len(student_heights)"
   ]
  },
  {
   "cell_type": "markdown",
   "metadata": {
    "id": "bs5U4y_YQ9M0"
   },
   "source": [
    "### แบบฝึกหัด 4.2"
   ]
  },
  {
   "cell_type": "markdown",
   "metadata": {
    "id": "LYugAzfwQ9M0"
   },
   "source": [
    "จงหาขนาดของลิสต์ในตัวแปร `my_list` ใส่ตัวแปร `my_length` แล้วพิมพ์ค่าของตัวแปรดังกล่าวออกหน้าจอ"
   ]
  },
  {
   "cell_type": "code",
   "execution_count": null,
   "metadata": {
    "colab": {
     "base_uri": "https://localhost:8080/",
     "height": 34
    },
    "id": "Z2pMSTcUQ9M1",
    "outputId": "9baa7753-a346-41fe-f1dc-1a7682879295"
   },
   "outputs": [],
   "source": [
    "my_length = len(my_list)  # เติมโค้ดที่นี่\n",
    "print(my_length)"
   ]
  },
  {
   "cell_type": "markdown",
   "metadata": {
    "id": "b3gF6UmGQ9M5"
   },
   "source": [
    "### การเข้าถึงสมาชิกภายในลิสต์"
   ]
  },
  {
   "cell_type": "markdown",
   "metadata": {
    "id": "c8aJEuctQ9M6"
   },
   "source": [
    "- เราสามารถเข้าถึงสมาชิกแต่ละตัวในลิสต์ด้วยการระบุตำแหน่งของสมาชิกที่เราต้องการ\n",
    "- การนับตำแหน่ง (index) ของสมาชิก จะเริ่มต้นจาก 0 เสมอ เช่น `student_heights[0]` จะแทนสมาชิกตัวแรกของลิสต์ความสูงของนักเรียน ในขณะที่ `student_heights[1]` จะแทนสมาชิกตัวที่ 2 ของลิสต์ ฯลฯ"
   ]
  },
  {
   "cell_type": "code",
   "execution_count": null,
   "metadata": {
    "colab": {
     "base_uri": "https://localhost:8080/",
     "height": 105
    },
    "id": "Q-34J0FQZpc-",
    "outputId": "ba3092b9-970d-4880-e9b4-bd734c76213c"
   },
   "outputs": [],
   "source": [
    "print(student_heights[0])\n",
    "print(student_heights[1])\n",
    "print(student_heights[2])\n",
    "print(student_heights[3])\n",
    "print(student_heights[4])"
   ]
  },
  {
   "cell_type": "markdown",
   "metadata": {
    "id": "4BhAloSPQ9M-"
   },
   "source": [
    "- และนี่คือความแปลกอย่างหนึ่งของการเขียนโปรแกรมคอมพิวเตอร์ครับ\n",
    "  - ภาษาโปรแกรมส่วนใหญ่จะเริ่มนับตำแหน่งของสมาชิกจาก 0 เสมอ\n",
    "  - มันมองว่าตำแหน่ง 0 แทนจุดเริ่มต้นของพื้นที่กระดาษทด\n",
    "  - การระบุตำแหน่ง (index) ก็คือการเอาตำแหน่งจุดเริ่มต้นของกระดาษทด บวกกับตำแหน่ง index นั้นนั่นเองครับ"
   ]
  },
  {
   "cell_type": "markdown",
   "metadata": {
    "id": "OLEiVfrVQ9M-"
   },
   "source": [
    "- หากเราระบุตำแหน่งเกินจากขนาดของลิสต์ คอมพิวเตอร์จะฟ้องออกมาด้วยคำว่า `IndexError` ซึ่งแปลว่าระบุค่าตำแหน่งเกินขนาดของลิสต์ เช่น"
   ]
  },
  {
   "cell_type": "code",
   "execution_count": null,
   "metadata": {
    "colab": {
     "base_uri": "https://localhost:8080/",
     "height": 167
    },
    "id": "1A6RLOimQ9M_",
    "outputId": "a1cea7e2-80f7-4979-877f-fec6378ac24b"
   },
   "outputs": [],
   "source": [
    "print(student_heights[5])     # ทั้งๆ ที่ลิสต์ student_heights มีขนาดแค่ 5 ตัว"
   ]
  },
  {
   "cell_type": "markdown",
   "metadata": {
    "id": "1Cmh3M87Q9NB"
   },
   "source": [
    "### แบบฝึกหัด 4.3"
   ]
  },
  {
   "cell_type": "markdown",
   "metadata": {
    "id": "q90WgmjZQ9NC"
   },
   "source": [
    "จงคำนวณผลรวมของสมาชิกทุกตัวของลิสต์ในตัวแปร `my_list` เพื่อหาค่าเฉลี่ยโดยใช้สูตร\n",
    "\n",
    "$$ \\mathrm{avg}(\\mathbf{a}) = \\frac{\\sum_{i = 1}^N a_i}{N} $$\n",
    "\n",
    "เมื่อค่า $ N $ คือจำนวนสมาชิกที่มีในลิสต์ $ \\mathbf{a} $"
   ]
  },
  {
   "cell_type": "code",
   "execution_count": null,
   "metadata": {
    "colab": {
     "base_uri": "https://localhost:8080/",
     "height": 34
    },
    "id": "h4WiN35xQ9ND",
    "outputId": "0d8ec372-62cb-4a2b-8c27-b7c3db9b52fc"
   },
   "outputs": [],
   "source": [
    "# คำนวณผลรวมของสมาชิกทุกตัวใน my_list\n",
    "my_summation = my_list[0] + my_list[1] + my_list[2] + my_list[3] + my_list[4]    # เติมโค้ดที่นี่\n",
    "my_average = my_summation / my_length\n",
    "print(my_average)"
   ]
  },
  {
   "cell_type": "code",
   "execution_count": null,
   "metadata": {
    "colab": {
     "base_uri": "https://localhost:8080/",
     "height": 34
    },
    "id": "e2BC25aavfmQ",
    "outputId": "612332d2-2077-4e12-9a4f-1ed6f3b250d1"
   },
   "outputs": [],
   "source": [
    "student_heights"
   ]
  },
  {
   "cell_type": "markdown",
   "metadata": {
    "id": "RsM4QdfeQ9NF"
   },
   "source": [
    "### การเปลี่ยนแปลงสมาชิกภายในลิสต์"
   ]
  },
  {
   "cell_type": "markdown",
   "metadata": {
    "id": "B3_hl4rwQ9NG"
   },
   "source": [
    "- เราสามารถเปลี่ยนแปลงสมาชิกภายในลิสต์ โดยการใช้เครื่องหมาย `=` เหมือนกับการกำหนดค่าในตัวแปร\n",
    "- เช่น เราสามารถเปลี่ยนสมาชิกตัวที่ 2 ของลิสต์ `student_heights` จากค่า 150.0 ให้เป็นค่า 180.0 ได้"
   ]
  },
  {
   "cell_type": "code",
   "execution_count": null,
   "metadata": {
    "colab": {
     "base_uri": "https://localhost:8080/",
     "height": 70
    },
    "id": "XwvobIS6Q9NH",
    "outputId": "76fca565-eafe-4386-d567-b333e8c3e28e"
   },
   "outputs": [],
   "source": [
    "import numpy as i\n",
    "\n",
    "student_heights = [163.5, 150.0, 167.0, 161.25, 170.0]\n",
    "print(\"1: \", student_heights)\n",
    "\n",
    "std_height_array = i.array(student_heights)\n",
    "print(\"2: \", std_height_array)\n",
    "\n",
    "a = i.cos(1.5)\n",
    "print(\"3: \", a)"
   ]
  },
  {
   "cell_type": "markdown",
   "metadata": {
    "id": "zkcPOP0jQ9NK"
   },
   "source": [
    "### แบบฝึกหัด 4.4"
   ]
  },
  {
   "cell_type": "markdown",
   "metadata": {
    "id": "N5gbbNL-Q9NL"
   },
   "source": [
    "จงเพิ่มค่าให้สมาชิกทุกตัวของลิสต์ในตัวแปร `my_list` อย่างละ 5 ด้วยเครื่องหมาย `+` และพิมพ์ตัวแปร `my_list` ออกหน้าจอ"
   ]
  },
  {
   "cell_type": "code",
   "execution_count": null,
   "metadata": {
    "id": "xg7N-tfmQ9NM"
   },
   "outputs": [],
   "source": []
  },
  {
   "cell_type": "markdown",
   "metadata": {
    "id": "tTlfaQDFQ9NQ"
   },
   "source": [
    "ได้ผลลัพธ์เป็น `[15, 25, 35, 45, 55]` หรือเปล่าครับ?"
   ]
  },
  {
   "cell_type": "markdown",
   "metadata": {
    "id": "h7dtQOn9Q9NR"
   },
   "source": [
    "### การเลือกบางส่วนของลิสต์ (slicing)"
   ]
  },
  {
   "cell_type": "markdown",
   "metadata": {
    "id": "_2A_bfipQ9NR"
   },
   "source": [
    "- นอกจากเราจะสามารถเลือกสมาชิกบางตัวในลิสต์ได้แล้ว เรายังสามารถเลือกบางส่วนของลิสต์ได้ด้วย\n",
    "- **คำสั่งเลือกบางส่วน (slicing):** `ลิสต์[` $a$ `:` $b$ `]` จะเลือกสมาชิกตั้งแต่ index ที่ $a$ จนถึง index ที่ $b - 1$\n",
    "- เช่น ถ้าเราต้องการเลือกสมาชิกตั้งแต่ตัวที่ 2 จนถึงตัวที่ 4 ของลิสต์ในตัวแปร `student_heights` เราจะใช้คำสั่ง `student_heights[1:4]`"
   ]
  },
  {
   "cell_type": "code",
   "execution_count": null,
   "metadata": {
    "id": "-1LUWF4AQ9NS"
   },
   "outputs": [],
   "source": [
    "student_heights"
   ]
  },
  {
   "cell_type": "code",
   "execution_count": null,
   "metadata": {
    "id": "qXt8y6VdQ9NU"
   },
   "outputs": [],
   "source": [
    "student_heights[1:4]"
   ]
  },
  {
   "cell_type": "markdown",
   "metadata": {
    "id": "thB4BqBLQ9NW"
   },
   "source": [
    "- คำสั่งเลือกบางส่วนสามารถละจุดจบได้ด้วย `ลิสต์[` $a$ `:]`\n",
    "- เช่น เราจะเลือกสมาชิกตั้งแต่ตัวที่ 2 เป็นต้นไปในลิสต์ `student_heights` ด้วยคำสั่ง `student_heights[1:]`"
   ]
  },
  {
   "cell_type": "code",
   "execution_count": null,
   "metadata": {
    "id": "BLbAnkHMQ9NW"
   },
   "outputs": [],
   "source": [
    "student_heights[1:]"
   ]
  },
  {
   "cell_type": "markdown",
   "metadata": {
    "id": "9r5C1IDpQ9NY"
   },
   "source": [
    "- คำสั่งเลือกบางส่วนสามารถละจุดตั้งต้นได้ด้วย `ลิสต์[:` $b$ `]`\n",
    "- เช่น เราจะเลือกสมาชิกตั้งแต่ตัวแรกจนถึงตัวที่ 4 ด้วยคำสั่ง `student_heights[:4]`"
   ]
  },
  {
   "cell_type": "code",
   "execution_count": null,
   "metadata": {
    "id": "7_KH8QQ7Q9NY"
   },
   "outputs": [],
   "source": [
    "student_heights[:4]"
   ]
  },
  {
   "cell_type": "markdown",
   "metadata": {
    "id": "yv1pWL8rQ9Na"
   },
   "source": [
    "### แบบฝึกหัด 4.5"
   ]
  },
  {
   "cell_type": "markdown",
   "metadata": {
    "id": "RnBZw8g4Q9Nb"
   },
   "source": [
    "ในแบบฝึกหัดนี้ เรามีลิสต์ `my_list` ที่มีสมาชิก 10 ตัวดังนี้"
   ]
  },
  {
   "cell_type": "code",
   "execution_count": null,
   "metadata": {
    "id": "KwGBhFs2Q9Nb"
   },
   "outputs": [],
   "source": [
    "my_list = [10, 20, 30, 40, 50, 60, 70, 80, 90, 100]"
   ]
  },
  {
   "cell_type": "markdown",
   "metadata": {
    "id": "-P3QW6MmQ9Ne"
   },
   "source": [
    "1. จงเลือกสมาชิกตัวที่ 3 จนถึงตัวที่ 7"
   ]
  },
  {
   "cell_type": "code",
   "execution_count": null,
   "metadata": {
    "id": "wEpImr9GQ9Nf"
   },
   "outputs": [],
   "source": []
  },
  {
   "cell_type": "markdown",
   "metadata": {
    "id": "Rqaz9C2MQ9Ni"
   },
   "source": [
    "2. จงเลือกสมาชิกตัวที่ 2 จนถึงตัวที่ 5"
   ]
  },
  {
   "cell_type": "code",
   "execution_count": null,
   "metadata": {
    "id": "9B9p_rqqQ9Nj"
   },
   "outputs": [],
   "source": []
  },
  {
   "cell_type": "markdown",
   "metadata": {
    "id": "2tvWQHuVQ9Nm"
   },
   "source": [
    "3. จงเลือกสมาชิกตั้งแต่ตัวแรกจนถึงตัวที่ 8"
   ]
  },
  {
   "cell_type": "code",
   "execution_count": null,
   "metadata": {
    "id": "pE24XIMTQ9Nn"
   },
   "outputs": [],
   "source": []
  },
  {
   "cell_type": "markdown",
   "metadata": {
    "id": "0X63dtBoQ9Nq"
   },
   "source": [
    "4. จงเลือกสมาชิกตั้งแต่ตัวที่ 4 เป็นต้นไป"
   ]
  },
  {
   "cell_type": "code",
   "execution_count": null,
   "metadata": {
    "id": "VaqG-V4eQ9Nr"
   },
   "outputs": [],
   "source": []
  },
  {
   "cell_type": "markdown",
   "metadata": {
    "id": "hnnbK7UMQ9Nu"
   },
   "source": [
    "----"
   ]
  },
  {
   "cell_type": "markdown",
   "metadata": {
    "id": "Tdj2PFqvQ9Nv"
   },
   "source": [
    "## กิจกรรม 5: ข้อความ"
   ]
  },
  {
   "cell_type": "markdown",
   "metadata": {
    "id": "hsuBIN-7Q9Nw"
   },
   "source": [
    "- ในกิจกรรม 1 เราได้ทดลองพิมพ์ข้อความออกหน้าจอกันไปแล้ว\n",
    "- จริงๆ แล้ว ข้อความ (string) ก็เป็นข้อมูลรูปแบบหนึ่งที่เราสามารถประมวลผลได้และทดไว้ในตัวแปรได้เช่นเดียวกันครับ\n",
    "- เช่น เราสามารถเก็บข้อความ `'Hello'` ไว้ในตัวแปร `message` ได้"
   ]
  },
  {
   "cell_type": "code",
   "execution_count": null,
   "metadata": {
    "colab": {
     "base_uri": "https://localhost:8080/",
     "height": 35
    },
    "id": "yeS07L9QQ9Nx",
    "outputId": "8ab2b139-ce83-47c7-ae26-1df1a9b843e4"
   },
   "outputs": [],
   "source": [
    "message = 'Hello'\n",
    "print(message)"
   ]
  },
  {
   "cell_type": "markdown",
   "metadata": {
    "id": "Kkk0ST0wQ9Nz"
   },
   "source": [
    "### การต่อข้อความ"
   ]
  },
  {
   "cell_type": "markdown",
   "metadata": {
    "id": "ReC4JC5zQ9N0"
   },
   "source": [
    "- เราสามารถนำข้อความ 2 อันมาต่อกันได้ด้วยเครื่องหมาย `+` ครับ\n",
    "- เช่น เราจะต่อข้อความในตัวแปร `message1` และ `message2` เข้าด้วยกันได้ดังนี้"
   ]
  },
  {
   "cell_type": "code",
   "execution_count": null,
   "metadata": {
    "colab": {
     "base_uri": "https://localhost:8080/",
     "height": 35
    },
    "id": "hKTAUn8kQ9N1",
    "outputId": "eec425bd-6595-4d98-fd5a-6f5bb9a4b63a"
   },
   "outputs": [],
   "source": [
    "message1 = 'Hello '\n",
    "message2 = 'World!'\n",
    "message = message1 + message2\n",
    "print(message)"
   ]
  },
  {
   "cell_type": "markdown",
   "metadata": {
    "id": "gc7gdlZ3Q9N3"
   },
   "source": [
    "### การทำซ้ำข้อความ"
   ]
  },
  {
   "cell_type": "markdown",
   "metadata": {
    "id": "NbVelsnyQ9N4"
   },
   "source": [
    "- นอกจากนี้เรายังสามารถทำซ้ำข้อความได้ด้วยเครื่องหมาย `*`\n",
    "- เช่น ถ้าเราต้องการทำซ้ำข้อความ `hello` 3 รอบ เราจะทำอย่างนี้ครับ"
   ]
  },
  {
   "cell_type": "code",
   "execution_count": null,
   "metadata": {
    "colab": {
     "base_uri": "https://localhost:8080/",
     "height": 35
    },
    "id": "nf4MTSCKQ9N4",
    "outputId": "61a48c6a-4299-4e19-822c-339d183e439f"
   },
   "outputs": [],
   "source": [
    "3 * 'hello '"
   ]
  },
  {
   "cell_type": "markdown",
   "metadata": {
    "id": "Y5UJ1C45Q9N7"
   },
   "source": [
    "### แบบฝึกหัด 5.1"
   ]
  },
  {
   "cell_type": "markdown",
   "metadata": {
    "id": "JhA37nMEQ9N8"
   },
   "source": [
    "จงสร้างตัวแปร 2 ตัว\n",
    "\n",
    "- `message1` เก็บข้อความ `'Hello '`\n",
    "- `message2` เก็บข้อความ `'World '`\n",
    "\n",
    "หลังจากนั้นให้ทำซ้ำ `message1` 3 ครั้ง และ `message2` 5 ครั้ง นำผลลัพธ์ทั้งสองอันมาต่อกัน แล้วนำมาเก็บในตัวแปร `message3`"
   ]
  },
  {
   "cell_type": "code",
   "execution_count": null,
   "metadata": {
    "colab": {
     "base_uri": "https://localhost:8080/",
     "height": 35
    },
    "id": "I-FlO_irQ9N9",
    "outputId": "6db49606-6f25-4c2a-af55-c9d0d4a8f3db"
   },
   "outputs": [],
   "source": [
    "message1 = 'Hello '\n",
    "message2 = 'World '\n",
    "message3 = 3*message1 + 5*message2\n",
    "print(message3)"
   ]
  },
  {
   "cell_type": "markdown",
   "metadata": {
    "id": "YMP5K__0Q9OA"
   },
   "source": [
    "### ข้อความในฐานะของลิสต์"
   ]
  },
  {
   "cell_type": "markdown",
   "metadata": {
    "id": "e95H1SQmQ9OB"
   },
   "source": [
    "- ในภาษา Python ข้อความคือลิสต์ของตัวอักษรครับ\n",
    "- เราสามารถเข้าถึงตัวอักษรสมาชิกแต่ละตัวในข้อความได้"
   ]
  },
  {
   "cell_type": "code",
   "execution_count": null,
   "metadata": {
    "colab": {
     "base_uri": "https://localhost:8080/",
     "height": 139
    },
    "id": "-JDFV1KCQ9OC",
    "outputId": "97c76bf4-6eb6-41e5-d5b1-dfffd8de50d8"
   },
   "outputs": [],
   "source": [
    "message = 'hello'\n",
    "print(message[0])\n",
    "print(message[1])\n",
    "print(message[2])\n",
    "print(message[3])\n",
    "print(message[4])\n",
    "\n",
    "print(message)\n",
    "\n",
    "message = 'olleh'\n",
    "\n",
    "\n",
    "print(message)"
   ]
  },
  {
   "cell_type": "markdown",
   "metadata": {
    "id": "82AX_rfsQ9OI"
   },
   "source": [
    "- นอกจากนี้ เรายังสามารถเลือกบางส่วนของข้อความมาได้ด้วย เหมือนอย่างที่เราเลือกบางส่วนของลิสต์ครับ\n",
    "- เช่น เราสามารถเลือกตั้งแต่ตัวอักษร index ที่ 1 จนถึง index ที่ 3 ได้ด้วยคำสั่งนี้"
   ]
  },
  {
   "cell_type": "code",
   "execution_count": null,
   "metadata": {
    "colab": {
     "base_uri": "https://localhost:8080/",
     "height": 35
    },
    "id": "Cfytag-iQ9OK",
    "outputId": "afdfc763-6d7b-4d70-fe43-2b1e3205dc33"
   },
   "outputs": [],
   "source": [
    "message[1:4]"
   ]
  },
  {
   "cell_type": "markdown",
   "metadata": {
    "id": "Y7LRz_CAQ9OM"
   },
   "source": [
    "- แต่ทั้งนี้เราไม่สามารถแก้ไขสมาชิกในข้อความได้นะครับ"
   ]
  },
  {
   "cell_type": "code",
   "execution_count": null,
   "metadata": {
    "colab": {
     "base_uri": "https://localhost:8080/",
     "height": 166
    },
    "id": "3LrS0QkWQ9ON",
    "outputId": "b04051d4-5d2f-4490-ba8b-f1c75893a483"
   },
   "outputs": [],
   "source": [
    "message[1] = 'E'"
   ]
  },
  {
   "cell_type": "markdown",
   "metadata": {
    "id": "CJq-M1oRQ9OQ"
   },
   "source": [
    "### แบบฝึกหัด 5.2"
   ]
  },
  {
   "cell_type": "markdown",
   "metadata": {
    "id": "Aj8-jaV-Q9OR"
   },
   "source": [
    "1. จงทำซ้ำข้อความ `'prachya'` จำนวน 10 ครั้งแล้วเก็บไว้ในตัวแปร `my_string`"
   ]
  },
  {
   "cell_type": "code",
   "execution_count": null,
   "metadata": {
    "colab": {
     "base_uri": "https://localhost:8080/",
     "height": 35
    },
    "id": "DfYuZgtGQ9OS",
    "outputId": "a85da086-e85d-4b1a-bae4-4358ce8cf395"
   },
   "outputs": [],
   "source": [
    "my_string = 'Thanaruk '*10\n",
    "print(my_string)"
   ]
  },
  {
   "cell_type": "markdown",
   "metadata": {
    "id": "AgVggi9mQ9OU"
   },
   "source": [
    "2. จงเลือกบางส่วนของข้อความ `my_string` เริ่มจากตัวที่ 10 จนถึงตัวที่ 30 แล้วเก็บลงในตัวแปร `my_string1`"
   ]
  },
  {
   "cell_type": "code",
   "execution_count": null,
   "metadata": {
    "colab": {
     "base_uri": "https://localhost:8080/",
     "height": 35
    },
    "id": "3W3Cgs1VQ9OV",
    "outputId": "c10b37ba-aec9-467a-9bfc-8aac5308dc38"
   },
   "outputs": [],
   "source": [
    "my_string1 = my_string[9:30]\n",
    "print(my_string1)"
   ]
  },
  {
   "cell_type": "markdown",
   "metadata": {
    "id": "FHr034NQQ9OW"
   },
   "source": [
    "3. จงเลือกบางส่วนของข้อความ `my_string` ตั้งแต่ตัวที่ 20 เป็นต้นไป แล้วเก็บลงในตัวแปร `my_string2`"
   ]
  },
  {
   "cell_type": "code",
   "execution_count": null,
   "metadata": {
    "colab": {
     "base_uri": "https://localhost:8080/",
     "height": 35
    },
    "id": "vGmFYDutQ9OX",
    "outputId": "385e9886-339f-421f-cd32-ee8121b89076"
   },
   "outputs": [],
   "source": [
    "my_string2 = my_string[19:]\n",
    "print(my_string2)"
   ]
  },
  {
   "cell_type": "markdown",
   "metadata": {
    "id": "ociVpinDQ9OZ"
   },
   "source": [
    "4. จงเลือกบางส่วนของข้อความ `my_string` ตั้งแต่ตัวแรกจนถึงตัวที่ 40  แล้วเก็บลงในตัวแปร `my_string3`"
   ]
  },
  {
   "cell_type": "code",
   "execution_count": null,
   "metadata": {
    "id": "2lWd4K2PQ9Oa"
   },
   "outputs": [],
   "source": [
    "my_string3 = __________\n",
    "print(my_string3)"
   ]
  },
  {
   "cell_type": "markdown",
   "metadata": {
    "id": "Q_EFqny5Q9Oc"
   },
   "source": [
    "-----"
   ]
  },
  {
   "cell_type": "markdown",
   "metadata": {
    "id": "EJYhHvW5Q9Od"
   },
   "source": [
    "## กิจกรรม 6: การวนซ้ำ"
   ]
  },
  {
   "cell_type": "markdown",
   "metadata": {
    "id": "_t_rtEayQ9Oe"
   },
   "source": [
    "- สังเกตไหมครับว่า แบบฝึกหัดต่างๆ ในกิจกรรม 4 และ 5 ต้องใช้วิธี copy-paste แล้วแก้หมายเลขตำแหน่งของสมาชิกเอาทีละตำแหน่ง ถ้าเกิดลิสต์มีสมาชิกจำนวนมากขึ้นมา เราก็คงจะ copy-paste กันมือหงิกแน่นอน\n",
    "- เราสามารถใช้วิธีการวนลูป (loop) เพื่อทำกระบวนการเดิมซ้ำๆ ได้ครับ"
   ]
  },
  {
   "cell_type": "markdown",
   "metadata": {
    "id": "uGd5wg_SQ9Of"
   },
   "source": [
    "### ลูปฟอร์ (for-loop)"
   ]
  },
  {
   "cell_type": "markdown",
   "metadata": {
    "id": "8T7rfMhKQ9Og"
   },
   "source": [
    "- ลูปฟอร์ (for-loop) ใช้สำหรับทำกระบวนการเดิมซ้ำๆ กับสมาชิกแต่ละตัวในลิสต์ <u>**ตามลำดับ**</u>\n",
    "  - รูปแบบคำสั่งของลูปฟอร์คือ\n",
    "```python\n",
    "    for <ตัวแปร> in <ลิสต์> :\n",
    "        <กระบวนการ>\n",
    "```\n",
    "  - คำสั่งนี้จะแทนสมาชิกแต่ละตัวในลิสต์ด้วยตัวแปรที่กำหนด แล้วจึงทำซ้ำกระบวนการนี้จนกว่าจะใช้สมาชิกครบทุกตัวตามลำดับครับ\n",
    "  \n",
    "- เช่น ถ้าเราต้องการพิมพ์สมาชิกแต่ละตัวในลิสต์ `student_heights` ออกมา เราจะสั่งคำสั่งดังนี้"
   ]
  },
  {
   "cell_type": "code",
   "execution_count": null,
   "metadata": {
    "colab": {
     "base_uri": "https://localhost:8080/",
     "height": 121
    },
    "id": "6U8AO3pdQ9Oh",
    "outputId": "fbef8d01-5c36-45bf-ae97-d3e4152e38a1"
   },
   "outputs": [],
   "source": [
    "# สมาชิกแต่ละตัวของลิสต์ student_heights จะแทนด้วยตัวแปร height\n",
    "\n",
    "import numpy as np\n",
    "\n",
    "student_heights = [163.5, 150.0, 167.0, 161.25, 170.0]\n",
    "\n",
    "for height in student_heights:\n",
    "    # พิมพ์ค่าของตัวแปร height ออกหน้าจอ\n",
    "    print(height)\n",
    "    \n",
    "print('That is all.')"
   ]
  },
  {
   "cell_type": "markdown",
   "metadata": {
    "id": "qT9c9XDLQ9Ok"
   },
   "source": [
    "- สิ่งที่อยากให้สังเกตตรงนี้คือ กระบวนการที่เราต้องการทำซ้ำคือ `print(height)` จะต้องมีย่อหน้าถัดเข้าไป"
   ]
  },
  {
   "cell_type": "markdown",
   "metadata": {
    "id": "FxUc1RAtQ9Oo"
   },
   "source": [
    "### กฎการย่อหน้าของภาษาไพธอน\n",
    "\n",
    "- กระบวนการที่เราต้องการทำซ้ำในลูปทุกชนิด จะต้องย่อหน้าถัดเข้าไปทางขวาเสมอ\n",
    "- ขนาดของย่อหน้าที่นิยมกันคือ เคาะ spacebar 4 ครั้ง\n",
    "- เมื่อไรก็ตามที่ย่อหน้ากลับออกมาทางซ้าย จะถือว่าจบลูปแล้ว"
   ]
  },
  {
   "cell_type": "markdown",
   "metadata": {
    "id": "uHVb8rQtQ9Op"
   },
   "source": [
    "### แบบฝึกหัด 6.1"
   ]
  },
  {
   "cell_type": "markdown",
   "metadata": {
    "id": "45nNbF2oQ9Oq"
   },
   "source": [
    "1. พิมพ์สมาชิกแต่ละตัวในลิสต์ `my_list` ออกหน้าจอโดยใช้ลูปฟอร์และคำสั่ง `print`"
   ]
  },
  {
   "cell_type": "code",
   "execution_count": null,
   "metadata": {
    "colab": {
     "base_uri": "https://localhost:8080/",
     "height": 121
    },
    "id": "Jk4Bh5lzQ9Or",
    "outputId": "922a715d-bc6d-4520-e3d0-eeb01dbbfa09"
   },
   "outputs": [],
   "source": [
    "my_list = ['hello', 'my', 'name', 'is', 'prachya']\n",
    "\n",
    "# ลูปฟอร์\n",
    "for item in my_list:\n",
    "    # พิมพ์ค่าของตัวแปร height ออกหน้าจอ\n",
    "    print(item)\n",
    "    \n",
    "print('That is all.')"
   ]
  },
  {
   "cell_type": "markdown",
   "metadata": {
    "id": "76faC4kKQ9Ot"
   },
   "source": [
    "2. เพิ่มค่าสมาชิกแต่ละตัวในลิสต์ `my_numbers` ตัวละ 10 และพิมพ์ออกหน้าจอ"
   ]
  },
  {
   "cell_type": "code",
   "execution_count": null,
   "metadata": {
    "colab": {
     "base_uri": "https://localhost:8080/",
     "height": 191
    },
    "id": "ytAELWg4Q9Ot",
    "outputId": "38ed926f-b3a4-4911-a1c9-69cdbf88b07e"
   },
   "outputs": [],
   "source": [
    "my_numbers = [100, 90, 80, 70, 60, 50, 40, 30, 20, 10]\n",
    "\n",
    "# ลูปฟอร์\n",
    "for number in my_numbers:\n",
    "    print(number+10)"
   ]
  },
  {
   "cell_type": "markdown",
   "metadata": {
    "id": "NHlJbHNbQ9Ow"
   },
   "source": [
    "### ช่วงจำนวน (range)"
   ]
  },
  {
   "cell_type": "markdown",
   "metadata": {
    "id": "LRiOPKvAQ9Ox"
   },
   "source": [
    "- บางครั้งเราจำเป็นต้องวนลูปฟอร์บนเลขตำแหน่ง index ด้วย\n",
    "- เราสามารถใช้คำสั่ง `range(` $a$ `,` $b$ `)` เพื่อสร้างช่วงจำนวนในลูปฟอร์ได้ โดย $a$ จะเป็นค่า index เริ่มต้นและ $b - 1$ จะเป็นค่าสุดท้ายครับ เช่น"
   ]
  },
  {
   "cell_type": "code",
   "execution_count": null,
   "metadata": {
    "colab": {
     "base_uri": "https://localhost:8080/",
     "height": 208
    },
    "id": "nCcbj6o1Q9Oy",
    "outputId": "afb2f0c9-0a83-4f6b-9e85-8368eb4b0357"
   },
   "outputs": [],
   "source": [
    "for i in range(11):\n",
    "    print('i =', i)"
   ]
  },
  {
   "cell_type": "markdown",
   "metadata": {
    "id": "w46QzdRgQ9O0"
   },
   "source": [
    "- หากเราละค่า $a$ ไป เหลือเพียง `range(` $b$ `)` ช่วงจำนวนจะเริ่มต้นจาก 0 และสิ้นสุดที่ $b - 1$ ครับ"
   ]
  },
  {
   "cell_type": "code",
   "execution_count": null,
   "metadata": {
    "colab": {
     "base_uri": "https://localhost:8080/",
     "height": 364
    },
    "id": "uLuhP06dQ9O1",
    "outputId": "0b72d0fb-e75a-478d-ef91-b638f0769b05"
   },
   "outputs": [],
   "source": [
    "for i in range(20):\n",
    "    print('i =', i)"
   ]
  },
  {
   "cell_type": "markdown",
   "metadata": {
    "id": "tmKJ4ekaQ9O4"
   },
   "source": [
    "- นอกจากนี้เรายังสามารถกำหนดขนาดของก้าวในการสร้างช่วงจำนวนได้ โดยใช้คำสั่ง `range(` $a$ `,` $b$ `,` $c$ `)` เมื่อค่า $c$ คือขนาดของก้าว"
   ]
  },
  {
   "cell_type": "code",
   "execution_count": null,
   "metadata": {
    "colab": {
     "base_uri": "https://localhost:8080/",
     "height": 139
    },
    "id": "GJp7DBCUQ9O5",
    "outputId": "06e4ecc1-b887-45a8-da47-2f358e800ddf"
   },
   "outputs": [],
   "source": [
    "# ก้าวมีขนาดเท่ากับ 2\n",
    "for i in range(0, 20, 3):\n",
    "    print('i =', i)"
   ]
  },
  {
   "cell_type": "markdown",
   "metadata": {
    "id": "x6qkLMplQ9O8"
   },
   "source": [
    "- ข้อดีของการใช้คำสั่ง `range` ที่กำหนดขนาดของก้าวได้ ก็คือ เราสามารถไล่ index ย้อนหลังได้ด้วย เช่น"
   ]
  },
  {
   "cell_type": "code",
   "execution_count": null,
   "metadata": {
    "colab": {
     "base_uri": "https://localhost:8080/",
     "height": 191
    },
    "id": "8czmylxTQ9O9",
    "outputId": "2895ef06-8973-4593-b0ba-460074f42e7d"
   },
   "outputs": [],
   "source": [
    "# ก้าวมีขนาดติดลบ แปลว่าเดินถอยหลัง\n",
    "for i in range(10, 0, -1):\n",
    "    print(i)\n",
    "    \n",
    "# สังเกตว่าลูปฟอร์จะหยุดทำงานเมื่อค่า index i = 0 ทำให้ไม่พิมพ์ค่า 0 ออกมาทางหน้าจอ"
   ]
  },
  {
   "cell_type": "markdown",
   "metadata": {
    "id": "RYeObuj2Q9PA"
   },
   "source": [
    "### แบบฝึกหัด 6.2"
   ]
  },
  {
   "cell_type": "markdown",
   "metadata": {
    "id": "VtrY7sSjQ9PB"
   },
   "source": [
    "1. จงวนลูปค่า index `i` จากค่า 1 ถึง 20 แล้วพิมพ์ค่าของ `2 * i` ออกมาทางหน้าจอ"
   ]
  },
  {
   "cell_type": "code",
   "execution_count": null,
   "metadata": {
    "colab": {
     "base_uri": "https://localhost:8080/",
     "height": 364
    },
    "id": "aoy2BnGCQ9PC",
    "outputId": "08a2b733-2213-441f-ea90-b567beab5d7f"
   },
   "outputs": [],
   "source": [
    "# วนลูปค่า index i จาก 1 ถึง 20\n",
    "for i in range(1,21):\n",
    "    # พิมพ์ค่า 2 * i ออกทางหน้าจอ\n",
    "    print(2*i)"
   ]
  },
  {
   "cell_type": "markdown",
   "metadata": {
    "id": "rJazBtrwQ9PF"
   },
   "source": [
    "2. จงวนลูปค่า index `i` จากค่า 100 จนถึง 10 แล้วพิมพ์ค่า `i / 10` ออกมาทางหน้าจอ"
   ]
  },
  {
   "cell_type": "code",
   "execution_count": null,
   "metadata": {
    "colab": {
     "base_uri": "https://localhost:8080/",
     "height": 173
    },
    "id": "fOSDff2yQ9PG",
    "outputId": "0c4866ee-249f-4e59-ccf7-b59ee9c811b8"
   },
   "outputs": [],
   "source": [
    "# วนลูปค่า index i จาก 100 จนถึง 10\n",
    "for i in range(100,10,-10):\n",
    "    # พิมพ์ค่า i / 10 ออกมาทางหน้าจอ\n",
    "    print(i/10)"
   ]
  },
  {
   "cell_type": "markdown",
   "metadata": {
    "id": "LNa_qbUPQ9PI"
   },
   "source": [
    "3. จงวนลูปค่า index `i` จากค่า 0 ถึง `len(student_heights) - 1` และแปลงหน่วยความสูงของนักเรียนแต่ละคนจากหน่วยเซนติเมตรเป็นหน่วยเมตร [คำใบ้: 100 เซนติเมตร = 1 เมตร]"
   ]
  },
  {
   "cell_type": "code",
   "execution_count": null,
   "metadata": {
    "colab": {
     "base_uri": "https://localhost:8080/",
     "height": 104
    },
    "id": "iPywvzwDQ9PJ",
    "outputId": "7fc32406-efb3-47e8-d4b8-9ae91782f2d2"
   },
   "outputs": [],
   "source": [
    "student_heights = [163.5, 150.0, 167.0, 161.25, 170.0]\n",
    "\n",
    "for i in range(len(student_heights)):\n",
    "    print(student_heights[i])"
   ]
  },
  {
   "cell_type": "markdown",
   "metadata": {
    "id": "-Jf6ADDIQ9PM"
   },
   "source": [
    "4. จงวนลูปเพื่อแสดงสูตรคูณแม่ 3 ไล่ตั้งแต่ $3 \\times 1$ จนถึง $3 \\times 12$ โดยจะได้ผลลัพธ์ดังนี้\n",
    "\n",
    "```\n",
    "3 * 1 = 3\n",
    "3 * 2 = 6\n",
    "3 * 3 = 9\n",
    ":\n",
    ":\n",
    ":\n",
    "3 * 12 = 36\n",
    "```"
   ]
  },
  {
   "cell_type": "code",
   "execution_count": null,
   "metadata": {
    "colab": {
     "base_uri": "https://localhost:8080/",
     "height": 225
    },
    "id": "8kfYlaf-Q9PM",
    "outputId": "ec2e81f0-dbcb-4724-aeeb-8188679e0a51"
   },
   "outputs": [],
   "source": [
    "# วนลูปค่า index i จาก 1 ถึง 12\n",
    "for i in range(1,13):\n",
    "    print('3 *' , i , ' = ', 3*i)"
   ]
  },
  {
   "cell_type": "markdown",
   "metadata": {
    "id": "fEhulI74Q9PO"
   },
   "source": [
    "### ลูปซ้อนลูป (loop embedding)"
   ]
  },
  {
   "cell_type": "markdown",
   "metadata": {
    "id": "dVvGMKYBQ9PP"
   },
   "source": [
    "- เราสามารถเขียนลูปซ้อนลูปได้ด้วย หากว่าโปรแกรมของเรามีความซับซ้อนกว่าลูปเดียว\n",
    "- เช่น เราสามารถวนลูปเพื่อไล่สูตรคูณแม่ 3 ถึงแม่ 5 ได้ดังนี้ครับ"
   ]
  },
  {
   "cell_type": "code",
   "execution_count": null,
   "metadata": {
    "colab": {
     "base_uri": "https://localhost:8080/",
     "height": 745
    },
    "id": "jL3U1XV9Q9PQ",
    "outputId": "16786158-cd52-41ea-cb79-e67c5293fd54"
   },
   "outputs": [],
   "source": [
    "# วนลูป index m เพื่อไล่แม่สูตรคูณจากแม่ 3 ถึงแม่ 5\n",
    "for m in range(3, 6):\n",
    "    print('Multiplication of', m)\n",
    "    # วนลูป index i เพื่อไล่ตัวคูณจาก 1 ถึง 12\n",
    "    for i in range(1, 13):\n",
    "        print(m, '*', i, '=', m * i)\n",
    "    # พิมพ์บรรทัดใหม่คั่นระหว่างแม่\n",
    "    print()"
   ]
  },
  {
   "cell_type": "markdown",
   "metadata": {
    "id": "F9roSM7sQ9PR"
   },
   "source": [
    "- ข้อสังเกตจากการวนลูปฟอร์ในการไล่แม่สูตรคูณก็คือ\n",
    "  1. ในลูปนอก เราจะวนลูป index ของแม่สูตรคูณก่อน เช่น แม่ 3 ถึงแม่ 5 เป็นต้น\n",
    "  2. ส่วนลูปข้างใน เราจะวนลูป index ของตัวคูณในแต่ละแม่ คือตั้งแต่ 1 ถึง 12\n",
    "- นั่นแสดงว่า ถ้าเราจะเขียนโปรแกรมที่สลับซับซ้อนได้ เราจะต้องแยกแยะและถอดลูปออกเป็นชั้นนอกและชั้นในให้ออกครับ"
   ]
  },
  {
   "cell_type": "markdown",
   "metadata": {
    "id": "qZOiegQdQ9PS"
   },
   "source": [
    "### แบบฝึกหัด 6.3"
   ]
  },
  {
   "cell_type": "markdown",
   "metadata": {
    "id": "Q-eFBSFJQ9PT"
   },
   "source": [
    "1. จงเขียนโปรแกรมเพื่อไล่แม่สูตรคูณจากแม่ 11 ถึงแม่ 15 โดยแต่ละแม่จะคูณกับตัวเลขตั้งแต่ 1 จนถึง 12"
   ]
  },
  {
   "cell_type": "code",
   "execution_count": null,
   "metadata": {
    "colab": {
     "base_uri": "https://localhost:8080/",
     "height": 1000
    },
    "id": "aXdRxuIdQ9PT",
    "outputId": "ebb3672f-9ef5-40bf-9503-e116bc5ed24f"
   },
   "outputs": [],
   "source": [
    "# วนลูป index m เพื่อไล่แม่สูตรคูณจากแม่ 11 ถึงแม่ 15\n",
    "for m in range(11, 16):\n",
    "    print('Multiplication of', m)\n",
    "    # วนลูป index i เพื่อไล่ตัวคูณจาก 1 ถึง 12\n",
    "    for i in range(1, 13):\n",
    "        print(m, '*', i, '=', m * i)\n",
    "    # พิมพ์บรรทัดใหม่คั่นระหว่างแม่\n",
    "    print()"
   ]
  },
  {
   "cell_type": "markdown",
   "metadata": {
    "id": "73_-bNvhQ9PV"
   },
   "source": [
    "2. จงเขียนโปรแกรมเพื่อแสดงจัตุรัสตัวเลข 1 ถึง 9 โดยใช้ลูปซ้อนกัน 2 ลูป ซึ่งผลลัพธ์จะเป็นดังต่อไปนี้\n",
    "\n",
    "```\n",
    "1 2 3\n",
    "4 5 6\n",
    "7 8 9\n",
    "```"
   ]
  },
  {
   "cell_type": "code",
   "execution_count": null,
   "metadata": {
    "colab": {
     "base_uri": "https://localhost:8080/",
     "height": 208
    },
    "id": "f8LeF9ssQ9PV",
    "outputId": "eb88d893-5d64-4305-9956-0064c1616bb9"
   },
   "outputs": [],
   "source": [
    "# วนลูป index m เพื่อไล่แม่สูตรคูณจากแม่ 11 ถึงแม่ 15\n",
    "for m in range(3):\n",
    "    for i in range(1,4):\n",
    "        print(m*3+i, end=' ')\n",
    "    print()\n",
    "\n",
    "print()\n",
    "\n",
    "# วนลูป index m เพื่อไล่แม่สูตรคูณจากแม่ 11 ถึงแม่ 15\n",
    "a=1\n",
    "for m in range(3):\n",
    "    for i in range(1,4):\n",
    "        print(a, end=' ')\n",
    "        a = a+1\n",
    "    print()\n",
    "\n",
    "\n",
    "print()\n",
    "\n",
    "for m in range(3):\n",
    "    print(3*m+1, 3*m+2, 3*m+3)\n"
   ]
  },
  {
   "cell_type": "markdown",
   "metadata": {
    "id": "3lUPeiO2Q9PX"
   },
   "source": [
    "3. จงเขียนโปรแกรมเพื่อแสดงจัตุรัสตัวเลข 1 ถึง 27 โดยใช้ลูปซ้อนกัน 3 ลูป ซึ่งผลลัพธ์จะเป็นดังนี้\n",
    "\n",
    "```\n",
    "1 2 3\n",
    "4 5 6\n",
    "7 8 9\n",
    "\n",
    "10 11 12\n",
    "13 14 15\n",
    "16 17 18\n",
    "\n",
    "19 20 21\n",
    "22 23 24\n",
    "25 26 27\n",
    "```\n",
    "\n",
    "   **หมายเหตุ:** เราสามารถระบุให้คำสั่ง `print` ไม่ต้องขึ้นบรรทัดใหม่หลังจากพิมพ์ค่าออกหน้าจอได้ด้วยการระบุ `end=''` ไว้ในวงเล็บของ `print` ครับ"
   ]
  },
  {
   "cell_type": "markdown",
   "metadata": {
    "id": "d4XrWBJLQ9Pa"
   },
   "source": [
    "-----"
   ]
  },
  {
   "cell_type": "markdown",
   "metadata": {
    "id": "TMyTusEGQ9Pb"
   },
   "source": [
    "## กิจกรรม 7: การกำหนดเงื่อนไข"
   ]
  },
  {
   "cell_type": "markdown",
   "metadata": {
    "id": "QpWfuLjhQ9Pc"
   },
   "source": [
    "- กิจกรรมสุดท้ายสำหรับวันนี้คือการกำหนดเงื่อนไขครับ\n",
    "- การกำหนดเงื่อนไข (branching) ในภาษาไพธอนจะใช้คำสั่ง `if` (แปลว่า 'ถ้า') ครับ โดยจะมีรูปแบบดังนี้\n",
    "\n",
    "```python\n",
    "if <เงื่อนไข>:\n",
    "    <กระบวนการ>\n",
    "```\n",
    "\n",
    "- คอมพิวเตอร์จะทำกระบวนการที่อยู่ในด้านใน ถ้าหากว่าเงื่อนไขที่กำหนดนี้เป็นจริง\n",
    "- จะสังเกตว่ากระบวนการนี้จะต้องย่อหน้าเหมือนกับคำสั่งลูป `for` เลย\n",
    "  - นั่นเป็นเพราะว่าการเว้นวรรคย่อหน้าจะเป็นการบอกสโคป (scope) ของคำสั่ง ว่าเป็นกระบวนการที่อยู่ภายใต้คำสั่งที่อยู่ด้านนอก\n",
    "  - การวนลูปก็จะวนภายใน scope ของตัวเอง\n",
    "  - การกำหนดเงื่อนไขก็จะทำงานเฉพาะภายใน scope ของตัวเองเท่านั้นครับ\n",
    "- เช่น โปรแกรมด้านล่างนี้จะพิมพ์ข้อความ `'Hurray!'` ถ้าหากว่าเงินเดือนในตัวแปร `salary` มีค่ามากกว่า 10,000 บาท"
   ]
  },
  {
   "cell_type": "code",
   "execution_count": null,
   "metadata": {
    "colab": {
     "base_uri": "https://localhost:8080/",
     "height": 35
    },
    "id": "rma2bUcLQ9Pd",
    "outputId": "b1847836-3de0-4ddc-8209-862a88c97f8b"
   },
   "outputs": [],
   "source": [
    "salary = 15000\n",
    "\n",
    "if salary > 10000:\n",
    "    print('Hurray!')"
   ]
  },
  {
   "cell_type": "markdown",
   "metadata": {
    "id": "DZhLkAHXQ9Pf"
   },
   "source": [
    "- ทดลองเปลี่ยนค่าตัวเลขของตัวแปร `salary` แล้วรันใหม่ดูนะครับ"
   ]
  },
  {
   "cell_type": "markdown",
   "metadata": {
    "id": "te0OeuBSQ9Pf"
   },
   "source": [
    "### รูปแบบของเงื่อนไข"
   ]
  },
  {
   "cell_type": "markdown",
   "metadata": {
    "id": "TVXVV7HMQ9Pg"
   },
   "source": [
    "- เราสามารถใช้เครื่องหมายเปรียบเทียบทางคณิตศาสตร์ได้เหมือนในวิชาคณิตศาสตร์ครับ\n",
    "\n",
    "| เครื่องหมาย | ความหมาย |           ตัวอย่าง           |\n",
    "|:---------:|:--------:|:--------------------------:|\n",
    "|    `<`    |  น้อยกว่า  |           `3 < 5`          |\n",
    "|    `>`    |  มากกว่า  |           `5 > 3`          |\n",
    "|    `==`   |  เท่ากับ   | `my_salary == your_salary` |\n",
    "|    `!=`   |  ไม่เท่ากับ | `my_salary != your_salary` |\n",
    "|    `>=`   |  มากกว่าหรือเท่ากับ   | `my_salary >= your_salary` |\n",
    "|    `<=`   |  น้อยกว่าหรือเท่ากับ   | `my_salary <= your_salary` |\n",
    "\n",
    "- ถ้าเราลองพิมพ์ค่าความจริงของเงื่อนไขออกมา เราจะได้เป็นค่า `True` หรือ `False` ซึ่งค่าความจริงก็เป็นข้อมูลประเภทหนึ่งเหมือนกัน เรียกว่า *ค่าตรรกะ* (boolean) ครับ เช่น"
   ]
  },
  {
   "cell_type": "code",
   "execution_count": null,
   "metadata": {
    "colab": {
     "base_uri": "https://localhost:8080/",
     "height": 87
    },
    "id": "zNw1-P5sQ9Ph",
    "outputId": "f7a7a61b-a5c4-4593-a3a0-dc14e6fc8c8f"
   },
   "outputs": [],
   "source": [
    "print(0.5 > 0.3)        # True\n",
    "print(0.25 < -1.0)      # False\n",
    "print(1.25 == 1.25)     # True\n",
    "print(1.30 != -0.78)    # True"
   ]
  },
  {
   "cell_type": "markdown",
   "metadata": {
    "id": "-4Wgi11IQ9Po"
   },
   "source": [
    "- ทั้งนี้เราสามารถใช้เครื่องหมายเปรียบสามารถใช้ได้กับข้อความได้ด้วยนะครับ เช่น"
   ]
  },
  {
   "cell_type": "code",
   "execution_count": null,
   "metadata": {
    "colab": {
     "base_uri": "https://localhost:8080/",
     "height": 69
    },
    "id": "FwxvFkMpQ9Ps",
    "outputId": "fe27e0c2-708a-4335-b471-3fa0240fbf58"
   },
   "outputs": [],
   "source": [
    "print('hello' == 'hello')       # True\n",
    "print('hello' != 'world')       # True\n",
    "print('hello' > 'alphabet')     # False -- คอมพิวเตอร์เรียงลำดับข้อความตามตัวอักษร"
   ]
  },
  {
   "cell_type": "markdown",
   "metadata": {
    "id": "qIZkbtmDQ9Px"
   },
   "source": [
    "- นอกจากนี้เรายังสามารถใช้ตัวเชื่อมทางตรรกศาสตร์ได้ด้วยครับ\n",
    "\n",
    "| ตัวเชื่อม    | ความหมาย |           ตัวอย่าง           |\n",
    "|:---------:|:--------:|:--------------------------:|\n",
    "|   `and`   |    และ   |     `a == b and x == y`    |\n",
    "|    `or`   |    หรือ   |     `a != b or c != d`     |\n",
    "|   `not`   |    ไม่    |    `not (a > b)`    |\n",
    "|   `( )`   |   วงเล็บ  | `(a == b) and not (c > d)` |"
   ]
  },
  {
   "cell_type": "code",
   "execution_count": null,
   "metadata": {
    "id": "VQHU1eViQ9Py"
   },
   "outputs": [],
   "source": [
    "v1 = 100\n",
    "v2 = 200\n",
    "v3 = 300\n",
    "\n",
    "print(v1 == v2 and v2 == v3)                       # False and False = False\n",
    "print(v1 + v2 == v3 or v2 + v3 == v1)              # True or False = True\n",
    "print(not(v1 == v2 and v2 == v3) or v1 == v2)      # not(False and False) or False = True"
   ]
  },
  {
   "cell_type": "markdown",
   "metadata": {
    "id": "Ik6s7hTuQ9P1"
   },
   "source": [
    "### แบบฝึกหัด 7.1"
   ]
  },
  {
   "cell_type": "markdown",
   "metadata": {
    "id": "RG1G-faeQ9P2"
   },
   "source": [
    "1. จงตั้งเงื่อนไขเพื่อให้คอมพิวเตอร์พิมพ์ข้อความว่า `'You are tall.'` ถ้าหากว่าความสูงในตัวแปร `my_height` มากกว่า 170"
   ]
  },
  {
   "cell_type": "code",
   "execution_count": null,
   "metadata": {
    "colab": {
     "base_uri": "https://localhost:8080/",
     "height": 35
    },
    "id": "L6dIqZBIQ9P2",
    "outputId": "626347a9-ffb5-4396-bf41-28e1f7728cb9"
   },
   "outputs": [],
   "source": [
    "my_height = 165\n",
    "\n",
    "if my_height > 170:\n",
    "    print('You are tall.')\n",
    "else:\n",
    "    print('You are short.')"
   ]
  },
  {
   "cell_type": "markdown",
   "metadata": {
    "id": "VvHtnvykQ9P4"
   },
   "source": [
    "2. จงตั้งเงื่อนไขเพื่อให้คอมพิวเตอร์พิมพ์ข้อความว่า `'You are weathy and tall.'` ถ้าหากว่าเงินเดือนในตัวแปร `my_salary` มากกว่า 10000 และความสูงในตัวแปร `my_height` มากกว่า 170"
   ]
  },
  {
   "cell_type": "code",
   "execution_count": null,
   "metadata": {
    "id": "GyGlIzPmQ9P4"
   },
   "outputs": [],
   "source": [
    "my_salary = 15000\n",
    "my_height = 175\n",
    "\n",
    "if __________ :\n",
    "    print('You are wealthy and tall.')"
   ]
  },
  {
   "cell_type": "markdown",
   "metadata": {
    "id": "6fgd-6wiQ9P6"
   },
   "source": [
    "3. จงตั้งเงื่อนไขเพื่อควบคุมการพิมพ์ความสูงของนักเรียนแต่ละคน โดยจะพิมพ์ออกมาเฉพาะคนที่มีความสูงมากกว่า 160 เซนติเมตรเท่านั้น [หมายเหตุ: จะสังเกตว่าโจทย์ข้อนี้จะใช้ทั้งลูปฟอร์และการตั้งเงื่อนไขประกอบกันได้ด้วย]"
   ]
  },
  {
   "cell_type": "code",
   "execution_count": null,
   "metadata": {
    "id": "ReO9tiYXQ9P7"
   },
   "outputs": [],
   "source": [
    "student_heights = [163.5, 150.0, 167.0, 161.25, 170.0]\n",
    "\n",
    "for height in student_heights:\n",
    "    if __________ :\n",
    "        print(height)"
   ]
  },
  {
   "cell_type": "markdown",
   "metadata": {
    "id": "iHTjKhXyQ9P9"
   },
   "source": [
    "4. จงตั้งเงื่อนไขเพื่อควบคุมการพิมพ์ชื่อของนักเรียนแต่ละคนและความสูงออกมา โดยจะพิมพ์ออกมาเฉพาะคนที่ชื่อนำหน้าด้วยตัวอักษรอื่น<u>**ที่ไม่ใช่**</u> `'A'` และ<u>**ไม่ใช่**</u> `'C'` และมีความสูงมากกว่า 160 เซนติเมตรเท่านั้น"
   ]
  },
  {
   "cell_type": "code",
   "execution_count": null,
   "metadata": {
    "id": "vJ5XkFefQ9P9"
   },
   "outputs": [],
   "source": [
    "student_names = ['Arm', 'Bobby', 'Cathy', 'Dorothy', 'Emily']\n",
    "student_heights = [163.5, 150.0, 167.0, 161.25, 170.0]\n",
    "\n",
    "for i in range(len(student_names)):\n",
    "    if __________ :\n",
    "        print(student_names[i], ':', student_heights[i])"
   ]
  },
  {
   "cell_type": "markdown",
   "metadata": {
    "id": "q6kIqGw9Q9P_"
   },
   "source": [
    "### การรับข้อมูลผ่านคีย์บอร์ด"
   ]
  },
  {
   "cell_type": "markdown",
   "metadata": {
    "id": "11su_cFrQ9QA"
   },
   "source": [
    "- เราสามารถรับอินพุตจากคีย์บอร์ดได้ด้วยคำสั่ง `input` ครับ แต่เวลาสั่งคำสั่งนี้แล้ว จะต้องหาตัวแปรมาเก็บค่าอินพุตที่รับมาด้วยเสมอ"
   ]
  },
  {
   "cell_type": "code",
   "execution_count": null,
   "metadata": {
    "id": "fwB-QCpEQ9QA"
   },
   "outputs": [],
   "source": [
    "my_name = input('Enter your name: ')      # ใส่ข้อความเตือนผู้ใช้ที่ตรงนี้\n",
    "print('Hello,', my_name)"
   ]
  },
  {
   "cell_type": "markdown",
   "metadata": {
    "id": "fa1BTJkmQ9QC"
   },
   "source": [
    "- ค่าที่รับมาได้จะอยู่ในรูปข้อความ (string) เสมอ\n",
    "- หากเราต้องการรับค่าตัวเลข เราจำเป็นต้องแปลงข้อความกลับมาเป็นตัวเลขด้วยคำสั่ง `int` และ `float` ตามลำดับครับ\n",
    "  - คำสั่ง `int` จะแปลงข้อความเป็นจำนวนเต็ม เช่น 10, 20, 30\n",
    "  - คำสั่ง `float` จะแปลงข้อความเป็นจำนวนจริง เช่น 0.25, 3.5, 10.0"
   ]
  },
  {
   "cell_type": "code",
   "execution_count": null,
   "metadata": {
    "id": "hfNF7TvTQ9QD"
   },
   "outputs": [],
   "source": [
    "my_salary_str = input('Enter your salary: ')\n",
    "my_salary = int(my_salary_str)           # ต้องแปลงข้อความให้เป็นจำนวนเต็มก่อน ถึงจะเปรียบเทียบได้\n",
    "if my_salary > 10000:\n",
    "    print('Your salary is quite high.')"
   ]
  },
  {
   "cell_type": "markdown",
   "metadata": {
    "id": "Myz9XRlPQ9QE"
   },
   "source": [
    "- ลองรันโปรแกรมด้านบนใหม่อีกรอบ แต่คราวนี้ใส่เป็นข้อความที่ไม่ใช่จำนวนเต็มดูบ้างครับ เช่น `'Prachya'` หรือ `100.5` โปรแกรมจะระเบิดทันที\n",
    "- ที่คอมพิวเตอร์ฟ้องว่า `ValueError` นั้นหมายความว่า คอมพิวเตอร์ไม่สามารถแปลงข้อความให้กลายเป็นตัวเลขได้นั่นเองครับ"
   ]
  },
  {
   "cell_type": "markdown",
   "metadata": {
    "id": "FdK15codQ9QF"
   },
   "source": [
    "### การกำหนดเงื่อนไขที่มี 2 ทางเลือก"
   ]
  },
  {
   "cell_type": "markdown",
   "metadata": {
    "id": "mFqAtsOyQ9QG"
   },
   "source": [
    "- ในกรณีที่เราต้องการกำหนดเงื่อนไขที่มี 2 ทางเลือก เราสามารถใช้คำสั่ง `if ... else ...` (else แปลว่า 'ไม่เช่นนั้น') ได้ครับ\n",
    "- รูปแบบของเงื่อนไขที่มี 2 ทางเลือก\n",
    "\n",
    "```python\n",
    "if <เงื่อนไข> :\n",
    "    <กระบวนการ 1>\n",
    "else:\n",
    "    <กระบวนการ 2>\n",
    "```\n",
    "\n",
    "- ความหมายของคำสั่งนี้คือ ถ้าเงื่อนไขนี้เป็นจริง ก็ให้ทำกระบวนการที่ 1 ไม่เช่นนั้นก็ให้ทำกระบวนการที่ 2 แทน\n",
    "- เช่น โปรแกรมด้านล่างนี้จะพิมพ์ข้อความ `'Hurray!'` ถ้าหากว่าเงินเดือนในตัวแปร `salary` มีค่ามากกว่า 10,000 บาท หรือไม่เช่นนั้นก็พิมพ์ข้อความว่า `'Poor you.'` แทน"
   ]
  },
  {
   "cell_type": "code",
   "execution_count": null,
   "metadata": {
    "id": "Umw3rEmHQ9QG"
   },
   "outputs": [],
   "source": [
    "salary = 5000\n",
    "\n",
    "if salary > 10000:\n",
    "    print('Hurray!')\n",
    "else:\n",
    "    print('Poor you.')"
   ]
  },
  {
   "cell_type": "markdown",
   "metadata": {
    "id": "GA2KrH_VQ9QI"
   },
   "source": [
    "### แบบฝึกหัด 7.2"
   ]
  },
  {
   "cell_type": "markdown",
   "metadata": {
    "id": "jJnNSC16Q9QJ"
   },
   "source": [
    "จงตั้งเงื่อนไขเพื่อควบคุมการพิมพ์ชื่อของนักเรียนแต่ละคนและความสูงออกมา โดยจะพิมพ์ออกมาเฉพาะคนที่ชื่อนำหน้าด้วยตัวอักษรอื่นที่<u>**ไม่ใช่**</u> `'A'` และ<u>**ไม่ใช่**</u> `'C'` และมีความสูงมากกว่า 160 เซนติเมตรเท่านั้น ไม่เช่นนั้นก็ให้พิมพ์เฉพาะชื่อนักเรียนออกมาเท่านั้น"
   ]
  },
  {
   "cell_type": "code",
   "execution_count": null,
   "metadata": {
    "id": "BM9xxGUPQ9QJ"
   },
   "outputs": [],
   "source": [
    "student_names = ['Arm', 'Bobby', 'Cathy', 'Dorothy', 'Emily']\n",
    "student_heights = [163.5, 150.0, 167.0, 161.25, 170.0]\n",
    "\n",
    "for i in range(len(student_names)):\n",
    "    if __________ :\n",
    "        print(student_names[i], ':', student_heights[i])\n",
    "    else:\n",
    "        print(student_names[i])"
   ]
  },
  {
   "cell_type": "markdown",
   "metadata": {
    "id": "PMW5xnPrQ9QL"
   },
   "source": [
    "### การกำหนดเงื่อนไขแบบซับซ้อน"
   ]
  },
  {
   "cell_type": "markdown",
   "metadata": {
    "id": "W6H0Al53Q9QL"
   },
   "source": [
    "- นอกจากนี้ หากเงื่อนไขของโปรแกรมมีความสลับซับซ้อน เช่น การตัดเกรดของนักเรียนที่ต้องทำแบ่งเป็นช่วงชั้น เราสามารถใช้การกำหนดเงื่อนไขแบบซับซ้อน `if ... elif ... else ...` ได้ครับ (`elif` ย่อมาจากคำว่า 'else if' แปลว่า 'ไม่เช่นนั้น ถ้าหาก')\n",
    "- รูปแบบของการกำหนดเงื่อนไขแบบซับซ้อน\n",
    "\n",
    "```python\n",
    "if <เงื่อนไข 1> :\n",
    "    <กระบวนการ 1>\n",
    "elif <เงื่อนไข 2> :\n",
    "    <กระบวนการ 2>\n",
    "elif <เงื่อนไข 3> :\n",
    "    <กระบวนการ 3>\n",
    "    :\n",
    "    :\n",
    "    :\n",
    "else:\n",
    "    <กระบวนการสุดท้าย>\n",
    "```\n",
    "\n",
    "- ความหมายของคำสั่งนี้คือ \n",
    "  1. ถ้าเงื่อนไข 1 นี้เป็นจริง ก็ให้ทำกระบวนการที่ 1\n",
    "  2. ไม่เช่นนั้นก็ให้เช็คเงื่อนไข 2 ถ้าเป็นจริง ก็ให้ทำกระบวนการที่ 2\n",
    "  3. ไม่เช่นนั้นก็ให้เช็คเงื่อนไข 3 ถ้าเป็นจริง ก็ให้ทำกระบวนการที่ 3\n",
    "  4. เราจะเช็คเงื่อนไขแบบนี้ไปเรื่อยๆ จนกระทั่งไม่เข้าเงื่อนไขใดเลย จึงทำกระบวนการสุดท้าย"
   ]
  },
  {
   "cell_type": "markdown",
   "metadata": {
    "id": "mMErc0GIQ9QM"
   },
   "source": [
    "- เช่น ถ้าเราจะกำหนดเงื่อนไขเพื่อตัดเกรดของนักเรียน จากคะแนนเต็ม 100 คะแนน\n",
    "  1. ถ้าได้คะแนน 80 ขึ้นไป จะได้เกรด 4\n",
    "  2. ไม่เช่นนั้น ถ้าได้คะแนน 70 ขึ้นไป จะได้เกรด 3\n",
    "  3. ไม่เช่นนั้น ถ้าได้คะแนน 60 ขึ้นไป จะได้เกรด 2\n",
    "  4. ไม่เช่นนั้น ถ้าได้คะแนน 50 ขึ้นไป จะได้เกรด 1\n",
    "  5. ไม่เช่นนั้น จะได้เกรด 0"
   ]
  },
  {
   "cell_type": "code",
   "execution_count": null,
   "metadata": {
    "id": "zUajBgMjQ9QM"
   },
   "outputs": [],
   "source": [
    "score = int(input('Enter your score: '))\n",
    "\n",
    "if score >= 80:           # score >= 80\n",
    "    grade = 4\n",
    "elif score >= 70:         # 70 <= score <= 79\n",
    "    grade = 3\n",
    "elif score >= 60:         # 60 <= score <= 69\n",
    "    grade = 2\n",
    "elif score >= 50:         # 50 <= score <= 59\n",
    "    grade = 1\n",
    "else:                     # score < 50\n",
    "    grade = 0\n",
    "\n",
    "print('Your grade =', grade)"
   ]
  },
  {
   "cell_type": "markdown",
   "metadata": {
    "id": "ZmQW9VFQQ9QP"
   },
   "source": [
    "### คำสั่งออกจากลูป (break) และคำสั่งกระโดดไปสมาชิกตัวถัดไป (continue)"
   ]
  },
  {
   "cell_type": "markdown",
   "metadata": {
    "id": "QN1FYqFiQ9QP"
   },
   "source": [
    "- เราสามารถออกจากลูปได้ด้วยคำสั่ง `break` ครับ\n",
    "- เช่น เราสามารถสั่งให้คอมพิวเตอร์พิมพ์ชื่อนักเรียนและความสูงตามลิสต์ด้านล่างออกมา จนกว่าความสูงจะมากกว่า 165 เซนติเมตรจึงจะหยุด ได้ด้วยคำสั่ง `break`"
   ]
  },
  {
   "cell_type": "code",
   "execution_count": null,
   "metadata": {
    "id": "ackEvHVYQ9QQ"
   },
   "outputs": [],
   "source": [
    "student_names = ['Arm', 'Bobby', 'Cathy', 'Dorothy', 'Emily']\n",
    "student_heights = [163.5, 150.0, 167.0, 161.25, 170.0]\n",
    "\n",
    "for i in range(len(student_heights)):\n",
    "    # พิมพ์ชื่อนักเรียนและความสูง\n",
    "    print(student_names[i], ':', student_heights[i])\n",
    "    # ถ้าความสูงของนักเรียนคนนั้น > 165 เซนติเมตร ให้ออกจากลูป\n",
    "    if student_heights[i] > 165.0:\n",
    "        break\n",
    "        \n",
    "print('That is all.')"
   ]
  },
  {
   "cell_type": "markdown",
   "metadata": {
    "id": "-UC0S7hnQ9QU"
   },
   "source": [
    "- ส่วนคำสั่ง `continue` จะสั่งให้คอมพิวเตอร์เลิกทำกระบวนการที่กำลังทำกับสมาชิกตัวปัจจุบัน แล้วกระโดดไปสมาชิกตัวถัดไปทันทีครับ\n",
    "- เช่น เราสามารถสั่งให้คอมพิวเตอร์พิมพ์รายชื่อนักเรียนและความสูง แต่หากนักเรียนคนใดที่มีชื่อขึ้นต้นด้วยตัว `'A'` หรือตัว `'C'` ก็จะไม่ต้องพิมพ์ต่อท้ายว่า `blacklisted` ได้ดังนี้"
   ]
  },
  {
   "cell_type": "code",
   "execution_count": null,
   "metadata": {
    "id": "60g3GAdkQ9QU"
   },
   "outputs": [],
   "source": [
    "student_names = ['Arm', 'Bobby', 'Cathy', 'Dorothy', 'Emily']\n",
    "student_heights = [163.5, 150.0, 167.0, 161.25, 170.0]\n",
    "\n",
    "for i in range(len(student_heights)):\n",
    "    # พิมพ์ชื่อนักเรียนและความสูง\n",
    "    print(student_names[i], ':', student_heights[i], end='')\n",
    "    # ถ้าชื่อนักเรียนขึ้นต้นด้วยตัว A หรือตัว C ให้ตัดจบ แล้วไปสมาชิกตัวถัดไปทันที\n",
    "    if student_names[i][0] == 'A' or student_names[i][0] == 'C':\n",
    "        print()\n",
    "        continue\n",
    "    print(' --> blacklisted')"
   ]
  },
  {
   "cell_type": "markdown",
   "metadata": {
    "id": "KonFAgDMQ9QX"
   },
   "source": [
    "### แบบฝึกหัด 7.3"
   ]
  },
  {
   "cell_type": "markdown",
   "metadata": {
    "id": "8PkytrYCQ9QY"
   },
   "source": [
    "จงเขียนโปรแกรมเพื่อแสดงรายการนักเรียนที่ได้เกรดตำกว่า 4 ถ้านักเรียนคนใดได้เกรดต่ำกว่า 3 ให้พิมพ์ข้อความเตือน `'warning'` ที่หลังเกรด และให้โปรแกรมหยุดการทำงานเมื่อพบนักเรียนที่ได้เกรดตำกว่า 2"
   ]
  },
  {
   "cell_type": "code",
   "execution_count": null,
   "metadata": {
    "id": "6iWpHCyJQ9QY"
   },
   "outputs": [],
   "source": [
    "student_names = ['Arm', 'Bobby', 'Cathy', 'Dorothy', 'Emily']\n",
    "student_scores = [86, 78, 54, 65, 34]\n",
    "\n",
    "for i in range(len(student_names)):\n",
    "    grade = 0\n",
    "    \n",
    "    # คำนวณเกรดของนักเรียน เก็บใส่ตัวแปร grade ไว้\n",
    "    ________________\n",
    "    \n",
    "    # ถ้าพบว่านักเรียนได้เกรด 4 ให้กระโดดข้ามไปนักเรียนคนถัดไป โดยใช้คำสั่ง continue\n",
    "    ________________\n",
    "    \n",
    "    # พิมพ์ชื่อนักเรียนและเกรด โดยที่ยังไม่ต้องขึ้นบรรทัดใหม่\n",
    "    print(student_names[i], ':', grade, end='')\n",
    "    \n",
    "    # ถ้าพบนักเรียนคนใดได้เกรดตำกว่า 3 ให้พิมพ์ข้อความเตือนว่า 'warning' และขึ้นบรรทัดใหม่\n",
    "    ________________\n",
    "    \n",
    "    # หากพบนักเรียนที่ได้เกรดต่ำกว่า 2 ให้ออกจากลูปทันที โดยใช้คำสั่ง break\n",
    "    ________________"
   ]
  },
  {
   "cell_type": "markdown",
   "metadata": {
    "id": "1pGr2WuVQ9Qa"
   },
   "source": [
    "---------"
   ]
  },
  {
   "cell_type": "markdown",
   "metadata": {
    "id": "h-3zot7FQ9Qa"
   },
   "source": [
    "## กิจกรรม 8: โจทย์เสริมทักษะ"
   ]
  },
  {
   "cell_type": "markdown",
   "metadata": {
    "id": "K3VzPtf5Q9Qb"
   },
   "source": [
    "1. จงเขียนโปรแกรมเพื่อรับจำนวน $ n $ และพิมพ์พิระมิดชิดซ้ายที่มีขนาดเท่ากับ $ n $ เช่น\n",
    "\n",
    "```\n",
    "Enter the size of the left-angle pyramid (n): 5\n",
    "*\n",
    "**\n",
    "***\n",
    "****\n",
    "*****\n",
    "```"
   ]
  },
  {
   "cell_type": "code",
   "execution_count": null,
   "metadata": {
    "id": "iGQSwjdOQ9Qb"
   },
   "outputs": [],
   "source": []
  },
  {
   "cell_type": "markdown",
   "metadata": {
    "id": "Qy9XQVD7Q9Qd"
   },
   "source": [
    "2. จงเขียนโปรแกรมเพื่อรับจำนวน $ h $ และพิมพ์พิระมิดที่มีความสูงเท่ากับ $ h $ เช่น\n",
    "\n",
    "```\n",
    "Enter the height of the pyramid (h): 5\n",
    "    *\n",
    "   ***\n",
    "  *****\n",
    " *******\n",
    "*********\n",
    "```"
   ]
  },
  {
   "cell_type": "code",
   "execution_count": null,
   "metadata": {
    "id": "SfVnJRM2Q9Qe"
   },
   "outputs": [],
   "source": []
  },
  {
   "cell_type": "markdown",
   "metadata": {
    "id": "3uWrmnpDQ9Qf"
   },
   "source": [
    "3. จงเขียนโปรแกรมเพื่อรับจำนวน $ h $ และพิมพ์รูปข้าวหลามตัดที่มีความสูงเท่ากับ $ 2h - 1 $ เช่น\n",
    "\n",
    "```\n",
    "Enter the height of club (h): 5\n",
    "    *\n",
    "   ***\n",
    "  *****\n",
    " *******\n",
    "*********\n",
    " *******\n",
    "  *****\n",
    "   ***\n",
    "    *\n",
    "```"
   ]
  },
  {
   "cell_type": "code",
   "execution_count": null,
   "metadata": {
    "id": "iVCpkr0xQ9Qg"
   },
   "outputs": [],
   "source": []
  },
  {
   "cell_type": "markdown",
   "metadata": {
    "id": "p7lxwPB-Q9Qh"
   },
   "source": [
    "4. จงเขียนโปรแกรมเพื่อรับจำนวน $ h $ และพิมพ์รูปข้าวหลามตัดกลวงที่มีความสูงเท่ากับ $ 2h - 1 $ เช่น\n",
    "\n",
    "```\n",
    "Enter the height of hollow club (h): 5\n",
    "    *\n",
    "   * *\n",
    "  *   *\n",
    " *     *\n",
    "*       *\n",
    " *     *\n",
    "  *   *\n",
    "   * *\n",
    "    *\n",
    "```"
   ]
  },
  {
   "cell_type": "markdown",
   "metadata": {
    "id": "Nz8eoK4-hmb_"
   },
   "source": [
    "#แนะนำไพทอน เพิ่มเติม"
   ]
  },
  {
   "cell_type": "code",
   "execution_count": null,
   "metadata": {
    "id": "sG9lvPWThwI1"
   },
   "outputs": [],
   "source": [
    "help(len)"
   ]
  },
  {
   "cell_type": "markdown",
   "metadata": {
    "id": "Wk7f2QICiCJw"
   },
   "source": [
    "#การสร้างฟังก์ชั่น"
   ]
  },
  {
   "cell_type": "code",
   "execution_count": null,
   "metadata": {
    "id": "_4y2A1eOiCzX"
   },
   "outputs": [],
   "source": [
    "# square a number\n",
    "def square(x):\n",
    "  return x ** 2\n",
    "for N in range(1, 4):\n",
    "  print(N, \"squared is\", square(N))"
   ]
  },
  {
   "cell_type": "markdown",
   "metadata": {
    "id": "xzyeJ5q5iOv8"
   },
   "source": [
    "#การใช้ไลบรารี่ math"
   ]
  },
  {
   "cell_type": "code",
   "execution_count": null,
   "metadata": {
    "id": "K-CIkUv2iPTu"
   },
   "outputs": [],
   "source": [
    "import math\n",
    "\n",
    "print(\"SIN(2) = \", math.sin(2))\n",
    "print(\"COS(2) = \",math.cos(2))"
   ]
  },
  {
   "cell_type": "markdown",
   "metadata": {
    "id": "4H6EuWXBiZr0"
   },
   "source": [
    "#การรับอินพุตและการทำงานของฟังก์ชัน"
   ]
  },
  {
   "cell_type": "code",
   "execution_count": null,
   "metadata": {
    "colab": {
     "base_uri": "https://localhost:8080/",
     "height": 69
    },
    "id": "0fUaJ-VHiaN6",
    "outputId": "d7aaebd8-f479-45f6-ba3a-417faf8a8d06"
   },
   "outputs": [],
   "source": [
    "width   = input(\"ขนาดของความกว้างของสี่เหลี่ยม : \")\n",
    "height  = input(\"ขนาดของความยาวของสี่เหลี่ยม  : \")\n",
    "fwidth  = float(width)\n",
    "fheight = float(height)\n",
    "farea    = float(width)*float(height)\n",
    "print(\"พื้นที่ของสี่เหลี่ยม (%10.2f x %10.2f) = %10.2f\" % (fwidth, fheight, farea))"
   ]
  },
  {
   "cell_type": "markdown",
   "metadata": {
    "id": "VmaFWJUif5W-"
   },
   "source": [
    "\\\\\n",
    "\\\\\n",
    "\\\\\n",
    "#<font color= blue> **บทนำ 22-23 ธันวาคม 2561**</font>\n",
    "\n",
    "- สำหรับวันนี้ เราจะมาหัดเขียนโปรแกรมภาษา Python สำหรับการสร้างโมเดลเพื่อการพยาการณ์ข้อมูลเบื้องต้น\n",
    "\n",
    "- เนื้อหา\n",
    "  9. Numpy\n",
    "  10. Pandas\n",
    "  11. MatPlotLib\n",
    "  12. Data Visualization\n",
    "  13. การสร้างโมเดลเพื่อใช้ทำนายข้อมูล\n",
    "  14. Image Recognition...........รอพี่เอสใส่รายละเอียดเพิ่ม\n",
    "\n"
   ]
  },
  {
   "cell_type": "markdown",
   "metadata": {
    "id": "Bo2MWAPrqdEw"
   },
   "source": [
    "## **กิจกรรมที่ 9: **Numpy\n",
    "\n",
    "\n",
    "\n",
    "Python Library คณิตศาสตร์ที่สำคัญสำหรับ Deep Learning  Library นี้มีชื่อว่า Numpy สามารถประยุกต์ใช้ Python ในงานคำนวณต่างๆ ทั้งด้านวิทยาศาสตร์ วิศวกรรมศาสตร์ สถิติ ธุรกิจ กราฟฟิก ฯลฯ อีกด้วย\n",
    "\n",
    "Numpy มีรูปแบบคล้าย MATLAB โดยเน้นการทำงานของ Array เช่น เวกเตอร์ (1 มิติ) เมตริกซ์ (2 มิติ) เทนเซอร์ ( 3 มิติขึ้นไป) เป็นต้นและ operations า ดังที่อธิบายละเอียดในตัวอย่าง\n",
    "\n",
    "ref : https://www.kaggle.com/ratthachat/python-numpy-deep-learning"
   ]
  },
  {
   "cell_type": "markdown",
   "metadata": {
    "id": "gB7VkR38m1JI"
   },
   "source": [
    "##การคำนวณของอาเรย์ NumPy Arrays"
   ]
  },
  {
   "cell_type": "markdown",
   "metadata": {
    "id": "PBO8dBY0rJxD"
   },
   "source": [
    "\n",
    "\n",
    "*   เราสามารถนำอาเรย์มาคำนวณ บวก ลบ คูณ หาร ได้เหมือนการคำนวณเมทริกซ์\n",
    "*   ก่อนจะเรียกใช้คำสั่ง NumPy เราจะต้องทำการ \"import numpy as np\" ก่อนเสมอ\n",
    "\n"
   ]
  },
  {
   "cell_type": "code",
   "execution_count": null,
   "metadata": {
    "id": "fMFdS1OutNFT"
   },
   "outputs": [],
   "source": [
    "import numpy as np"
   ]
  },
  {
   "cell_type": "markdown",
   "metadata": {
    "id": "ymKjWfVYuQif"
   },
   "source": [
    "\n",
    "\n",
    "*   ต่อมาเราจะลองสร้าง อาเรย์ 1 มิติ , 2  มิติ, และ 3 มิติ\n",
    "\n",
    "*   และหาคุณสมบัติต่างๆของอาเรย์ เช่น Dimension, Shape, และ Size \n",
    "\n"
   ]
  },
  {
   "cell_type": "markdown",
   "metadata": {
    "id": "06EwD0masmJB"
   },
   "source": [
    "**อาเรย์ 1 มิติ**"
   ]
  },
  {
   "cell_type": "code",
   "execution_count": null,
   "metadata": {
    "colab": {
     "base_uri": "https://localhost:8080/",
     "height": 87
    },
    "id": "WoX3AmuAu4D4",
    "outputId": "df2b3751-8df7-4336-80e9-8bab5a1465de"
   },
   "outputs": [],
   "source": [
    "import numpy as np\n",
    "\n",
    "ar1 = np.array([[1,1,0],[3,4,5]])  \n",
    "\n",
    "print(ar1)\n",
    "\n",
    "ar2 = ar1+np.array([[1], [10]])\n",
    "print(ar2)"
   ]
  },
  {
   "cell_type": "code",
   "execution_count": null,
   "metadata": {
    "colab": {
     "base_uri": "https://localhost:8080/",
     "height": 87
    },
    "id": "ohm0gkWnwUfc",
    "outputId": "f5b820a3-85d1-4659-9fd3-fc0d1d08aa0a"
   },
   "outputs": [],
   "source": [
    "#Array 1\n",
    "print(\"ar1 Dimension: \",ar1.ndim)\n",
    "print(\"ar1 Shape: \",ar1.shape)          # shape เป็น method ที่ไว้เรียกดูขนาดของ array \n",
    "print(\"ar1 Size: \",ar1.size)\n",
    "print(\"ar1 Data Type: \",ar1.dtype)"
   ]
  },
  {
   "cell_type": "markdown",
   "metadata": {
    "id": "WTXc1ZxUswUp"
   },
   "source": [
    "**อาเรย์ 2 มิติ**"
   ]
  },
  {
   "cell_type": "code",
   "execution_count": null,
   "metadata": {
    "colab": {
     "base_uri": "https://localhost:8080/",
     "height": 52
    },
    "id": "xwVmKR5ooWOk",
    "outputId": "a87ef117-2434-4f1f-caab-637d37dde2a5"
   },
   "outputs": [],
   "source": [
    "ar2 = np.array([[2,-2,4,2],[2,-4,8,-0.2]])\n",
    "\n",
    "print(ar2)"
   ]
  },
  {
   "cell_type": "code",
   "execution_count": null,
   "metadata": {
    "colab": {
     "base_uri": "https://localhost:8080/",
     "height": 87
    },
    "id": "Ir_eRqMExcft",
    "outputId": "a2678880-57e1-4ca6-8738-bfc2abc144b0"
   },
   "outputs": [],
   "source": [
    "#Array 2\n",
    "print(\"ar2 Dimension: \",ar2.ndim)\n",
    "print(\"ar2 Shape: \",ar2.shape)\n",
    "print(\"ar2 Size: \",ar2.size)\n",
    "print(\"ar2 Data Type: \",ar2.dtype)"
   ]
  },
  {
   "cell_type": "markdown",
   "metadata": {
    "id": "W-1znzAbsz-s"
   },
   "source": [
    "**อาเรย์ 3 มิติ**"
   ]
  },
  {
   "cell_type": "code",
   "execution_count": null,
   "metadata": {
    "colab": {
     "base_uri": "https://localhost:8080/",
     "height": 69
    },
    "id": "O6svmv6YAwJn",
    "outputId": "3bc78dab-81d3-4b68-b0a1-253297c402ea"
   },
   "outputs": [],
   "source": [
    "a1 = np.zeros([3,2])\n",
    "print(a1)"
   ]
  },
  {
   "cell_type": "code",
   "execution_count": null,
   "metadata": {
    "colab": {
     "base_uri": "https://localhost:8080/",
     "height": 323
    },
    "id": "CsoFglL8oaUX",
    "outputId": "a4c0f23e-a4d3-4a24-ea04-4c027e569a66"
   },
   "outputs": [],
   "source": [
    "\n",
    "a1 = np.ones([3,4])*2\n",
    "print(\"a1\\n\",a1,\"\\n\")\n",
    "\n",
    "\n",
    "a2 = np.ones([3,4])*3\n",
    "print(\"a2\\n\",a2,\"\\n\")\n",
    "\n",
    "ar3 = np.stack((a1,a2))\n",
    "#ar3 = np.array([[3,1,3,0,3],[3,2,6,3,3],[3,4,8,2,2.5]])\n",
    "\n",
    "print(\"ar3 \\n\", ar3)"
   ]
  },
  {
   "cell_type": "code",
   "execution_count": null,
   "metadata": {
    "colab": {
     "base_uri": "https://localhost:8080/",
     "height": 85
    },
    "id": "opIE6cICxutX",
    "outputId": "c64217d2-9983-440e-9dd7-ef293fdf3bbf"
   },
   "outputs": [],
   "source": [
    "#Array 3\n",
    "print(\"ar3 Dimension: \",ar3.ndim)\n",
    "print(\"ar3 Shape: \",ar3.shape)\n",
    "print(\"ar3 Size: \",ar3.size)\n",
    "print(\"ar3 Data Type: \",ar3.dtype)\n",
    "\n"
   ]
  },
  {
   "cell_type": "markdown",
   "metadata": {
    "id": "70FnaHQ5rLNr"
   },
   "source": [
    "ref : https://phyblas.hinaboshi.com/numa23"
   ]
  },
  {
   "cell_type": "markdown",
   "metadata": {
    "id": "TjLeSJqy0wpT"
   },
   "source": [
    "## **การสร้าง Array รูปแบบพิเศษต่าง ๆ**\n"
   ]
  },
  {
   "cell_type": "code",
   "execution_count": null,
   "metadata": {
    "colab": {
     "base_uri": "https://localhost:8080/",
     "height": 340
    },
    "id": "dh4HN0Kk01m0",
    "outputId": "43268f5b-88ea-408d-fed5-6fff27306e8a"
   },
   "outputs": [],
   "source": [
    "import numpy as np\n",
    "\n",
    "a = np.zeros((2,2))   # Create an array of all zeros\n",
    "print(\"\\n a \\n\",a)              # Prints \"[[ 0.  0.]\n",
    "                      #          [ 0.  0.]]\"\n",
    "\n",
    "b = np.ones((1,2))    # Create an array of all ones\n",
    "print(\"\\n b \\n\",b)              # Prints \"[[ 1.  1.]]\"\n",
    "\n",
    "c = np.full((2,2), 7)  # Create a constant array\n",
    "print(\"\\n c \\n\",c)               # Prints \"[[ 7.  7.]\n",
    "                       #          [ 7.  7.]]\"\n",
    "\n",
    "d = np.eye(2)         # Create a 2x2 identity matrix\n",
    "print(\"\\n d \\n\",d)              # Prints \"[[ 1.  0.]\n",
    "                      #          [ 0.  1.]]\"\n",
    "\n",
    "e = np.random.random((2,2))  # Create an array filled with random values\n",
    "print(\"\\n e \\n\",e)                     # Might print \"[[ 0.91940167  0.08143941]\n",
    "                             #               [ 0.68744134  0.87236687]]\""
   ]
  },
  {
   "cell_type": "markdown",
   "metadata": {
    "id": "RCi2FN-81EER"
   },
   "source": [
    "### **การเข้าถึงข้อมูลในอาร์เรย์ (Array Indexing)**\n",
    "Numpy offers several ways to index into arrays.\n",
    "\n",
    "Slicing: Similar to Python lists, numpy arrays can be sliced. Since arrays may be multidimensional, you must specify a slice for each dimension of the array:"
   ]
  },
  {
   "cell_type": "code",
   "execution_count": null,
   "metadata": {
    "id": "W-fdpOEN1VV9"
   },
   "outputs": [],
   "source": [
    "import numpy as np\n",
    "\n",
    "# Create the following rank 2 array with shape (3, 4)\n",
    "# [[ 1  2  3  4]\n",
    "#  [ 5  6  7  8]\n",
    "#  [ 9 10 11 12]]\n",
    "a = np.array([[1,2,3,4], [5,6,7,8], [9,10,11,12]])\n",
    "print('a = ',a)\n",
    "# Use slicing to pull out the subarray consisting of the first 2 rows\n",
    "# and columns 1 and 2; b is the following array of shape (2, 2):\n",
    "# [[2 3]\n",
    "#  [6 7]]\n",
    "b = a[:2, 1:3]\n",
    "print('b = ',b)\n",
    "\n",
    "# A slice of an array is a view into the same data, so modifying it\n",
    "# will modify the original array.\n",
    "print(a[0, 1])   # Prints \"2\"\n",
    "b[0, 0] = 77     # b[0, 0] is the same piece of data as a[0, 1]\n",
    "print(a[0, 1])   # Prints \"77\""
   ]
  },
  {
   "cell_type": "markdown",
   "metadata": {
    "id": "aoVRbuqJuf6Z"
   },
   "source": [
    "การประยุกต์\n",
    "ref::  https://phyblas.hinaboshi.com/numa19"
   ]
  },
  {
   "cell_type": "code",
   "execution_count": null,
   "metadata": {
    "colab": {
     "base_uri": "https://localhost:8080/",
     "height": 34
    },
    "id": "WG7f-Bteuqn5",
    "outputId": "f46b3214-97d3-43e4-9c28-1a05dc9291f2"
   },
   "outputs": [],
   "source": [
    "\n",
    "z = np.array([0,1,2,3,4,5])\n",
    "print(z)\n"
   ]
  },
  {
   "cell_type": "code",
   "execution_count": null,
   "metadata": {
    "colab": {
     "base_uri": "https://localhost:8080/",
     "height": 85
    },
    "id": "YxKCtEUmu-up",
    "outputId": "b8f3bb20-60a4-428a-bff5-777e73612285"
   },
   "outputs": [],
   "source": [
    "print(z>3) # ได้ [False False False False  True  True]\n",
    "print(z%2==1) # ได้ [False  True False  True False  True]\n",
    "print(z[z>3]) # ได้ [4 5]\n",
    "print(z[z%2==1]) # ได้ [1 3 5]"
   ]
  },
  {
   "cell_type": "markdown",
   "metadata": {
    "id": "3QDJt5591w0O"
   },
   "source": [
    "## ** การกำหนดประเภทของข้อมูล (Datatypes)**\n",
    "Every numpy array is a grid of elements of the same type. Numpy provides a large set of numeric datatypes that you can use to construct arrays. Numpy tries to guess a datatype when you create an array, but functions that construct arrays usually also include an optional argument to explicitly specify the datatype. Here is an example:"
   ]
  },
  {
   "cell_type": "code",
   "execution_count": null,
   "metadata": {
    "id": "yFatmjvl11hu"
   },
   "outputs": [],
   "source": [
    "import numpy as np\n",
    "\n",
    "x = np.array([1, 2])   # Let numpy choose the datatype\n",
    "print(x.dtype)         # Prints \"int64\"\n",
    "\n",
    "x = np.array([1.0, 2.0])   # Let numpy choose the datatype\n",
    "print(x.dtype)             # Prints \"float64\"\n",
    "\n",
    "x = np.array([1, 2], dtype=np.int64)   # Force a particular datatype\n",
    "print(x.dtype)                         # Prints \"int64\""
   ]
  },
  {
   "cell_type": "markdown",
   "metadata": {
    "id": "WqRLv0qs7xp5"
   },
   "source": [
    "| Data type\t    | Description |\n",
    "|---------------|-------------|\n",
    "| ``bool_``     | Boolean (True or False) stored as a byte |\n",
    "| ``int_``      | Default integer type (same as C ``long``; normally either ``int64`` or ``int32``)| \n",
    "| ``intc``      | Identical to C ``int`` (normally ``int32`` or ``int64``)| \n",
    "| ``intp``      | Integer used for indexing (same as C ``ssize_t``; normally either ``int32`` or ``int64``)| \n",
    "| ``int8``      | Byte (-128 to 127)| \n",
    "| ``int16``     | Integer (-32768 to 32767)|\n",
    "| ``int32``     | Integer (-2147483648 to 2147483647)|\n",
    "| ``int64``     | Integer (-9223372036854775808 to 9223372036854775807)| \n",
    "| ``uint8``     | Unsigned integer (0 to 255)| \n",
    "| ``uint16``    | Unsigned integer (0 to 65535)| \n",
    "| ``uint32``    | Unsigned integer (0 to 4294967295)| \n",
    "| ``uint64``    | Unsigned integer (0 to 18446744073709551615)| \n",
    "| ``float_``    | Shorthand for ``float64``.| \n",
    "| ``float16``   | Half precision float: sign bit, 5 bits exponent, 10 bits mantissa| \n",
    "| ``float32``   | Single precision float: sign bit, 8 bits exponent, 23 bits mantissa| \n",
    "| ``float64``   | Double precision float: sign bit, 11 bits exponent, 52 bits mantissa| \n",
    "| ``complex_``  | Shorthand for ``complex128``.| \n",
    "| ``complex64`` | Complex number, represented by two 32-bit floats| \n",
    "| ``complex128``| Complex number, represented by two 64-bit floats| "
   ]
  },
  {
   "cell_type": "markdown",
   "metadata": {
    "id": "9KvBRODo17sU"
   },
   "source": [
    "## **การคำนวณทางคณิตศาสตร์ (Array math)**\n",
    "Basic mathematical functions operate elementwise on arrays, and are available both as operator overloads and as functions in the numpy module:"
   ]
  },
  {
   "cell_type": "code",
   "execution_count": null,
   "metadata": {
    "colab": {
     "base_uri": "https://localhost:8080/",
     "height": 578
    },
    "id": "kWKzootK2BVe",
    "outputId": "21921992-61eb-48f1-80ad-8c278847d719"
   },
   "outputs": [],
   "source": [
    "import numpy as np\n",
    "\n",
    "x = np.array([[1,2],[3,4]], dtype=np.float64)\n",
    "y = np.array([[5,6],[7,8]], dtype=np.float64)\n",
    "\n",
    "print(\"x\\n\",x)\n",
    "print(\"y \\n\",y)\n",
    "\n",
    "# Elementwise sum; both produce the array\n",
    "# [[ 6.0  8.0]\n",
    "#  [10.0 12.0]]\n",
    "print(\"x+y \\n\", x + y)\n",
    "print(\"np.add(x, y) \\n\", np.add(x, y))\n",
    "\n",
    "# Elementwise difference; both produce the array\n",
    "# [[-4.0 -4.0]\n",
    "#  [-4.0 -4.0]]\n",
    "print(\"x - y\\n\",x - y)\n",
    "print(\"np.subtract(x, y) \\n\",np.subtract(x, y))\n",
    "\n",
    "# Elementwise product; both produce the array\n",
    "# [[ 5.0 12.0]\n",
    "#  [21.0 32.0]]\n",
    "print(\"x * y \\n\",x * y)\n",
    "print(\"np.multiply(x, y) \\n \",np.multiply(x, y))\n",
    "\n",
    "# Elementwise division; both produce the array\n",
    "# [[ 0.2         0.33333333]\n",
    "#  [ 0.42857143  0.5       ]]\n",
    "print(\"x / y \\n\",x / y)\n",
    "print(\"np.divide(x, y)\\n\",np.divide(x, y))\n",
    "\n",
    "# Elementwise square root; produces the array\n",
    "# [[ 1.          1.41421356]\n",
    "#  [ 1.73205081  2.        ]]\n",
    "print(\"np.sqrt(x)\\n\",np.sqrt(x))\n"
   ]
  },
  {
   "cell_type": "markdown",
   "metadata": {
    "id": "YEKkZCVN2i0v"
   },
   "source": [
    "## **การหาผลรวม โดยการกำหนดรูปแบบในการคำนวณ **"
   ]
  },
  {
   "cell_type": "markdown",
   "metadata": {
    "id": "HigTkHDJ2Gl6"
   },
   "source": [
    "Numpy provides many useful functions for performing computations on arrays; one of the most useful is sum:"
   ]
  },
  {
   "cell_type": "code",
   "execution_count": null,
   "metadata": {
    "colab": {
     "base_uri": "https://localhost:8080/",
     "height": 221
    },
    "id": "o62W564h2Nla",
    "outputId": "25081680-44a1-47d1-fd44-2f1db2dd2100"
   },
   "outputs": [],
   "source": [
    "import numpy as np\n",
    "\n",
    "x = np.array([[1,2],[3,4]])\n",
    "print(\"x \\n\",x)\n",
    "\n",
    "print(\"\\n np.sum(x) \\n \",np.sum(x))  # Compute sum of all elements; prints \"10\"\n",
    "print(\"\\n np.sum(x, axis=0) \\n\",np.sum(x, axis=0))  # Compute sum of each column; prints \"[4 6]\"\n",
    "print(\"\\n np.sum(x, axis=1) \\n\",np.sum(x, axis=1))  # Compute sum of each row; prints \"[3 7]\""
   ]
  },
  {
   "cell_type": "markdown",
   "metadata": {
    "id": "HZIj9H1t2YVc"
   },
   "source": [
    "## **Transpose**"
   ]
  },
  {
   "cell_type": "markdown",
   "metadata": {
    "id": "rg6DjwVz2VA7"
   },
   "source": [
    "Apart from computing mathematical functions using arrays, we frequently need to reshape or otherwise manipulate data in arrays. The simplest example of this type of operation is transposing a matrix; to transpose a matrix, simply use the T attribute of an array object:"
   ]
  },
  {
   "cell_type": "code",
   "execution_count": null,
   "metadata": {
    "id": "opodmAcI2XF5"
   },
   "outputs": [],
   "source": [
    "import numpy as np\n",
    "\n",
    "x = np.array([[1,2], [3,4]])\n",
    "print(x)    # Prints \"[[1 2]\n",
    "            #          [3 4]]\"\n",
    "print(x.T)  # Prints \"[[1 3]\n",
    "            #          [2 4]]\"\n",
    "\n",
    "# Note that taking the transpose of a rank 1 array does nothing:\n",
    "v = np.array([1,2,3])\n",
    "print(v)    # Prints \"[1 2 3]\"\n",
    "print(v.T)  # Prints \"[1 2 3]\""
   ]
  },
  {
   "cell_type": "markdown",
   "metadata": {
    "id": "GtWHQJ_029ev"
   },
   "source": [
    "## **Mean, Max, and Min**"
   ]
  },
  {
   "cell_type": "code",
   "execution_count": null,
   "metadata": {
    "id": "z0mjOP5Y3YVO"
   },
   "outputs": [],
   "source": [
    "import numpy as np\n",
    "arr2 = np.array([[1,2,3,4], [5,6,7,8], [9,10,11,12]])\n",
    "# mean, max and min\n",
    "print(\"Mean value is: \", arr2.mean())\n",
    "print(\"Max value is: \", arr2.max())\n",
    "print(\"Min value is: \", arr2.min())\n",
    "\n",
    "#> Mean value is:  6.5\n",
    "#> Max value is:  12\n",
    "#> Min value is:  1"
   ]
  },
  {
   "cell_type": "markdown",
   "metadata": {
    "id": "pU4zRHK_lz9J"
   },
   "source": [
    "โจทย์ Numpy เกี่ยวกับการใช้ฟังชั่น\n"
   ]
  },
  {
   "cell_type": "markdown",
   "metadata": {
    "id": "BJboxt8ql7fT"
   },
   "source": [
    "#กิจกรรมที่ 10 Data Frame\n",
    "Data Manipulation with Pandas\n",
    "\n",
    "ref: https://www.growthbee.com/cheatsheet-pandas/\n",
    "\n"
   ]
  },
  {
   "cell_type": "markdown",
   "metadata": {
    "id": "eQbPOzuairYL"
   },
   "source": [
    "เรามาพิจารณาความแตกต่างของผลลัพธ์การใช้งาน Library ระหว่าง Numpy กับ Pandas"
   ]
  },
  {
   "cell_type": "code",
   "execution_count": null,
   "metadata": {
    "id": "n0scEwMhwZ7S"
   },
   "outputs": [],
   "source": [
    "# First, import pandas,numpy \n",
    "\n",
    "import numpy as np\n",
    "import pandas as pd\n"
   ]
  },
  {
   "cell_type": "code",
   "execution_count": null,
   "metadata": {
    "colab": {
     "base_uri": "https://localhost:8080/",
     "height": 187
    },
    "id": "rszWcDxm3MEs",
    "outputId": "4f14fff3-5e9e-408c-d3a1-4bb1c3e20f1f"
   },
   "outputs": [],
   "source": [
    "import numpy as np\n",
    "import pandas as pd\n",
    "\n",
    "data = np.array([['','Col1','Col2'],\n",
    "                ['Row1',1,2],\n",
    "                ['Row2',3,4]])\n",
    "\n",
    "print('Numpy: ')\n",
    "print(data)\n",
    "print( )\n",
    "print( )\n",
    "print('DataFrame: ')              \n",
    "print(pd.DataFrame(data=data[1:,1:],\n",
    "                  index=data[1:,0],\n",
    "                  columns=data[0,1:]))"
   ]
  },
  {
   "cell_type": "code",
   "execution_count": null,
   "metadata": {
    "colab": {
     "base_uri": "https://localhost:8080/",
     "height": 136
    },
    "id": "1CClq_5C56CF",
    "outputId": "bd06f14f-4709-4412-dcc1-3c6ab408ce2c"
   },
   "outputs": [],
   "source": [
    "import numpy as np\n",
    "import pandas as pd\n",
    "\n",
    "data = pd.Series([0.25, 0.5, 0.75, 1.0])\n",
    "print('Show data=',data)\n",
    "print(data.values)\n",
    "print(data.index)\n",
    "\n",
    "\n"
   ]
  },
  {
   "cell_type": "markdown",
   "metadata": {
    "id": "8m8tl8ftokEO"
   },
   "source": [
    "##วิธีสร้าง DataFrame อย่างง่าย"
   ]
  },
  {
   "cell_type": "code",
   "execution_count": null,
   "metadata": {
    "colab": {
     "base_uri": "https://localhost:8080/",
     "height": 87
    },
    "id": "WsiyukduorQk",
    "outputId": "9e78b064-c5c8-48be-8fcf-233b18079dbc"
   },
   "outputs": [],
   "source": [
    "import numpy as np\n",
    "import pandas as pd\n",
    "array = np.array([('F',35,3000,300), ('M',15,6000,320),('M',16,7000,800)])\n",
    "df = pd.DataFrame(array,columns=['Gender','Age','Salary','OT'])\n",
    "print(df)"
   ]
  },
  {
   "cell_type": "markdown",
   "metadata": {
    "id": "UzWrej5xo1SU"
   },
   "source": [
    "##การเลือกแค่ 1 Column"
   ]
  },
  {
   "cell_type": "code",
   "execution_count": null,
   "metadata": {
    "colab": {
     "base_uri": "https://localhost:8080/",
     "height": 85
    },
    "id": "BB8NDdIqo31C",
    "outputId": "f46b2629-81c4-47a3-d7da-0080507d318c"
   },
   "outputs": [],
   "source": [
    "df['Gender']"
   ]
  },
  {
   "cell_type": "markdown",
   "metadata": {
    "id": "ARrcCfdmo4XQ"
   },
   "source": [
    "##ต้องการเลือกหลายคอลัมน์"
   ]
  },
  {
   "cell_type": "code",
   "execution_count": null,
   "metadata": {
    "colab": {
     "base_uri": "https://localhost:8080/",
     "height": 142
    },
    "id": "Sa306CFzo4oa",
    "outputId": "1b7e98b6-af1d-49d5-db25-dce12a4f1867"
   },
   "outputs": [],
   "source": [
    "df[['Gender','Age']]"
   ]
  },
  {
   "cell_type": "markdown",
   "metadata": {
    "id": "FNpikPi4o410"
   },
   "source": [
    "##วิธีแปลงประเภทข้อมูล (Data Type) ใน Data Frame"
   ]
  },
  {
   "cell_type": "code",
   "execution_count": null,
   "metadata": {
    "colab": {
     "base_uri": "https://localhost:8080/",
     "height": 85
    },
    "id": "9EaElSaSo5DO",
    "outputId": "24855447-35f5-4ccc-912e-eb9e98b858d5"
   },
   "outputs": [],
   "source": [
    "df['Age'] = pd.to_numeric(df['Age']) # แปลงเป็น Numeric\n",
    "df['Salary'] = df['Salary'].astype('int') # การแปลงค่า เป็น integer\n",
    "df['OT'] = df['OT'].astype('float') # การแปลงค่า เป็น float\n",
    "\n",
    "print(df)"
   ]
  },
  {
   "cell_type": "markdown",
   "metadata": {
    "id": "mp93BrgQpJxU"
   },
   "source": [
    "##วิธีเลือกแถวตามเงื่อนไขที่ต้องการ"
   ]
  },
  {
   "cell_type": "code",
   "execution_count": null,
   "metadata": {
    "colab": {
     "base_uri": "https://localhost:8080/",
     "height": 111
    },
    "id": "77x7Fi2kpJ_L",
    "outputId": "b3d606d6-9641-4a22-99c3-3ff27850655a"
   },
   "outputs": [],
   "source": [
    "df[df['Gender']=='M']"
   ]
  },
  {
   "cell_type": "code",
   "execution_count": null,
   "metadata": {
    "colab": {
     "base_uri": "https://localhost:8080/",
     "height": 111
    },
    "id": "7rdteZSP6p4n",
    "outputId": "ab6c77af-d9f8-4547-cc8f-85fc912afb4e"
   },
   "outputs": [],
   "source": [
    "df[(df['Gender']=='M') | \\\n",
    "   (df['Salary']>6500)]"
   ]
  },
  {
   "cell_type": "code",
   "execution_count": null,
   "metadata": {
    "colab": {
     "base_uri": "https://localhost:8080/",
     "height": 80
    },
    "id": "UvPn6TkcpKZ_",
    "outputId": "2c99d14c-d4c8-4fb1-fd24-54a317870c8c"
   },
   "outputs": [],
   "source": [
    "df[df['Age']>16] # เงื่อนไขแบบง่าย ๆ"
   ]
  },
  {
   "cell_type": "markdown",
   "metadata": {
    "id": "AxGkXVFcpKSY"
   },
   "source": [
    "##การเพิ่มคอมลัมภ์ใหม่"
   ]
  },
  {
   "cell_type": "code",
   "execution_count": null,
   "metadata": {
    "colab": {
     "base_uri": "https://localhost:8080/",
     "height": 85
    },
    "id": "MUd5rntopVDW",
    "outputId": "abe49a1f-d290-43d5-bae7-ae2ee29de4aa"
   },
   "outputs": [],
   "source": [
    "df['TotalIncome'] = df['Salary']+df['OT']\n",
    "print(df)"
   ]
  },
  {
   "cell_type": "markdown",
   "metadata": {
    "id": "O8MtNI8rpcTh"
   },
   "source": [
    "##วิธีเช็ค Summary ของแต่ละคอลัมน์ (count, min, max, mean)"
   ]
  },
  {
   "cell_type": "code",
   "execution_count": null,
   "metadata": {
    "colab": {
     "base_uri": "https://localhost:8080/",
     "height": 297
    },
    "id": "NlkPBthEpcvL",
    "outputId": "dc36554a-a9e1-4396-eb08-e315779e1fea"
   },
   "outputs": [],
   "source": [
    "df.describe()"
   ]
  },
  {
   "cell_type": "markdown",
   "metadata": {
    "id": "dmHkERgfpkhC"
   },
   "source": [
    "##วิธีเช็ค Summary (count, min, max, mean) แบบแยกกลุ่ม"
   ]
  },
  {
   "cell_type": "code",
   "execution_count": null,
   "metadata": {
    "colab": {
     "base_uri": "https://localhost:8080/",
     "height": 193
    },
    "id": "z_HmA-yEpk_A",
    "outputId": "54b1439b-91ee-45cb-99e7-998932b981f4"
   },
   "outputs": [],
   "source": [
    "test = df.groupby(['Gender'])\n",
    "test.describe()"
   ]
  },
  {
   "cell_type": "code",
   "execution_count": null,
   "metadata": {
    "id": "DW1sLnWlXSzH"
   },
   "outputs": [],
   "source": []
  },
  {
   "cell_type": "markdown",
   "metadata": {
    "id": "lJMYuP_WpqXL"
   },
   "source": [
    "## การนำเข้าข้อมูล CSV\n",
    "\n",
    "*  ให้ทำการ import ข้อมูลราคาขายบ้าน จาก path sample_data/california_housing_train.csv\n",
    "\n"
   ]
  },
  {
   "cell_type": "code",
   "execution_count": null,
   "metadata": {
    "colab": {
     "base_uri": "https://localhost:8080/",
     "height": 241
    },
    "id": "D8AH-I3gpqun",
    "outputId": "c9d41356-c211-4fa4-ecd6-ff380e890474"
   },
   "outputs": [],
   "source": [
    "import pandas as pd \n",
    "dfcsv = pd.read_csv(\"sample_data/california_housing_train.csv\") \n",
    "print (dfcsv.shape)\n",
    "\n",
    "# ดูลักษณะของข้อมูล\n",
    "#df.describe()\n",
    "dfcsv.head()\n",
    "dfcsv.tail()"
   ]
  },
  {
   "cell_type": "code",
   "execution_count": null,
   "metadata": {
    "colab": {
     "base_uri": "https://localhost:8080/",
     "height": 379
    },
    "id": "fa2E4w0sp9Pb",
    "outputId": "016df6a8-4a38-4e5f-96c8-c24438fa0e7a"
   },
   "outputs": [],
   "source": [
    "# ทำการดูข้อมูล 10 บรรทัดแรก\n",
    "dfcsv.head(10)"
   ]
  },
  {
   "cell_type": "code",
   "execution_count": null,
   "metadata": {
    "id": "xYwAczkNO7BN"
   },
   "outputs": [],
   "source": [
    "dfcsv = "
   ]
  },
  {
   "cell_type": "markdown",
   "metadata": {
    "id": "ccXUqFCEp4KV"
   },
   "source": [
    "##การจัดเรียงข้อมูล"
   ]
  },
  {
   "cell_type": "code",
   "execution_count": null,
   "metadata": {
    "colab": {
     "base_uri": "https://localhost:8080/",
     "height": 1105
    },
    "id": "cRBjIAW-p4r5",
    "outputId": "6b50c540-50bd-4d9d-bf54-96d81f2613aa"
   },
   "outputs": [],
   "source": [
    "dfcsv = dfcsv.sort_values(by='housing_median_age', ascending=True)\n",
    "print(dfcsv)\n",
    "\n",
    "#print (dfcsv.head(10))"
   ]
  },
  {
   "cell_type": "markdown",
   "metadata": {
    "id": "SZ-hW0RCp5Gj"
   },
   "source": [
    "##แบบฝึกหัด 9.1 จงหาผลรวม ระหว่าง total_rooms กับ total_bedrooms"
   ]
  },
  {
   "cell_type": "code",
   "execution_count": null,
   "metadata": {
    "id": "WYfSpHM9p5bx"
   },
   "outputs": [],
   "source": [
    "dfcsv['Total'] = dfcsv['____']+dfcsv['_____']\n",
    "print(dfcsv)"
   ]
  },
  {
   "cell_type": "markdown",
   "metadata": {
    "id": "g86lB99hqPR4"
   },
   "source": [
    "##แบบฝึกหัด 9.2 จงดึงข้อมูล total_rooms ที่มี >7000"
   ]
  },
  {
   "cell_type": "code",
   "execution_count": null,
   "metadata": {
    "id": "fcUzfqFlqPiS"
   },
   "outputs": [],
   "source": [
    "dfcsv[dfcsv['________']>_________]"
   ]
  },
  {
   "cell_type": "markdown",
   "metadata": {
    "id": "Yzko0ax-qW9R"
   },
   "source": [
    "##แบบฝึกหัด 9.3 จงเช็ค summary ข้อมูล แบบแยกกลุ่มตาม housing_median_age"
   ]
  },
  {
   "cell_type": "code",
   "execution_count": null,
   "metadata": {
    "id": "M4d9PajGqXYP"
   },
   "outputs": [],
   "source": [
    "test = dfcsv.groupby(['population'])\n",
    "test.describe()"
   ]
  },
  {
   "cell_type": "markdown",
   "metadata": {
    "id": "eCpcwTUpheJF"
   },
   "source": [
    "# **กิจกรรมที่ 11: **  MatPlotLib"
   ]
  },
  {
   "cell_type": "markdown",
   "metadata": {
    "id": "l5dyPbKYxk1G"
   },
   "source": [
    "matplotlib นั้นมีหลายชนิดด้วยกัน เช่นกราฟเส้นธรรมดา, แผนภูมิแท่ง, แผนภูมิวงกลม, การกระจาย ฟังก์ชันที่ใช้วาดกราฟเส้นธรรมดาก็คือฟังก์ชันที่ชื่อว่า plot อาร์กิวเมนต์ที่ต้องใส่ในฟังก์ชันนี้คือพิกัดในแนวแกน x และ y ตามลำดับ โดยข้อมูลที่ใส่ต้องเป็นออบเจ็กต์ชนิดลำดับ เช่น ลิสต์, ทูเพิล, เรนต์ และสามารถใช้อาเรย์ของ numpy ได้ด้วย\n",
    "\n",
    "การวาดกราฟด้วย matplotlib นั้นเราสามารถปรับแต่งอะไรได้มากมายหลากหลายตามต้องการ เช่นสีเส้น, รูปแบบเส้น, ขอบเขตกราฟ, ชื่อแกน, คำอธิบายเพิ่มเติม, ฯลฯ\n",
    "\n",
    "ref::  https://phyblas.hinaboshi.com/numa05"
   ]
  },
  {
   "cell_type": "markdown",
   "metadata": {
    "id": "HBxTgGu-ycpx"
   },
   "source": []
  },
  {
   "cell_type": "code",
   "execution_count": null,
   "metadata": {
    "id": "t7iPopvjyH69"
   },
   "outputs": [],
   "source": [
    "import matplotlib.pyplot as plt   #  plt แทน pyplot ซึ่งมอดูลย่อยของ matplotlib "
   ]
  },
  {
   "cell_type": "code",
   "execution_count": null,
   "metadata": {
    "colab": {
     "base_uri": "https://localhost:8080/",
     "height": 347
    },
    "id": "-4my0fSpxzw5",
    "outputId": "e403f819-a61a-47e4-eee6-e869f5ba078a"
   },
   "outputs": [],
   "source": [
    " # กำหนดค่าของ x และ y ที่จะใช้\n",
    "x = [0, 1, 2, 3, 4, 5, 6, 7, 8, 9, 10]\n",
    "y = [0.0, 0.84, 0.91, 0.14, -0.76, -0.96, -0.28, 0.66, 0.99, 0.41, -0.54]\n",
    "# เริ่มวาดกราฟ\n",
    "plt.plot(x,y) # คำสั่งวาดกราฟ\n",
    "plt.show() # คำสั่งให้แสดง"
   ]
  },
  {
   "cell_type": "code",
   "execution_count": null,
   "metadata": {
    "colab": {
     "base_uri": "https://localhost:8080/",
     "height": 440
    },
    "id": "7w_0ZBnjw0yW",
    "outputId": "ed1b130f-88fe-4039-d3d2-ed02964fec38"
   },
   "outputs": [],
   "source": [
    "import matplotlib as mpl\n",
    "import matplotlib.pyplot as plt\n",
    "import numpy as np\n",
    "\n",
    "plt.style.use('classic')\n",
    "\n",
    "x = np.linspace(0, 2*np.pi, 2000)\n",
    "plt.plot(x, np.cos(x),'--')\n",
    "plt.plot(x, (1/2)*np.sin(x),'.')\n",
    "plt.plot(x, np.sin(100*x))\n",
    "plt.show()"
   ]
  },
  {
   "cell_type": "code",
   "execution_count": null,
   "metadata": {
    "id": "GrgZ5B16jlhj"
   },
   "outputs": [],
   "source": [
    "fig = plt.figure()\n",
    "\n",
    "x = np.linspace(0, 2*np.pi, 200)\n",
    "plt.plot(x, np.sin(x), '-')\n",
    "plt.plot(x, np.cos(x), '--');\n",
    "\n",
    "x2 = np.linspace(0, 2*np.pi, 100)\n",
    "\n",
    "plt.plot(x2, np.sin(2*x2), 'x', color='black');\n",
    "\n",
    "fig.savefig('my_figure.png')"
   ]
  },
  {
   "cell_type": "code",
   "execution_count": null,
   "metadata": {
    "id": "YBMPZzSoj-bV"
   },
   "outputs": [],
   "source": [
    "fig.canvas.get_supported_filetypes()"
   ]
  },
  {
   "cell_type": "code",
   "execution_count": null,
   "metadata": {
    "colab": {
     "base_uri": "https://localhost:8080/",
     "height": 439
    },
    "id": "Mj0ku5QjkxKJ",
    "outputId": "e605691f-f0e3-489f-d55b-150869d9a845"
   },
   "outputs": [],
   "source": [
    "plt.style.use('seaborn-whitegrid')\n",
    "fig2 = plt.figure() # create a plot figure\n",
    "\n",
    "# create the first of two panels and set current axis\n",
    "plt.subplot(2, 2, 1) # (rows, columns, panel number)\n",
    "plt.plot(x, np.sin(x),color='r')\n",
    "\n",
    "# create the second panel and set current axis\n",
    "plt.subplot(2, 2, 2)\n",
    "plt.plot(x, np.cos(x),color='#8830A4');\n",
    "\n",
    "# create the first of two panels and set current axis\n",
    "plt.subplot(2, 2, 3) # (rows, columns, panel number)\n",
    "plt.plot(x, np.sin(2*x))\n",
    "\n",
    "# create the second panel and set current axis\n",
    "plt.subplot(2, 2, 4)\n",
    "plt.plot(x, np.cos(2*x));"
   ]
  },
  {
   "cell_type": "code",
   "execution_count": null,
   "metadata": {
    "id": "pxEA77--lXJS"
   },
   "outputs": [],
   "source": [
    "import matplotlib.pyplot as plt\n",
    "plt.style.use('seaborn-whitegrid')\n",
    "import numpy as np\n",
    "\n",
    "fig = plt.figure()\n",
    "ax = plt.axes()"
   ]
  },
  {
   "cell_type": "code",
   "execution_count": null,
   "metadata": {
    "id": "fDrU69cjmNgD"
   },
   "outputs": [],
   "source": [
    "x = np.linspace(0, 10, 30)\n",
    "y = np.sin(x)\n",
    "plt.plot(x, y, 'o', color='black');"
   ]
  },
  {
   "cell_type": "markdown",
   "metadata": {
    "id": "1UdBYrbBr5-R"
   },
   "source": [
    "# **กิจกรรมที่ 12: ** Data Visualization"
   ]
  },
  {
   "cell_type": "markdown",
   "metadata": {
    "id": "L0L6E_Kfscuk"
   },
   "source": [
    "IRIS IMAGE\n",
    "\n",
    "[Image URL](https://www.img.in.th/image/BK5q9c)\n",
    "\n",
    "IRIS คือ ดอกไม้ชนิดหนึ่งที่นิยมปลูกทั่วโลกโดยมี 3 สายพันธ์(Class) คือ\n",
    "\n",
    "Iris-virginica\n",
    "Iris-setosa\n",
    "Iris-versicolor\n",
    "ซึ่งแต่ละสายพันธ์จะมีคุณลักษณะ(Feature)ของดอกที่แตกต่างกันคือ\n",
    "\n",
    "ความกว้างของกลีบเลี้ยง (sepal width)\n",
    "ความกว้างของกลีบดอก (petal width)\n",
    "ความยาวของกลีบเลี้ยง (sepal length)\n",
    "ความยาวของกลีบดอก (petal length)\n",
    "ซึ่งเราสามาถตรวจสายพันธ์(Classification) โดยอาศัยข้อมูลคุณลักษณะ(Feature)\n",
    "\n",
    "โดยข้อมูลต่างๆของดอก IRIS สามารถเข้าไป Download ได้"
   ]
  },
  {
   "cell_type": "markdown",
   "metadata": {
    "id": "W7I3MNEuskxd"
   },
   "source": [
    "##การนำข้อมูลเข้า Colab\n",
    "\n",
    "11.1 ให้ทุกคนเข้าไปที่เว็ปไซต์ IRIS UCI แล้วทำการ Download ไฟล์ชื่อ iris.data\n",
    "\n",
    "ที่ https://archive.ics.uci.edu/ml/datasets/iris"
   ]
  },
  {
   "cell_type": "code",
   "execution_count": null,
   "metadata": {
    "id": "-8Lb5dcDr6R8"
   },
   "outputs": [],
   "source": [
    "import pandas as pd\n",
    "from google.colab import files\n",
    "\n",
    "upload = files.upload() #ทำการอัพโหลดไฟล์ที่อยู่ในเครื่อง"
   ]
  },
  {
   "cell_type": "markdown",
   "metadata": {
    "id": "cewvXo2-r6hi"
   },
   "source": [
    "11.2 ทำการใส่ชื่อไฟล์ลงในที่อัพโหลดลงใน _ชื่อไฟล์___"
   ]
  },
  {
   "cell_type": "code",
   "execution_count": null,
   "metadata": {
    "id": "ncafH6iYr6x1"
   },
   "outputs": [],
   "source": [
    "import io\n",
    "iris = pd.read_csv(io.StringIO(upload[iris.data].decode('utf-8')), names=['sepal length', 'sepal width', 'petal length', 'petal width', 'class']) # ทำการอ่านข้อมูลจากไฟล์ โดยกำชื่อคอลัมน์เป็น sepal length', 'sepal width', 'petal length', 'petal width', 'class' "
   ]
  },
  {
   "cell_type": "markdown",
   "metadata": {
    "id": "lS9IX8sAr7DE"
   },
   "source": [
    "11.3 จงแสดงข้อมูล(Data set) ที่อ่านมาได้"
   ]
  },
  {
   "cell_type": "code",
   "execution_count": null,
   "metadata": {
    "id": "j3nlq7Dnr7R1"
   },
   "outputs": [],
   "source": [
    "iris.boxplot(by=\"class\", figsize=(15, 8)) #แสดงรูปกราฟเปรียบเทียบข้อมูลของแต่คุณลักษณะ"
   ]
  },
  {
   "cell_type": "markdown",
   "metadata": {
    "id": "ynEoh7PbtYbY"
   },
   "source": [
    "## การแสดงข้อมูลในรูปแบบต่างๆ"
   ]
  },
  {
   "cell_type": "code",
   "execution_count": null,
   "metadata": {
    "id": "d9rKKI4_tYyP"
   },
   "outputs": [],
   "source": [
    "import matplotlib.pyplot as plt\n",
    "\n",
    "# แยกกลุ่มข้อมูลตามประเภทของสายพันธุ์\n",
    "setosa = iris.loc[iris['class']=='Iris-setosa'] # แสดงช่วงข้อมูลของดอก IRIS สายพันธ์ุ virginica\n",
    "setosa"
   ]
  },
  {
   "cell_type": "code",
   "execution_count": null,
   "metadata": {
    "id": "LyzpAbpxtlj4"
   },
   "outputs": [],
   "source": []
  },
  {
   "cell_type": "markdown",
   "metadata": {
    "id": "L2oIWRYutZBu"
   },
   "source": [
    "12.1 จงแสดงข้อมูลของดอก IRIS สายพันธ์ุ virginica"
   ]
  },
  {
   "cell_type": "code",
   "execution_count": null,
   "metadata": {
    "id": "ut63N5natZWt"
   },
   "outputs": [],
   "source": [
    "virginica = iris.loc[iris['class']==________________]\n",
    "virginica"
   ]
  },
  {
   "cell_type": "markdown",
   "metadata": {
    "id": "IbR4_VA3tZtl"
   },
   "source": [
    "12.2 จงแสดงข้อมูลของดอก IRIS สายพันธ์ุ versicolor"
   ]
  },
  {
   "cell_type": "code",
   "execution_count": null,
   "metadata": {
    "id": "xypaABbAtaBq"
   },
   "outputs": [],
   "source": [
    "____________________________________\n",
    "versicolor"
   ]
  },
  {
   "cell_type": "markdown",
   "metadata": {
    "id": "9_sI10_UtakD"
   },
   "source": [
    "##การแสดงความสัมพันธุ์ของข้อมูลหรือการกระจายตัวของข้อมูลจัดทำเพื่อให้สามารถเห็นภาพของกระบวนการจำแนกข้อมูลได้จัดเจนขึ้น\n",
    "\n",
    "###จากตัวอย่างด้านล่างเราทำการ plot ความยาวของกลีบเลี้ยง (sepal length) และ ความยาวของกลีบดอก (petal length)"
   ]
  },
  {
   "cell_type": "code",
   "execution_count": null,
   "metadata": {
    "id": "yGgyHNl4tazK"
   },
   "outputs": [],
   "source": [
    "plt.scatter(setosa['sepal length'], setosa['sepal width'], color='b')\n",
    "plt.scatter(virginica['sepal length'], virginica['sepal width'], color='r')\n",
    "plt.scatter(versicolor['sepal length'], versicolor['sepal width'], color='g')\n",
    "plt.xlabel('sepal length')\n",
    "plt.ylabel('sepal width')\n",
    "plt.show()"
   ]
  },
  {
   "cell_type": "markdown",
   "metadata": {
    "id": "3mTJnhjWuaef"
   },
   "source": [
    "##คำถามปราบเซียน(ตอบพร้อมกัน)\n",
    "\n",
    "\n",
    "\n",
    "1.   สีแดงแสดงข้อมูลของอะไร\n",
    "2.   สีน้ำเงินแสดงข้อมูลของอะไร\n",
    "3.   สีน้ำเขียวแสดงข้อมูลของอะไร\n",
    "4.   IRIS สายพันธ์ใดที่มีการกระจ่ายตัวแบบแบ่งกลุ่มอย่างชัดเจน\n",
    "\n",
    "\n",
    "\n"
   ]
  },
  {
   "cell_type": "code",
   "execution_count": null,
   "metadata": {
    "id": "5VbhiwZdubGg"
   },
   "outputs": [],
   "source": [
    "plt.scatter(setosa['sepal length'], setosa['petal width'], color='b')\n",
    "plt.scatter(virginica['sepal length'], virginica['petal width'], color='r')\n",
    "plt.scatter(versicolor['sepal length'], versicolor['petal width'], color='g')\n",
    "plt.xlabel('sepal length')\n",
    "plt.ylabel('petal width')\n",
    "plt.show()"
   ]
  },
  {
   "cell_type": "markdown",
   "metadata": {
    "id": "L_70KkYHua7o"
   },
   "source": [
    "##คำถามปราบเซียน(ตอบพร้อมกัน)\n",
    "\n",
    "1. กราฟที่แสดงเป็นกราฟของความสัมพันธ์ของคุณลักษณะ(Feature)ใด\n",
    "2. ดอก IRIS สายพันธ์ใดที่มีการกระจ่ายตัวแบบแบ่งกลุ่มอย่างชัดเจน"
   ]
  },
  {
   "cell_type": "code",
   "execution_count": null,
   "metadata": {
    "id": "paJ3FKhOuaw6"
   },
   "outputs": [],
   "source": [
    "plt.scatter(setosa['petal length'], setosa['petal width'], color='b')\n",
    "plt.scatter(virginica['petal length'], virginica['petal width'], color='r')\n",
    "plt.scatter(versicolor['petal length'], versicolor['petal width'], color='g')\n",
    "plt.xlabel('petal length')\n",
    "plt.ylabel('petal width')\n",
    "plt.show()"
   ]
  },
  {
   "cell_type": "markdown",
   "metadata": {
    "id": "wIdzkeeAu8Wx"
   },
   "source": [
    "#คำถามปราบเซียน(ตอบพร้อมกัน)\n",
    "\n",
    "1. กราฟที่แสดงเป็นกราฟของความสัมพันธ์ของคุณลักษณะ(Feature)ใด\n",
    "2. ดอก IRIS สายพันธ์ใดที่มีการกระจ่ายตัวแบบแบ่งกลุ่มอย่างชัดเจน"
   ]
  },
  {
   "cell_type": "code",
   "execution_count": null,
   "metadata": {
    "id": "f7zlAZWru82Q"
   },
   "outputs": [],
   "source": [
    "import seaborn as sns\n",
    "\n",
    "sns.pairplot(iris, hue=\"class\") #ทำการแสดงกราฟข้อมูลความทุกๆความสัมพันธ์พร้อมทั้งกราฟแสดงความถี่ของข้อมูล"
   ]
  },
  {
   "cell_type": "markdown",
   "metadata": {
    "id": "WWCi9B7RvSAG"
   },
   "source": [
    "##คำถามปราบเซียน(ตอบพร้อมกัน)\n",
    "\n",
    "1. กราฟใดแสดงความสัมพันธ์ที่แสดงการกระจ่ายตัวแบบแบ่งกลุ่มของดอก IRIS สายพันธ์ Setosa ได้จัดเจนที่สุด\n",
    "2. กราฟใดแสดงความสัมพันธ์ที่แสดงการกระจ่ายตัวแบบแบ่งกลุ่มของดอก IRIS สายพันธ์ Versicolor ได้จัดเจนที่สุด\n",
    "3. กราฟใดแสดงความสัมพันธ์ที่แสดงการกระจ่ายตัวแบบแบ่งกลุ่มของดอก IRIS สายพันธ์ Viginica ได้จัดเจนที่สุด\n",
    "4. มีดอก IRIS สายพันธ์ใดบ้างที่ไม่สามารถแบ่งกลุ่มข้อมูลออกจากกันได้อย่างเด็ดขาดสั่งเกตุจากกราฟข้อมูลใด"
   ]
  },
  {
   "cell_type": "markdown",
   "metadata": {
    "id": "XC7kDqjov48u"
   },
   "source": [
    "# กิจกรรมที่ 13 การสร้างโมเดลเพื่อใช้ทำนายข้อมูล"
   ]
  },
  {
   "cell_type": "code",
   "execution_count": null,
   "metadata": {
    "id": "oSjDmrxHv1Ru"
   },
   "outputs": [],
   "source": [
    "from sklearn import datasets, tree\n",
    "\n",
    "iris = datasets.load_iris()"
   ]
  },
  {
   "cell_type": "code",
   "execution_count": null,
   "metadata": {
    "id": "k21zzQl4v1jv"
   },
   "outputs": [],
   "source": [
    "iris # ชุดข้อมูลทั้งหมด"
   ]
  },
  {
   "cell_type": "code",
   "execution_count": null,
   "metadata": {
    "id": "EkI6EyEFv1zw"
   },
   "outputs": [],
   "source": [
    "iris.data # ชุดข้อมูลที่มีเพียงคุณลักษณะ(Feature) ของดอก IRIS เท่านั้น"
   ]
  },
  {
   "cell_type": "code",
   "execution_count": null,
   "metadata": {
    "id": "uATrwniLu9Wk"
   },
   "outputs": [],
   "source": [
    "iris.target #ชุดข้อมูลที่มีเพียงสายพันธ์ของดอก IRIS โดย 0 จะแทนด้วยสายพันธ์ Setosa, 1 แทนด้วย Versicolor, viginica แทนด้วย viginica"
   ]
  },
  {
   "cell_type": "code",
   "execution_count": null,
   "metadata": {
    "id": "OZR43eyhwHdj"
   },
   "outputs": [],
   "source": [
    "iris.target_names # ชื่อของสายพันธ์"
   ]
  },
  {
   "cell_type": "markdown",
   "metadata": {
    "id": "UWSg6MyAu9Lb"
   },
   "source": [
    "##ทำการสอนโปรแกรมเพื่อให้สามารถเข้าใจและแยกแยะสายพันธ์ุของดอก IRIS ได้โดยใช้ ต้นไม้ตัดสินใจ(Decision Tree)"
   ]
  },
  {
   "cell_type": "code",
   "execution_count": null,
   "metadata": {
    "id": "l7B0XQqIwOQb"
   },
   "outputs": [],
   "source": [
    "clf = tree.DecisionTreeClassifier()\n",
    "clf = clf.fit(iris.data, iris.target)"
   ]
  },
  {
   "cell_type": "code",
   "execution_count": null,
   "metadata": {
    "id": "6LFb3jWnwQkN"
   },
   "outputs": [],
   "source": [
    "index = clf.predict([[6.4, 3.1, 5.5, 1.8]]) # sepal length =6.4, sepal width = 3.1, petal length=5.5, petal width = 1.8\n",
    "print(index)\n",
    "print(iris.target_names[index])"
   ]
  },
  {
   "cell_type": "markdown",
   "metadata": {
    "id": "DoJJePiJwWI-"
   },
   "source": [
    "12.3 จงสร้าง Array ชื่อ Arr เพื่อเก็บข้อมูลตามลำดับต่อไปนี้ sepal length =4.8, sepal width = 3.4, petal length=1.6, petal width = 0.2"
   ]
  },
  {
   "cell_type": "code",
   "execution_count": null,
   "metadata": {
    "id": "eeqRsNj-wSy6"
   },
   "outputs": [],
   "source": [
    "arr = [____________]"
   ]
  },
  {
   "cell_type": "markdown",
   "metadata": {
    "id": "9Z5e7grPwiqN"
   },
   "source": [
    "12.4 จงทำนายหาผลลัพธ์สายพันธ์ของตอก Iris จากข้อมูลใน Arr"
   ]
  },
  {
   "cell_type": "code",
   "execution_count": null,
   "metadata": {
    "id": "IkSL6RsnwTD3"
   },
   "outputs": [],
   "source": [
    "i = clf.predict(_____________________)\n",
    "print(_____________________)"
   ]
  },
  {
   "cell_type": "markdown",
   "metadata": {
    "id": "aT-HqVMIwMxV"
   },
   "source": [
    "12.5 จงทำนายหาผลลัพธ์สายพันธ์ของตอก Iris จากข้อมูลต้อไปนี้ sepal length = 6.7, sepal width = 3.1, petal length=4.7, petal width = 1.5"
   ]
  },
  {
   "cell_type": "code",
   "execution_count": null,
   "metadata": {
    "id": "elJiIrBNwNGT"
   },
   "outputs": [],
   "source": [
    "a =[__________]\n",
    "i = clf.predict(_____________________)\n",
    "print(__________________)"
   ]
  },
  {
   "cell_type": "markdown",
   "metadata": {
    "id": "082HOSxiwseO"
   },
   "source": [
    "## แล้วข้างใน Decision Tree มันทำงานอย่างไรถึงสามารถทำนายได้ถูกต้องและแม่นยำ(กดรันดูซิจ๊ะ)"
   ]
  },
  {
   "cell_type": "code",
   "execution_count": null,
   "metadata": {
    "id": "tv9iv6Pjwzwj"
   },
   "outputs": [],
   "source": [
    "import graphviz\n",
    "\n",
    "dot_data = tree.export_graphviz(clf, out_file=None, \n",
    "                      feature_names=iris.feature_names,  \n",
    "                      class_names=iris.target_names,  \n",
    "                      filled=True, rounded=True,  \n",
    "                      special_characters=True)  \n",
    "graph = graphviz.Source(dot_data) \n",
    "graph"
   ]
  },
  {
   "cell_type": "markdown",
   "metadata": {
    "id": "xg4syRtYw0gK"
   },
   "source": [
    "สมมุติให้คุณลักษณะของดอก Iris ตามนี้ sepal length = 6.7, sepal width = 3.1, petal length=4.7, petal width = 1.5\n",
    "\n",
    "ผลลัพธ์ที่ได้คือดอก IRIS มีสายพันธ์อะไร"
   ]
  },
  {
   "cell_type": "code",
   "execution_count": null,
   "metadata": {
    "id": "dHDWMMKVw1HE"
   },
   "outputs": [],
   "source": []
  },
  {
   "cell_type": "markdown",
   "metadata": {
    "id": "NDzncTZ_w09s"
   },
   "source": [
    "## คำถามปราบเซียน(ใช้แผนผังในการตรวจสอบ)\n",
    "1. สมมุติให้คุณลักษณะของดอก Iris ตามนี้ sepal length = 4.4, sepal width = 3.2, petal length=1.3, petal width = 0.2 ผลลัพธ์ที่ได้คือดอก IRIS มีสายพันธ์อะไร\n",
    "2. สมมุติให้คุณลักษณะของดอก Iris ตามนี้ sepal length = 6.3, sepal width = 2.7, petal length=4.9, petal width = 1.8 ผลลัพธ์ที่ได้คือดอก IRIS มีสายพันธ์อะไร"
   ]
  },
  {
   "cell_type": "markdown",
   "metadata": {
    "id": "nu2-xCcaqmZ0"
   },
   "source": [
    "#<font color= blue>เอกสารเพิ่มเติม</font>\n",
    "\n"
   ]
  },
  {
   "cell_type": "markdown",
   "metadata": {
    "id": "82fKyJUjqfc8"
   },
   "source": [
    "#วิธีการพิเศษในการเลือกไฟล์ upload"
   ]
  },
  {
   "cell_type": "markdown",
   "metadata": {
    "id": "nVW-m847kEqN"
   },
   "source": [
    "##คำสั่งการอัพโหลดไฟล์ข้อมูลเข้าไปใน Google Drive"
   ]
  },
  {
   "cell_type": "code",
   "execution_count": null,
   "metadata": {
    "id": "wBPkjl2PkDeR"
   },
   "outputs": [],
   "source": [
    "from google.colab import files\n",
    "\n",
    "uploaded = files.upload()\n",
    "\n",
    "for fn in uploaded.keys():\n",
    "  print('User uploaded file \"{name}\" with length {length} bytes'.format(\n",
    "      name=fn, length=len(uploaded[fn])))"
   ]
  },
  {
   "cell_type": "markdown",
   "metadata": {
    "id": "Zsphh48UkPr2"
   },
   "source": [
    "คำสั่งการนำข้อมูลเข้าระบบ ให้ระวังเรื่อง Encoding"
   ]
  },
  {
   "cell_type": "code",
   "execution_count": null,
   "metadata": {
    "id": "KuzNYVU6jqUg"
   },
   "outputs": [],
   "source": [
    "# Read DF\n",
    "csvdf = pd.read_csv('data.csv')\n",
    "# Sometimes reading CSV for Excel need encoding\n",
    "# csvdf = pd.read_csv('data.csv',encoding = \"ISO-8859-1\")\n",
    "# Print head and tail\n",
    "csvdf.head()\n",
    "csvdf.tail()"
   ]
  },
  {
   "cell_type": "code",
   "execution_count": null,
   "metadata": {
    "id": "vraTQG9gQ9PY"
   },
   "outputs": [],
   "source": [
    "for i in range(3):\n",
    "    for j in range(3):\n",
    "        for k in range(3):\n",
    "            print(__________, '', end='')\n",
    "        print()\n",
    "    print()"
   ]
  }
 ],
 "metadata": {
  "colab": {
   "provenance": [],
   "toc_visible": true
  },
  "kernelspec": {
   "display_name": "Python 3 (ipykernel)",
   "language": "python",
   "name": "python3"
  },
  "language_info": {
   "codemirror_mode": {
    "name": "ipython",
    "version": 3
   },
   "file_extension": ".py",
   "mimetype": "text/x-python",
   "name": "python",
   "nbconvert_exporter": "python",
   "pygments_lexer": "ipython3",
   "version": "3.11.10"
  }
 },
 "nbformat": 4,
 "nbformat_minor": 4
}

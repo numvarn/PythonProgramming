{
 "cells": [
  {
   "cell_type": "markdown",
   "metadata": {},
   "source": [
    "# บทที่ 7 โครงสร้างควบคุม (Control Structure)"
   ]
  },
  {
   "cell_type": "markdown",
   "metadata": {},
   "source": [
    "การควบคุมขั้นตอนการทำงานของโปรแกรม คือกระบวนการลำดับการทำงานภายในซอสโค๊ดเพื่อให้โปรแกรมทำงานเป็นลำดับตามที่เราต้องการ \n",
    "\n",
    "การควบคุมการไหลของโปรแกรมในภาษาไพธอน จะถูกควบคุมโดยคำสั่งเงื่อนไข, ลูป และการเรียกฟังก์ชัน ส่วนนี้ครอบคลุมคำสั่ง if และ for และ while"
   ]
  },
  {
   "cell_type": "markdown",
   "metadata": {},
   "source": [
    "## คำสั่ง if ... else ใน Python คืออะไร?\n",
    "\n",
    "คำสั่ง If ... elif ... else ถูกใช้ในโปรแกรมภาษาไพธอนสำหรับการตัดสินใจ\n",
    "\n",
    "การตัดสินใจเป็นสิ่งจำเป็นในกระบวนการทำงานของโปรแกรม หากในการทำงานนั้น ๆ เป็นการทำงานภายใต้เงื่อนไขบางอย่าง และจำเป็นต้องเลือกที่จะต้องทำงานอย่างใดอย่างหนึ่งในแต่ละเงื่อนไขเท่านั้น"
   ]
  },
  {
   "cell_type": "markdown",
   "metadata": {},
   "source": [
    "## คำสั่ง if"
   ]
  },
  {
   "cell_type": "code",
   "execution_count": null,
   "metadata": {},
   "outputs": [],
   "source": [
    "if test_expression:\n",
    "    statement(s)"
   ]
  },
  {
   "cell_type": "markdown",
   "metadata": {},
   "source": [
    "จากด้านบน โปรแกรมจะประเมินนิพจน์ test_expression และจะเรียกใช้คำสั่งภายในบล็อคของ if เฉพาะเมื่อนิพจน์ test_expression นั้นมีค่าเป็นจริง (True)\n",
    "\n",
    "หากนิพจน์ test_expression นั้นมีค่าเป็นเท็จ (False) คำสั่งภายในบล็อคของ if จะไม่ถูกดำเนินการ"
   ]
  },
  {
   "cell_type": "markdown",
   "metadata": {},
   "source": [
    "### ตัวอย่างของ if"
   ]
  },
  {
   "cell_type": "code",
   "execution_count": null,
   "metadata": {},
   "outputs": [],
   "source": [
    "# หากตัวเลขเป็นบวกโปรแกรมจะพิมพ์ข้อความที่กำหนด\n",
    "\n",
    "num = 3\n",
    "if num > 0:\n",
    "    print(num, \"is a positive number.\")\n",
    "\n",
    "print(\"This is always printed.\")\n",
    "\n",
    "num = -1\n",
    "if num < 0:\n",
    "    print(num, \"is a positive number.\")\n",
    "    \n",
    "print(\"This is also always printed.\")"
   ]
  },
  {
   "cell_type": "markdown",
   "metadata": {},
   "source": [
    "ในตัวอย่างข้างต้น num > 0 คือนิพจน์ทดสอบ (test_expression)\n",
    "\n",
    "ชุดคำสั่งที่อยู่ภายในบล็อค if จะถูกดำเนินการเฉพาะเมื่อนิพจน์นี้มีค่าเป็น True เท่านั้น\n",
    "\n",
    "เมื่อตัวแปร num เท่ากับ 3 นิพจน์ทดสอบ จะมีค่าเป็นจริง (True) และชุดคำสั่งภายในบล็อค if ทั้งหมดจะถูกดำเนินการ\n",
    "\n",
    "ถ้าตัวแปร num เท่ากับ -1 นิพจน์ทดสอบมีค่าเป็นเท็จ (False) และชุดคำสั่งภายในบล็อค if จะถูกข้ามไม่ทำงาน\n",
    "\n",
    "สำหรับคำสั่ง print( ) ซึ่งอยู่นอกส่วนของ if จะถูกสั่งให้ทำงานโดยไม่คำนึงถึงนิพจน์ทดสอบว่ามีค่าเป็นจริง หรือเท็จ"
   ]
  },
  {
   "cell_type": "markdown",
   "metadata": {},
   "source": [
    "## คำสั่ง if...else\n",
    "### ไวยากรณ์ของ if...else"
   ]
  },
  {
   "cell_type": "code",
   "execution_count": null,
   "metadata": {},
   "outputs": [],
   "source": [
    "if test_expression:\n",
    "    Body_of_if\n",
    "else:\n",
    "    Body_of_else"
   ]
  },
  {
   "cell_type": "markdown",
   "metadata": {},
   "source": [
    "คำสั่ง if ... else จะทำการประเมินค่าของนิพจน์ทดสอบ (test_expression) และดำเนินการทำคำสั่งภายในบล็อค if เฉพาะเมื่อเงื่อนไขมีค่าเป็น True เท่านั้น\n",
    "\n",
    "หากเงื่อนไขเป็น False ชุดคำสั่งที่อยู่ภายในบล็อค else จะถูกสั่งให้ทำงานแทน"
   ]
  },
  {
   "cell_type": "markdown",
   "metadata": {},
   "source": [
    "### ตัวอย่างของ if...else"
   ]
  },
  {
   "cell_type": "code",
   "execution_count": null,
   "metadata": {},
   "outputs": [],
   "source": [
    "# โปรแกรมตรวจสอบว่าหมายเลขเป็นบวกหรือลบ\n",
    "# และแสดงข้อความที่กำหนดไว้\n",
    "\n",
    "num = 3\n",
    "\n",
    "if num >= 0:\n",
    "    print(\"Positive or Zero\")\n",
    "else:\n",
    "    print(\"Negative number\")"
   ]
  },
  {
   "cell_type": "markdown",
   "metadata": {},
   "source": [
    "จากตัวอย่างข้างต้น เมื่อ num มีค่าเท่ากับ 3 นิพจน์ทดสอบจะมีค่าเป็นจริง และชุดคำสั่งภายใน if จะถูกเรียกใช้ และส่วนที่อยู่ภายใน else จะถูกข้ามไม่ทำงาน\n",
    "\n",
    "และถ้าตัวเลขเท่ากับ -5 นิพจน์ทดสอบจะมีค่าเป็นเท็จ จำทำให้ชุดคำสั่งในส่วนของ else จะถูกเรียกใช้งาน\n",
    "\n",
    "และถ้าตัวเลขเท่ากับ 0 นิพจน์ทดสอบมีค่าเป็นจริง และชุดคำสั่งภายใน if ถูกสั่งให้ทำงาน และข้ามชุดคำสั่งภายใน else ไป"
   ]
  },
  {
   "cell_type": "markdown",
   "metadata": {},
   "source": [
    "## คำสั่ง if...elif...else\n",
    "\n",
    "### ไวยากรณ์ if...elif...else"
   ]
  },
  {
   "cell_type": "code",
   "execution_count": null,
   "metadata": {},
   "outputs": [],
   "source": [
    "if test_expression_1:\n",
    "    Body_of_if\n",
    "elif test_expression_2:\n",
    "    Body_of_elif\n",
    "else: \n",
    "    Body_of_else"
   ]
  },
  {
   "cell_type": "markdown",
   "metadata": {},
   "source": [
    "**ข้อสังเกตุ :**  ในภาษาไพธอน elif เป็นรูปย่อของ else..if \n",
    "\n",
    "โดย **if...elif...else** เป็นคำสั่งที่ช่วยให้เราสามารถตรวจสอบนิพจน์ทดสอบมากว่า 1 นิพจน์ขึ้นไป\n",
    "\n",
    "ถ้านิพจน์เงื่อนไขมีค่าเป็น False จะทำการตรวจสอบเงื่อนไขของบล็อค elif ถัดไปและอื่น ๆ\n",
    "\n",
    "หากเงื่อนไขทั้งหมดเป็นเท็จ ชุดคำสั่งที่อยู่ภายใต้ else จะถูกสั่งให้ทำงาน\n",
    "\n",
    "ภายใน if ... elif ... else นั้นจะมีเพียงหนึ่งบล๊อกเท่านั้นที่ถูกเรียกใช้งานตามเงื่อนไขที่กำหนดไว้"
   ]
  },
  {
   "cell_type": "markdown",
   "metadata": {},
   "source": [
    "### ตัวอย่างของ if...elif...else"
   ]
  },
  {
   "cell_type": "code",
   "execution_count": null,
   "metadata": {},
   "outputs": [],
   "source": [
    "# ในโปรแกรมนี้\n",
    "# เราตรวจสอบว่าตัวเลขเป็นบวกหรือไม่\n",
    "# เป็ฯลบ หรือศูนย์ และ\n",
    "# แสดงข้อความตามที่กำหนดไว้\n",
    "num = 0\n",
    "\n",
    "if num > 0:\n",
    "    print(\"Positive number\")\n",
    "elif num == 0:\n",
    "    print(\"Zero\")\n",
    "else:\n",
    "    print(\"Negative number\")"
   ]
  },
  {
   "cell_type": "markdown",
   "metadata": {},
   "source": [
    "เมื่อตัวแปร num มีค่าเป็นบวกจะมีการพิมพ์ข้อความเพื่อบวกว่าตัวเลขเป็นบวก\n",
    "\n",
    "และถ้าตัวเลขเท่ากับ 0 ศูนย์จะพิมพ์คำว่า \"Zero\"\n",
    "\n",
    "และหากตัวเลขเป็นค่าลบจำนวนพิมพ์ข้อความเพื่อบวกว่าตัวเลขเป็นลบ"
   ]
  },
  {
   "cell_type": "code",
   "execution_count": null,
   "metadata": {},
   "outputs": [],
   "source": [
    "# โปรแกรม ตัดเกรด\n",
    "'''\n",
    "A : 100 - 80\n",
    "B : 79 - 70\n",
    "C : 69 - 60\n",
    "D : 59 - 50\n",
    "E : 49 - 0\n",
    "'''\n",
    "score = int(input(\"Enter your score : \"))\n",
    "if score >= 80:\n",
    "    print(\"Grade A\")\n",
    "elif score >= 70:\n",
    "    print(\"Grade B\")\n",
    "elif score >= 60:\n",
    "    print(\"Grade C\")\n",
    "elif score >= 50:\n",
    "    print(\"Grade D\")\n",
    "else:\n",
    "    print(\"Grade E\")"
   ]
  },
  {
   "cell_type": "markdown",
   "metadata": {},
   "source": [
    "### คำสั่ง Nested if\n",
    "\n",
    "ภายในโปรแกรมนั้น เราสามารถมี if ... elif ... else ซ้อนอยู่ภายใต้ ... elif ... else  ได้ ซึ่งรูปแบบการซ้อนกับของ statement นี้เรียกว่า Nested ในการเขียนโปรแกรมคอมพิวเตอร์\n",
    "\n",
    "statement เหล่านี้นั้นสามารถซ้อนอยู่ภายในกันได้ การเยื้องเป็นวิธีเดียวที่จะจำแนกระดับการซ้อนออกจากัน และหากมีการซ้อนแบบนี้เกิดขึ้นในโปรแกรมจำนวนมาก อาจทำให้เกิดความสับสนได้ดังนั้นต้องหลีกเลี่ยงหากทำได้"
   ]
  },
  {
   "cell_type": "markdown",
   "metadata": {},
   "source": [
    "### ตัวอย่าง Nested if"
   ]
  },
  {
   "cell_type": "code",
   "execution_count": null,
   "metadata": {},
   "outputs": [],
   "source": [
    "# ในโปรแกรมนี้จะทำการรับค่าตัวเลขจากคีย์บอร์ด\n",
    "# เพื่อตรวจสอบว่าหมายเลขเป็นบวกหรือไม่\n",
    "# negative หรือ zero และ display\n",
    "# และแสดงข้อความที่กำหนดไว้\n",
    "# เวลานี้เราใช้ nested if\n",
    "\n",
    "num = float(input(\"Enter a number: \"))\n",
    "\n",
    "if num >= 0:\n",
    "    if num == 0:\n",
    "        print(\"Zero\")\n",
    "    else:\n",
    "        print(\"Positive number\")\n",
    "else:\n",
    "    print(\"Negative number\")"
   ]
  },
  {
   "cell_type": "markdown",
   "metadata": {},
   "source": [
    "<hr/>"
   ]
  },
  {
   "cell_type": "markdown",
   "metadata": {},
   "source": [
    "## การทำงานวนซ้ำ (Iterative)\n",
    "\n",
    "การทำงานวนซ้ำ (Iterative) หรือ Loop คือ การทำงานของโปรแกรมที่วนกลับมาที่เดิม จนกว่าจะถึงจุดที่เรากำหนดไว้ \n",
    "\n",
    "โดยการจะวนลูปได้นั้นก็จำเป็นต้องมีคำสั่งที่ใช้ในการวนลูป เช่น คำสั่ง for คำสั่ง while เป็นต้น"
   ]
  },
  {
   "cell_type": "markdown",
   "metadata": {},
   "source": [
    "### for Loop\n",
    "for ลูปในโปรแกรมภาษาไพธอน ถูกใช้การวนซ้ำบนข้อมูลประเภทลำดับ (List, Tuple, String) โดยการวนซ้ำตามลำดับเรียกว่า traversal"
   ]
  },
  {
   "cell_type": "markdown",
   "metadata": {},
   "source": [
    "### ไวยากรณ์ของ for Loop"
   ]
  },
  {
   "cell_type": "code",
   "execution_count": null,
   "metadata": {},
   "outputs": [],
   "source": [
    "for val in sequence:\n",
    "    body_of_for\n",
    "    \n",
    "'''\n",
    "for i in range(0, 10):\n",
    "    print(i)\n",
    "------------------------------\n",
    "for(int i=0; i < 10; i++) {\n",
    "    print(i);\n",
    "}\n",
    "'''"
   ]
  },
  {
   "cell_type": "code",
   "execution_count": null,
   "metadata": {},
   "outputs": [],
   "source": [
    "count = 0\n",
    "for i in range(0, 10):\n",
    "    for j in range(0, 10):\n",
    "        for x in range(0, 5):\n",
    "            count += 1\n",
    "    \n",
    "print(count)"
   ]
  },
  {
   "cell_type": "markdown",
   "metadata": {},
   "source": [
    "โดย val คือตัวแปรที่ใช้ค่าของข้อมูลสมาชิกภายในลำดับ หรือ sequence ในแต่ละรอบ\n",
    "\n",
    "ลูปจะดำเนินต่อไปจนกว่าเราจะไปถึงรายการสุดท้ายในลำดับ ชุดคำสั่งที่ดำเนินการภายใต้บล็อคของ for นั้นจะใช้การเยื้องหน้าโดย tab"
   ]
  },
  {
   "cell_type": "markdown",
   "metadata": {},
   "source": [
    "### ตัวอย่างของ for Loop"
   ]
  },
  {
   "cell_type": "code",
   "execution_count": null,
   "metadata": {},
   "outputs": [],
   "source": [
    "# โปรแกรมเพื่อหาจำนวนรวมของตัวเลขทั้งหมดที่จัดเก็บไว้ในรายการ\n",
    "\n",
    "# List of numbers\n",
    "numbers = [6, 5, 3, 8, 4, 2, 5, 4, 11]\n",
    "\n",
    "# ตัวแปรที่ใช้เก็บผลรวม\n",
    "sum = 0\n",
    "\n",
    "# iterate over the list\n",
    "for val in numbers:\n",
    "\tsum = sum + val\n",
    "\n",
    "# Output: The sum is 48\n",
    "print(\"The sum is\", sum)"
   ]
  },
  {
   "cell_type": "code",
   "execution_count": null,
   "metadata": {},
   "outputs": [],
   "source": [
    "for letter in 'Sisaket':\n",
    "    print(\"current letter : \", letter)"
   ]
  },
  {
   "cell_type": "markdown",
   "metadata": {},
   "source": [
    "### ฟังก์ชัน range( )\n",
    "\n",
    "เราสามารถสร้างลำดับของตัวเลขโดยใช้ฟังก์ชัน range() เช่น range(10) จะทำการสร้างชุดตัวเลขตั้งแต่ 0 ถึง 9 (10 หมายเลข)\n",
    "\n",
    "นอกจากนี้เรายังสามารถกำหนดขนาดเริ่มต้น หยุด และระยะห่างของตัวเลข (เริ่ม, หยุด, ระยะห่างของตัวเลข) โดยระยะห่างของตัวเลข ถูกกำหนดค่าเริ่มต้นให้เป็นเป็น 1 เสมอ หากไม่ได้กำหนดให้เป็นค่าอื่น\n",
    "\n",
    "ฟังก์ชั่น range() นี้ไม่ได้ทำการเก็บค่าที่สร้างขึ้นทั้งหมดในหน่วยความจำ แต่สร้างขึ้นมาแสดงเพียงเท่านั้น ดังนั้นในการเก็บค่าที่ฟังก์ชั่น range() สร้างขึ้นมานั้นจะต้องใช้ฟังก์ชั่น list() ในการเก็บค่าเอาไว้ภายในตัวแปร\n",
    "\n",
    "ตัวอย่างต่อไปนี้จะชี้แจงเรื่องนี้"
   ]
  },
  {
   "cell_type": "code",
   "execution_count": null,
   "metadata": {},
   "outputs": [],
   "source": [
    "list(range(0, 10, 2))"
   ]
  },
  {
   "cell_type": "code",
   "execution_count": null,
   "metadata": {},
   "outputs": [],
   "source": [
    "# ผลลัพธ์: range(0, 10)\n",
    "print(range(10))\n",
    "\n",
    "# ผลลัพธ์: [0, 1, 2, 3, 4, 5, 6, 7, 8, 9]\n",
    "print(list(range(10)))\n",
    "\n",
    "# ผลลัพธ์: [2, 3, 4, 5, 6, 7]\n",
    "print(list(range(2, 8)))\n",
    "\n",
    "# ผลลัพธ์: [2, 5, 8, 11, 14, 17]\n",
    "print(list(range(2, 20, 3)))\t\n",
    "\n",
    "# เก็บค่าที่สร้างขึ้นไว้ในตัวแปร val\n",
    "val = list(range(0, 10))\n",
    "print(val)"
   ]
  },
  {
   "cell_type": "markdown",
   "metadata": {},
   "source": [
    "เราสามารถใช้ฟังก์ชัน range() ในลูป for เพื่อสร้างลำดับของตัวเลขในการวนลูป โดยสามารถใช้ร่วมกับฟังก์ชัน len() เพื่อทำซ้ำ โดยการใช้งานร่วมกับการอ้างอิงค่าภายในลำดับผ่านดัชนี ดังนี้"
   ]
  },
  {
   "cell_type": "code",
   "execution_count": null,
   "metadata": {},
   "outputs": [],
   "source": [
    "for i in range(0, 10):\n",
    "    print(\"number. {}\".format(i))"
   ]
  },
  {
   "cell_type": "code",
   "execution_count": null,
   "metadata": {},
   "outputs": [],
   "source": [
    "mul = 3\n",
    "for i in range(1, 13):\n",
    "    print(\"{} x {} = {}\".format(i, mul, i * mul))"
   ]
  },
  {
   "cell_type": "code",
   "execution_count": null,
   "metadata": {},
   "outputs": [],
   "source": [
    "genre = ['pop', 'rock', 'jazz']\n",
    "len(genre)"
   ]
  },
  {
   "cell_type": "code",
   "execution_count": null,
   "metadata": {},
   "outputs": [],
   "source": [
    "# โปรแกรมแม่สูตรคูณ\n",
    "# ให้ทำการรับแม่สูตรคูณ จาก คีย์บอร์ด และทำการแสดงผลการคูณ จาก 1 - 12\n",
    "\n",
    "mul = int(input(\"Enter number : \"))\n",
    "for i in range(1, 13):\n",
    "    print(\"{1} x {0} = {2}\".format(i, mul, i*mul))"
   ]
  },
  {
   "cell_type": "code",
   "execution_count": null,
   "metadata": {
    "scrolled": true
   },
   "outputs": [],
   "source": [
    "genre = ['pop', 'rock', 'jazz']\n",
    "\n",
    "# iterate over the list using index\n",
    "for i in range(len(genre)):\n",
    "# for i in range(3)\n",
    "    print(\"I like\", genre[i])"
   ]
  },
  {
   "cell_type": "code",
   "execution_count": null,
   "metadata": {},
   "outputs": [],
   "source": [
    "list(range(10))"
   ]
  },
  {
   "cell_type": "code",
   "execution_count": null,
   "metadata": {},
   "outputs": [],
   "source": [
    "list(range(1, 10))"
   ]
  },
  {
   "cell_type": "code",
   "execution_count": null,
   "metadata": {},
   "outputs": [],
   "source": [
    "list(range(1, 10))"
   ]
  },
  {
   "cell_type": "code",
   "execution_count": null,
   "metadata": {},
   "outputs": [],
   "source": [
    "list(range(1, 10, 2))"
   ]
  },
  {
   "cell_type": "code",
   "execution_count": null,
   "metadata": {},
   "outputs": [],
   "source": [
    "list(range(10, 0, -1))"
   ]
  },
  {
   "cell_type": "markdown",
   "metadata": {},
   "source": [
    "หรือใช้ลูป for ดึงค่าจากลำดับออกมาแสดง"
   ]
  },
  {
   "cell_type": "code",
   "execution_count": null,
   "metadata": {},
   "outputs": [],
   "source": [
    "genre = ['pop', 'rock', 'jazz']\n",
    "\n",
    "# iterate over the list using index\n",
    "for value in genre:\n",
    "    print(\"I like\", value)"
   ]
  },
  {
   "cell_type": "code",
   "execution_count": null,
   "metadata": {},
   "outputs": [],
   "source": [
    "'''\n",
    "โปรแกรมหาค่า สูงสุด และค่าต่ำสุด จากชุดตัวเลข\n",
    "\n",
    "1. สร้างตัวแปร max สำหรับเก็บค่าสูงสุด\n",
    "2. สร้างตัวแปร min สำหรับเก็บค่าต่ำสุด\n",
    "3. กำหนดให้ max และ min มีค่าเท่ากับ สมาชิกตัวแรกของชุดตัวเลข\n",
    "4. ทำการเปรียบเทียบค่าของสมาชิก (num) ในชุดตัวเลขกับ max\n",
    "        - ถ้า max มีค่าน้อยกว่า num กำหนดให้ max = num\n",
    "5. ทำการเปรียบเทียบค่าของสมาชิก (num) ในชุดตัวเลขกับ min\n",
    "        - ถ้า min มีค่ามากกว่า num กำหนดให้ min = num\n",
    "6. ทำซ้ำข้อ 4 - 6 จนกว่าจะครบจำนวนสมาชิก\n",
    "7. พิมพ์ max และ min ออกทางหน้าจอ\n",
    "\n",
    "'''\n"
   ]
  },
  {
   "cell_type": "markdown",
   "metadata": {},
   "source": [
    "### while Loop\n",
    "\n",
    "while ลูปในภาษาโปรแกรมไพธอนนั้น ใช้สำหรับการทำซ้ำ ประภทที่ต้องมีการตรวจสอบเงื่อนไขก่อนการทำซ้ำ โดยนิพจน์เงื่อนไขนั้นจะต้องเป็นจริงเสมอจึงจะมีการทำซ้ำ\n",
    "\n",
    "เรามักใช้ while เมื่อเราไม่ทราบล่วงหน้าจำนวนครั้งที่จะทำซ้ำ"
   ]
  },
  {
   "cell_type": "markdown",
   "metadata": {},
   "source": [
    "### ไวยากรณ์ของ while Loop"
   ]
  },
  {
   "cell_type": "code",
   "execution_count": null,
   "metadata": {},
   "outputs": [],
   "source": [
    "while test_expression:\n",
    "    body_of_while"
   ]
  },
  {
   "cell_type": "markdown",
   "metadata": {},
   "source": [
    "ในลูป while นั้นจะมีการตรวจสอบนิพจน์ทดสอบก่อนเสมอ โดยจะมีการเข้ามาทำซ้ำในขอบเขตของ while ก็ต่อเมื่อ test_expression มีค่าเป็น True เท่านั้น \n",
    "\n",
    "หลังจากทำซ้ำแล้วจะมีการตรวจสอบนิพจน์ทดสอบอีกครั้ง กระบวนการนี้ยังคงดำเนินต่อไปจนกว่า test_expression จะมีค่าเป็น False\n",
    "\n",
    "ในโปรแกรมภาษาไพธอน ขอบเขตของ while ลูปจะถูกกำหนดโดยการเยื้อง\n",
    "\n",
    "โปรแกรมภาษาไพธอนจะทำการแปลค่าที่ไม่ใช่ศูนย์เป็น True และ 0 ถูกตีความว่าเป็น False"
   ]
  },
  {
   "cell_type": "markdown",
   "metadata": {},
   "source": [
    "### ตัวอย่างการใช้งาน while Loop"
   ]
  },
  {
   "cell_type": "code",
   "execution_count": null,
   "metadata": {},
   "outputs": [],
   "source": [
    "count = 2\n",
    "while count <= 10:\n",
    "    print('The index is : {}'.format(count))\n",
    "    count += 2"
   ]
  },
  {
   "cell_type": "code",
   "execution_count": null,
   "metadata": {},
   "outputs": [],
   "source": [
    "count = 0\n",
    "result = 0\n",
    "\n",
    "while count < 10:\n",
    "    result += 3\n",
    "    count += 2\n",
    "    \n",
    "print(result)\n",
    "\n",
    "\"\"\"\n",
    "1 : count = 0 , result = 3\n",
    "2 : count = 2 , result = 6\n",
    "3 : count = 4 , result = 9\n",
    "4 : count = 6 , result = 12\n",
    "5 : count = 8 , result = 15\n",
    "\"\"\""
   ]
  },
  {
   "cell_type": "code",
   "execution_count": null,
   "metadata": {},
   "outputs": [],
   "source": [
    "'''\n",
    "i=0, j=0,1,2,3...,9\n",
    "\n",
    "'''\n",
    "\n",
    "result = 0\n",
    "for i in range(0, 10): # 10\n",
    "    for j in range(0, 8): # 8\n",
    "        for x in range(0, 5):  # 5\n",
    "            result += 2\n",
    "    \n",
    "print(result)"
   ]
  },
  {
   "cell_type": "code",
   "execution_count": null,
   "metadata": {},
   "outputs": [],
   "source": [
    "# โปรแกรมบวกจำนวนสะสมภายในช่วงข้อมูลที่กำหนด\n",
    "# sum = 1 + 2 + 3 + ... + n\n",
    "\n",
    "# เพื่อรับข้อมูลจากผู้ใช้\n",
    "\n",
    "\n"
   ]
  },
  {
   "cell_type": "markdown",
   "metadata": {},
   "source": [
    "ในโปรแกรมข้างต้น นิพจน์เงื่อนไขจะเป็น True ตราบใดที่ตัวแปร i มีค่าน้อยกว่าหรือเท่ากับ n (จำนวนที่ผู้ใช้ป้อนเข้ามาในโปรแกรม)\n",
    "\n",
    "เราจำเป็นต้องเพิ่มค่าของตัวแปรตัวนับในลูป ซึ่งนี่เป็นสิ่งที่สำคัญมาก หากไม่มีการเพิ่มจำนวน i ขึ้นมาทีละ 1 ทุกครั้งที่วนลูปจะส่งผลให้มีการวนซ้ำแบบไม่มีที่สิ้นสุด"
   ]
  },
  {
   "cell_type": "markdown",
   "metadata": {},
   "source": [
    "## Nested Loop"
   ]
  },
  {
   "cell_type": "code",
   "execution_count": null,
   "metadata": {},
   "outputs": [],
   "source": [
    "for i in range(1, 13):\n",
    "    print(\"{0:>2} :  \".format(i), end=\"\")\n",
    "    for j in range(1, 13):\n",
    "        print(\"{0:>5}\".format(i * j), end=\"\")\n",
    "    print(\"\")"
   ]
  },
  {
   "cell_type": "code",
   "execution_count": null,
   "metadata": {},
   "outputs": [],
   "source": [
    "for i in range(1, 11):\n",
    "    for j in range(1, i+1):\n",
    "        print(\"{0:>3}\".format(j), end=\"\")\n",
    "    print(\"\")"
   ]
  },
  {
   "cell_type": "code",
   "execution_count": null,
   "metadata": {
    "scrolled": true
   },
   "outputs": [],
   "source": [
    "lt = ['a', 'b', 'c', 'd', 'e', 'f', 'g']\n",
    "for i in range(len(lt)):\n",
    "    for j in range(len(lt) - i):\n",
    "        print(\"{0:>2}\".format(lt[j]), end=\"\")\n",
    "    print(\"\")"
   ]
  },
  {
   "cell_type": "code",
   "execution_count": null,
   "metadata": {},
   "outputs": [],
   "source": [
    "i=1\n",
    "while i < 11:\n",
    "    j = 0\n",
    "    while j < i:\n",
    "        print('* ', end='')\n",
    "        j=j+1\n",
    "    print(\"\")\n",
    "    i=i+1\n",
    "print(\"Rest of the program\")"
   ]
  },
  {
   "cell_type": "markdown",
   "metadata": {},
   "source": [
    "## Infinite Loop"
   ]
  },
  {
   "cell_type": "code",
   "execution_count": null,
   "metadata": {},
   "outputs": [],
   "source": [
    "'''\n",
    "ให้เขียนโปรแกรมเพื่อรับข้อมูลจาก keyboard\n",
    "และพิมพ์ข้อมูลที่รับมาออกทางหน้าจอ\n",
    "และจะออกจากโปรแกรมต่อเมื่อผู้ใช้ป้อนอักษร \"q\"\n",
    "'''\n",
    "value = input(\"Enter your data : \")\n",
    "while value != \"q\":\n",
    "    print(value)\n",
    "    value = input(\"Enter your data: \")"
   ]
  },
  {
   "cell_type": "code",
   "execution_count": null,
   "metadata": {},
   "outputs": [],
   "source": [
    "while True:\n",
    "    value = input(\"Enter your data : \")\n",
    "    if value != \"q\":\n",
    "        print(value)\n",
    "    else:\n",
    "        break"
   ]
  },
  {
   "cell_type": "code",
   "execution_count": null,
   "metadata": {},
   "outputs": [],
   "source": [
    "var = 0\n",
    "while var != 1 :  # This constructs an infinite loop\n",
    "   var = int(input(\"Enter a number  :\"))\n",
    "   print(\"You entered: \", var)\n",
    "\n",
    "print(\"Good bye!\")"
   ]
  },
  {
   "cell_type": "code",
   "execution_count": null,
   "metadata": {},
   "outputs": [],
   "source": [
    "import random\n",
    "\n",
    "while True:\n",
    "   input(\"Press enter to roll the dice\")\n",
    "\n",
    "   # get a number between 1 to 6\n",
    "   num = random.randint(1, 6)\n",
    "   print(\"You got\",num)\n",
    "   option = input(\"Roll again?(y/n) \")\n",
    "\n",
    "   # condition\n",
    "   if option == 'n':\n",
    "       break"
   ]
  },
  {
   "cell_type": "markdown",
   "metadata": {},
   "source": [
    "<hr />"
   ]
  },
  {
   "cell_type": "markdown",
   "metadata": {},
   "source": [
    "## คำสั่ง break และ continue"
   ]
  },
  {
   "cell_type": "markdown",
   "metadata": {},
   "source": [
    "คำสั่ง break นั้นจะเป็นคำสั่งเพื่อออกจากลูป และคำสั่ง continue นั้นจะเป็นคำสั่งเพื่อกระโดดไปยังต้น loop"
   ]
  },
  {
   "cell_type": "markdown",
   "metadata": {},
   "source": [
    "### คำสั่ง break"
   ]
  },
  {
   "cell_type": "markdown",
   "metadata": {},
   "source": [
    "คำสั่ง break จะยุติการวนรอบที่มี โปรแกรมจะออกจากการทำงานภายในลูปทันที และจะเลื่อนไปทำงานในชุดคำสั่งถัดไปที่อยู่ต่อจากลูป\n",
    "\n",
    "ถ้าคำสั่ง break อยู่ภายใน loop ที่ซ้อนกัน (ลูปภายใน loop อื่น) การแบ่งจะเป็นการยุติ loop ที่อยู่ด้านในที่สุด"
   ]
  },
  {
   "cell_type": "code",
   "execution_count": null,
   "metadata": {},
   "outputs": [],
   "source": [
    "# โจทย์ ให้เขียนโปรแกรม ที่มี loop ซ้อนกัน 2 loop\n",
    "# โดย loop นอกสุด ให้วนรับค่า 5 ครั้ง\n",
    "# และ loop ในสุด ให้วนรับค่าไปเรื่อย ๆ จนกว่าจะพบตัวอักษร 'q'\n",
    "\n",
    "for i in range(0, 5):\n",
    "    print(\"Loop {}\".format(i))\n",
    "    while True:\n",
    "        val = input(\"Enter value : \")\n",
    "        if val == 'q':\n",
    "            break"
   ]
  },
  {
   "cell_type": "markdown",
   "metadata": {},
   "source": [
    "### ไวยากรณ์ของ break"
   ]
  },
  {
   "cell_type": "code",
   "execution_count": null,
   "metadata": {},
   "outputs": [],
   "source": [
    "break"
   ]
  },
  {
   "cell_type": "markdown",
   "metadata": {},
   "source": [
    "### ตัวอย่างการใช้งานคำสั่ง break"
   ]
  },
  {
   "cell_type": "code",
   "execution_count": null,
   "metadata": {},
   "outputs": [],
   "source": [
    "# ใช้คำสั่ง break ภายในลูป\n",
    "\n",
    "for val in \"string\":\n",
    "    if val == \"i\":\n",
    "        break\n",
    "    print(val)\n",
    "\n",
    "print(\"The end\")"
   ]
  },
  {
   "cell_type": "markdown",
   "metadata": {},
   "source": [
    "ตัวอย่างโปรแกรมด้านล่างจะแสดงให้เห็นถึงการประยุกต์ใช้คำสั่ง break เพื่อหยุดการทำงานของลูป\n",
    "\n",
    "โดยการทำงานของโปรแกรมนี้จะใช้ลูป while เพื่อวนรับค่าตัวเลขจำนวนเต็มจากคีย์บอร์ดและทำการหาค่าแสควรูทของตัวเลขที่ป้อนเข้ามา โดยโปรแกรมจะหยุกทำงานต่อเมื่อผู้ใช้ป้อนตัวเลขจำนวนเต็มลบเข้ามา"
   ]
  },
  {
   "cell_type": "code",
   "execution_count": null,
   "metadata": {},
   "outputs": [],
   "source": [
    "import math\n",
    "\n",
    "while True:\n",
    "    inp = int(input(\"Enter integer value : \"))    \n",
    "    if inp <= 0:\n",
    "        print(\"Exit program\")\n",
    "        break\n",
    "    else:\n",
    "        print(\"Square root of %s is %.3f\\n\" %(inp, math.sqrt(inp)))"
   ]
  },
  {
   "cell_type": "markdown",
   "metadata": {},
   "source": [
    "### คำสั่ง continue"
   ]
  },
  {
   "cell_type": "markdown",
   "metadata": {},
   "source": [
    "คำสั่ง continue จะใช้เพื่อข้ามส่วนที่เหลือของโค้ดภายในลูปสำหรับการทำซ้ำปัจจุบันเท่านั้น ลูปจะไม่สิ้นสุด แต่จะดำเนินการต่อด้วยการทำซ้ำครั้งต่อไป"
   ]
  },
  {
   "cell_type": "markdown",
   "metadata": {},
   "source": [
    "### ไวยากรณ์ของ Continue"
   ]
  },
  {
   "cell_type": "code",
   "execution_count": null,
   "metadata": {},
   "outputs": [],
   "source": [
    "continue"
   ]
  },
  {
   "cell_type": "markdown",
   "metadata": {},
   "source": [
    "### ตัวอย่างการใช้งานคำสั่ง Continue"
   ]
  },
  {
   "cell_type": "code",
   "execution_count": null,
   "metadata": {},
   "outputs": [],
   "source": [
    "# โปรแกรมเพื่อแสดงการใช้คำสั่ง continue ภายในลูป\n",
    "\n",
    "for val in \"string\":\n",
    "    if val == \"i\":\n",
    "        continue\n",
    "    print(val)\n",
    "\n",
    "print(\"The end\")"
   ]
  },
  {
   "cell_type": "markdown",
   "metadata": {},
   "source": [
    "โปรแกรมนี้เหมือนกับตัวอย่างข้างต้นยกเว้นคำสั่ง break ถูกแทนที่ด้วย continue\n",
    "\n",
    "เราดำเนินการต่อกับลูปถ้าสตริงคือ \"i\" ไม่ใช้งานส่วนที่เหลือของบล็อค ดังนั้นเราจะเห็นในผลลัพธ์ของเราว่ามีการพิมพ์ตัวอักษรทั้งหมดยกเว้น \"i\""
   ]
  },
  {
   "cell_type": "markdown",
   "metadata": {},
   "source": [
    "<hr/>"
   ]
  },
  {
   "cell_type": "markdown",
   "metadata": {},
   "source": [
    "## คำสั่ง pass"
   ]
  },
  {
   "cell_type": "markdown",
   "metadata": {},
   "source": [
    "ในการเขียนโปรแกรมด้วยภาษาไพธอน คำสั่ง pass นั้นถือเป็นคำสั่งว่างเปล่าที่ไม่มีผลของการดำเนินการใด ๆ ซึ่งคล้ายกับการ comment แต่ความแตกต่างระหว่าง comment และคำสั่ง pass ในโปรแกรมภาษาไพธอน คือในขณะที่ตัวแปรภาษาละเว้นการทำงานในส่วนของ comment ทั้งหมด แต่คำสั่ง pass จะไม่ถูกละเลยและมีการดำเนินการ อย่างไรก็ตามไม่มีอะไรเกิดขึ้นเมื่อดำเนินการในคำสั่ง pass"
   ]
  },
  {
   "cell_type": "markdown",
   "metadata": {},
   "source": [
    "### ไวยากรณ์ของ pass"
   ]
  },
  {
   "cell_type": "code",
   "execution_count": null,
   "metadata": {},
   "outputs": [],
   "source": [
    "pass"
   ]
  },
  {
   "cell_type": "markdown",
   "metadata": {},
   "source": [
    "โดยทั่วไปมักใช้ pass เป็นตัวยึดตำแหน่ง\n",
    "\n",
    "สมมติว่าเรามีลูป หรือฟังก์ชันที่ยังไม่ได้นำมาใช้ แต่เราต้องการใช้งานในอนาคต แต่ลูป หรือฟังก์ชั่นเหล่านั้นไม่สามารถมีส่วนภายในว่างเปล่าได้ ไม่เช่นนั้นตัวแปรภาษาจะทำการตีความว่าเกิดข้อผิดพลาด (Error) ดังนั้นเราจึงใช้ pass เพื่อสร้างส่วนของบล็อกของลูป หรือฟังก์ชั่นที่ไม่ให้ผลการดำเนินการใด ๆ เอาไว้ก่อน"
   ]
  },
  {
   "cell_type": "markdown",
   "metadata": {},
   "source": [
    "### ตัวอย่างของ pass"
   ]
  },
  {
   "cell_type": "code",
   "execution_count": null,
   "metadata": {},
   "outputs": [],
   "source": [
    "# pass เป็นเพียงตัวยึดตำแหน่งสำหรับฟังก์ชัน หรือ ลูป\n",
    "# ที่จะเพิ่มชุดคำสั่งเข้าไปในภายหลัง\n",
    "\n",
    "sequence = {'p', 'a', 's', 's'}\n",
    "for val in sequence:\n",
    "    pass"
   ]
  },
  {
   "cell_type": "code",
   "execution_count": null,
   "metadata": {},
   "outputs": [],
   "source": [
    "import numpy as np"
   ]
  },
  {
   "cell_type": "code",
   "execution_count": null,
   "metadata": {},
   "outputs": [],
   "source": [
    "lt = np.random.randint(1, 50, 10).tolist()"
   ]
  },
  {
   "cell_type": "code",
   "execution_count": null,
   "metadata": {},
   "outputs": [],
   "source": [
    "lt"
   ]
  },
  {
   "cell_type": "code",
   "execution_count": null,
   "metadata": {},
   "outputs": [],
   "source": [
    "lt = [45, 10, 31,  2, 14, 48, 12,  5, 48,  9]\n",
    "min_number = lt[0]\n",
    "for i in range(1, len(lt)):\n",
    "    if min_number > lt[i]:\n",
    "        min_number = lt[i]\n",
    "print(min_number)"
   ]
  },
  {
   "cell_type": "code",
   "execution_count": null,
   "metadata": {},
   "outputs": [],
   "source": [
    "lt = [45, 10, 31,  2, 14, 48, 12,  5, 48,  9]\n",
    "min_number = lt[0]\n",
    "for i in range(1, len(lt)):\n",
    "    if min_number < lt[i]:\n",
    "        min_number = lt[i]\n",
    "print(min_number)"
   ]
  },
  {
   "cell_type": "code",
   "execution_count": null,
   "metadata": {},
   "outputs": [],
   "source": [
    "odd = []\n",
    "even = []\n",
    "for i in range(1, 21):\n",
    "    if i % 2 == 0:\n",
    "        even.append(i)\n",
    "    else:\n",
    "        odd.append(i)\n",
    "        \n",
    "print(\"Even numbers : \", even)\n",
    "print(\"Oven numbers : \", odd)"
   ]
  },
  {
   "cell_type": "code",
   "execution_count": null,
   "metadata": {},
   "outputs": [],
   "source": [
    "import numpy as np\n",
    "vals = []\n",
    "\n",
    "print(\"Program will terminate if you enter -1 or less than\")\n",
    "while True:\n",
    "    inp = int(input(\"Enter number: \"))\n",
    "    if inp >= 0:\n",
    "        vals.append(inp)\n",
    "    else:\n",
    "        break\n",
    "\n",
    "print(\"Your enterd value is : \", end=\" \")        \n",
    "for val in vals:\n",
    "    print(val, end=\" \")\n",
    "\n",
    "print(\"\\nAverage value is : {0:.3f}\".format(np.mean(vals)))"
   ]
  },
  {
   "cell_type": "code",
   "execution_count": null,
   "metadata": {},
   "outputs": [],
   "source": [
    "#Fizz Buzz\n",
    "for i in range(1, 51):\n",
    "    if (i % 3 == 0) and (i % 5 == 0):\n",
    "        print(\"FizzBuzz\")\n",
    "    elif i % 3 == 0:\n",
    "        print(\"Fizz\")\n",
    "    elif i % 5 == 0:\n",
    "        print(\"Buzz\")\n",
    "    else:\n",
    "        print(i)"
   ]
  },
  {
   "cell_type": "code",
   "execution_count": null,
   "metadata": {},
   "outputs": [],
   "source": [
    "for i in range(1, 10):\n",
    "    for j in range(0, i):\n",
    "        print(i, end=\"\")\n",
    "    print(\"\")"
   ]
  },
  {
   "cell_type": "markdown",
   "metadata": {},
   "source": [
    "<hr/>\n",
    "**Mr.Phisan Sookkhee**\n",
    "\n",
    "Sisaket Rajabhat University<br/>\n",
    "Department of Computer Science<br/> \n",
    "Faculty of Liberal Arts and Science<br/>\n",
    "\n",
    "E-mail : phisan.s@sskru.ac.th, phisan.shukkhi@gmail.com<br/>\n",
    "Website : http://phisan.sskru.ac.th<br/>\n",
    "Facebook : www.facebook/numvarn<br/>\n",
    "Skype : phisan.shukkhi<br/>\n",
    "Mobile Phone: 089-969-7483<br/>"
   ]
  }
 ],
 "metadata": {
  "interpreter": {
   "hash": "40d3a090f54c6569ab1632332b64b2c03c39dcf918b08424e98f38b5ae0af88f"
  },
  "kernelspec": {
   "display_name": "Python 3 (ipykernel)",
   "language": "python",
   "name": "python3"
  },
  "language_info": {
   "codemirror_mode": {
    "name": "ipython",
    "version": 3
   },
   "file_extension": ".py",
   "mimetype": "text/x-python",
   "name": "python",
   "nbconvert_exporter": "python",
   "pygments_lexer": "ipython3",
   "version": "3.11.10"
  }
 },
 "nbformat": 4,
 "nbformat_minor": 4
}

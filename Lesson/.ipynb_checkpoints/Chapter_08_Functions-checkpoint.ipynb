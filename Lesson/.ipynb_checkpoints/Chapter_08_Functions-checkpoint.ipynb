{
 "cells": [
  {
   "cell_type": "markdown",
   "metadata": {},
   "source": [
    "# ฟังชั่น (Function)"
   ]
  },
  {
   "cell_type": "markdown",
   "metadata": {},
   "source": [
    "## พื้นฐานฟังก์ชั่น\n",
    "\n",
    "ในโปรแกรมภาษาไพธอน ฟังก์ชัน (Function) คือกลุ่มคำสั่งที่เกี่ยวข้องกับโปรแกรม ซึ่งทำหน้าที่อย่างเฉพาะเจาะจง โดยแยกการทำงานออกจากโปรแกรมอย่างอิสระ และจะทำงานต่อเมื่อถูกเรียกใช้งานภายในโปรแกรมเท่านั้น\n",
    "\n",
    "การออกแบบโปรแกรมให้มีลักษระการทำงานแบบฟังก์ชั่นนั้น ช่วยแบ่งเบาการทำงานของโปรแกรมของเรา โดยแบ่งส่วนของโปรแกรมเป็นส่วนย่อย เนื่องจากในการพัฒนาโปรแกรมเพื่อใช้งานอย่างต่อเนื่องจะทำให้โปรแกรมนั้นมีขนาดใหญ่ขึ้น ซึ่งการทำแบ่งแยกการทำงานต่าง ๆ ภายในโปรแกรมออกเป็นส่วนย่อยโดยฟังชั่น จะทำให้เราสามารถบริหารจัดการ และแก้ไขโปรแกรมได้ง่ายขึ้น\n",
    "\n",
    "นอกจากนี้ยังหลีกเลี่ยงความซ้ำซ้อนของโปรแกรม และทำให้สามารถนำโค๊ดกลับมาใช้งานได้ใหม่ได้"
   ]
  },
  {
   "cell_type": "markdown",
   "metadata": {},
   "source": [
    "## ไวยากรณ์ของฟังก์ชั่น"
   ]
  },
  {
   "cell_type": "code",
   "execution_count": null,
   "metadata": {},
   "outputs": [],
   "source": [
    "'''\n",
    "ฟังก์ชั่นที่ไม่ส่งค่ากลับ\n",
    "void func_name(params) {\n",
    "\n",
    "}\n",
    "\n",
    "int func_name(params) {\n",
    "    return int\n",
    "}\n",
    "'''\n",
    "\n",
    "def function_name(parameters):\n",
    "    \"\"\"docstring\"\"\"\n",
    "    statement(s)"
   ]
  },
  {
   "cell_type": "markdown",
   "metadata": {},
   "source": [
    "ไวยากรณ์ของฟังก์ชั่นด้านบน แสดงเป็นให้เห็นถึงองค์ประกอบของฟังก์ชั่นว่าประกอบไปด้วยส่วนต่อไปนี้\n",
    "\n",
    "1. คำหลัก def หมายถึงส่วนหัว ซึ่งเป็นจุดเริ่มต้นของฟังก์ชัน\n",
    "\n",
    "1. ชื่อฟังก์ชันเพื่อระบุตัวตนของฟังก์ชั่นซึ่งเป็นชื่อที่ไม่ซ้ำกันกับฟังก์ชั่นอื่น การตั้งชื่อฟังก์ชันตามกฎเดียวกันในการเขียนตัวแปรในภาษาโปรแกรมไพธอน\n",
    "\n",
    "1. พารามิเตอร์ (อาร์กิวเมนต์) เป็นส่วนที่เราส่งผ่านค่าไปยังฟังก์ชัน ซึ่งจะมีหรือไม่ก็ได้\n",
    "\n",
    "1. เครื่องหมายจุดคู่ (:) เพื่อทำเครื่องหมายส่วนท้ายของส่วนหัวของฟังก์ชัน\n",
    "\n",
    "1. สตริงเอกสารเอกสารเพิ่มเติม (docstring) เพื่อใช้สำหรับอธิบายหน้าที่การทำงานของฟังก์ชั่น\n",
    "\n",
    "1. ชุดคำสั่งที่อยู่ภายในฟังก์ชันใช้การแท็บ (Tab) เพื่อแสดงขอบเขตว่าทำงานอยู่ภายใต้ฟังก์ชั่น\n",
    "\n",
    "1. คำสั่งเพื่อส่งคืนค่าจากฟังก์ชัน"
   ]
  },
  {
   "cell_type": "markdown",
   "metadata": {},
   "source": [
    "## ตัวอย่างฟังก์ชั่น"
   ]
  },
  {
   "cell_type": "code",
   "execution_count": null,
   "metadata": {},
   "outputs": [],
   "source": [
    "def greet(name):\n",
    "    \"\"\"ฟังก์ชั่นนี้สำหรับพิมพ์ข้อความทักทาย\n",
    "    บุคคลที่ผ่านเข้ามาทางช่อง\n",
    "    parameter\"\"\"\n",
    "    \n",
    "    print(\"Hello, \" + name + \". Good morning!\")"
   ]
  },
  {
   "cell_type": "markdown",
   "metadata": {},
   "source": [
    "## การใช้งานฟังก์ชัน\n",
    "\n",
    "เมื่อเราได้กำหนดฟังก์ชั่นไว้แล้วเราสามารถเรียกฟังก์ชันนี้จากฟังก์ชันอื่น หรือโปรแกรม หรือแม้แต่จาก ไพธอนคอลโซล\n",
    "\n",
    "เมื่อต้องการเรียกใช้ฟังก์ชันเราจะพิมพ์ชื่อฟังก์ชัน หรือเรียกใช้พร้อมกับส่งค่าพารามิเตอร์ เช่น"
   ]
  },
  {
   "cell_type": "code",
   "execution_count": null,
   "metadata": {},
   "outputs": [],
   "source": [
    "greet('Paul')"
   ]
  },
  {
   "cell_type": "markdown",
   "metadata": {},
   "source": [
    "### Docstring\n",
    "\n",
    "คือ ข้อความ หรือสตริงแรกหลังจากส่วนหัวของฟังก์ชัน เรียกว่า docstring ซึ่งมีลักษระเป็นข้อความขนาดสั้น ใช้สำหรับนการอธิบายสิ่งที่เป็นฟังก์ชั่นทำ\n",
    "\n",
    "แม้ว่า docstring จะเป็นเอกสารเสริมก็ตาม แต่ว่าเอกสารประกอบนี้ก็เป็นแนวทางการเขียนโปรแกรมที่ดี\n",
    "\n",
    "ในตัวอย่างข้างต้นนั้น มีการเขียน docstring อยู่ด้านล่างส่วนหัวของฟังก์ชัน โดยทั่วไปเราใช้เครื่องหมายคำพูดสามตัวเพื่อให้ docstring สามารถขยายได้หลายบรรทัด และเราสามารถเรียกดู docstring ของฟังก์ชั่นนี้ผ่าน __doc__ ซึ่งแอตทริบิวต์ของฟังก์ชัน\n",
    "\n",
    "ตัวอย่างเช่น:"
   ]
  },
  {
   "cell_type": "code",
   "execution_count": null,
   "metadata": {},
   "outputs": [],
   "source": [
    "print(greet.__doc__)"
   ]
  },
  {
   "cell_type": "code",
   "execution_count": null,
   "metadata": {},
   "outputs": [],
   "source": [
    "def cal_age(bod, today):\n",
    "    '''@bod is birth year\n",
    "@today is present year'''\n",
    "    \n",
    "    age = today - bod\n",
    "    print(age, \"year\")\n",
    "    \n",
    "print(cal_age.__doc__)\n",
    "\n",
    "cal_age(2000, 2022)\n",
    "cal_age(1981, 2022)\n",
    "cal_age(1971, 2022)"
   ]
  },
  {
   "cell_type": "markdown",
   "metadata": {},
   "source": [
    "## การคืนค่าจากฟังก์ชั่น ด้วยคำสั่ง return"
   ]
  },
  {
   "cell_type": "markdown",
   "metadata": {},
   "source": [
    "คำสั่ง return ถูกใช้เพื่อออกจากฟังก์ชัน และกลับไปยังจุดเดิมที่จากที่ที่มีการเรียกใช้งานฟังก์ชั่นนั้น"
   ]
  },
  {
   "cell_type": "markdown",
   "metadata": {},
   "source": [
    "### ไวยากรณ์ของ return"
   ]
  },
  {
   "cell_type": "code",
   "execution_count": null,
   "metadata": {},
   "outputs": [],
   "source": [
    "return [expression_list]"
   ]
  },
  {
   "cell_type": "markdown",
   "metadata": {},
   "source": [
    "คำสั่งนี้สามารถมีนิพจน์ (Expression) หรือค่า (Value) ที่ต้องการจะส่งกลับออกไปนอกฟังก์ชั่น\n",
    "\n",
    "และถ้าหากว่าฟังก์ชั่นใดที่ไม่จำเป็นต้องมีค่าที่ต้องส่งออกไปนอกฟังก์ชั่นหลังจากที่ฟังก์ชั่นทำงานเสร็จแล้วก็ไม่จำเป็นต้องมีคำสั่ง return อยู่ภายในฟังชั่นนั้น"
   ]
  },
  {
   "cell_type": "code",
   "execution_count": null,
   "metadata": {},
   "outputs": [],
   "source": [
    "print(greet(\"May\"))"
   ]
  },
  {
   "cell_type": "markdown",
   "metadata": {},
   "source": [
    "จากด้านบน None คือ ค่าที่ถูกส่งออกมาจากฟังก์ชั่น"
   ]
  },
  {
   "cell_type": "code",
   "execution_count": null,
   "metadata": {},
   "outputs": [],
   "source": [
    "def absolute_value(num):\n",
    "    \"\"\"ฟังก์ชันนี้จะส่งกลับค่าสัมบูรณ์\n",
    "      ของหมายเลขที่ป้อนเข้ามา\n",
    "      ทางพารามิเตอร์\"\"\"\n",
    "    \n",
    "    if num >= 0:\n",
    "        return num\n",
    "    else:\n",
    "        return -num\n",
    "\n",
    "# ผลลัพธ์: 2\n",
    "print(absolute_value(2))\n",
    "\n",
    "# ผลลัพธ์: 4\n",
    "print(absolute_value(-4))"
   ]
  },
  {
   "cell_type": "markdown",
   "metadata": {},
   "source": [
    "## ขอบเขต และอายุการใช้งานของตัวแปร\n",
    "\n",
    "**ขอบเขตของตัวแปร** คือ ส่วนของโปรแกรมที่สามารถรับรู้ถึงตัวแปร, พารามิเตอร์ และตัวแปรที่ถูกกำหนดไว้ภายในฟังก์ชันจะไม่สามารถมองเห็นจากภายนอกฟังก์ชั่นได้ ดังนั้นตัวแปรเหล่านั้นจึงมีขอบเขตแบบ local\n",
    "\n",
    "**อายุการใช้งานของตัวแปร** คือ ช่วงเวลาที่ตัวแปรถูกกำหนดค่าและใช้งานจนกว่าจะถูกดึงออกจากหน่วยความจำ อายุการใช้งานของตัวแปรภายในฟังก์ชัน คือตราบเท่าที่ฟังก์ชันยังมีการทำงาน\n",
    "\n",
    "ตัวแปรเหล่านี้จะถูกทำลายเมื่อการทำงานกลับมายังโปรแกรมหลัก ดังนั้นฟังก์ชันจะไม่จำค่าของตัวแปรที่เกิดขึ้นจากการเรียกใช้งานก่อนหน้านี้\n",
    "\n",
    "นี่คือตัวอย่างเพื่ออธิบายขอบเขตของตัวแปรภายในฟังก์ชัน"
   ]
  },
  {
   "cell_type": "code",
   "execution_count": 6,
   "metadata": {},
   "outputs": [
    {
     "name": "stdout",
     "output_type": "stream",
     "text": [
      "Value x inside function: 10\n",
      "Value x outside function: 20\n"
     ]
    }
   ],
   "source": [
    "def myFunc():\n",
    "    x = 10\n",
    "    print(\"Value x inside function:\", x)\n",
    "\n",
    "x = 20\n",
    "myFunc()\n",
    "\n",
    "print(\"Value x outside function:\", x)"
   ]
  },
  {
   "cell_type": "code",
   "execution_count": 14,
   "metadata": {},
   "outputs": [
    {
     "name": "stdout",
     "output_type": "stream",
     "text": [
      "100\n"
     ]
    }
   ],
   "source": [
    "y = 10\n",
    "\n",
    "def power(z):\n",
    "    global y\n",
    "    y = z**2\n",
    "\n",
    "power(y)\n",
    "print(y)"
   ]
  },
  {
   "cell_type": "code",
   "execution_count": 15,
   "metadata": {},
   "outputs": [
    {
     "name": "stdout",
     "output_type": "stream",
     "text": [
      "20\n",
      "20\n"
     ]
    }
   ],
   "source": [
    "c = 1 \n",
    "\n",
    "def hello():\n",
    "    global c \n",
    "    c = 20\n",
    "    print(c)\n",
    "\n",
    "hello()\n",
    "print(c)"
   ]
  },
  {
   "cell_type": "code",
   "execution_count": null,
   "metadata": {},
   "outputs": [],
   "source": [
    "# โปรแกรมคำนวนอายุ\n",
    "age = 0\n",
    "def cal_age(birth_year, present_year):\n",
    "    return present_year - birth_year\n",
    "\n",
    "age = cal_age(2000, 2022)\n",
    "print(age)"
   ]
  },
  {
   "cell_type": "markdown",
   "metadata": {},
   "source": [
    "ตัวอย่างด้านบน เราจะเห็นว่าตอนเริ่มต้นนั้นค่าของ x เป็น 20 แม้ว่าฟังก์ชัน my_func() เปลี่ยนค่าของ x เป็น 10 ก็ตามแต่การดำเนินการนี้จะไม่มีผลต่อค่าของตัวแปรภายนอกฟังก์ชัน\n",
    "\n",
    "เนื่องจากตัวแปร x ภายในฟังก์ชันมีความแตกต่างกันจากด้านนอก แม้ว่าจะมีชื่อเหมือนกัน แต่ก็เป็นตัวแปรสองตัวแปรที่มีขอบเขตแตกต่างกัน\n",
    "\n",
    "ในทางกลับกันตัวแปรภายนอกฟังก์ชันจะมองเห็นได้จากภายใน มีขอบเขตแบบ Global\n",
    "\n",
    "เราสามารถอ่านค่าของตัวแปร Global เหล่านี้จากด้านในฟังก์ชัน แต่ไม่สามารถเปลี่ยนแปลง (เขียน) ได้ เพื่อที่จะปรับเปลี่ยนค่าของตัวแปรภายนอกฟังก์ชันจะต้องประกาศเป็นตัวแปรส่วนกลางโดยใช้คำหลัก global"
   ]
  },
  {
   "cell_type": "code",
   "execution_count": null,
   "metadata": {},
   "outputs": [],
   "source": [
    "def my_func():\n",
    "    global x\n",
    "    x = 10\n",
    "    print(\"Value inside function:\", x)\n",
    "\n",
    "x = 20\n",
    "my_func()\n",
    "\n",
    "print(\"Value outside function:\", x)"
   ]
  },
  {
   "cell_type": "markdown",
   "metadata": {},
   "source": [
    "## การส่งค่าผ่านอาร์กิวเมนต์ (Passing Arguments)"
   ]
  },
  {
   "cell_type": "markdown",
   "metadata": {},
   "source": [
    "อาร์กิวเมนต์ในภาษาไพธอนจะถูกส่งผ่านโดยการอ้างอิง (Pass by Reference) หมายความว่า ถ้ามีการเปลี่ยนแปลงค่าในพารามิเตอร์ที่อ้างถึงภายในฟังก์ชัน การเปลี่ยนแปลงนั้นจะส่งผลสะท้อนกลับยังโปรแกรมหลักที่เรียกใช้ฟังก์ชั่นนั้นด้วย"
   ]
  },
  {
   "cell_type": "code",
   "execution_count": null,
   "metadata": {},
   "outputs": [],
   "source": [
    "def change_me(lt):\n",
    "    #การเปลี่ยนแปลงนี้ส่งผลสะท้อนออกไปนอกฟังก์ชั่นด้วย\n",
    "    lt.append([1,2,3,4]);\n",
    "    print(\"Values inside the function: {}\".format(lt))\n",
    "\n",
    "mylist = [10,20,30];\n",
    "change_me(mylist);\n",
    "\n",
    "print(\"Values outside the function: {}\".format(mylist))"
   ]
  },
  {
   "cell_type": "code",
   "execution_count": null,
   "metadata": {},
   "outputs": [],
   "source": [
    "m = [1, 2, 3]\n",
    "\n",
    "def change_me2(lt):\n",
    "    lt.append(\"add\")\n",
    "    print(lt)\n",
    "\n",
    "change_me2(m)\n",
    "print(m)"
   ]
  },
  {
   "cell_type": "code",
   "execution_count": null,
   "metadata": {},
   "outputs": [],
   "source": [
    "'''\n",
    "ถ้าตัว argument ที่ส่งให้ฟังก์ชั่นทำงาน เป็น\n",
    "- number การส่งจะเป็นแบบ pass by value\n",
    "- list, dict การส่งเป็นแบบ pass by reference\n",
    "'''\n",
    "# m = [1, 2, 3]\n",
    "m = list(range(0, 100))\n",
    "\n",
    "def change_me3(lt):\n",
    "    lt.append(\"200\")\n",
    "    print(lt)\n",
    "\n",
    "change_me3(m)\n",
    "print(m)"
   ]
  },
  {
   "cell_type": "code",
   "execution_count": null,
   "metadata": {},
   "outputs": [],
   "source": [
    "def test1(x):\n",
    "    x = x * 10\n",
    "\n",
    "x = 20\n",
    "test1(x)\n",
    "print(x)"
   ]
  },
  {
   "cell_type": "code",
   "execution_count": null,
   "metadata": {},
   "outputs": [],
   "source": [
    "def test2(x):\n",
    "    x.append(100)\n",
    "    \n",
    "x = [1, 2, 3]\n",
    "test2(x)\n",
    "print(x)"
   ]
  },
  {
   "cell_type": "code",
   "execution_count": null,
   "metadata": {},
   "outputs": [],
   "source": [
    "def test3(x):\n",
    "    x = x + \"Hello\"\n",
    "    \n",
    "x = \"Phisan\"\n",
    "test3(x)\n",
    "print(x)"
   ]
  },
  {
   "cell_type": "markdown",
   "metadata": {},
   "source": [
    "นี่เป็นอีกหนึ่งตัวอย่างที่อาร์กิวเมนต์ถูกส่งผ่านไปยังฟังก์ชั่นโดยการอ้างอิง และการอ้างอิงนี้ทำให้เกิดการถูกเขียนทับค่าของตัวแปรภายในฟังก์ชันที่เรียก"
   ]
  },
  {
   "cell_type": "code",
   "execution_count": null,
   "metadata": {},
   "outputs": [],
   "source": [
    "import copy\n",
    "\n",
    "def changeme(mylist):\n",
    "    #วิธีการป้องกันการเปลี่ยนแปลงที่จะส่งผลสะท้อนออกไปนอกฟังก์ชั่น\n",
    "    local_list = copy.copy(mylist)\n",
    "    local_list.append([1,2,3,4]);\n",
    "    print(\"Values inside the function: {}\".format(local_list))\n",
    "\n",
    "mylist = [10,20,30];\n",
    "changeme(mylist);\n",
    "\n",
    "print(\"Values outside the function: {}\".format(mylist))"
   ]
  },
  {
   "cell_type": "markdown",
   "metadata": {},
   "source": [
    "## ประเภทของ Arguments\n",
    "\n",
    "เราสามารถเรียกใช้ฟังก์ชันโดยใช้พารามิเตอร์ หรืออาร์กิวเมนต์แบบเป็นทางการต่อไปนี้ -\n",
    "\n",
    "- Required arguments\n",
    "- Keyword arguments\n",
    "- Default arguments\n",
    "- Variable-length arguments"
   ]
  },
  {
   "cell_type": "markdown",
   "metadata": {},
   "source": [
    "### Required arguments\n",
    "\n",
    "Required arguments คืออาร์กิวเมนต์ที่ส่งผ่านไปยังฟังก์ชันตามลำดับตำแหน่งที่ถูกต้อง ที่นี่จำนวนอาร์กิวเมนต์ในการเรียกฟังก์ชันควรตรงกับที่ฟังก์ชันได้ประกาศไว้\n",
    "\n",
    "เมื่อต้องการเรียกใช้ฟังก์ชัน printme() ผู้เรียกจำเป็นต้องส่งอาร์กิวเมนต์ให้แก่ฟังชั่นตามที่ได้ระุไว้มิฉะนั้นจะให้ข้อผิดพลาดทางไวยากรณ์ดังนี้ -"
   ]
  },
  {
   "cell_type": "code",
   "execution_count": 19,
   "metadata": {},
   "outputs": [
    {
     "name": "stdout",
     "output_type": "stream",
     "text": [
      "string\n"
     ]
    }
   ],
   "source": [
    "def printme(strs):\n",
    "    \"This prints a passed string into this function\"\n",
    "    print(strs)\n",
    "\n",
    "printme(\"string\")"
   ]
  },
  {
   "cell_type": "markdown",
   "metadata": {},
   "source": [
    "จากตัวอย่างด้านบนเมื่อทำการ exeucute โปรแกรมจะเห็นว่าเกิดข้อผิดพลาดขึ้นเนื่องจากการเรียบกใช้ฟังก์ชั่นนั้นไม่ได้ส่งค่าอาร์กิวเมนต์ตามที่ฟังก์ชั่นต้องการ"
   ]
  },
  {
   "cell_type": "code",
   "execution_count": 20,
   "metadata": {},
   "outputs": [
    {
     "name": "stdout",
     "output_type": "stream",
     "text": [
      "Name:  mik\n",
      "Age  10\n"
     ]
    }
   ],
   "source": [
    "def printinfo(name, age):\n",
    "    print(\"Name: \", name)\n",
    "    print(\"Age \", age)\n",
    "\n",
    "printinfo(\"mik\", 10)"
   ]
  },
  {
   "cell_type": "markdown",
   "metadata": {},
   "source": [
    "จากตัวอย่างด้านบนเป็นลักษณะที่ถูกต้องในการเรียกใช้งานฟังก์ชั่น และการส่งผ่านค่าอาร์กิวเมนต์ตามที่ฟังก์ชั่นได้ประกาศเอาไว้ ชึ่งผู้เรียกจะต้องส่งอาร์กิวเม้นให้ครบ และเป็นลำดับอย่างถูกต้อง"
   ]
  },
  {
   "cell_type": "markdown",
   "metadata": {},
   "source": [
    "### Keyword arguments\n",
    "\n",
    "Keyword arguments นั้นเกี่ยวข้องกับการเรียกฟังก์ชันที่ต้องทำการใช้ Keyword arguments ในการเรียกฟังก์ชัน ผู้เรียกจะต้องทำการระบุอาร์กิวเมนต์ตอนเรียกพร้อมกำหนดค่าตามชื่อพารามิเตอร์ที่ฟังก์ชั่นระบุเอาไว้\n",
    "\n",
    "การเรียกใช้งานแบบนี้นั้นช่วยให้เราสามารถข้าม อาร์กิวเมนต์บางตัว หรือหลีกเลี่ยงการจัดลำดับในการส่งค่า ซึ่งในภาษาไพธอนสามารถ keyword ที่ให้มาเพื่อให้ตรงกับค่าที่มีพารามิเตอร์ได้ ดังตัวอย่างต่อไปนี้"
   ]
  },
  {
   "cell_type": "code",
   "execution_count": 21,
   "metadata": {},
   "outputs": [
    {
     "name": "stdout",
     "output_type": "stream",
     "text": [
      "Name:  miki Age  50 \n",
      "Name:  miki Age  50 \n",
      "Name:  miki Age  50 \n"
     ]
    }
   ],
   "source": [
    "def printinfo(name, age):\n",
    "    print(\"Name: \", name, end=\" \")\n",
    "    print(\"Age \", age, end=\" \")\n",
    "    print()\n",
    "\n",
    "# Now you can call printinfo function\n",
    "printinfo(age=50, name=\"miki\")\n",
    "printinfo(name=\"miki\", age=50)\n",
    "printinfo(\"miki\", 50)"
   ]
  },
  {
   "cell_type": "markdown",
   "metadata": {},
   "source": [
    "### Default arguments\n",
    "\n",
    "Default arguments คือ อาร์กิวเมนต์ที่จะใช้ค่าเริ่มต้น หรือค่าดีฟอลต์แทน หากไม่มีการระบุค่าในการเรียกฟังก์ชันสำหรับอาร์กิวเมนต์นั้น ตัวอย่างต่อไปนี้ แสดงให้เห็นแนวคิดเกี่ยวกับอาร์กิวเมนต์ดีฟอลต์ โดยจะพิมพ์อายุเริ่มต้นออกไปถ้าหากไม่มีการส่งผ่านค่าอาร์กิวเม้นต์เข้ามา -"
   ]
  },
  {
   "cell_type": "code",
   "execution_count": 22,
   "metadata": {},
   "outputs": [
    {
     "name": "stdout",
     "output_type": "stream",
     "text": [
      "Name:  miki\n",
      "Age  50\n",
      "---------\n",
      "Name:  miki\n",
      "Age  35\n",
      "---------\n"
     ]
    }
   ],
   "source": [
    "def printinfo(name, age=35):\n",
    "    print(\"Name: \", name)\n",
    "    print(\"Age \", age)\n",
    "    print(\"---------\")\n",
    "\n",
    "printinfo(age=50, name=\"miki\")\n",
    "printinfo(name=\"miki\")"
   ]
  },
  {
   "cell_type": "code",
   "execution_count": null,
   "metadata": {},
   "outputs": [],
   "source": [
    "def testDefault(name=\"\"):\n",
    "    if name == \"\":\n",
    "        print(\"Hello unknow\")\n",
    "    else:\n",
    "        print(name)\n",
    "        \n",
    "testDefault()"
   ]
  },
  {
   "cell_type": "markdown",
   "metadata": {},
   "source": [
    "### Variable-length arguments\n",
    "\n",
    "บางครั้งเราอาจต้องประมวลผลข้อมูลภายในฟังก์ชันด้วยจำนวนอาร์กิวเมนต์มากกว่าที่ประกาศไว้ตั้งแต่เริ่มต้น อาร์กิวเมนต์เหล่านี้เรียกว่าอาร์กิวเมนต์ความยาวตัวแปรและไม่มีชื่ออยู่ในคำจำกัดความฟังก์ชันซึ่งแตกต่างจากอาร์กิวเมนต์ประเภทอื่น ๆ\n",
    "\n",
    "ไวยากรณ์สำหรับฟังก์ชันที่มีอาร์กิวเมนต์แบบ none-keyword variable เป็นดังนี้ -"
   ]
  },
  {
   "cell_type": "code",
   "execution_count": null,
   "metadata": {},
   "outputs": [],
   "source": [
    "my_func(1, 2, 5, 10)\n",
    "my_func(10, 20)\n",
    "my_func(1)"
   ]
  },
  {
   "cell_type": "code",
   "execution_count": null,
   "metadata": {},
   "outputs": [],
   "source": [
    "def functionname([formal_args,] *var_args_tuple ):\n",
    "    \"function_docstring\"\n",
    "    function_suite\n",
    "    return [expression]"
   ]
  },
  {
   "cell_type": "code",
   "execution_count": 24,
   "metadata": {},
   "outputs": [
    {
     "name": "stdout",
     "output_type": "stream",
     "text": [
      "(1,)\n",
      "1\n"
     ]
    }
   ],
   "source": [
    "def my_func(*var):\n",
    "    print(var)\n",
    "    for i in var:\n",
    "        print(i)\n",
    "        \n",
    "my_func(1)"
   ]
  },
  {
   "cell_type": "markdown",
   "metadata": {},
   "source": [
    "เครื่องหมายดอกจัน ( * ) ถูกวางไว้ก่อนชื่อตัวแปรที่เก็บค่าของอาร์กิวเมนต์ตัวแปร non-keyword ทั้งหมด tuple นี้จะยังคงว่างอยู่ถ้าไม่ระบุอาร์กิวเมนต์เพิ่มเติมในระหว่างการเรียกฟังก์ชัน ต่อไปนี้เป็นตัวอย่างง่าย ๆ -"
   ]
  },
  {
   "cell_type": "code",
   "execution_count": 28,
   "metadata": {},
   "outputs": [
    {
     "name": "stdout",
     "output_type": "stream",
     "text": [
      "Output is: \n",
      "70----\n",
      "60\n",
      "50\n"
     ]
    }
   ],
   "source": [
    "def printinfo(arg1, *vartuple):\n",
    "    print(\"Output is: \")\n",
    "    print(str(arg1) + \"----\")\n",
    "    \n",
    "    for var in vartuple:\n",
    "        print(var)\n",
    "\n",
    "# printinfo( 10 )\n",
    "printinfo( 70, 60, 50 )"
   ]
  },
  {
   "cell_type": "code",
   "execution_count": null,
   "metadata": {},
   "outputs": [],
   "source": []
  },
  {
   "cell_type": "code",
   "execution_count": null,
   "metadata": {},
   "outputs": [],
   "source": [
    "n = 20\n",
    "result = 1\n",
    "for i in range(n, 0, -1):\n",
    "   result = result * i\n",
    "print(result)"
   ]
  },
  {
   "cell_type": "code",
   "execution_count": null,
   "metadata": {},
   "outputs": [],
   "source": [
    "def factorial(n):\n",
    "    if n == 1:\n",
    "        return 1\n",
    "    else:\n",
    "        return n * factorial(n-1)\n",
    "\n",
    "result = factorial(5)\n",
    "print(result)"
   ]
  },
  {
   "cell_type": "code",
   "execution_count": null,
   "metadata": {},
   "outputs": [],
   "source": [
    "def fib(n):\n",
    "    a,b = 0,1\n",
    "    for i in range(n):\n",
    "        print(a, end=\" \")\n",
    "        a,b = b,a+b\n",
    "\n",
    "fib(10)"
   ]
  },
  {
   "cell_type": "code",
   "execution_count": null,
   "metadata": {},
   "outputs": [],
   "source": [
    "def recur_fibo(n):\n",
    "   if n <= 1:\n",
    "       return n\n",
    "   else:\n",
    "       return(recur_fibo(n-1) + recur_fibo(n-2))\n",
    "\n",
    "nterms = 10\n",
    "for i in range(nterms):\n",
    "    print(recur_fibo(i), end=\" \")"
   ]
  },
  {
   "cell_type": "code",
   "execution_count": null,
   "metadata": {},
   "outputs": [],
   "source": [
    "import sys\n",
    "\n",
    "bank_1000 = 10\n",
    "bank_500 = 20\n",
    "bank_100 = 30\n",
    "\n",
    "pay_1000 = 0\n",
    "pay_500 = 0\n",
    "pay_100 = 0\n",
    "\n",
    "total_money = (1000 * bank_1000) + \\\n",
    "              (500 * bank_500) + \\\n",
    "              (100 * bank_100)\n",
    "\n",
    "value = int(input(\"Enter your amount: \"))\n",
    "\n",
    "if value % 100 == 0:\n",
    "    if total_money >= value:\n",
    "        # consider bank 1000\n",
    "        pay_1000 = int(value / 1000)\n",
    "        value = value - (pay_1000 * 1000)\n",
    "\n",
    "        # consider bank 5000\n",
    "        pay_500 = int(value / 500)\n",
    "        value = value - (pay_500 * 500)\n",
    "\n",
    "         # consider bank 100\n",
    "        pay_100 = int(value / 100)\n",
    "        value = value - (pay_100 * 100)\n",
    "\n",
    "        print('''\n",
    "            ATM will pay bank :\n",
    "                1000 : {0}\n",
    "                500  : {1}\n",
    "                100  : {2}\\n'''.format(pay_1000, pay_500, pay_100))\n",
    "    else:\n",
    "        print(\"ATM have no enough money.\")\n",
    "        sys.exit(0)\n",
    "else:\n",
    "    print(\"Your amount is less than 100 bath.\")\n",
    "    sys.exit(0)"
   ]
  },
  {
   "cell_type": "code",
   "execution_count": null,
   "metadata": {},
   "outputs": [],
   "source": [
    "import sys\n",
    "\n",
    "def cal(bank, value):\n",
    "    ''' \n",
    "    @param bank : the bank value {1000, 500, 100}\n",
    "    @param value : the consider money amount'''\n",
    "    \n",
    "    pay = int(value / bank)\n",
    "    value = value - (pay * bank)\n",
    "    return pay, value\n",
    "\n",
    "bank_1000, bank_500, bank_100 = 10, 20, 30\n",
    "pay_1000, pay_500, pay_100 = 0, 0, 0\n",
    "\n",
    "total_money = (1000 * bank_1000) + \\\n",
    "              (500 * bank_500) + \\\n",
    "              (100 * bank_100)\n",
    "\n",
    "value = int(input(\"Enter your amount: \"))\n",
    "\n",
    "if value % 100 == 0:\n",
    "    if total_money >= value:\n",
    "        pay_1000, value = cal(1000, value)\n",
    "        pay_500, value = cal(500, value)\n",
    "        pay_100, value = cal(100, value)\n",
    "\n",
    "        print('''\n",
    "            ATM will pay bank :\n",
    "                1000 : {}\n",
    "                500  : {}\n",
    "                100  : {}\\n'''.format(pay_1000, pay_500, pay_100))\n",
    "    else:\n",
    "        print(\"ATM have no enough money.\")\n",
    "        sys.exit(0)\n",
    "else:\n",
    "    print(\"Your amount is less than 100 bath.\")\n",
    "    sys.exit(0)"
   ]
  },
  {
   "cell_type": "markdown",
   "metadata": {},
   "source": [
    "<hr/>\n",
    "**Mr.Phisan Sookkhee**\n",
    "\n",
    "Sisaket Rajabhat University<br/>\n",
    "Department of Computer Science<br/> \n",
    "Faculty of Liberal Arts and Science<br/>\n",
    "\n",
    "E-mail : phisan.s@sskru.ac.th, phisan.shukkhi@gmail.com<br/>\n",
    "Website : http://phisan.sskru.ac.th<br/>\n",
    "Facebook : www.facebook/numvarn<br/>\n",
    "Skype : phisan.shukkhi<br/>\n",
    "Mobile Phone: 089-969-7483<br/>"
   ]
  }
 ],
 "metadata": {
  "kernelspec": {
   "display_name": "Python 3 (ipykernel)",
   "language": "python",
   "name": "python3"
  },
  "language_info": {
   "codemirror_mode": {
    "name": "ipython",
    "version": 3
   },
   "file_extension": ".py",
   "mimetype": "text/x-python",
   "name": "python",
   "nbconvert_exporter": "python",
   "pygments_lexer": "ipython3",
   "version": "3.11.10"
  }
 },
 "nbformat": 4,
 "nbformat_minor": 4
}

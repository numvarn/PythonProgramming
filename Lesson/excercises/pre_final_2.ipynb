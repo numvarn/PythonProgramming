{
 "cells": [
  {
   "cell_type": "markdown",
   "id": "b4cd3c02-e219-467d-adec-0d0a11d9e29e",
   "metadata": {},
   "source": [
    "# แบบฝึกหัดที่ 2 ก่อนสอบปลายภาค"
   ]
  },
  {
   "cell_type": "markdown",
   "id": "2948a9b0-c1d7-4eb5-8838-176acb70778c",
   "metadata": {},
   "source": [
    "### เรื่อง ทบทวนเนื้อหาการเขียนโปรแกรมด้วยภาษาไพทอนเบื้องต้น"
   ]
  },
  {
   "cell_type": "markdown",
   "id": "52214a89-8cc2-4989-a334-22c91d155e91",
   "metadata": {},
   "source": [
    "ชื่อ........... นามสกุล............. รหัสนักศึกษา"
   ]
  },
  {
   "cell_type": "markdown",
   "id": "be66bdec-8ff3-48b3-8f81-16887b231bf6",
   "metadata": {},
   "source": [
    "### Functions"
   ]
  },
  {
   "cell_type": "markdown",
   "id": "f52fc4e7-4075-4953-af9b-23cb0761aa42",
   "metadata": {},
   "source": [
    "**แบบฝึกหัดที่ 1** : สร้างฟังก์ชันที่ทำหน้ารับชุดข้องข้อความเข้ามาพร้อมทั้ง ทั้งแสดงข้อความนั้น และบอกจำนวนอักขระที่อยู่ใข้อความนั้นออกมาทางหน้าจอ"
   ]
  },
  {
   "cell_type": "raw",
   "id": "e6935aa6-00c1-4587-9f31-0f30f9e8476c",
   "metadata": {},
   "source": [
    "# ข้อความ \n",
    "f = 'The Shawshank Redemption'\n",
    "g = 'The Godfather'\n",
    "h = 'The Godfather: Part II'\n",
    "i = 'The Dark Knight'\n",
    "j = \"Schindler's List\""
   ]
  },
  {
   "cell_type": "code",
   "execution_count": 2,
   "id": "ae684192-9514-4bc3-adf4-f2527542b446",
   "metadata": {},
   "outputs": [],
   "source": [
    "# คำตอบ\n",
    "\n"
   ]
  },
  {
   "cell_type": "markdown",
   "id": "ad7eab25-da54-49b4-8b7e-4e008c957f2c",
   "metadata": {},
   "source": [
    "<hr>"
   ]
  },
  {
   "cell_type": "markdown",
   "id": "bf31fe17-6a86-4b14-b1a4-119e656994d3",
   "metadata": {},
   "source": [
    "**ข้อที่ 2** สร้างฟังก์ชันเพื่อนับจำนวนตัวลีเมอร์ ที่พบเห็นอยู่ภายใน List ว่าจะแต่ละสายพันธ์มีจำนวนเท่าใด"
   ]
  },
  {
   "cell_type": "code",
   "execution_count": 2,
   "id": "2bc3f576-7e48-4036-b3ce-e365c87b14f6",
   "metadata": {},
   "outputs": [],
   "source": [
    "lemurs = ['White-headed lemur', 'Gray-headed lemur', \n",
    "          'Common brown lemur', 'Collared brown lemur', \n",
    "          'Red lemur', 'Collared brown lemur', 'Red-fronted lemur', \n",
    "          'Red-bellied lemur', 'Collared brown lemur', 'Crowned lemur', \n",
    "          'Red lemur', 'Crowned lemur', 'Blue-eyed black lemur', \n",
    "          'Common brown lemur', 'Mongoose lemur', 'Common brown lemur', \n",
    "          \"Sanford's brown lemur\", 'White-headed lemur', 'Black lemur', \n",
    "          'Mongoose lemur', 'Red-bellied lemur', 'Red-fronted lemur', \n",
    "          'Blue-eyed black lemur', 'Collared brown lemur', \n",
    "          'Blue-eyed black lemur', 'White-headed lemur', 'Red lemur', \n",
    "          'Red-bellied lemur', 'Gray-headed lemur', 'Red-bellied lemur', \n",
    "          'Red lemur', 'Common brown lemur', 'Mongoose lemur', 'Red lemur', \n",
    "          'Common brown lemur', \"Sanford's brown lemur\"]"
   ]
  },
  {
   "cell_type": "code",
   "execution_count": 3,
   "id": "f8e9bb53-b34a-4897-b01b-2c62e7191229",
   "metadata": {},
   "outputs": [],
   "source": [
    "# คำตอบ\n",
    "# คำใบ้ ใช้ Dictionnary\n",
    "\n"
   ]
  },
  {
   "cell_type": "markdown",
   "id": "1e60345a-875c-460a-87d1-7659462f3919",
   "metadata": {},
   "source": [
    "<hr>"
   ]
  },
  {
   "cell_type": "markdown",
   "id": "7fd2caaa-e462-4ff5-ad81-dc761fc31caa",
   "metadata": {},
   "source": [
    "**ข้อที่ 3** เขียนฟังก์ชันเพื่อแยกชื่อ และนามสกุลออกจากัน พร้อมแสดงทางหน้าจอ"
   ]
  },
  {
   "cell_type": "code",
   "execution_count": 3,
   "id": "f313a283-8925-43c4-9b2b-d3e9ff437ed2",
   "metadata": {},
   "outputs": [],
   "source": [
    "full_names = ['Harry Potter', \n",
    "              'Hermione Granger', \n",
    "              'Ronald Weasley']"
   ]
  },
  {
   "cell_type": "code",
   "execution_count": 4,
   "id": "e4cf0da4-4b79-45e9-887b-3ddeef89a876",
   "metadata": {},
   "outputs": [],
   "source": [
    "# คำตอบ\n",
    "\n"
   ]
  },
  {
   "cell_type": "markdown",
   "id": "7380cd6f-cdfd-4373-a313-f1d548c90893",
   "metadata": {},
   "source": [
    "<hr>"
   ]
  },
  {
   "cell_type": "markdown",
   "id": "5ed88a95-692d-4097-9124-0b882a274e89",
   "metadata": {},
   "source": [
    "**ข้อที่ 4** จงเขียน Function เพื่อนับจำนวน AT ที่อยู่ในสานอักขระ dna_seq"
   ]
  },
  {
   "cell_type": "code",
   "execution_count": 5,
   "id": "1148df21-280d-4bb7-9a6c-cfe1e2197dca",
   "metadata": {},
   "outputs": [],
   "source": [
    "dna_seq = 'ACGCGCAGATAGGACGCAGGGAGGGAGGAGGTTTTAGAAGAGGATAGACCCA'"
   ]
  },
  {
   "cell_type": "code",
   "execution_count": 5,
   "id": "4b3cdf62-47dd-432c-94d8-920877ed601f",
   "metadata": {},
   "outputs": [],
   "source": [
    "# คำตอบ\n",
    "\n"
   ]
  },
  {
   "cell_type": "markdown",
   "id": "04c4827d-d43b-46b6-b3f6-6bc1ca41d456",
   "metadata": {},
   "source": [
    "<hr>"
   ]
  },
  {
   "cell_type": "code",
   "execution_count": null,
   "id": "d0d4b649-9dde-4caa-9582-66cd12ac25d4",
   "metadata": {},
   "outputs": [],
   "source": []
  }
 ],
 "metadata": {
  "kernelspec": {
   "display_name": "Python 3 (ipykernel)",
   "language": "python",
   "name": "python3"
  },
  "language_info": {
   "codemirror_mode": {
    "name": "ipython",
    "version": 3
   },
   "file_extension": ".py",
   "mimetype": "text/x-python",
   "name": "python",
   "nbconvert_exporter": "python",
   "pygments_lexer": "ipython3",
   "version": "3.11.10"
  }
 },
 "nbformat": 4,
 "nbformat_minor": 5
}

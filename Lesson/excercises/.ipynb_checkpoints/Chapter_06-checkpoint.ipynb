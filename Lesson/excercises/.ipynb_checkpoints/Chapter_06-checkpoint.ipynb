{
 "cells": [
  {
   "cell_type": "markdown",
   "id": "53640b66-7ff4-4070-a650-5d759680eaf9",
   "metadata": {},
   "source": [
    "# แบบฝึกหัดบทที่ 6 นิพจน์ และตัวดำเนินการ"
   ]
  },
  {
   "cell_type": "markdown",
   "id": "a221518e-96e2-4ea4-a581-4879c95b74f9",
   "metadata": {},
   "source": [
    "<img src=\"./images/chap6_1.png\" width=460px>"
   ]
  },
  {
   "cell_type": "markdown",
   "id": "37c266fe-c53b-44da-a397-ef367a154b0b",
   "metadata": {},
   "source": [
    "## 5.1 จงแปลงนิพจน์ทางคณิตศาสตร์ให้เป็นโปรแกรม"
   ]
  },
  {
   "cell_type": "code",
   "execution_count": 2,
   "id": "401e407f-1046-4e6f-ae42-ff8d428fbd10",
   "metadata": {},
   "outputs": [],
   "source": [
    "#คำตอบ\n",
    "\n"
   ]
  },
  {
   "cell_type": "markdown",
   "id": "0917eab1-82d0-4ae6-83b3-bd3d3ae61252",
   "metadata": {},
   "source": [
    "## 5.2 จงแปลงนิพจน์ทางคณิตศาสตร์ให้เป็นโปรแกรม"
   ]
  },
  {
   "cell_type": "code",
   "execution_count": 3,
   "id": "ce1c251f-7384-42e4-a2c9-1f4df0adb91a",
   "metadata": {},
   "outputs": [],
   "source": [
    "#คำตอบ\n",
    "\n"
   ]
  },
  {
   "cell_type": "markdown",
   "id": "19f3f8e5-f05f-4a0b-a58b-59ba4e8c2f51",
   "metadata": {},
   "source": [
    "## 5.3 จงแปลงนิพจน์ทางคณิตศาสตร์ให้เป็นโปรแกรม"
   ]
  },
  {
   "cell_type": "code",
   "execution_count": 4,
   "id": "80f071f2-1b92-4c7b-b312-9b2bfea85501",
   "metadata": {},
   "outputs": [],
   "source": [
    "#คำตอบ\n",
    "\n"
   ]
  },
  {
   "cell_type": "markdown",
   "id": "77cd413d-0c91-4374-9954-c2389226a00d",
   "metadata": {},
   "source": [
    "## 5.4 จงแปลงนิพจน์ทางคณิตศาสตร์ให้เป็นโปรแกรม"
   ]
  },
  {
   "cell_type": "code",
   "execution_count": 5,
   "id": "e2bc7708-b26d-4219-91e4-082d3b8284b6",
   "metadata": {},
   "outputs": [],
   "source": [
    "#คำตอบ\n",
    "\n"
   ]
  },
  {
   "cell_type": "markdown",
   "id": "6d3a803d-23d6-49a7-adaf-8a55618e84c9",
   "metadata": {},
   "source": [
    "## 5.5 จงแปลงนิพจน์ทางคณิตศาสตร์ให้เป็นโปรแกรม"
   ]
  },
  {
   "cell_type": "code",
   "execution_count": 7,
   "id": "2cbe9d06-0578-4416-ae46-0d233e7cabe4",
   "metadata": {},
   "outputs": [],
   "source": [
    "# คำตอบ\n",
    "\n"
   ]
  },
  {
   "cell_type": "markdown",
   "id": "292e77f9-219f-4020-a5c3-2f47b61051d8",
   "metadata": {},
   "source": [
    "## แบบฝึกหัดเพิ่มเติม"
   ]
  },
  {
   "cell_type": "markdown",
   "id": "d7891225-22ab-411b-928d-f380dfb7b551",
   "metadata": {},
   "source": [
    "- ดังนั้นเพื่อความปลอดภัย เราจึงนิยมเขียนเครื่องหมายยกกำลัง `**` ติดกับตัวเลข เพื่อให้เป็นที่รู้กันว่า ถ้าหากไม่มีวงเล็บ เราจะเริ่มทำจากเครื่องหมายยกกำลังก่อนเสมอ เช่น เราจะเขียนนิพจน์ $ 2 \\times 5^3 $ ด้วยคำสั่ง `2 * 5**3` เป็นต้น"
   ]
  },
  {
   "cell_type": "markdown",
   "id": "d8c50637-750d-465a-8cc5-4ce9ce4aee7e",
   "metadata": {},
   "source": [
    "- นอกจากนี้เรายังสามารถคำนวณค่าราก (root) ได้โดยการใช้สูตร:\n",
    "\n",
    "$$ \\sqrt[r]{a} = a^{1/r} $$\n",
    "\n",
    "- เช่น เราสามารถคำนวณค่า $ \\sqrt[3]{8} $ (รากที่ 3 ของ 8) ได้โดยคำสั่ง `8**(1/3)`"
   ]
  },
  {
   "cell_type": "code",
   "execution_count": 2,
   "id": "c4a87675-bb32-4bab-b747-1b12788fd9d2",
   "metadata": {},
   "outputs": [
    {
     "data": {
      "text/plain": [
       "2.0"
      ]
     },
     "execution_count": 2,
     "metadata": {},
     "output_type": "execute_result"
    }
   ],
   "source": [
    "8**(1/3)"
   ]
  },
  {
   "cell_type": "markdown",
   "id": "ef83eb50-e5c6-40c5-837a-89d72c0aaca7",
   "metadata": {},
   "source": [
    "เรามาลองคำนวณค่าของนิพจน์ทางคณิตศาสตร์ต่อไปนี้กันครับ\n",
    "\n",
    "1. $ 3 \\times (4 + 1 - 2 \\times 5) $"
   ]
  },
  {
   "cell_type": "code",
   "execution_count": null,
   "id": "e5f4050f-dd11-4d81-a268-1481e381762e",
   "metadata": {},
   "outputs": [],
   "source": []
  },
  {
   "cell_type": "markdown",
   "id": "d274c7eb-8c7f-4348-b27e-077492b12066",
   "metadata": {},
   "source": [
    "2. $ \\frac{1 + 2 + 3}{4 + 5 + 6} $   [**หมายเหตุ:** โปรดเลือกการใช้เครื่องหมายวงเล็บด้วยความระมัดระวัง]"
   ]
  },
  {
   "cell_type": "code",
   "execution_count": null,
   "id": "bc9a9c51-6f30-414c-8e5d-dfb84ae3858f",
   "metadata": {},
   "outputs": [],
   "source": []
  },
  {
   "cell_type": "markdown",
   "id": "0533594c-4c0e-47ab-bfe9-17fdf79e8a49",
   "metadata": {},
   "source": [
    "3. $ 7 \\times \\frac{5 + 6}{7 + \\frac{7}{8}} $"
   ]
  },
  {
   "cell_type": "code",
   "execution_count": null,
   "id": "11ec4f8c-2eee-4273-bc26-f79b613f30a4",
   "metadata": {},
   "outputs": [],
   "source": []
  },
  {
   "cell_type": "markdown",
   "id": "463dce64-eabb-4c44-858c-1743b92176b6",
   "metadata": {},
   "source": [
    "เรามาคำนวณค่าของนิพจน์ดังต่อไปนี้กันครับ\n",
    "\n",
    "4. $ 3^{5 + 3/4} $"
   ]
  },
  {
   "cell_type": "code",
   "execution_count": null,
   "id": "4126ae3e-a993-4b72-b3af-3d8ef4c60452",
   "metadata": {},
   "outputs": [],
   "source": []
  },
  {
   "cell_type": "markdown",
   "id": "6e659b31-e080-4df9-9763-1062e629dacc",
   "metadata": {},
   "source": [
    "5. $ \\sqrt[2]{\\left( 7 + 3 \\times 4 \\right)} $"
   ]
  },
  {
   "cell_type": "code",
   "execution_count": null,
   "id": "e31578d4-b7bc-4877-9a31-9b78c05ac79d",
   "metadata": {},
   "outputs": [],
   "source": []
  },
  {
   "cell_type": "markdown",
   "id": "51f1b807-35b3-44ba-8aa2-4cd1a80fb52c",
   "metadata": {},
   "source": [
    "6. $ \\frac{5 + 6^{2.5}}{\\sqrt[2]{3.5}} + 3^2 $"
   ]
  },
  {
   "cell_type": "code",
   "execution_count": null,
   "id": "0c53a970-8207-4734-894a-00e3fe0609f2",
   "metadata": {},
   "outputs": [],
   "source": []
  }
 ],
 "metadata": {
  "kernelspec": {
   "display_name": "Python 3 (ipykernel)",
   "language": "python",
   "name": "python3"
  },
  "language_info": {
   "codemirror_mode": {
    "name": "ipython",
    "version": 3
   },
   "file_extension": ".py",
   "mimetype": "text/x-python",
   "name": "python",
   "nbconvert_exporter": "python",
   "pygments_lexer": "ipython3",
   "version": "3.9.12"
  }
 },
 "nbformat": 4,
 "nbformat_minor": 5
}

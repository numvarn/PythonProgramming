{
 "cells": [
  {
   "cell_type": "markdown",
   "id": "b4cd3c02-e219-467d-adec-0d0a11d9e29e",
   "metadata": {},
   "source": [
    "# แบบฝึกหัดที่ 1 ก่อนสอบปลายภาค"
   ]
  },
  {
   "cell_type": "markdown",
   "id": "2948a9b0-c1d7-4eb5-8838-176acb70778c",
   "metadata": {},
   "source": [
    "### เรื่อง ทบทวนเนื้อหาการเขียนโปรแกรมด้วยภาษาไพทอนเบื้องต้น"
   ]
  },
  {
   "cell_type": "markdown",
   "id": "52214a89-8cc2-4989-a334-22c91d155e91",
   "metadata": {},
   "source": [
    "ชื่อ........... นามสกุล............. รหัสนักศึกษา"
   ]
  },
  {
   "cell_type": "markdown",
   "id": "be66bdec-8ff3-48b3-8f81-16887b231bf6",
   "metadata": {},
   "source": [
    "### จงแทนนิพจน์ทางคณิตศาสตร์เหล่านี้้ด้วยภาษาไพทอน"
   ]
  },
  {
   "cell_type": "markdown",
   "id": "f52fc4e7-4075-4953-af9b-23cb0761aa42",
   "metadata": {},
   "source": [
    "**ข้อที่ 1.** $ 7 \\times \\frac{5 + 6}{7 + \\frac{7}{8}} $"
   ]
  },
  {
   "cell_type": "code",
   "execution_count": 2,
   "id": "ae684192-9514-4bc3-adf4-f2527542b446",
   "metadata": {},
   "outputs": [],
   "source": [
    "# คำตอบ\n",
    "\n"
   ]
  },
  {
   "cell_type": "markdown",
   "id": "ad7eab25-da54-49b4-8b7e-4e008c957f2c",
   "metadata": {},
   "source": [
    "<hr>"
   ]
  },
  {
   "cell_type": "markdown",
   "id": "bf31fe17-6a86-4b14-b1a4-119e656994d3",
   "metadata": {},
   "source": [
    "**ข้อที่ 2** $ \\sqrt[2]{\\left( 7 + 3 \\times 4 \\right)} $"
   ]
  },
  {
   "cell_type": "code",
   "execution_count": 3,
   "id": "f8e9bb53-b34a-4897-b01b-2c62e7191229",
   "metadata": {},
   "outputs": [],
   "source": [
    "# คำตอบ\n",
    "\n"
   ]
  },
  {
   "cell_type": "markdown",
   "id": "1e60345a-875c-460a-87d1-7659462f3919",
   "metadata": {},
   "source": [
    "<hr>"
   ]
  },
  {
   "cell_type": "markdown",
   "id": "7fd2caaa-e462-4ff5-ad81-dc761fc31caa",
   "metadata": {},
   "source": [
    "**ข้อที่ 3** $ \\frac{5 + 6^{2.5}}{\\sqrt[2]{3.5}} + 3^2 $"
   ]
  },
  {
   "cell_type": "code",
   "execution_count": 4,
   "id": "e4cf0da4-4b79-45e9-887b-3ddeef89a876",
   "metadata": {},
   "outputs": [],
   "source": [
    "# คำตอบ\n",
    "\n"
   ]
  },
  {
   "cell_type": "markdown",
   "id": "7380cd6f-cdfd-4373-a313-f1d548c90893",
   "metadata": {},
   "source": [
    "<hr>"
   ]
  },
  {
   "cell_type": "markdown",
   "id": "5ed88a95-692d-4097-9124-0b882a274e89",
   "metadata": {},
   "source": [
    "**ข้อที่ 4** กำหนดให้ my_list = [1, 2, 3, 4, 5] \n",
    "\n",
    "จงเพิ่มค่าให้สมาชิกทุกตัวของลิสต์ในตัวแปร my_list อย่างละ 5 ด้วยเครื่องหมาย + และพิมพ์ตัวแปร my_list ออกหน้าจอ"
   ]
  },
  {
   "cell_type": "code",
   "execution_count": 5,
   "id": "4b3cdf62-47dd-432c-94d8-920877ed601f",
   "metadata": {},
   "outputs": [],
   "source": [
    "# คำตอบ\n",
    "\n"
   ]
  },
  {
   "cell_type": "markdown",
   "id": "04c4827d-d43b-46b6-b3f6-6bc1ca41d456",
   "metadata": {},
   "source": [
    "<hr>"
   ]
  },
  {
   "cell_type": "markdown",
   "id": "081469f7-a509-4adf-ab7e-99c1a8911544",
   "metadata": {},
   "source": [
    "**กำหนดให้ my_list = [10, 20, 30, 40, 50, 60, 70, 80, 90, 100]**"
   ]
  },
  {
   "cell_type": "markdown",
   "id": "bb579639-1d63-4d2a-9b74-b813d8b98986",
   "metadata": {},
   "source": [
    "**ข้อที่ 5** จงเลือกสมาชิกตัวที่ 3 จนถึงตัวที่ 7"
   ]
  },
  {
   "cell_type": "code",
   "execution_count": 8,
   "id": "e281249d-7687-479e-a122-f4d0fed7240f",
   "metadata": {},
   "outputs": [],
   "source": [
    "# คำตอบ\n",
    "\n"
   ]
  },
  {
   "cell_type": "markdown",
   "id": "a50dbda6-a551-49e6-a784-6062c60de14f",
   "metadata": {},
   "source": [
    "**ข้อที่ 6** จงเลือกสมาชิกตัวที่ 2 จนถึงตัวที่ 5"
   ]
  },
  {
   "cell_type": "code",
   "execution_count": 9,
   "id": "4fd57dc3-5498-48ec-a80f-e5be91ce4640",
   "metadata": {},
   "outputs": [],
   "source": [
    "# คำตอบ\n",
    "\n"
   ]
  },
  {
   "cell_type": "markdown",
   "id": "67828813-a498-4478-956e-845b1f62ed4c",
   "metadata": {},
   "source": [
    "**ข้อที่ 7** จงเลือกสมาชิกตั้งแต่ตัวแรกจนถึงตัวที่ 8"
   ]
  },
  {
   "cell_type": "code",
   "execution_count": 10,
   "id": "129d32c4-7b44-435e-a92b-23e5feac1859",
   "metadata": {},
   "outputs": [],
   "source": [
    "# คำตอบ\n",
    "\n"
   ]
  },
  {
   "cell_type": "markdown",
   "id": "79855b21-4fe5-4782-a539-d6dee869df79",
   "metadata": {},
   "source": [
    "<hr>"
   ]
  },
  {
   "cell_type": "markdown",
   "id": "3ba6d469-0fc6-4be2-ae54-e9a27ddff5ad",
   "metadata": {},
   "source": [
    "**ข้อที่ 8** จงวนลูปเพื่อแสดงสูตรคูณแม่ 3 ไล่ตั้งแต่  3×1  จนถึง  3×12  โดยจะได้ผลลัพธ์ดังนี้"
   ]
  },
  {
   "cell_type": "raw",
   "id": "e1006360-f7c1-4c05-911a-bf224af4e1c6",
   "metadata": {},
   "source": [
    "3 * 1 = 3\n",
    "3 * 2 = 6\n",
    "3 * 3 = 9\n",
    ":\n",
    ":\n",
    ":\n",
    "3 * 12 = 36"
   ]
  },
  {
   "cell_type": "code",
   "execution_count": 11,
   "id": "0cb5d448-e014-4b0a-902f-b49d43bddae7",
   "metadata": {},
   "outputs": [],
   "source": [
    "# วนลูปค่า index i จาก 1 ถึง 12\n",
    "\n"
   ]
  },
  {
   "cell_type": "markdown",
   "id": "9d459c25-7c17-4977-8d05-261ebadb2248",
   "metadata": {},
   "source": [
    "<hr>"
   ]
  },
  {
   "cell_type": "markdown",
   "id": "46c978fe-6fa5-4fdf-bf3c-aacf1220c120",
   "metadata": {},
   "source": [
    "**ข้อที่ 9** จงเขียนโปรแกรมเพื่อไล่แม่สูตรคูณจากแม่ 11 ถึงแม่ 15 โดยแต่ละแม่จะคูณกับตัวเลขตั้งแต่ 1 จนถึง 12"
   ]
  },
  {
   "cell_type": "code",
   "execution_count": 12,
   "id": "6dae5b1e-e315-4c27-b136-6334a99f908a",
   "metadata": {},
   "outputs": [],
   "source": [
    "# วนลูป index m เพื่อไล่แม่สูตรคูณจากแม่ 11 ถึงแม่ 15\n",
    "\n"
   ]
  },
  {
   "cell_type": "markdown",
   "id": "59eeeeed-4359-4591-a137-3c82304d2541",
   "metadata": {},
   "source": [
    "<hr>"
   ]
  },
  {
   "cell_type": "markdown",
   "id": "55ee2850-c0d9-4a78-83fc-55f7f55f783b",
   "metadata": {},
   "source": [
    "**ข้อที่ 10** จงเขียนโปรแกรมเพื่อแสดงจัตุรัสตัวเลข 1 ถึง 9 โดยใช้ลูปซ้อนกัน 2 ลูป ซึ่งผลลัพธ์จะเป็นดังต่อไปนี้"
   ]
  },
  {
   "cell_type": "raw",
   "id": "2095e268-06af-4cf8-934a-afad8a5d000a",
   "metadata": {},
   "source": [
    "1 2 3\n",
    "4 5 6\n",
    "7 8 9"
   ]
  },
  {
   "cell_type": "code",
   "execution_count": 14,
   "id": "4a931ad9-f8e8-4643-b127-01194b81f0a6",
   "metadata": {},
   "outputs": [],
   "source": [
    "# คำตอบ\n",
    "\n"
   ]
  },
  {
   "cell_type": "markdown",
   "id": "9959fdd7-5ea8-493a-a4d5-263fd067834e",
   "metadata": {},
   "source": [
    "<hr>"
   ]
  },
  {
   "cell_type": "markdown",
   "id": "55e4c0f5-4d9e-4f04-81b7-f86a816562a2",
   "metadata": {},
   "source": [
    "**ข้่อที่ 11** จงเขียนโปรแกรมเพื่อแสดงจัตุรัสตัวเลข 1 ถึง 27 โดยใช้ลูปซ้อนกัน 3 ลูป ซึ่งผลลัพธ์จะเป็นดังนี้"
   ]
  },
  {
   "cell_type": "raw",
   "id": "df04a6c4-a317-40b5-9dc1-12f56f5b6b07",
   "metadata": {},
   "source": [
    "1 2 3\n",
    "4 5 6\n",
    "7 8 9\n",
    "\n",
    "10 11 12\n",
    "13 14 15\n",
    "16 17 18\n",
    "\n",
    "19 20 21\n",
    "22 23 24\n",
    "25 26 27"
   ]
  },
  {
   "cell_type": "code",
   "execution_count": 15,
   "id": "42c24d42-f4ad-475c-87ca-a30640696a62",
   "metadata": {},
   "outputs": [],
   "source": [
    "# คำตอบ\n",
    "\n"
   ]
  },
  {
   "cell_type": "markdown",
   "id": "bb011ab0-a672-4fd8-af97-a39d341a57cb",
   "metadata": {},
   "source": [
    "<hr>"
   ]
  },
  {
   "cell_type": "code",
   "execution_count": null,
   "id": "d0d4b649-9dde-4caa-9582-66cd12ac25d4",
   "metadata": {},
   "outputs": [],
   "source": []
  }
 ],
 "metadata": {
  "kernelspec": {
   "display_name": "Python 3 (ipykernel)",
   "language": "python",
   "name": "python3"
  },
  "language_info": {
   "codemirror_mode": {
    "name": "ipython",
    "version": 3
   },
   "file_extension": ".py",
   "mimetype": "text/x-python",
   "name": "python",
   "nbconvert_exporter": "python",
   "pygments_lexer": "ipython3",
   "version": "3.11.10"
  }
 },
 "nbformat": 4,
 "nbformat_minor": 5
}

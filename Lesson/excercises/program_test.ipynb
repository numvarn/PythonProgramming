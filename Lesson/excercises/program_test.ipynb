{
 "cells": [
  {
   "cell_type": "code",
   "execution_count": null,
   "id": "861541ce-fd50-4381-b783-28fe7a38d69e",
   "metadata": {},
   "outputs": [],
   "source": [
    "# โปรแกรมที่ 1 บวกเลขสะสม\n"
   ]
  },
  {
   "cell_type": "code",
   "execution_count": null,
   "id": "9b24a546-3213-4e49-8597-2d113c48810f",
   "metadata": {},
   "outputs": [],
   "source": [
    "lt = [1, 4, 6, 2, 5, 100, 8, 20, 500, 0]"
   ]
  },
  {
   "cell_type": "code",
   "execution_count": null,
   "id": "0b650655-3387-41a0-ade7-9682a07500cd",
   "metadata": {},
   "outputs": [],
   "source": [
    "\"\"\"\n",
    "โปรแกรมหาค่าสูงสุด และค่าต่ำสุด\n",
    "input คือ ชุดข้อมูลที่ประกอบไปด้วย [1, 4, 6, 2, 5, 100, 8, 20]\n",
    "output คือ ค่าสูงสุด และ ค่าตำ่สุด\n",
    "ขั้นตอนวิธี\n",
    "1. กำหนดให้ min_value เท่ากับข้อมูลตัวแรกของชุดข้อมูล\n",
    "2. กำหนดให้ max_value เท่ากับข้อมูลตัวแรกของชุดข้อมูล\n",
    "3. ดึงข้อมูลออกจากชุดข้อมูลทีละ 1 ตัวเก็บไว้ใน x เพื่อทำการเปรียบเทียบ\n",
    "    3.1 ถ้า x น้อยกว่า min_value กำหนดให้ min_value = x\n",
    "    3.2 ถ้า x มากว่า max_value กำหนดให้ max_value = x\n",
    "4. ทำซ้ำข้อที่ 3 จนครบทุกข้อมูล\n",
    "\"\"\"\n",
    "\n"
   ]
  },
  {
   "cell_type": "code",
   "execution_count": null,
   "id": "1b349e0b-8692-46a7-8b31-d5066a964788",
   "metadata": {},
   "outputs": [],
   "source": [
    "# odd เลขคี่ : หารสอง แล่้วไม่ลงตัว\n",
    "# even เลขคู่ : หารสอง แล้วลงตัว\n",
    "\n"
   ]
  },
  {
   "cell_type": "code",
   "execution_count": null,
   "id": "8f9e36f4-1ff8-4961-84f8-e5ae6a5fb224",
   "metadata": {},
   "outputs": [],
   "source": [
    "'''\n",
    "จงเขียนโปรแกรมที่สแดงเลยดังต่อไปนี้\n",
    "\n",
    "1\n",
    "1 2\n",
    "1 2 3\n",
    "1 2 3 4\n",
    "1 2 3 4 5\n",
    "1 2 3 4 5 6\n",
    "'''"
   ]
  }
 ],
 "metadata": {
  "kernelspec": {
   "display_name": "Python 3 (ipykernel)",
   "language": "python",
   "name": "python3"
  },
  "language_info": {
   "codemirror_mode": {
    "name": "ipython",
    "version": 3
   },
   "file_extension": ".py",
   "mimetype": "text/x-python",
   "name": "python",
   "nbconvert_exporter": "python",
   "pygments_lexer": "ipython3",
   "version": "3.11.10"
  }
 },
 "nbformat": 4,
 "nbformat_minor": 5
}
